{
 "cells": [
  {
   "cell_type": "markdown",
   "metadata": {},
   "source": [
    "### SQL And SQLite\n",
    "* SQL (Structured Query Language) is a standard language for managing and manipulating relational databases.\n",
    "* SQLite is a self-contained, serveless, and zero-configuration database engine that is widely used for embedded database systems."
   ]
  },
  {
   "cell_type": "code",
   "execution_count": 2,
   "metadata": {},
   "outputs": [
    {
     "data": {
      "text/plain": [
       "<sqlite3.Connection at 0x254978af2e0>"
      ]
     },
     "execution_count": 2,
     "metadata": {},
     "output_type": "execute_result"
    }
   ],
   "source": [
    "import sqlite3\n",
    "\n",
    "## Connect to a SQLite database\n",
    "conn = sqlite3.connect('example.db')\n",
    "conn"
   ]
  },
  {
   "cell_type": "code",
   "execution_count": 3,
   "metadata": {},
   "outputs": [],
   "source": [
    "## Create a cursor to iterate through tables, rows\n",
    "cursor = conn.cursor()"
   ]
  },
  {
   "cell_type": "code",
   "execution_count": 4,
   "metadata": {},
   "outputs": [],
   "source": [
    "## Create a table\n",
    "cursor.execute('''\n",
    "    create table if not exists employee(\n",
    "    id Integer Primary Key,\n",
    "    name Text Not Null,\n",
    "    age Integer,\n",
    "    department Test\n",
    "    )\n",
    "''')\n",
    "\n",
    "## Commit the changes\n",
    "conn.commit()"
   ]
  },
  {
   "cell_type": "code",
   "execution_count": 5,
   "metadata": {},
   "outputs": [
    {
     "data": {
      "text/plain": [
       "<sqlite3.Cursor at 0x25497af2240>"
      ]
     },
     "execution_count": 5,
     "metadata": {},
     "output_type": "execute_result"
    }
   ],
   "source": [
    "## Select a table\n",
    "cursor.execute('''\n",
    "    select * from employee\n",
    "''')"
   ]
  },
  {
   "cell_type": "code",
   "execution_count": 6,
   "metadata": {},
   "outputs": [],
   "source": [
    "## Insert some data in sqlite table\n",
    "cursor.execute('''\n",
    "    insert into employee (name,age,department) values ('Sandilya Sripathi',36,'AI MI Specialist')\n",
    "''')\n",
    "\n",
    "cursor.execute('''\n",
    "    insert into employee (name,age,department) values ('Bob Marly',25,'Engineer')\n",
    "''')\n",
    "\n",
    "cursor.execute('''\n",
    "    insert into employee (name,age,department) values ('Charile Tango',37,'Finance')\n",
    "''')\n",
    "\n",
    "## Commit\n",
    "conn.commit()"
   ]
  },
  {
   "cell_type": "code",
   "execution_count": 8,
   "metadata": {},
   "outputs": [
    {
     "name": "stdout",
     "output_type": "stream",
     "text": [
      "(1, 'Sandilya Sripathi', 36, 'AI MI Specialist')\n",
      "(2, 'Bob Marly', 25, 'Engineer')\n",
      "(3, 'Charile Tango', 37, 'Finance')\n"
     ]
    }
   ],
   "source": [
    "## Querying from a table\n",
    "cursor.execute('''\n",
    "    select * from employee\n",
    "''')\n",
    "rows = cursor.fetchall()\n",
    "\n",
    "## Print the result data\n",
    "for row in rows:\n",
    "    print(row)"
   ]
  },
  {
   "cell_type": "code",
   "execution_count": 10,
   "metadata": {},
   "outputs": [
    {
     "name": "stdout",
     "output_type": "stream",
     "text": [
      "(1, 'Sandilya Sripathi', 35, 'AI MI Specialist')\n",
      "(2, 'Bob Marly', 25, 'Engineer')\n",
      "(3, 'Charile Tango', 37, 'Finance')\n"
     ]
    }
   ],
   "source": [
    "## Update some data in sqlite table\n",
    "cursor.execute('''\n",
    "    update employee set age = 35 where name = \"Sandilya Sripathi\"\n",
    "''')\n",
    "\n",
    "## Commit\n",
    "conn.commit()\n",
    "\n",
    "## Querying from a table\n",
    "cursor.execute('''\n",
    "    select * from employee\n",
    "''')\n",
    "rows = cursor.fetchall()\n",
    "\n",
    "## Print the result data\n",
    "for row in rows:\n",
    "    print(row)"
   ]
  },
  {
   "cell_type": "code",
   "execution_count": 12,
   "metadata": {},
   "outputs": [
    {
     "name": "stdout",
     "output_type": "stream",
     "text": [
      "(1, 'Sandilya Sripathi', 35, 'AI MI Specialist')\n",
      "(3, 'Charile Tango', 37, 'Finance')\n"
     ]
    }
   ],
   "source": [
    "## Delete the data from the table\n",
    "cursor.execute('''\n",
    "    delete from employee where name = \"Bob Marly\"\n",
    "''')\n",
    "\n",
    "## Commit\n",
    "conn.commit()\n",
    "\n",
    "## Querying from a table\n",
    "cursor.execute('''\n",
    "    select * from employee\n",
    "''')\n",
    "rows = cursor.fetchall()\n",
    "\n",
    "## Print the result data\n",
    "for row in rows:\n",
    "    print(row)\n",
    "\n",
    "cursor.close()\n",
    "conn.close()"
   ]
  },
  {
   "cell_type": "code",
   "execution_count": 14,
   "metadata": {},
   "outputs": [],
   "source": [
    "## Working with sales data\n",
    "## Connect to an SQLite database\n",
    "conn = sqlite3.connect(\"sales_data.db\")\n",
    "csr = conn.cursor()\n",
    "\n",
    "## Create a table for sales data\n",
    "csr.execute('''\n",
    "CREATE TABLE IF NOT EXISTS SALES (\n",
    "        ID INTEGER PRIMARY KEY,\n",
    "        DATE TEXT NOT NULL,\n",
    "        PRODUCT TEXT NOT NULL,\n",
    "        SALES INTEGER,\n",
    "        REGION TEXT\n",
    "    )\n",
    "''')\n",
    "\n",
    "## Insert Data into Sales Table\n",
    "sales_data = [\n",
    "    ('2023-01-01','Product1',100,'North'),\n",
    "    ('2023-01-02','Product2',200,'South'),\n",
    "    ('2023-01-03','Product1',150,'East'),\n",
    "    ('2023-01-04','Product3',250,'West'),\n",
    "    ('2023-01-05','Product2',300,'North')\n",
    "]\n",
    "\n",
    "csr.executemany('''\n",
    "    INSERT INTO SALES (DATE,PRODUCT,SALES,REGION) VALUES (?,?,?,?)\n",
    "''', sales_data)\n",
    "\n",
    "conn.commit()"
   ]
  },
  {
   "cell_type": "code",
   "execution_count": 16,
   "metadata": {},
   "outputs": [
    {
     "name": "stdout",
     "output_type": "stream",
     "text": [
      "(1, '2023-01-01', 'Product1', 100, 'North')\n",
      "(2, '2023-01-02', 'Product2', 200, 'South')\n",
      "(3, '2023-01-03', 'Product1', 150, 'East')\n",
      "(4, '2023-01-04', 'Product3', 250, 'West')\n",
      "(5, '2023-01-05', 'Product2', 300, 'North')\n"
     ]
    }
   ],
   "source": [
    "## Querying from a table\n",
    "csr.execute('''\n",
    "    SELECT * FROM SALES\n",
    "''')\n",
    "rows = csr.fetchall()\n",
    "\n",
    "## Print the result data\n",
    "for row in rows:\n",
    "    print(row)"
   ]
  },
  {
   "cell_type": "code",
   "execution_count": 17,
   "metadata": {},
   "outputs": [],
   "source": [
    "csr.close()\n",
    "conn.close()"
   ]
  },
  {
   "cell_type": "code",
   "execution_count": 21,
   "metadata": {},
   "outputs": [
    {
     "name": "stdout",
     "output_type": "stream",
     "text": [
      "(1, '2023-01-01', 'Product1', 100, 'North')\n",
      "(2, '2023-01-02', 'Product2', 200, 'South')\n",
      "(3, '2023-01-03', 'Product1', 150, 'East')\n",
      "(4, '2023-01-04', 'Product3', 250, 'West')\n",
      "(5, '2023-01-05', 'Product2', 300, 'North')\n"
     ]
    },
    {
     "data": {
      "text/plain": [
       "<sqlite3.Cursor at 0x25497fddb40>"
      ]
     },
     "execution_count": 21,
     "metadata": {},
     "output_type": "execute_result"
    }
   ],
   "source": [
    "with sqlite3.connect(\"sales_data.db\") as conn:\n",
    "    csr = conn.cursor()\n",
    "    csr.execute('''\n",
    "        SELECT * FROM SALES\n",
    "    ''')\n",
    "    rows = csr.fetchall()\n",
    "\n",
    "    ## Print the result data\n",
    "    for row in rows:\n",
    "        print(row)\n",
    "    \n",
    "    csr.close()"
   ]
  },
  {
   "cell_type": "code",
   "execution_count": null,
   "metadata": {},
   "outputs": [],
   "source": []
  }
 ],
 "metadata": {
  "kernelspec": {
   "display_name": "Python 3",
   "language": "python",
   "name": "python3"
  },
  "language_info": {
   "codemirror_mode": {
    "name": "ipython",
    "version": 3
   },
   "file_extension": ".py",
   "mimetype": "text/x-python",
   "name": "python",
   "nbconvert_exporter": "python",
   "pygments_lexer": "ipython3",
   "version": "3.13.1"
  }
 },
 "nbformat": 4,
 "nbformat_minor": 2
}
