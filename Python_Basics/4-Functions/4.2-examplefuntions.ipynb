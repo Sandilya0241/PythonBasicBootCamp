{
 "cells": [
  {
   "cell_type": "markdown",
   "metadata": {},
   "source": [
    "## Example Functions\n",
    "\n",
    "### Example 1: Temperature Conversion"
   ]
  },
  {
   "cell_type": "code",
   "execution_count": 6,
   "metadata": {},
   "outputs": [
    {
     "data": {
      "text/plain": [
       "25.0"
      ]
     },
     "execution_count": 6,
     "metadata": {},
     "output_type": "execute_result"
    }
   ],
   "source": [
    "FAHRENHEIT_TO_CELSIUS = 1\n",
    "CELSIUS_TO_FAHRENHEIT = 2\n",
    "\n",
    "def convert_temperature(temp, units):\n",
    "    \"\"\"\n",
    "    This function converts temperature between Celcius to Fahrenheit\n",
    "    \"\"\"\n",
    "    if units == FAHRENHEIT_TO_CELSIUS:\n",
    "       return round(((temp - 32) * 5 / 9), 2)\n",
    "    elif units == CELSIUS_TO_FAHRENHEIT:\n",
    "        return round(((temp * 9 / 5)  + 32), 2)\n",
    "    else:\n",
    "        return \"ERROR: Invalid units input to perform conversion\"\n",
    "\n",
    "convert_temperature(25, CELSIUS_TO_FAHRENHEIT)\n",
    "convert_temperature(77, FAHRENHEIT_TO_CELSIUS)\n",
    "\n"
   ]
  },
  {
   "cell_type": "markdown",
   "metadata": {},
   "source": [
    "### Example 2: Password Strength Checker"
   ]
  },
  {
   "cell_type": "code",
   "execution_count": 9,
   "metadata": {},
   "outputs": [
    {
     "data": {
      "text/plain": [
       "True"
      ]
     },
     "execution_count": 9,
     "metadata": {},
     "output_type": "execute_result"
    }
   ],
   "source": [
    "def check_password_strength(password):\n",
    "    '''\n",
    "    This function checks whether password is strong or not\n",
    "    '''\n",
    "    is_strong = True\n",
    "    # Length > 8\n",
    "    if len(password) < 8:\n",
    "        is_strong = False\n",
    "\n",
    "    # Minimun a digit should be present\n",
    "    if not any(ch.isdigit() for ch in password):\n",
    "        is_strong = False\n",
    "\n",
    "    # Check if all characters are small case\n",
    "    if not any(ch.islower() for ch in password):\n",
    "        is_strong = False\n",
    "\n",
    "    # Check if all characters are upper case\n",
    "    if not any(ch.isupper() for ch in password):\n",
    "        is_strong = False\n",
    "\n",
    "    # If there is no special charcter\n",
    "    if not any(ch in '!@#$%^&*()_+' for ch in password):\n",
    "        is_strong = False\n",
    "\n",
    "    return is_strong\n",
    "\n",
    "\n",
    "check_password_strength(\"Sandy123#\")\n"
   ]
  },
  {
   "cell_type": "markdown",
   "metadata": {},
   "source": [
    "### Example 3: Calculate total cost of items in a shopping cart"
   ]
  },
  {
   "cell_type": "code",
   "execution_count": 13,
   "metadata": {},
   "outputs": [
    {
     "name": "stdout",
     "output_type": "stream",
     "text": [
      "Total cost is : $5.9\n"
     ]
    }
   ],
   "source": [
    "my_cart = [\n",
    "    {'name':'Apple', 'price':0.5,'quantity':4},\n",
    "    {'name':'Banana', 'price':0.3,'quantity':6},\n",
    "    {'name':'Orange', 'price':0.7,'quantity':3}\n",
    "]\n",
    "\n",
    "def calculate_total_cost(cart):\n",
    "    '''\n",
    "    This is to calculate total cost of item from the cart\n",
    "    '''\n",
    "    total_cost = 0\n",
    "    for item in cart:\n",
    "        total_cost += item.get(\"price\", 0) * item.get(\"quantity\", 0)\n",
    "\n",
    "    return round(total_cost, 2)\n",
    "\n",
    "print(f'Total cost is : ${calculate_total_cost(my_cart)}')\n"
   ]
  },
  {
   "cell_type": "markdown",
   "metadata": {},
   "source": [
    "### Example 4: Check if a string is Palindrome or not"
   ]
  },
  {
   "cell_type": "code",
   "execution_count": 15,
   "metadata": {},
   "outputs": [
    {
     "name": "stdout",
     "output_type": "stream",
     "text": [
      "True\n",
      "False\n"
     ]
    }
   ],
   "source": [
    "def palindrome_test(input_Str):\n",
    "    '''\n",
    "    This function will test whether input string is Palindrome or not\n",
    "    '''\n",
    "    input_Str=input_Str.lower().replace(\" \",\"\")\n",
    "    return input_Str == input_Str[::-1]\n",
    "\n",
    "print(palindrome_test(\"A man a plan a canal panama\"))\n",
    "print(palindrome_test(\"Hello\"))\n",
    "\n"
   ]
  },
  {
   "cell_type": "markdown",
   "metadata": {},
   "source": [
    "## Example 5 : Calculate the factorials of a number using recursoin"
   ]
  },
  {
   "cell_type": "code",
   "execution_count": null,
   "metadata": {},
   "outputs": [
    {
     "name": "stdout",
     "output_type": "stream",
     "text": [
      "Factorial of 5 is 40320\n"
     ]
    }
   ],
   "source": [
    "def get_factorial(num):\n",
    "    '''\n",
    "    This function is to calculate factorial of a number\n",
    "    '''\n",
    "    if num < 0:\n",
    "        return None\n",
    "    elif num == 0:\n",
    "        return 1\n",
    "    else:\n",
    "        return  num * get_factorial(num-1)\n",
    "\n",
    "print(f'Factorial of 8 is {get_factorial(8)}')"
   ]
  },
  {
   "cell_type": "markdown",
   "metadata": {},
   "source": [
    "### Example 6: Function to read a file and count the frequency of each word"
   ]
  },
  {
   "cell_type": "code",
   "execution_count": 29,
   "metadata": {},
   "outputs": [
    {
     "name": "stdout",
     "output_type": "stream",
     "text": [
      "{'hello': 1, 'world': 1, 'how': 1, 'are': 1, 'you': 1, 'my': 1, 'name': 1, 'is': 2, 'sandilya': 1, 'this': 1, 'to': 1, 'check': 1, 'repetition': 1}\n"
     ]
    }
   ],
   "source": [
    "def find_word_freq(file_name):\n",
    "    '''This function is to find the word frequency from the input file'''\n",
    "    word_freq = {}\n",
    "    with open(file_name) as fp:\n",
    "        data = fp.read()\n",
    "        words = data.split()\n",
    "        for word in words:\n",
    "            word = word.lower().strip('.,!?;:\"\\'')\n",
    "            word_freq[word] = word_freq.get(word, 0) + 1\n",
    "    \n",
    "    return word_freq\n",
    "\n",
    "resp = find_word_freq(\"SampleFile.txt\")\n",
    "print(resp)"
   ]
  },
  {
   "cell_type": "markdown",
   "metadata": {},
   "source": [
    "### Example 7: Validate the email address"
   ]
  },
  {
   "cell_type": "code",
   "execution_count": 45,
   "metadata": {},
   "outputs": [
    {
     "name": "stdout",
     "output_type": "stream",
     "text": [
      "False\n"
     ]
    }
   ],
   "source": [
    "def validate_email(email):\n",
    "    '''\n",
    "    This function is to validate email address\n",
    "    '''\n",
    "    import re\n",
    "    pattern = r'^[0-9a-zA-Z.-_]+@[0-9a-zA-Z-._]+\\.[a-zA-Z]{2,}$'\n",
    "    return re.match(pattern,email) is not None\n",
    "\n",
    "print(validate_email(\"sandu@sas.\"))"
   ]
  },
  {
   "cell_type": "code",
   "execution_count": null,
   "metadata": {},
   "outputs": [],
   "source": []
  }
 ],
 "metadata": {
  "kernelspec": {
   "display_name": "Python 3",
   "language": "python",
   "name": "python3"
  },
  "language_info": {
   "codemirror_mode": {
    "name": "ipython",
    "version": 3
   },
   "file_extension": ".py",
   "mimetype": "text/x-python",
   "name": "python",
   "nbconvert_exporter": "python",
   "pygments_lexer": "ipython3",
   "version": "3.12.0"
  }
 },
 "nbformat": 4,
 "nbformat_minor": 2
}
