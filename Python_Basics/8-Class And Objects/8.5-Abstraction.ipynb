{
 "cells": [
  {
   "cell_type": "markdown",
   "metadata": {},
   "source": [
    "### Abstraction\n",
    "* Abstraction is the concept of hiding the complex implementation details and showing only the necessary features of an object.\n",
    "* This helps in reducing programming complexity and effort.\n"
   ]
  },
  {
   "cell_type": "code",
   "execution_count": 2,
   "metadata": {},
   "outputs": [
    {
     "name": "stdout",
     "output_type": "stream",
     "text": [
      "Car successfully started\n",
      "This vehicle is used for travelling!!!\n"
     ]
    }
   ],
   "source": [
    "## Like in mobile only buttons are visible and the complex implementation behind those buttons is hidden.\n",
    "from abc import ABC, abstractmethod\n",
    "\n",
    "## Abstract Base Class\n",
    "class Vehicle(ABC):\n",
    "    def drive(self):\n",
    "        print('This vehicle is used for travelling!!!')\n",
    "\n",
    "    @abstractmethod\n",
    "    def start_vehicle(self):\n",
    "        pass\n",
    "\n",
    "## Derived Class\n",
    "class Car(Vehicle):\n",
    "\n",
    "    def start_vehicle(self):\n",
    "        ###\n",
    "        # If we don't implement this function, we might get below error:\n",
    "        # \n",
    "        # TypeError: Can't instantiate abstract class Car without an implementation for abstract method 'start_vehicle'\n",
    "        # ##\n",
    "        print('Car successfully started')\n",
    "    \n",
    "    def stop_vehicle(self):\n",
    "        print('The vehicle stopped!!!')\n",
    "\n",
    "    \n",
    "car = Car()\n",
    "car.start_vehicle()\n",
    "car.drive()"
   ]
  },
  {
   "cell_type": "code",
   "execution_count": null,
   "metadata": {},
   "outputs": [],
   "source": []
  }
 ],
 "metadata": {
  "kernelspec": {
   "display_name": "Python 3",
   "language": "python",
   "name": "python3"
  },
  "language_info": {
   "codemirror_mode": {
    "name": "ipython",
    "version": 3
   },
   "file_extension": ".py",
   "mimetype": "text/x-python",
   "name": "python",
   "nbconvert_exporter": "python",
   "pygments_lexer": "ipython3",
   "version": "3.12.0"
  }
 },
 "nbformat": 4,
 "nbformat_minor": 2
}
