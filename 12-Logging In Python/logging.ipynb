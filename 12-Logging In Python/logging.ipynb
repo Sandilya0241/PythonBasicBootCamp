{
 "cells": [
  {
   "cell_type": "markdown",
   "metadata": {},
   "source": [
    "### Python Logging\n",
    "* Logging is crucial aspect of any application, providing a way to track `events`, `errors` and `operational information`.\n",
    "* Python's built-in logging module offers a flexible framework for emmiting log messages from Python programs.\n",
    "* We will see basics of logging, configuring logging, log levels, best practices for using logging in Python applications."
   ]
  },
  {
   "cell_type": "code",
   "execution_count": 5,
   "metadata": {},
   "outputs": [
    {
     "name": "stderr",
     "output_type": "stream",
     "text": [
      "DEBUG:root:This is a debug message\n",
      "INFO:root:This is an Info message\n",
      "WARNING:root:This is a Warning message\n",
      "ERROR:root:This is an Error message\n",
      "CRITICAL:root:This is a Critical message\n"
     ]
    }
   ],
   "source": [
    "import logging\n",
    "\n",
    "## Configure the basic logging setting\n",
    "logging.basicConfig(level=logging.debug)\n",
    "\n",
    "## Log messages with different severity\n",
    "logging.debug(\"This is a debug message\")\n",
    "logging.info(\"This is an Info message\")\n",
    "logging.warning(\"This is a Warning message\")\n",
    "logging.error(\"This is an Error message\")\n",
    "logging.critical(\"This is a Critical message\")"
   ]
  },
  {
   "cell_type": "markdown",
   "metadata": {},
   "source": [
    "### Log Levels\n",
    "Python's logging module has several log levels indicating the severity of events. The default levels are:\n",
    "* **DEBUG** - Detailed information, typically of interest only when diagnosing problems.\n",
    "* **INFO** - Confirmation that things are working as expected.\n",
    "* **WARNING** - As indication that something unexpected happened or indicative of some problem in the near future (e.g., 'Disk space low'). The software is still working as expected.\n",
    "* **ERROR** - Due to a more serious problem, the software has not been able to perform some function.\n",
    "* **CRITICAL** - A very serious error, indicating that the program itself may be unable to continue running."
   ]
  },
  {
   "cell_type": "code",
   "execution_count": 1,
   "metadata": {},
   "outputs": [],
   "source": [
    "## Configuring logging\n",
    "import logging\n",
    "\n",
    "logging.basicConfig(\n",
    "    filename='app.log',\n",
    "    filemode='w',\n",
    "    level=logging.DEBUG,\n",
    "    format='%(asctime)s-%(name)s-%(levelname)s-%(message)s',\n",
    "    datefmt='%Y-%m-%d %H:%M:%S'\n",
    "    )\n",
    "\n",
    "## Log messages with different severity\n",
    "logging.debug(\"This is a debug message\")\n",
    "logging.info(\"This is an Info message\")\n",
    "logging.warning(\"This is a Warning message\")\n",
    "logging.error(\"This is an Error message\")\n",
    "logging.critical(\"This is a Critical message\")"
   ]
  },
  {
   "cell_type": "code",
   "execution_count": null,
   "metadata": {},
   "outputs": [],
   "source": []
  }
 ],
 "metadata": {
  "kernelspec": {
   "display_name": "Python 3",
   "language": "python",
   "name": "python3"
  },
  "language_info": {
   "codemirror_mode": {
    "name": "ipython",
    "version": 3
   },
   "file_extension": ".py",
   "mimetype": "text/x-python",
   "name": "python",
   "nbconvert_exporter": "python",
   "pygments_lexer": "ipython3",
   "version": "3.13.1"
  }
 },
 "nbformat": 4,
 "nbformat_minor": 2
}
