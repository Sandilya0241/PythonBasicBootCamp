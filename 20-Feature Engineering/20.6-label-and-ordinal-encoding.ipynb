{
 "cells": [
  {
   "cell_type": "markdown",
   "metadata": {},
   "source": [
    "### Label Encoding \n",
    "* Label encoding and ordinal encoding are two techniques used to encode categorical data as numerical data.\n",
    "\n",
    "* Label encoding involves assigning a unique numerical label to each category in the variable. \n",
    "\n",
    "* The labels are usually assigned in alphabetical order or based on the frequency of the categories. \n",
    "\n",
    "* For example, if we have a categorical variable \"color\" with three possible values (red, green, blue), we can represent it using label encoding as follows:\n",
    "\n",
    "1. Red: 1\n",
    "2. Green: 2\n",
    "3. Blue: 3"
   ]
  },
  {
   "cell_type": "code",
   "execution_count": 5,
   "metadata": {},
   "outputs": [
    {
     "name": "stdout",
     "output_type": "stream",
     "text": [
      "[2]\n",
      "[1]\n",
      "[0]\n"
     ]
    },
    {
     "name": "stderr",
     "output_type": "stream",
     "text": [
      "c:\\Users\\saakh\\Learning\\AI_ML\\Data_Analyst_Bootcamp\\PythonBasic\\venv\\Lib\\site-packages\\sklearn\\preprocessing\\_label.py:110: DataConversionWarning: A column-vector y was passed when a 1d array was expected. Please change the shape of y to (n_samples, ), for example using ravel().\n",
      "  y = column_or_1d(y, warn=True)\n",
      "c:\\Users\\saakh\\Learning\\AI_ML\\Data_Analyst_Bootcamp\\PythonBasic\\venv\\Lib\\site-packages\\sklearn\\preprocessing\\_label.py:129: DataConversionWarning: A column-vector y was passed when a 1d array was expected. Please change the shape of y to (n_samples, ), for example using ravel().\n",
      "  y = column_or_1d(y, dtype=self.classes_.dtype, warn=True)\n",
      "c:\\Users\\saakh\\Learning\\AI_ML\\Data_Analyst_Bootcamp\\PythonBasic\\venv\\Lib\\site-packages\\sklearn\\preprocessing\\_label.py:129: DataConversionWarning: A column-vector y was passed when a 1d array was expected. Please change the shape of y to (n_samples, ), for example using ravel().\n",
      "  y = column_or_1d(y, dtype=self.classes_.dtype, warn=True)\n",
      "c:\\Users\\saakh\\Learning\\AI_ML\\Data_Analyst_Bootcamp\\PythonBasic\\venv\\Lib\\site-packages\\sklearn\\preprocessing\\_label.py:129: DataConversionWarning: A column-vector y was passed when a 1d array was expected. Please change the shape of y to (n_samples, ), for example using ravel().\n",
      "  y = column_or_1d(y, dtype=self.classes_.dtype, warn=True)\n"
     ]
    }
   ],
   "source": [
    "import pandas as pd\n",
    "from sklearn.preprocessing import LabelEncoder\n",
    "\n",
    "## Create a dataframe\n",
    "df = pd.DataFrame({\n",
    "    'color':['red','green','blue','green','red']\n",
    "})\n",
    "\n",
    "# Create LabelEncoder Object\n",
    "lbl_encoder=LabelEncoder()\n",
    "\n",
    "lbl_encoder.fit_transform(df)\n",
    "\n",
    "print(lbl_encoder.transform([['red']]))\n",
    "print(lbl_encoder.transform([['green']]))\n",
    "print(lbl_encoder.transform([['blue']]))\n"
   ]
  },
  {
   "cell_type": "markdown",
   "metadata": {},
   "source": [
    "### Ordinal Encoding\n",
    "* With `Label Encoding`, the problem is that model might consider value assigned to that category as important if it is the higher number even if it is not the case. \n",
    "* It is used to encode categorical data that have an intrinsic order or ranking. \n",
    "* In this technique, each category is assigned a numerical value based on its position in the order. \n",
    "* For example, if we have a categorical variable \"education level\" with four possible values (high school, college, graduate, post-graduate), we can represent it using ordinal encoding as follows:\n",
    "\n",
    "    1. High school: 1\n",
    "    2. College: 2\n",
    "    3. Graduate: 3\n",
    "    4. Post-graduate: 4"
   ]
  },
  {
   "cell_type": "code",
   "execution_count": 8,
   "metadata": {},
   "outputs": [
    {
     "name": "stdout",
     "output_type": "stream",
     "text": [
      "[[0.]]\n",
      "[[1.]]\n",
      "[[2.]]\n"
     ]
    },
    {
     "name": "stderr",
     "output_type": "stream",
     "text": [
      "c:\\Users\\saakh\\Learning\\AI_ML\\Data_Analyst_Bootcamp\\PythonBasic\\venv\\Lib\\site-packages\\sklearn\\utils\\validation.py:2739: UserWarning: X does not have valid feature names, but OrdinalEncoder was fitted with feature names\n",
      "  warnings.warn(\n",
      "c:\\Users\\saakh\\Learning\\AI_ML\\Data_Analyst_Bootcamp\\PythonBasic\\venv\\Lib\\site-packages\\sklearn\\utils\\validation.py:2739: UserWarning: X does not have valid feature names, but OrdinalEncoder was fitted with feature names\n",
      "  warnings.warn(\n",
      "c:\\Users\\saakh\\Learning\\AI_ML\\Data_Analyst_Bootcamp\\PythonBasic\\venv\\Lib\\site-packages\\sklearn\\utils\\validation.py:2739: UserWarning: X does not have valid feature names, but OrdinalEncoder was fitted with feature names\n",
      "  warnings.warn(\n"
     ]
    }
   ],
   "source": [
    "import pandas as pd\n",
    "from sklearn.preprocessing import OrdinalEncoder\n",
    "\n",
    "# create a sample dataframe with an ordinal variable\n",
    "df = pd.DataFrame({\n",
    "    'size': ['small', 'medium', 'large', 'medium', 'small', 'large']\n",
    "})\n",
    "\n",
    "# Create LabelEncoder Object\n",
    "o_encoder=OrdinalEncoder(categories=[['small','medium','large']])\n",
    "\n",
    "o_encoder.fit_transform(df[['size']])\n",
    "\n",
    "print(o_encoder.transform([['small']]))\n",
    "print(o_encoder.transform([['medium']]))\n",
    "print(o_encoder.transform([['large']]))"
   ]
  },
  {
   "cell_type": "markdown",
   "metadata": {},
   "source": []
  }
 ],
 "metadata": {
  "kernelspec": {
   "display_name": "Python 3",
   "language": "python",
   "name": "python3"
  },
  "language_info": {
   "codemirror_mode": {
    "name": "ipython",
    "version": 3
   },
   "file_extension": ".py",
   "mimetype": "text/x-python",
   "name": "python",
   "nbconvert_exporter": "python",
   "pygments_lexer": "ipython3",
   "version": "3.12.8"
  }
 },
 "nbformat": 4,
 "nbformat_minor": 2
}
