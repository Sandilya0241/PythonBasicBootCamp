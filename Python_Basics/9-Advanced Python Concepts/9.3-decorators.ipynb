{
 "cells": [
  {
   "cell_type": "markdown",
   "metadata": {},
   "source": [
    "### Decorators\n",
    "* Decorators are a powerful and flexible features in Python that allows you to modify the behavior of a function or class method.\n",
    "* They are commonly used to add functionality to functions or methods without modifying their actual code.\n",
    "\n",
    "To understand decorators, we need to know:\n",
    "\n",
    "<ol>\n",
    "<li>Function Copy</li>\n",
    "<li>Closures</li>\n",
    "</ol>"
   ]
  },
  {
   "cell_type": "code",
   "execution_count": 1,
   "metadata": {},
   "outputs": [
    {
     "name": "stdout",
     "output_type": "stream",
     "text": [
      "Welcome message from Adams Family!!!\n",
      "Welcome message from Adams Family!!!\n"
     ]
    }
   ],
   "source": [
    "## Function Copy\n",
    "def welcome():\n",
    "    return \"Welcome message from Adams Family!!!\"\n",
    "\n",
    "welcome()\n",
    "\n",
    "wel = welcome\n",
    "print(wel())\n",
    "\n",
    "## deleting actual function\n",
    "del welcome\n",
    "print(wel())"
   ]
  },
  {
   "cell_type": "code",
   "execution_count": 2,
   "metadata": {},
   "outputs": [
    {
     "name": "stdout",
     "output_type": "stream",
     "text": [
      "start of sub_message method\n",
      "Input Parameter : This is Mask\n",
      "Local variable message: Stop me if you can\n",
      "end of sub_message method\n"
     ]
    }
   ],
   "source": [
    "## Closures is a method within a method\n",
    "def main_message(mg):\n",
    "    msg = \"Stop me if you can\"\n",
    "    def sub_message():\n",
    "        print(\"start of sub_message method\")\n",
    "        \n",
    "        ## Closure can access input parameters of outside function\n",
    "        print(f'Input Parameter : {mg}')\n",
    "\n",
    "        ## Closure can access anything outside sub method\n",
    "        print(f'Local variable message: {msg}')\n",
    "\n",
    "        print(\"end of sub_message method\")\n",
    "    return sub_message()\n",
    "\n",
    "main_message(\"This is Mask\")"
   ]
  },
  {
   "cell_type": "code",
   "execution_count": 3,
   "metadata": {},
   "outputs": [
    {
     "name": "stdout",
     "output_type": "stream",
     "text": [
      "start of sub_message method\n",
      "Stop me if you can\n",
      "end of sub_message method\n"
     ]
    }
   ],
   "source": [
    "## Closures is a method within a method (Version 2)\n",
    "def main_message(func):\n",
    "    msg = \"Stop me if you can\"\n",
    "    def sub_message():\n",
    "        print(\"start of sub_message method\")\n",
    "        \n",
    "        func(msg)\n",
    "\n",
    "        print(\"end of sub_message method\")\n",
    "    return sub_message()\n",
    "\n",
    "main_message(print)"
   ]
  },
  {
   "cell_type": "code",
   "execution_count": 5,
   "metadata": {},
   "outputs": [
    {
     "name": "stdout",
     "output_type": "stream",
     "text": [
      "start of sub_message method\n",
      "5\n",
      "end of sub_message method\n"
     ]
    }
   ],
   "source": [
    "## Closures is a method within a method (Version 3)\n",
    "\n",
    "def main_message(func, my_lst):\n",
    "    def sub_message():\n",
    "        print(\"start of sub_message method\")\n",
    "        \n",
    "        print(func(my_lst))\n",
    "\n",
    "        print(\"end of sub_message method\")\n",
    "    return sub_message()\n",
    "\n",
    "main_message(len,[1,2,3,5,6])"
   ]
  },
  {
   "cell_type": "code",
   "execution_count": 6,
   "metadata": {},
   "outputs": [
    {
     "name": "stdout",
     "output_type": "stream",
     "text": [
      "Captain America: Hey Thanos, what can you do?\n",
      "Thanos: I will snap my fingers\n",
      "Captain America: Oh! No\n"
     ]
    }
   ],
   "source": [
    "## First Decorator\n",
    "def main_message(func):\n",
    "    def sub_message():\n",
    "        print(\"Captain America: Hey Thanos, what can you do?\")\n",
    "        func()\n",
    "        print(\"Captain America: Oh! No\")\n",
    "    return sub_message()\n",
    "\n",
    "def thanos_reply():\n",
    "    print('Thanos: I will snap my fingers')\n",
    "\n",
    "\n",
    "main_message(thanos_reply)"
   ]
  },
  {
   "cell_type": "code",
   "execution_count": 20,
   "metadata": {},
   "outputs": [
    {
     "name": "stdout",
     "output_type": "stream",
     "text": [
      "Captain America: Hey Thanos, what can you do?\n",
      "Thanos: I will snap my fingers\n",
      "Captain America: Oh! No\n"
     ]
    }
   ],
   "source": [
    "## In above example, without calling main_mesage function, we can print above lines\n",
    "\n",
    "## First Decorator\n",
    "def main_message(func):\n",
    "    def sub_message():\n",
    "        print(\"Captain America: Hey Thanos, what can you do?\")\n",
    "        func()\n",
    "        print(\"Captain America: Oh! No\")\n",
    "    return sub_message()\n",
    "\n",
    "@main_message\n",
    "def thanos_reply():\n",
    "    print('Thanos: I will snap my fingers')"
   ]
  },
  {
   "cell_type": "code",
   "execution_count": 25,
   "metadata": {},
   "outputs": [],
   "source": [
    "# Decorator II\n",
    "def decorator2(func):\n",
    "    def wrapper():\n",
    "        print(\"Harry Potter: Hey Voldomort, where are you?\")\n",
    "        func()\n",
    "        print(\"Harry Potter: Oh! wait. I'm on my way.\")\n",
    "    return wrapper\n",
    "\n",
    "@decorator2\n",
    "def voldomort_reply():\n",
    "    print(\"Voldomort: I'm at Starbucks\")"
   ]
  },
  {
   "cell_type": "code",
   "execution_count": 26,
   "metadata": {},
   "outputs": [
    {
     "name": "stdout",
     "output_type": "stream",
     "text": [
      "Harry Potter: Hey Voldomort, where are you?\n",
      "Voldomort: I'm at Starbucks\n",
      "Harry Potter: Oh! wait. I'm on my way.\n"
     ]
    }
   ],
   "source": [
    "voldomort_reply()"
   ]
  },
  {
   "cell_type": "code",
   "execution_count": 27,
   "metadata": {},
   "outputs": [],
   "source": [
    "## Decorator with arguments\n",
    "def repeat(n):\n",
    "    def decorator(func):\n",
    "        def wrapper(*args, **kwargs):\n",
    "            for _ in range(n):\n",
    "                func(*args, **kwargs)\n",
    "\n",
    "        return wrapper\n",
    "    return decorator\n",
    "\n",
    "@repeat(3)\n",
    "def hello_function():\n",
    "    print(\"Say Hello\")"
   ]
  },
  {
   "cell_type": "code",
   "execution_count": 28,
   "metadata": {},
   "outputs": [
    {
     "name": "stdout",
     "output_type": "stream",
     "text": [
      "Say Hello\n",
      "Say Hello\n",
      "Say Hello\n"
     ]
    }
   ],
   "source": [
    "hello_function()"
   ]
  },
  {
   "cell_type": "markdown",
   "metadata": {},
   "source": [
    "### Conclusion\n",
    "* Decorators are a powerful tool in Python for extending and modifying the behavior of methods and functions.\n",
    "* They provide a clean and readable way to add functionality such as logging, timing, access control, and more without changing the original code.\n",
    "* Understanding and using decorators effectively can significantly enhance your Python programming skills.  "
   ]
  },
  {
   "cell_type": "markdown",
   "metadata": {},
   "source": []
  }
 ],
 "metadata": {
  "kernelspec": {
   "display_name": "Python 3",
   "language": "python",
   "name": "python3"
  },
  "language_info": {
   "codemirror_mode": {
    "name": "ipython",
    "version": 3
   },
   "file_extension": ".py",
   "mimetype": "text/x-python",
   "name": "python",
   "nbconvert_exporter": "python",
   "pygments_lexer": "ipython3",
   "version": "3.12.0"
  }
 },
 "nbformat": 4,
 "nbformat_minor": 2
}
