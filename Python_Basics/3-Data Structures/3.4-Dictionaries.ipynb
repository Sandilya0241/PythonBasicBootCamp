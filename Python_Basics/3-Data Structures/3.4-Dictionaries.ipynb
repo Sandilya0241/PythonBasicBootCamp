{
 "cells": [
  {
   "cell_type": "markdown",
   "metadata": {},
   "source": [
    "## Introduction to Dictionaries\n",
    "\n",
    "* Dictionaries are unordered collection of items. \n",
    "* They store data in `Key-Value` pairs.\n",
    "* Keys must be unique and immutable (e.g., strings, numbers, or tuples), while values can be of any type."
   ]
  },
  {
   "cell_type": "markdown",
   "metadata": {},
   "source": [
    "### Creating Dictionaries"
   ]
  },
  {
   "cell_type": "code",
   "execution_count": 3,
   "metadata": {},
   "outputs": [
    {
     "name": "stdout",
     "output_type": "stream",
     "text": [
      "<class 'dict'>\n"
     ]
    }
   ],
   "source": [
    "empty_dict = {}\n",
    "print(type(empty_dict))"
   ]
  },
  {
   "cell_type": "code",
   "execution_count": 4,
   "metadata": {},
   "outputs": [
    {
     "name": "stdout",
     "output_type": "stream",
     "text": [
      "<class 'dict'>\n"
     ]
    }
   ],
   "source": [
    "empty_dict2 = dict()\n",
    "print(type(empty_dict2))"
   ]
  },
  {
   "cell_type": "code",
   "execution_count": 6,
   "metadata": {},
   "outputs": [
    {
     "name": "stdout",
     "output_type": "stream",
     "text": [
      "{'name': 'Sandy', 'age': 36, 'is_married': 'Married'}\n",
      "<class 'dict'>\n"
     ]
    }
   ],
   "source": [
    "student = {\n",
    "    \"name\":\"Sandy\",\n",
    "    \"age\":36,\n",
    "    \"is_married\":\"Married\"\n",
    "}\n",
    "print(student)\n",
    "print(type(student))"
   ]
  },
  {
   "cell_type": "code",
   "execution_count": 7,
   "metadata": {},
   "outputs": [
    {
     "name": "stdout",
     "output_type": "stream",
     "text": [
      "{'name': 'Married', 'age': 36}\n",
      "<class 'dict'>\n"
     ]
    }
   ],
   "source": [
    "## Error (unintended behavior)\n",
    "student2 = {\n",
    "    \"name\":\"Sandy\",\n",
    "    \"age\":36,\n",
    "    \"name\":\"Married\"\n",
    "}\n",
    "print(student2)\n",
    "print(type(student2))"
   ]
  },
  {
   "cell_type": "markdown",
   "metadata": {},
   "source": [
    "### Accessing the Dictionary Elements (based on index and using 'Get' method)"
   ]
  },
  {
   "cell_type": "code",
   "execution_count": null,
   "metadata": {},
   "outputs": [
    {
     "name": "stdout",
     "output_type": "stream",
     "text": [
      "Sandy\n",
      "36\n",
      "Sandy\n",
      "36\n",
      "None\n",
      "Not Available\n"
     ]
    }
   ],
   "source": [
    "student = {\n",
    "    \"name\":\"Sandy\",\n",
    "    \"age\":36,\n",
    "    \"is_married\":\"Married\"\n",
    "}\n",
    "print(student[\"name\"])\n",
    "print(student[\"age\"])\n",
    "## Error\n",
    "# print(student[\"average\"])\n",
    "\n",
    "\n",
    "print(student.get(\"name\"))\n",
    "print(student.get(\"age\"))\n",
    "print(student.get(\"average\"))\n",
    "print(student.get(\"average\",\"Not Available\"))\n"
   ]
  },
  {
   "cell_type": "markdown",
   "metadata": {},
   "source": [
    "### Modifying Dictionary Elements\n",
    "* Dictionaries are mutable. So, we can add, update or, delete elements."
   ]
  },
  {
   "cell_type": "code",
   "execution_count": 14,
   "metadata": {},
   "outputs": [
    {
     "name": "stdout",
     "output_type": "stream",
     "text": [
      "Before adding a new key : {'name': 'Sandy', 'age': 36, 'is_married': 'Married'}\n",
      "\n",
      "After adding a new key : {'name': 'Sandy', 'age': 36, 'is_married': 'Married', 'average': 91.0}\n",
      "\n",
      "After updating an existing key : {'name': 'Sandilya', 'age': 36, 'is_married': 'Married', 'average': 91.0}\n",
      "\n",
      "After removing a new key : {'name': 'Sandilya', 'age': 36, 'average': 91.0}\n"
     ]
    }
   ],
   "source": [
    "## add a new key\n",
    "student = {\n",
    "    \"name\":\"Sandy\",\n",
    "    \"age\":36,\n",
    "    \"is_married\":\"Married\"\n",
    "}\n",
    "print(f'Before adding a new key : {student}')\n",
    "print()\n",
    "student[\"average\"] = 91.0\n",
    "print(f'After adding a new key : {student}')\n",
    "\n",
    "## update an existing key\n",
    "print()\n",
    "student[\"name\"] = 'Sandilya'\n",
    "print(f'After updating an existing key : {student}')\n",
    "\n",
    "## deleting an existing key\n",
    "print()\n",
    "del student[\"is_married\"]\n",
    "print(f'After removing a new key : {student}')"
   ]
  },
  {
   "cell_type": "markdown",
   "metadata": {},
   "source": [
    "### Common Dictionary Methods"
   ]
  },
  {
   "cell_type": "code",
   "execution_count": 15,
   "metadata": {},
   "outputs": [
    {
     "name": "stdout",
     "output_type": "stream",
     "text": [
      "dict_keys(['name', 'age', 'is_married'])\n",
      "dict_values(['Sandy', 36, 'Married'])\n",
      "dict_items([('name', 'Sandy'), ('age', 36), ('is_married', 'Married')])\n"
     ]
    }
   ],
   "source": [
    "student = {\n",
    "    \"name\":\"Sandy\",\n",
    "    \"age\":36,\n",
    "    \"is_married\":\"Married\"\n",
    "}\n",
    "\n",
    "## To fetch all keys\n",
    "keys = student.keys()\n",
    "print(keys)\n",
    "\n",
    "## To fetch all values\n",
    "values = student.values()\n",
    "print(values)\n",
    "\n",
    "## To fetch all key-value pairs\n",
    "itms = student.items()\n",
    "print(itms)"
   ]
  },
  {
   "cell_type": "markdown",
   "metadata": {},
   "source": [
    "### Shallow Copy"
   ]
  },
  {
   "cell_type": "code",
   "execution_count": 18,
   "metadata": {},
   "outputs": [
    {
     "name": "stdout",
     "output_type": "stream",
     "text": [
      "Value of student : {'name': 'Sandy', 'age': 36, 'is_married': 'Married'}\n",
      "\n",
      "Value of student_copy : {'name': 'Sandy', 'age': 36, 'is_married': 'Married'}\n",
      "\n",
      "Value of student (after update): {'name': 'Sandilya', 'age': 36, 'is_married': 'Married'}\n",
      "\n",
      "Value of student_copy (after update): {'name': 'Sandilya', 'age': 36, 'is_married': 'Married'}\n"
     ]
    }
   ],
   "source": [
    "student = {\n",
    "    \"name\":\"Sandy\",\n",
    "    \"age\":36,\n",
    "    \"is_married\":\"Married\"\n",
    "}\n",
    "student_copy = student\n",
    "print(f'Value of student : {student}')\n",
    "print()\n",
    "print(f'Value of student_copy : {student_copy}')\n",
    "print()\n",
    "student['name']='Sandilya'\n",
    "print(f'Value of student (after update): {student}')\n",
    "print()\n",
    "print(f'Value of student_copy (after update): {student_copy}')"
   ]
  },
  {
   "cell_type": "code",
   "execution_count": null,
   "metadata": {},
   "outputs": [
    {
     "name": "stdout",
     "output_type": "stream",
     "text": [
      "Value of new_student : {'name': 'Sandy', 'age': 36, 'is_married': 'Married'}\n",
      "\n",
      "Value of new_student_copy : {'name': 'Sandy', 'age': 36, 'is_married': 'Married'}\n",
      "\n",
      "Value of new_student (after update): {'name': 'Sandilya', 'age': 36, 'is_married': 'Married'}\n",
      "\n",
      "Value of new_student_copy (after update): {'name': 'Sandy', 'age': 36, 'is_married': 'Married'}\n"
     ]
    }
   ],
   "source": [
    "## So we need shallow copy (allocates a new memory location)\n",
    "new_student = {\n",
    "    \"name\":\"Sandy\",\n",
    "    \"age\":36,\n",
    "    \"is_married\":\"Married\"\n",
    "}\n",
    "new_student_copy = new_student.copy()\n",
    "print(f'Value of new_student : {new_student}')\n",
    "print()\n",
    "print(f'Value of new_student_copy : {new_student_copy}')\n",
    "print()\n",
    "new_student['name']='Sandilya'\n",
    "print(f'Value of new_student (after update): {new_student}')\n",
    "print()\n",
    "print(f'Value of new_student_copy (after update): {new_student_copy}')"
   ]
  },
  {
   "cell_type": "markdown",
   "metadata": {},
   "source": [
    "### Iterating Over Dictionaries"
   ]
  },
  {
   "cell_type": "code",
   "execution_count": 23,
   "metadata": {},
   "outputs": [
    {
     "name": "stdout",
     "output_type": "stream",
     "text": [
      "name\n",
      "age\n",
      "is_married\n",
      "Sandy\n",
      "36\n",
      "Married\n",
      "name->Sandy\n",
      "age->36\n",
      "is_married->Married\n"
     ]
    }
   ],
   "source": [
    "## Iterating dictionaries (keys, values, or items)\n",
    "new_student = {\n",
    "    \"name\":\"Sandy\",\n",
    "    \"age\":36,\n",
    "    \"is_married\":\"Married\"\n",
    "}\n",
    "\n",
    "## Iterate over Keys\n",
    "for key in new_student.keys():\n",
    "    print(key)\n",
    "\n",
    "\n",
    "## Iterate over Values\n",
    "for val in new_student.values():\n",
    "    print(val)\n",
    "\n",
    "\n",
    "## Iterate over Key-Values Pairs\n",
    "for key, val in new_student.items():\n",
    "    print(str(key) + \"->\" + str(val))"
   ]
  },
  {
   "cell_type": "markdown",
   "metadata": {},
   "source": [
    "### Nested Dictionaries"
   ]
  },
  {
   "cell_type": "code",
   "execution_count": 24,
   "metadata": {},
   "outputs": [
    {
     "name": "stdout",
     "output_type": "stream",
     "text": [
      "Keerthi\n",
      "35\n"
     ]
    }
   ],
   "source": [
    "students = {\n",
    "    \"student1\" : {\"name\":\"Sandy\",\"age\":36},\n",
    "    \"student2\" : {\"name\":\"Keerthi\",\"age\":35}\n",
    "}\n",
    "print(students[\"student2\"][\"name\"])\n",
    "print(students[\"student2\"][\"age\"])"
   ]
  },
  {
   "cell_type": "markdown",
   "metadata": {},
   "source": [
    "### Iterating Over Nested Dictionaries"
   ]
  },
  {
   "cell_type": "code",
   "execution_count": 28,
   "metadata": {},
   "outputs": [
    {
     "name": "stdout",
     "output_type": "stream",
     "text": [
      "Student Id# student1\n",
      "Student Info : {'name': 'Sandy', 'age': 36}\n",
      "----------------------------------\n",
      "name - Sandy\n",
      "age - 36\n",
      "\n",
      "Student Id# student2\n",
      "Student Info : {'name': 'Keerthi', 'age': 35}\n",
      "----------------------------------\n",
      "name - Keerthi\n",
      "age - 35\n",
      "\n"
     ]
    }
   ],
   "source": [
    "students = {\n",
    "    \"student1\" : {\"name\":\"Sandy\",\"age\":36},\n",
    "    \"student2\" : {\"name\":\"Keerthi\",\"age\":35}\n",
    "}\n",
    "\n",
    "for student, student_info in students.items():\n",
    "    print(f'Student Id# {student}')\n",
    "    print(f'Student Info : {student_info}')\n",
    "    print(\"----------------------------------\")\n",
    "    for key, val in student_info.items():\n",
    "        print(str(key) + \" - \" + str(val))\n",
    "    print()"
   ]
  },
  {
   "cell_type": "markdown",
   "metadata": {},
   "source": [
    "### Dictionary Comprehension"
   ]
  },
  {
   "cell_type": "code",
   "execution_count": 31,
   "metadata": {},
   "outputs": [
    {
     "name": "stdout",
     "output_type": "stream",
     "text": [
      "{1: 1, 2: 4, 3: 9, 4: 16, 5: 25}\n",
      "<class 'dict'>\n"
     ]
    }
   ],
   "source": [
    "sqrs = {val: val**2 for val in range(1,6)}\n",
    "print(sqrs)\n",
    "print(type(sqrs))"
   ]
  },
  {
   "cell_type": "code",
   "execution_count": 33,
   "metadata": {},
   "outputs": [
    {
     "name": "stdout",
     "output_type": "stream",
     "text": [
      "{2: 4, 4: 16, 6: 36, 8: 64, 10: 100}\n"
     ]
    }
   ],
   "source": [
    "evn_sqrs = {val: val**2 for val in range(1,11) if val%2 == 0}\n",
    "print(evn_sqrs)"
   ]
  },
  {
   "cell_type": "code",
   "execution_count": 35,
   "metadata": {},
   "outputs": [
    {
     "name": "stdout",
     "output_type": "stream",
     "text": [
      "{1: 1, 2: 2, 3: 3, 4: 3, 5: 1}\n",
      "{1: 1, 2: 2, 3: 3, 4: 3, 5: 1}\n"
     ]
    }
   ],
   "source": [
    "## Practical Examples\n",
    "## Use a dictionary to count the frequency of elements of list\n",
    "\n",
    "lst_numbers = [1,2,2,3,3,3,4,4,4,5]\n",
    "\n",
    "freq_dict = {val:lst_numbers.count(val) for val in set(lst_numbers)}\n",
    "print(freq_dict)\n",
    "\n",
    "\n",
    "## Normal way\n",
    "freq_dict2 = {}\n",
    "for val in lst_numbers:\n",
    "    if val in freq_dict2:\n",
    "        freq_dict2[val] += 1\n",
    "    else:\n",
    "        freq_dict2[val] = 1\n",
    "\n",
    "print(freq_dict2)\n"
   ]
  },
  {
   "cell_type": "markdown",
   "metadata": {},
   "source": [
    "### `**` is a keyword argument. When merging below dictionaries, ** will replace any number of key-value pairs"
   ]
  },
  {
   "cell_type": "code",
   "execution_count": 36,
   "metadata": {},
   "outputs": [
    {
     "name": "stdout",
     "output_type": "stream",
     "text": [
      "{'a': 1, 'b': 3, 'c': 4}\n"
     ]
    }
   ],
   "source": [
    "## Merge 2 dictionaries\n",
    "\n",
    "dict1 = {'a':1,'b':2}\n",
    "dict2 = {'b':3,'c':4}\n",
    "\n",
    "merged_dict = {**dict1,**dict2}\n",
    "print(merged_dict)"
   ]
  },
  {
   "cell_type": "code",
   "execution_count": null,
   "metadata": {},
   "outputs": [],
   "source": []
  }
 ],
 "metadata": {
  "kernelspec": {
   "display_name": "Python 3",
   "language": "python",
   "name": "python3"
  },
  "language_info": {
   "codemirror_mode": {
    "name": "ipython",
    "version": 3
   },
   "file_extension": ".py",
   "mimetype": "text/x-python",
   "name": "python",
   "nbconvert_exporter": "python",
   "pygments_lexer": "ipython3",
   "version": "3.12.0"
  }
 },
 "nbformat": 4,
 "nbformat_minor": 2
}
