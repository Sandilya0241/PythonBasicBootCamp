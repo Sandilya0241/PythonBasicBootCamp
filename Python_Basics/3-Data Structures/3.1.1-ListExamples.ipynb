{
 "cells": [
  {
   "cell_type": "markdown",
   "metadata": {},
   "source": [
    "## Real life example on Lists\n",
    "\n",
    "### Example 1. Manage a to-do list\n",
    "* Create a To-Do to keep track of tasks "
   ]
  },
  {
   "cell_type": "code",
   "execution_count": null,
   "metadata": {},
   "outputs": [
    {
     "name": "stdout",
     "output_type": "stream",
     "text": [
      "Task not present\n",
      "Yes! Clean House is present\n",
      "--- To-Do List ---\n",
      "-Buy Groceries\n",
      "-Clean House\n",
      "-Schedule a meeting\n",
      "-Go for Jog\n",
      "--- Completed List ---\n",
      "-Pay Bills\n"
     ]
    }
   ],
   "source": [
    "to_do_list = ['Buy Groceries', 'Clean House','Pay Bills']\n",
    "completed_tasks = []\n",
    "\n",
    "## Add tasks to list\n",
    "def add_task(newTask):\n",
    "    to_do_list.append(newTask)\n",
    "\n",
    "add_task('Schedule a meeting')\n",
    "add_task('Go for Jog')\n",
    "\n",
    "## Remove completed tasks from to_do_list\n",
    "def complete_task(task_name):\n",
    "    to_do_list.remove(task_name)\n",
    "    completed_tasks.append(task_name)\n",
    "\n",
    "complete_task(\"Pay Bills\")\n",
    "\n",
    "## Search a certain task\n",
    "def search_task(task_name):\n",
    "    if task_name in to_do_list:\n",
    "        print(f'Yes! {task_name} is present')\n",
    "    else:\n",
    "        print(f'Task not present')\n",
    "\n",
    "search_task(\"Pay Bills\")\n",
    "search_task(\"Clean House\")\n",
    "\n",
    "\n",
    "## Display to_do_list\n",
    "def display_to_do_list():\n",
    "    print(\"--- To-Do List ---\")\n",
    "    for activity in to_do_list:\n",
    "        print(f'-{activity}')\n",
    "\n",
    "\n",
    "\n",
    "## Display to_do_list\n",
    "def display_completed_list():\n",
    "    print(\"--- Completed List ---\")\n",
    "    for activity in completed_tasks:\n",
    "        print(f'- {activity}')\n",
    "\n",
    "\n",
    "display_to_do_list()\n",
    "display_completed_list()"
   ]
  },
  {
   "cell_type": "markdown",
   "metadata": {},
   "source": [
    "## Example 2: Organizing Student Grades"
   ]
  },
  {
   "cell_type": "code",
   "execution_count": 10,
   "metadata": {},
   "outputs": [
    {
     "name": "stdout",
     "output_type": "stream",
     "text": [
      "[{'grade': 85, 'name': 'Hardik'},\n",
      " {'grade': 100, 'name': 'Kohli'},\n",
      " {'grade': 78, 'name': 'Pant'},\n",
      " {'grade': 90, 'name': 'Rohit'},\n",
      " {'grade': 88, 'name': 'Gill'}]\n",
      "[{'grade': 85, 'name': 'Hardik'},\n",
      " {'grade': 100, 'name': 'Kohli'},\n",
      " {'grade': 78, 'name': 'Pant'},\n",
      " {'grade': 90, 'name': 'Rohit'},\n",
      " {'grade': 88, 'name': 'Gill'},\n",
      " {'grade': 90, 'name': 'Jaiswal'}]\n",
      "'Average grade of all students is 88.5'\n",
      "'Highest grade of all students is 100'\n",
      "'Lowest grade of all students is 78'\n"
     ]
    }
   ],
   "source": [
    "from pprint import pprint\n",
    "\n",
    "stu_grades = [\n",
    "    {\"name\":\"Hardik\", \"grade\":85},\n",
    "    {\"name\":\"Kohli\",\"grade\":100},\n",
    "    {\"name\":\"Pant\", \"grade\":78},\n",
    "    {\"name\":\"Rohit\", \"grade\":90},\n",
    "    {\"name\":\"Gill\", \"grade\":88}\n",
    "]\n",
    "\n",
    "## Add a new student grade\n",
    "def add_grade(name, grade):\n",
    "    stu_grades.append({\"name\":name, \"grade\":grade})\n",
    "\n",
    "## Calculate average grade\n",
    "def get_average_grade():\n",
    "    avg_grade = 0\n",
    "    for val in stu_grades:\n",
    "        avg_grade += int(val.get(\"grade\"))\n",
    "    return round((avg_grade/len(stu_grades)),2)\n",
    "\n",
    "## Find higher grade\n",
    "def get_highest_grade():\n",
    "    return max([val.get(\"grade\") for val in stu_grades])\n",
    "\n",
    "\n",
    "## Find higher grade\n",
    "def get_lowest_grade():\n",
    "    return min([val.get(\"grade\") for val in stu_grades])\n",
    "    \n",
    "pprint(stu_grades)\n",
    "add_grade(\"Jaiswal\",90)\n",
    "pprint(stu_grades)\n",
    "pprint(f'Average grade of all students is {get_average_grade()}')\n",
    "pprint(f'Highest grade of all students is {get_highest_grade()}')\n",
    "pprint(f'Lowest grade of all students is {get_lowest_grade()}')\n",
    "\n",
    "\n",
    "\n"
   ]
  },
  {
   "cell_type": "markdown",
   "metadata": {},
   "source": [
    "## Example 3: Manage Inventory"
   ]
  },
  {
   "cell_type": "code",
   "execution_count": 3,
   "metadata": {},
   "outputs": [
    {
     "name": "stdout",
     "output_type": "stream",
     "text": [
      "[{'name': 'Apple', 'quantity': 30},\n",
      " {'name': 'Bananas', 'quantity': 45},\n",
      " {'name': 'Oranges', 'quantity': 20},\n",
      " {'name': 'Grapes', 'quantity': 10},\n",
      " {'name': 'Strawberries', 'quantity': 90}]\n",
      "[{'name': 'Apple', 'quantity': 30},\n",
      " {'name': 'Bananas', 'quantity': 45},\n",
      " {'name': 'Oranges', 'quantity': 20},\n",
      " {'name': 'Grapes', 'quantity': 110},\n",
      " {'name': 'Strawberries', 'quantity': 90}]\n",
      "[{'name': 'Apple', 'quantity': 50},\n",
      " {'name': 'Bananas', 'quantity': 45},\n",
      " {'name': 'Oranges', 'quantity': 20},\n",
      " {'name': 'Grapes', 'quantity': 110},\n",
      " {'name': 'Strawberries', 'quantity': 90}]\n",
      "[{'name': 'Apple', 'quantity': 70},\n",
      " {'name': 'Bananas', 'quantity': 45},\n",
      " {'name': 'Oranges', 'quantity': 20},\n",
      " {'name': 'Grapes', 'quantity': 110},\n",
      " {'name': 'Strawberries', 'quantity': 90}]\n"
     ]
    }
   ],
   "source": [
    "from pprint import pprint\n",
    "inventory = [\n",
    "    {\"name\":\"Apple\", \"quantity\":30},\n",
    "    {\"name\":\"Bananas\",\"quantity\":45},\n",
    "    {\"name\":\"Oranges\", \"quantity\":20},\n",
    "    {\"name\":\"Grapes\", \"quantity\":10}\n",
    "]\n",
    "\n",
    "## Add a new student grade\n",
    "def add_item(name, quantity):\n",
    "    item_found = False\n",
    "    for index,item in enumerate(inventory):\n",
    "        if item.get(\"name\") == name:\n",
    "            inventory[index] = {\"name\":name, \"quantity\":inventory[index].get(\"quantity\") + quantity}\n",
    "            item_found = True\n",
    "            break\n",
    "    \n",
    "    if not item_found:\n",
    "        inventory.append({\"name\":name, \"quantity\":quantity})\n",
    "    \n",
    "## Add a new student grade\n",
    "def remove_item(name, quantity):\n",
    "    for index,item in enumerate(inventory):\n",
    "        if item.get(\"name\") == name:\n",
    "            if inventory[index].get(\"quantity\") > quantity:\n",
    "                inventory[index] = {\"name\":name, \"quantity\":inventory[index].get(\"quantity\") - quantity}\n",
    "            else:\n",
    "                print(f'Sufficient amount {name} are not available')\n",
    "            break\n",
    "\n",
    "add_item(\"Strawberries\",90)\n",
    "pprint(inventory)\n",
    "add_item(\"Grapes\",100)\n",
    "pprint(inventory)\n",
    "\n",
    "add_item(\"Apple\",20)\n",
    "pprint(inventory)\n",
    "add_item(\"Apple\",20)\n",
    "pprint(inventory)\n"
   ]
  },
  {
   "cell_type": "markdown",
   "metadata": {},
   "source": [
    "## Example 4: Collecting User Feedback"
   ]
  },
  {
   "cell_type": "code",
   "execution_count": null,
   "metadata": {},
   "outputs": [
    {
     "name": "stdout",
     "output_type": "stream",
     "text": [
      "Service rating : 2\n"
     ]
    }
   ],
   "source": [
    "feedback = [\"Great Service!\", \"Very Satisfied\", \"Could be better\", \"Excellent experience\"]\n",
    "\n",
    "def add_new_feedback_option(feedback_value):\n",
    "    feedback.append(feedback_value)\n",
    "\n",
    "\n",
    "def remove_new_feedback_option(feedback_value):\n",
    "    feedback.remove(feedback_value)\n",
    "\n",
    "\n",
    "def get_service_rating():\n",
    "    service_rating = sum(1 for val in feedback if \"great\" in val.lower() or \"excellent\" in val.lower())\n",
    "    print(f'Service rating : {service_rating}')\n",
    "\n",
    "get_service_rating()"
   ]
  }
 ],
 "metadata": {
  "kernelspec": {
   "display_name": "Python 3",
   "language": "python",
   "name": "python3"
  },
  "language_info": {
   "codemirror_mode": {
    "name": "ipython",
    "version": 3
   },
   "file_extension": ".py",
   "mimetype": "text/x-python",
   "name": "python",
   "nbconvert_exporter": "python",
   "pygments_lexer": "ipython3",
   "version": "3.12.0"
  }
 },
 "nbformat": 4,
 "nbformat_minor": 2
}
