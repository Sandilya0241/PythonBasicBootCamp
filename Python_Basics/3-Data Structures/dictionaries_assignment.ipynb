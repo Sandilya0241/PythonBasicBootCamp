{
 "cells": [
  {
   "cell_type": "markdown",
   "metadata": {},
   "source": [
    "# Module 3: Data Structures Assignments\n",
    "## Lesson 3.4: Dictionaries\n",
    "### Assignment 1: Creating and Accessing Dictionaries\n",
    "\n",
    "### Create a dictionary with the first 10 positive integers as keys and their squares as values. Print the dictionary.\n",
    "\n"
   ]
  },
  {
   "cell_type": "code",
   "execution_count": 1,
   "id": "36e1d83c",
   "metadata": {},
   "outputs": [
    {
     "name": "stdout",
     "output_type": "stream",
     "text": [
      "{1: 1, 2: 4, 3: 9, 4: 16, 5: 25, 6: 36, 7: 49, 8: 64, 9: 81, 10: 100}\n"
     ]
    }
   ],
   "source": [
    "sqrs_dict = {val:val**2 for val in range(1,11)}\n",
    "print(sqrs_dict)"
   ]
  },
  {
   "cell_type": "markdown",
   "id": "eed545f8",
   "metadata": {},
   "source": [
    "### Assignment 2: Accessing Dictionary Elements\n",
    "\n",
    "### Print the value of the key 5 and the keys of the dictionary created in Assignment 1."
   ]
  },
  {
   "cell_type": "code",
   "execution_count": 3,
   "id": "2cf79f6f",
   "metadata": {},
   "outputs": [
    {
     "name": "stdout",
     "output_type": "stream",
     "text": [
      "1\n",
      "2\n",
      "3\n",
      "4\n",
      "Value of key #5 is 25\n",
      "6\n",
      "7\n",
      "8\n",
      "9\n",
      "10\n"
     ]
    }
   ],
   "source": [
    "sqrs_dict = {val:val**2 for val in range(1,11)}\n",
    "for key, val in sqrs_dict.items():\n",
    "    if key == 5:\n",
    "        print(f\"Value of key #{key} is {val}\")\n",
    "    else:\n",
    "        print(key)"
   ]
  },
  {
   "cell_type": "markdown",
   "id": "b8a7d626",
   "metadata": {},
   "source": [
    "### Assignment 3: Dictionary Methods\n",
    "\n",
    "### Add a new key-value pair (11, 121) to the dictionary created in Assignment 1 and then remove the key-value pair with key 1. Print the modified dictionary."
   ]
  },
  {
   "cell_type": "code",
   "execution_count": 4,
   "id": "6dfe7507",
   "metadata": {},
   "outputs": [
    {
     "name": "stdout",
     "output_type": "stream",
     "text": [
      "{1: 1, 2: 4, 3: 9, 4: 16, 5: 25, 6: 36, 7: 49, 8: 64, 9: 81, 10: 100, 11: 121}\n",
      "{2: 4, 3: 9, 4: 16, 5: 25, 6: 36, 7: 49, 8: 64, 9: 81, 10: 100, 11: 121}\n"
     ]
    }
   ],
   "source": [
    "\n",
    "sqrs_dict = {val:val**2 for val in range(1,11)}\n",
    "sqrs_dict[11] = 121\n",
    "print(sqrs_dict)\n",
    "del sqrs_dict[1]\n",
    "print(sqrs_dict)"
   ]
  },
  {
   "cell_type": "markdown",
   "id": "ede9ab3c",
   "metadata": {},
   "source": [
    "### Assignment 4: Iterating Over Dictionaries\n",
    "\n",
    "### Iterate over the dictionary created in Assignment 1 and print each key-value pair."
   ]
  },
  {
   "cell_type": "code",
   "execution_count": 6,
   "id": "ad5656d8",
   "metadata": {},
   "outputs": [
    {
     "name": "stdout",
     "output_type": "stream",
     "text": [
      "{\n",
      "1 : 1\n",
      "2 : 4\n",
      "3 : 9\n",
      "4 : 16\n",
      "5 : 25\n",
      "6 : 36\n",
      "7 : 49\n",
      "8 : 64\n",
      "9 : 81\n",
      "10 : 100\n",
      "}\n"
     ]
    }
   ],
   "source": [
    "sqrs_dict = {val:val**2 for val in range(1,11)}\n",
    "print(\"{\")\n",
    "for key, val in sqrs_dict.items():\n",
    "    print(f'{key} : {val}')\n",
    "print(\"}\")"
   ]
  },
  {
   "cell_type": "markdown",
   "id": "de141bd0",
   "metadata": {},
   "source": [
    "### Assignment 5: Dictionary Comprehensions\n",
    "\n",
    "### Create a new dictionary containing the cubes of the first 10 positive integers using a dictionary comprehension. Print the new dictionary."
   ]
  },
  {
   "cell_type": "code",
   "execution_count": 8,
   "id": "cab8005a",
   "metadata": {},
   "outputs": [
    {
     "name": "stdout",
     "output_type": "stream",
     "text": [
      "{1: 1, 2: 8, 3: 27, 4: 64, 5: 125, 6: 216, 7: 343, 8: 512, 9: 729, 10: 1000}\n"
     ]
    }
   ],
   "source": [
    "cube_dict = {val:val**3 for val in range(1,11)}\n",
    "print(cube_dict)"
   ]
  },
  {
   "cell_type": "markdown",
   "id": "20644c82",
   "metadata": {},
   "source": [
    "### Assignment 6: Merging Dictionaries\n",
    "\n",
    "### Create two dictionaries: one with keys as the first 5 positive integers and values as their squares, and another with keys as the next 5 positive integers and values as their squares. Merge these dictionaries into a single dictionary and print it."
   ]
  },
  {
   "cell_type": "code",
   "execution_count": null,
   "id": "4cb0c0b2",
   "metadata": {},
   "outputs": [
    {
     "name": "stdout",
     "output_type": "stream",
     "text": [
      "{1: 1, 2: 4, 3: 9, 4: 16, 5: 25, 6: 36, 7: 49, 8: 64, 9: 81, 10: 100}\n"
     ]
    }
   ],
   "source": [
    "f5_sqrs_dict = {val : val**2 for val in range(1,6)}\n",
    "n5_sqrs_dict = {val : val**2 for val in range(6,11)}\n",
    "\n",
    "# new_dict= {**f5_sqrs_dict,**n5_sqrs_dict}\n",
    "f5_sqrs_dict.update(n5_sqrs_dict)\n",
    "print(new_dict)"
   ]
  },
  {
   "cell_type": "markdown",
   "id": "b3e720e3",
   "metadata": {},
   "source": [
    "### Assignment 7: Nested Dictionaries\n",
    "\n",
    "### Create a nested dictionary representing a student with keys 'name', 'age', 'grades', where 'grades' is another dictionary with keys 'math', 'science', and 'english'. Print the nested dictionary."
   ]
  },
  {
   "cell_type": "code",
   "execution_count": 11,
   "id": "8c16659f",
   "metadata": {},
   "outputs": [
    {
     "name": "stdout",
     "output_type": "stream",
     "text": [
      "name:Sandilya\n",
      "age:36\n",
      "grades:{'math': 'A+', 'science': 'A+', 'english': 'A'}\n",
      "Grade for subject math : A+\n",
      "Grade for subject science : A+\n",
      "Grade for subject english : A\n"
     ]
    }
   ],
   "source": [
    "student_info = {\n",
    "    'name':'Sandilya', \n",
    "    \"age\":36, \n",
    "    \"grades\":{\n",
    "        \"math\":\"A+\",\n",
    "        \"science\":\"A+\",\n",
    "        \"english\":\"A\"\n",
    "    }\n",
    "}\n",
    "\n",
    "for key,val in student_info.items():\n",
    "    print(f\"{key}:{val}\")\n",
    "    if key == \"grades\":\n",
    "        for sub,grd in val.items():\n",
    "            print(f\"Grade for subject {sub} : {grd}\")"
   ]
  },
  {
   "cell_type": "markdown",
   "id": "7aaf254e",
   "metadata": {},
   "source": [
    "### Assignment 8: Dictionary of Lists\n",
    "\n",
    "### Create a dictionary where the keys are the first 5 positive integers and the values are lists containing the first 5 multiples of the key. Print the dictionary."
   ]
  },
  {
   "cell_type": "code",
   "execution_count": 13,
   "id": "6d0d68a9",
   "metadata": {},
   "outputs": [
    {
     "name": "stdout",
     "output_type": "stream",
     "text": [
      "First 5 factor of number 1 : [1, 2, 3, 4, 5]\n",
      "First 5 factor of number 2 : [2, 4, 6, 8, 10]\n",
      "First 5 factor of number 3 : [3, 6, 9, 12, 15]\n",
      "First 5 factor of number 4 : [4, 8, 12, 16, 20]\n",
      "First 5 factor of number 5 : [5, 10, 15, 20, 25]\n"
     ]
    }
   ],
   "source": [
    "facts_dict = {val:[val*n for n in range(1,6)] for val in range(1, 6)}\n",
    "for key, val in facts_dict.items():\n",
    "    print(f'First 5 factor of number {key} : {val}')\n",
    "    "
   ]
  },
  {
   "cell_type": "markdown",
   "id": "73f403f8",
   "metadata": {},
   "source": [
    "### Assignment 9: Dictionary of Tuples\n",
    "\n",
    "### Create a dictionary where the keys are the first 5 positive integers and the values are tuples containing the key and its square. Print the dictionary."
   ]
  },
  {
   "cell_type": "code",
   "execution_count": 15,
   "id": "053a4aa6",
   "metadata": {},
   "outputs": [
    {
     "name": "stdout",
     "output_type": "stream",
     "text": [
      "First 5 factor of number 1 : (1, 1)\n",
      "First 5 factor of number 2 : (2, 4)\n",
      "First 5 factor of number 3 : (3, 9)\n",
      "First 5 factor of number 4 : (4, 16)\n",
      "First 5 factor of number 5 : (5, 25)\n"
     ]
    }
   ],
   "source": [
    "facts_dict = {val:(val,val**2) for val in range(1, 6)}\n",
    "for key, val in facts_dict.items():\n",
    "    print(f'First 5 factor of number {key} : {val}')"
   ]
  },
  {
   "cell_type": "markdown",
   "id": "321aa14a",
   "metadata": {},
   "source": [
    "### Assignment 10: Dictionary and List Conversion\n",
    "\n",
    "### Create a dictionary with the first 5 positive integers as keys and their squares as values. Convert the dictionary to a list of tuples and print it."
   ]
  },
  {
   "cell_type": "code",
   "execution_count": 18,
   "id": "cfe99420",
   "metadata": {},
   "outputs": [
    {
     "name": "stdout",
     "output_type": "stream",
     "text": [
      "[(1, 1), (2, 4), (3, 9), (4, 16), (5, 25)]\n"
     ]
    }
   ],
   "source": [
    "facts_dict = {val:val**2 for val in range(1, 6)}\n",
    "lst = list(facts_dict.items())\n",
    "print(lst)"
   ]
  },
  {
   "cell_type": "markdown",
   "id": "43c82932",
   "metadata": {},
   "source": [
    "### Assignment 11: Dictionary Filtering\n",
    "\n",
    "### Create a dictionary with the first 10 positive integers as keys and their squares as values. Create a new dictionary containing only the key-value pairs where the key is even. Print the new dictionary."
   ]
  },
  {
   "cell_type": "code",
   "execution_count": 19,
   "id": "da22d036",
   "metadata": {},
   "outputs": [
    {
     "name": "stdout",
     "output_type": "stream",
     "text": [
      "{1: 1, 2: 4, 3: 9, 4: 16, 5: 25, 6: 36, 7: 49, 8: 64, 9: 81, 10: 100}\n",
      "{2: 4, 4: 16, 6: 36, 8: 64, 10: 100}\n"
     ]
    }
   ],
   "source": [
    "dict_1 = {val:val**2 for val in range(1,11)}\n",
    "dict_2 = {key:val for key,val in dict_1.items() if key%2==0}\n",
    "print(dict_1)\n",
    "print(dict_2)"
   ]
  },
  {
   "cell_type": "markdown",
   "id": "db33f785",
   "metadata": {},
   "source": [
    "### Assignment 12: Dictionary Key and Value Transformation\n",
    "\n",
    "### Create a dictionary with the first 5 positive integers as keys and their squares as values. Create a new dictionary with keys and values swapped. Print the new dictionary."
   ]
  },
  {
   "cell_type": "code",
   "execution_count": 21,
   "id": "f6214327",
   "metadata": {},
   "outputs": [
    {
     "name": "stdout",
     "output_type": "stream",
     "text": [
      "{1: 1, 2: 4, 3: 9, 4: 16, 5: 25}\n",
      "{1: 1, 4: 2, 9: 3, 16: 4, 25: 5}\n"
     ]
    }
   ],
   "source": [
    "dict_pos_5 = {val:val**2 for val in range(1,6)}\n",
    "dict_swapped = {val:key for key,val in dict_pos_5.items()}\n",
    "print(dict_pos_5)\n",
    "print(dict_swapped)"
   ]
  },
  {
   "cell_type": "markdown",
   "id": "14ccdc8d",
   "metadata": {},
   "source": [
    "### Assignment 13: Default Dictionary\n",
    "\n",
    "### Create a default dictionary where each key has a default value of an empty list. Add some elements to the lists and print the dictionary."
   ]
  },
  {
   "cell_type": "code",
   "execution_count": 22,
   "id": "fa61514f",
   "metadata": {},
   "outputs": [
    {
     "name": "stdout",
     "output_type": "stream",
     "text": [
      "defaultdict(<class 'list'>, {'a': [1, 2], 'b': [1]})\n"
     ]
    }
   ],
   "source": [
    "from collections import defaultdict\n",
    "defdict = defaultdict(list)\n",
    "defdict['a'].append(1)\n",
    "defdict['a'].append(2)\n",
    "defdict['b'].append(1)\n",
    "print(defdict)"
   ]
  },
  {
   "cell_type": "markdown",
   "id": "5e87b6e7",
   "metadata": {},
   "source": [
    "### Assignment 14: Counting with Dictionaries\n",
    "\n",
    "### Write a function that takes a string and returns a dictionary with the count of each character in the string. Print the dictionary."
   ]
  },
  {
   "cell_type": "code",
   "execution_count": 31,
   "id": "c6686b4f",
   "metadata": {},
   "outputs": [
    {
     "name": "stdout",
     "output_type": "stream",
     "text": [
      "{'H': 1, 'e': 1, 'l': 3, 'o': 2, ' ': 1, 'W': 1, 'r': 1, 'd': 1}\n"
     ]
    }
   ],
   "source": [
    "def count_words(input_val):\n",
    "    count_dict = dict()\n",
    "    for chr in input_val:\n",
    "        count_dict[chr] = count_dict.get(chr,0) + 1\n",
    "    return count_dict\n",
    "print(count_words(\"Hello World\"))"
   ]
  },
  {
   "cell_type": "markdown",
   "id": "9d5b9c16",
   "metadata": {},
   "source": [
    "### Assignment 15: Dictionary and JSON\n",
    "\n",
    "### Create a dictionary representing a book with keys 'title', 'author', 'year', and 'genre'. Convert the dictionary to a JSON string and print it."
   ]
  },
  {
   "cell_type": "code",
   "execution_count": 36,
   "id": "3fdcb532",
   "metadata": {},
   "outputs": [
    {
     "name": "stdout",
     "output_type": "stream",
     "text": [
      "{\"title\": \"A book by Sandilya\", \"author\": \"Sandilya Sripathi\", \"year\": 2031, \"genre\": \"Thriller\"} <class 'str'>\n"
     ]
    }
   ],
   "source": [
    "import json\n",
    "book = {\n",
    "    'title':'A book by Sandilya',\n",
    "    'author':'Sandilya Sripathi',\n",
    "    'year':2031,\n",
    "    'genre':'Thriller'\n",
    "    }\n",
    "\n",
    "json_data = json.dumps(book)\n",
    "print(json_data, type(json_data))"
   ]
  },
  {
   "cell_type": "code",
   "execution_count": null,
   "id": "683c7d37",
   "metadata": {},
   "outputs": [],
   "source": []
  }
 ],
 "metadata": {
  "kernelspec": {
   "display_name": "Python 3",
   "language": "python",
   "name": "python3"
  },
  "language_info": {
   "codemirror_mode": {
    "name": "ipython",
    "version": 3
   },
   "file_extension": ".py",
   "mimetype": "text/x-python",
   "name": "python",
   "nbconvert_exporter": "python",
   "pygments_lexer": "ipython3",
   "version": "3.12.0"
  }
 },
 "nbformat": 4,
 "nbformat_minor": 5
}
