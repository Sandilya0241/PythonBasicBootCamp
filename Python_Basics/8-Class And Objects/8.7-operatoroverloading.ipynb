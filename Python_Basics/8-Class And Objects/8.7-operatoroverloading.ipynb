{
 "cells": [
  {
   "cell_type": "markdown",
   "metadata": {},
   "source": [
    "### Operator Overloading\n",
    "* Operator overloading allows you to define the behavior of operators (+, -, *, etc) for custom objects. \n",
    "* We achieve this by overriding specific magic methods in your class.\n",
    "\n",
    "Common operator overloading magic methods are:\n",
    "* __ __add__ __(self, other) : Adds two objects using the + operator.\n",
    "* __ __sub__ __(self, other) : Subtracts two objects using the - operator.\n",
    "* __ __mul__ __(self, other) : Multiplies two objects using the * operator.\n",
    "* __ __truediv__ __(self, other) : Divides two objects using the / operator.\n",
    "* __ __eq__ __(self, other) : Checks if two objects are equal using the == operator.\n",
    "* __ __lt__ __(self, other) : Checks if one object is less than another using the < operator."
   ]
  },
  {
   "cell_type": "code",
   "execution_count": 2,
   "metadata": {},
   "outputs": [
    {
     "name": "stdout",
     "output_type": "stream",
     "text": [
      "Vector(4, 6)\n",
      "Vector(2, 2)\n",
      "Vector(3, 8)\n",
      "False\n",
      "True\n"
     ]
    }
   ],
   "source": [
    "class Vector:\n",
    "    def __init__(self, x, y):\n",
    "        self.x = x\n",
    "        self.y = y\n",
    "\n",
    "    def __add__(self, other):\n",
    "        return Vector(self.x + other.x, self.y + other.y)\n",
    "    \n",
    "    def __sub__(self, other):\n",
    "        return Vector(self.x - other.x, self.y - other.y)\n",
    "    \n",
    "    def __mul__(self, other):\n",
    "        return Vector(self.x * other.x, self.y * other.y)\n",
    "    \n",
    "    def __eq__(self, other):\n",
    "        return self.x == other.x and self.y == other.y\n",
    "    \n",
    "    def __repr__(self):\n",
    "        return f'Vector({self.x}, {self.y})'\n",
    "    \n",
    "v1 = Vector(3,4)\n",
    "v2 = Vector(1,2)\n",
    "\n",
    "print(v1 + v2)\n",
    "print(v1 - v2)\n",
    "print(v1 * v2)\n",
    "\n",
    "print(v1 == v2)\n",
    "\n",
    "v3 = Vector(1,3)\n",
    "v4 = Vector(1,3)\n",
    "print(v3 == v4)"
   ]
  },
  {
   "cell_type": "code",
   "execution_count": 8,
   "metadata": {},
   "outputs": [
    {
     "name": "stdout",
     "output_type": "stream",
     "text": [
      "5+2i\n",
      "21+1i\n",
      "0.8235294117647058-0.29411764705882354i\n",
      "False\n",
      "True\n"
     ]
    }
   ],
   "source": [
    "## Example 2 - Complex Numbers\n",
    "\n",
    "class Complex:\n",
    "    def __init__(num1, real, imgnry):\n",
    "        num1.real = real\n",
    "        num1.imgnry = imgnry\n",
    "\n",
    "    def __add__(num1, num2):\n",
    "        return Complex(num1.real + num2.real, num1.imgnry + num2.imgnry)\n",
    "    \n",
    "    def __sub__(num1, num2):\n",
    "        return Complex(num1.real - num2.real, num1.imgnry - num2.imgnry)\n",
    "    \n",
    "    def __mul__(num1, num2):\n",
    "        tmp_real = num1.real * num2.real - num2.imgnry * num1.imgnry\n",
    "        tmp_imgnry = num1.real * num2.imgnry + num2.real * num1.imgnry\n",
    "        return Complex(tmp_real, tmp_imgnry)\n",
    "    \n",
    "    def __truediv__(num1, num2):\n",
    "        denominator = num2.real ** 2 + num2.imgnry ** 2\n",
    "        tmp_real = (num1.real * num2.real + num2.imgnry * num1.imgnry) / denominator\n",
    "        tmp_imgnry = (num1.imgnry * num2.real - num1.real * num2.imgnry) / denominator\n",
    "        return Complex(tmp_real, tmp_imgnry)\n",
    "    \n",
    "    def __eq__(num1, num2):\n",
    "        return num1.real == num2.real and num2.imgnry == num1.imgnry\n",
    "    \n",
    "    def __repr__(num1):\n",
    "        if num1.imgnry > 0:\n",
    "            return f'{num1.real}+{num1.imgnry}i'\n",
    "        else:\n",
    "            return f'{num1.real}-{abs(num1.imgnry)}i'\n",
    "    \n",
    "\n",
    "c1 = Complex(3,5)\n",
    "c2 = Complex(2,-3)\n",
    "print(c1 + c2)\n",
    "\n",
    "c3 = Complex(3,5)\n",
    "c4 = Complex(2,-3)\n",
    "print(c3 * c4)\n",
    "\n",
    "c5 = Complex(2,3)\n",
    "c6 = Complex(1,4)\n",
    "print(c5 / c6)\n",
    "\n",
    "c7 = Complex(2,3)\n",
    "c8 = Complex(1,4)\n",
    "print(c7 == c8)\n",
    "\n",
    "\n",
    "c9 = Complex(1,4)\n",
    "c10 = Complex(1,4)\n",
    "print(c9 == c10)"
   ]
  },
  {
   "cell_type": "code",
   "execution_count": null,
   "metadata": {},
   "outputs": [],
   "source": []
  }
 ],
 "metadata": {
  "kernelspec": {
   "display_name": "Python 3",
   "language": "python",
   "name": "python3"
  },
  "language_info": {
   "codemirror_mode": {
    "name": "ipython",
    "version": 3
   },
   "file_extension": ".py",
   "mimetype": "text/x-python",
   "name": "python",
   "nbconvert_exporter": "python",
   "pygments_lexer": "ipython3",
   "version": "3.12.0"
  }
 },
 "nbformat": 4,
 "nbformat_minor": 2
}
