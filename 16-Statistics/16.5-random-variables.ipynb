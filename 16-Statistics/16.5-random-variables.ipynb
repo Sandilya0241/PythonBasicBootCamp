{
 "cells": [
  {
   "cell_type": "markdown",
   "metadata": {},
   "source": [
    "### **RANDOM VARIABLE (Notation X)** \n",
    "\n",
    "* It is a function whose values are derived from different `Processes` or `Experiments`.\n",
    "\n",
    "* Experiment1: Tossing a coin: Outcome could be either Heads/ Tails. If we assign `0` when it is `Head` and `1` when it is `Tail` using a function or experiment.\n",
    "\n",
    "* Experiment2 : Rolling a fair dice: 6 outcomes."
   ]
  },
  {
   "cell_type": "markdown",
   "metadata": {},
   "source": [
    "#### **TYPES OF RANDOM VARIABLE**\n",
    "\n",
    "- **DISCRETE RANDOM VARIABLE** : \n",
    "\n",
    "    - Examples: \n",
    "    \n",
    "        1.) Rolling a fair dice\n",
    "        \n",
    "        2.) Tossing a coin\n",
    "\n",
    "- **CONTINUOUS RANDOM VARIABLE** : \n",
    "\n",
    "    - Example : How much of rain fall is going to happen tomorrow? It can be 10.8, 6.2,..\n"
   ]
  },
  {
   "cell_type": "markdown",
   "metadata": {},
   "source": []
  }
 ],
 "metadata": {
  "language_info": {
   "name": "python"
  }
 },
 "nbformat": 4,
 "nbformat_minor": 2
}
