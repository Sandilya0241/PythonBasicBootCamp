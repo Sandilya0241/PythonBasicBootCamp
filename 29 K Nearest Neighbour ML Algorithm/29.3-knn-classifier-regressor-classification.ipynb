{
 "cells": [
  {
   "cell_type": "markdown",
   "metadata": {},
   "source": [
    "### **K Nearest Neighbour CLassifier**"
   ]
  },
  {
   "cell_type": "code",
   "execution_count": 1,
   "metadata": {},
   "outputs": [],
   "source": [
    "import numpy as np\n",
    "import seaborn as sb\n",
    "import pandas as pd\n",
    "from matplotlib import pyplot as plt\n",
    "%matplotlib inline\n"
   ]
  },
  {
   "cell_type": "code",
   "execution_count": 2,
   "metadata": {},
   "outputs": [],
   "source": [
    "from sklearn.datasets import make_classification\n",
    "\n",
    "X,y = make_classification(\n",
    "    n_samples=1000,\n",
    "    n_features=3,\n",
    "    n_redundant=1,\n",
    "    n_classes=2,\n",
    "    random_state=999\n",
    ")"
   ]
  },
  {
   "cell_type": "code",
   "execution_count": 4,
   "metadata": {},
   "outputs": [
    {
     "data": {
      "text/plain": [
       "array([[-0.33504974,  0.02852654,  1.16193084],\n",
       "       [-1.37746253, -0.4058213 ,  0.44359618],\n",
       "       [-1.04520026, -0.72334759, -3.10470423],\n",
       "       ...,\n",
       "       [-0.75602574, -0.51816111, -2.20382324],\n",
       "       [ 0.56066316, -0.07335845, -2.15660348],\n",
       "       [-1.87521902, -1.11380394, -4.04620773]], shape=(1000, 3))"
      ]
     },
     "execution_count": 4,
     "metadata": {},
     "output_type": "execute_result"
    }
   ],
   "source": [
    "X"
   ]
  },
  {
   "cell_type": "code",
   "execution_count": 3,
   "metadata": {},
   "outputs": [],
   "source": [
    "from sklearn.model_selection import train_test_split\n",
    "\n",
    "X_train,X_test,y_train,y_test=train_test_split(X,y,test_size=0.3,random_state=42)"
   ]
  },
  {
   "cell_type": "code",
   "execution_count": 4,
   "metadata": {},
   "outputs": [],
   "source": [
    "from sklearn.neighbors import KNeighborsClassifier\n",
    "\n",
    "classifier=KNeighborsClassifier(n_neighbors=5,algorithm='auto')\n",
    "classifier.fit(X_train,y_train)\n",
    "y_pred=classifier.predict(X_test)"
   ]
  },
  {
   "cell_type": "code",
   "execution_count": 6,
   "metadata": {},
   "outputs": [
    {
     "name": "stdout",
     "output_type": "stream",
     "text": [
      "Accuracy Score is\n",
      "0.9066666666666666\n",
      "Classification Report is\n",
      "              precision    recall  f1-score   support\n",
      "\n",
      "           0       0.94      0.89      0.91       162\n",
      "           1       0.88      0.93      0.90       138\n",
      "\n",
      "    accuracy                           0.91       300\n",
      "   macro avg       0.91      0.91      0.91       300\n",
      "weighted avg       0.91      0.91      0.91       300\n",
      "\n",
      "Confusion Matrix is\n",
      "[[144  18]\n",
      " [ 10 128]]\n"
     ]
    }
   ],
   "source": [
    "def print_metrics(y_pred, y_true):\n",
    "    from sklearn.metrics import accuracy_score,classification_report,confusion_matrix\n",
    "    print(\"Accuracy Score is\")\n",
    "    print(accuracy_score(y_pred,y_true))\n",
    "    print(\"Classification Report is\")\n",
    "    print(classification_report(y_pred,y_true))\n",
    "    print(\"Confusion Matrix is\")\n",
    "    print(confusion_matrix(y_pred,y_true))\n",
    "\n",
    "print_metrics(y_pred,y_test)"
   ]
  },
  {
   "cell_type": "code",
   "execution_count": 8,
   "metadata": {},
   "outputs": [
    {
     "name": "stdout",
     "output_type": "stream",
     "text": [
      "Accuracy Score is\n",
      "0.9133333333333333\n",
      "Classification Report is\n",
      "              precision    recall  f1-score   support\n",
      "\n",
      "           0       0.93      0.91      0.92       158\n",
      "           1       0.90      0.92      0.91       142\n",
      "\n",
      "    accuracy                           0.91       300\n",
      "   macro avg       0.91      0.91      0.91       300\n",
      "weighted avg       0.91      0.91      0.91       300\n",
      "\n",
      "Confusion Matrix is\n",
      "[[143  15]\n",
      " [ 11 131]]\n",
      "{'algorithm': 'auto', 'n_neighbors': 9, 'p': 1}\n"
     ]
    }
   ],
   "source": [
    "### Task - GridSearchCV\n",
    "def print_metrics(y_pred, y_true):\n",
    "    from sklearn.metrics import accuracy_score,classification_report,confusion_matrix\n",
    "    print(\"Accuracy Score is\")\n",
    "    print(accuracy_score(y_pred,y_true))\n",
    "    print(\"Classification Report is\")\n",
    "    print(classification_report(y_pred,y_true))\n",
    "    print(\"Confusion Matrix is\")\n",
    "    print(confusion_matrix(y_pred,y_true))\n",
    "\n",
    "\n",
    "from sklearn.model_selection import GridSearchCV\n",
    "\n",
    "param_grid={\"n_neighbors\":[1,2,3,4,5,6,7,8,9],\"algorithm\":[\"auto\"],\"p\":[1,2]}\n",
    "\n",
    "knn = GridSearchCV(KNeighborsClassifier(),param_grid=param_grid,refit=True,cv=5)\n",
    "\n",
    "knn.fit(X_train,y_train)\n",
    "y_pred_knn=knn.predict(X_test)\n",
    "print_metrics(y_pred_knn,y_test)\n",
    "print(knn.best_params_)\n"
   ]
  },
  {
   "cell_type": "code",
   "execution_count": null,
   "metadata": {},
   "outputs": [],
   "source": []
  }
 ],
 "metadata": {
  "kernelspec": {
   "display_name": "Python 3",
   "language": "python",
   "name": "python3"
  },
  "language_info": {
   "codemirror_mode": {
    "name": "ipython",
    "version": 3
   },
   "file_extension": ".py",
   "mimetype": "text/x-python",
   "name": "python",
   "nbconvert_exporter": "python",
   "pygments_lexer": "ipython3",
   "version": "3.12.8"
  }
 },
 "nbformat": 4,
 "nbformat_minor": 2
}
