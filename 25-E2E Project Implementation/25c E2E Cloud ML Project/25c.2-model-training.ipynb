{
 "cells": [
  {
   "cell_type": "code",
   "execution_count": 2,
   "metadata": {},
   "outputs": [],
   "source": [
    "import pandas as pd\n",
    "import numpy as np\n",
    "from matplotlib import pyplot as plt\n",
    "import seaborn as sb\n",
    "\n",
    "%matplotlib inline"
   ]
  },
  {
   "cell_type": "code",
   "execution_count": 3,
   "metadata": {},
   "outputs": [
    {
     "data": {
      "text/html": [
       "<div>\n",
       "<style scoped>\n",
       "    .dataframe tbody tr th:only-of-type {\n",
       "        vertical-align: middle;\n",
       "    }\n",
       "\n",
       "    .dataframe tbody tr th {\n",
       "        vertical-align: top;\n",
       "    }\n",
       "\n",
       "    .dataframe thead th {\n",
       "        text-align: right;\n",
       "    }\n",
       "</style>\n",
       "<table border=\"1\" class=\"dataframe\">\n",
       "  <thead>\n",
       "    <tr style=\"text-align: right;\">\n",
       "      <th></th>\n",
       "      <th>day</th>\n",
       "      <th>month</th>\n",
       "      <th>year</th>\n",
       "      <th>Temperature</th>\n",
       "      <th>RH</th>\n",
       "      <th>Ws</th>\n",
       "      <th>Rain</th>\n",
       "      <th>FFMC</th>\n",
       "      <th>DMC</th>\n",
       "      <th>DC</th>\n",
       "      <th>ISI</th>\n",
       "      <th>BUI</th>\n",
       "      <th>FWI</th>\n",
       "      <th>Classes</th>\n",
       "      <th>Region</th>\n",
       "    </tr>\n",
       "  </thead>\n",
       "  <tbody>\n",
       "    <tr>\n",
       "      <th>0</th>\n",
       "      <td>1</td>\n",
       "      <td>6</td>\n",
       "      <td>2012</td>\n",
       "      <td>29</td>\n",
       "      <td>57</td>\n",
       "      <td>18</td>\n",
       "      <td>0.0</td>\n",
       "      <td>65.7</td>\n",
       "      <td>3.4</td>\n",
       "      <td>7.6</td>\n",
       "      <td>1.3</td>\n",
       "      <td>3.4</td>\n",
       "      <td>0.5</td>\n",
       "      <td>not fire</td>\n",
       "      <td>0</td>\n",
       "    </tr>\n",
       "    <tr>\n",
       "      <th>1</th>\n",
       "      <td>2</td>\n",
       "      <td>6</td>\n",
       "      <td>2012</td>\n",
       "      <td>29</td>\n",
       "      <td>61</td>\n",
       "      <td>13</td>\n",
       "      <td>1.3</td>\n",
       "      <td>64.4</td>\n",
       "      <td>4.1</td>\n",
       "      <td>7.6</td>\n",
       "      <td>1.0</td>\n",
       "      <td>3.9</td>\n",
       "      <td>0.4</td>\n",
       "      <td>not fire</td>\n",
       "      <td>0</td>\n",
       "    </tr>\n",
       "    <tr>\n",
       "      <th>2</th>\n",
       "      <td>3</td>\n",
       "      <td>6</td>\n",
       "      <td>2012</td>\n",
       "      <td>26</td>\n",
       "      <td>82</td>\n",
       "      <td>22</td>\n",
       "      <td>13.1</td>\n",
       "      <td>47.1</td>\n",
       "      <td>2.5</td>\n",
       "      <td>7.1</td>\n",
       "      <td>0.3</td>\n",
       "      <td>2.7</td>\n",
       "      <td>0.1</td>\n",
       "      <td>not fire</td>\n",
       "      <td>0</td>\n",
       "    </tr>\n",
       "    <tr>\n",
       "      <th>3</th>\n",
       "      <td>4</td>\n",
       "      <td>6</td>\n",
       "      <td>2012</td>\n",
       "      <td>25</td>\n",
       "      <td>89</td>\n",
       "      <td>13</td>\n",
       "      <td>2.5</td>\n",
       "      <td>28.6</td>\n",
       "      <td>1.3</td>\n",
       "      <td>6.9</td>\n",
       "      <td>0.0</td>\n",
       "      <td>1.7</td>\n",
       "      <td>0.0</td>\n",
       "      <td>not fire</td>\n",
       "      <td>0</td>\n",
       "    </tr>\n",
       "    <tr>\n",
       "      <th>4</th>\n",
       "      <td>5</td>\n",
       "      <td>6</td>\n",
       "      <td>2012</td>\n",
       "      <td>27</td>\n",
       "      <td>77</td>\n",
       "      <td>16</td>\n",
       "      <td>0.0</td>\n",
       "      <td>64.8</td>\n",
       "      <td>3.0</td>\n",
       "      <td>14.2</td>\n",
       "      <td>1.2</td>\n",
       "      <td>3.9</td>\n",
       "      <td>0.5</td>\n",
       "      <td>not fire</td>\n",
       "      <td>0</td>\n",
       "    </tr>\n",
       "  </tbody>\n",
       "</table>\n",
       "</div>"
      ],
      "text/plain": [
       "   day  month  year  Temperature  RH  Ws  Rain  FFMC  DMC    DC  ISI  BUI  \\\n",
       "0    1      6  2012           29  57  18   0.0  65.7  3.4   7.6  1.3  3.4   \n",
       "1    2      6  2012           29  61  13   1.3  64.4  4.1   7.6  1.0  3.9   \n",
       "2    3      6  2012           26  82  22  13.1  47.1  2.5   7.1  0.3  2.7   \n",
       "3    4      6  2012           25  89  13   2.5  28.6  1.3   6.9  0.0  1.7   \n",
       "4    5      6  2012           27  77  16   0.0  64.8  3.0  14.2  1.2  3.9   \n",
       "\n",
       "   FWI      Classes  Region  \n",
       "0  0.5  not fire          0  \n",
       "1  0.4  not fire          0  \n",
       "2  0.1  not fire          0  \n",
       "3  0.0  not fire          0  \n",
       "4  0.5  not fire          0  "
      ]
     },
     "execution_count": 3,
     "metadata": {},
     "output_type": "execute_result"
    }
   ],
   "source": [
    "df=pd.read_csv(\"Algerian_forest_fires_dataset_cleaned.csv\")\n",
    "df.head()"
   ]
  },
  {
   "cell_type": "markdown",
   "metadata": {},
   "source": [
    "## **Drop month, day, year**"
   ]
  },
  {
   "cell_type": "code",
   "execution_count": 4,
   "metadata": {},
   "outputs": [],
   "source": [
    "df.drop(columns=['month','day','year'],axis=1,inplace=True)"
   ]
  },
  {
   "cell_type": "code",
   "execution_count": 4,
   "metadata": {},
   "outputs": [
    {
     "data": {
      "text/plain": [
       "Classes\n",
       "fire             131\n",
       "not fire         101\n",
       "fire               4\n",
       "fire               2\n",
       "not fire           2\n",
       "not fire           1\n",
       "not fire           1\n",
       "not fire           1\n",
       "Name: count, dtype: int64"
      ]
     },
     "execution_count": 4,
     "metadata": {},
     "output_type": "execute_result"
    }
   ],
   "source": [
    "df['Classes'].value_counts()"
   ]
  },
  {
   "cell_type": "code",
   "execution_count": 5,
   "metadata": {},
   "outputs": [],
   "source": [
    "df['Classes']=np.where(df['Classes'].str.contains('not fire'),0,1)\n"
   ]
  },
  {
   "cell_type": "code",
   "execution_count": 6,
   "metadata": {},
   "outputs": [
    {
     "data": {
      "text/plain": [
       "Classes\n",
       "1    137\n",
       "0    106\n",
       "Name: count, dtype: int64"
      ]
     },
     "execution_count": 6,
     "metadata": {},
     "output_type": "execute_result"
    }
   ],
   "source": [
    "df['Classes'].value_counts()"
   ]
  },
  {
   "cell_type": "markdown",
   "metadata": {},
   "source": [
    "## **Independent and Dependent Features**"
   ]
  },
  {
   "cell_type": "code",
   "execution_count": 7,
   "metadata": {},
   "outputs": [],
   "source": [
    "\n",
    "X=df.drop('FWI',axis=1)\n",
    "Y=df['FWI']"
   ]
  },
  {
   "cell_type": "code",
   "execution_count": 8,
   "metadata": {},
   "outputs": [
    {
     "data": {
      "text/html": [
       "<div>\n",
       "<style scoped>\n",
       "    .dataframe tbody tr th:only-of-type {\n",
       "        vertical-align: middle;\n",
       "    }\n",
       "\n",
       "    .dataframe tbody tr th {\n",
       "        vertical-align: top;\n",
       "    }\n",
       "\n",
       "    .dataframe thead th {\n",
       "        text-align: right;\n",
       "    }\n",
       "</style>\n",
       "<table border=\"1\" class=\"dataframe\">\n",
       "  <thead>\n",
       "    <tr style=\"text-align: right;\">\n",
       "      <th></th>\n",
       "      <th>Temperature</th>\n",
       "      <th>RH</th>\n",
       "      <th>Ws</th>\n",
       "      <th>Rain</th>\n",
       "      <th>FFMC</th>\n",
       "      <th>DMC</th>\n",
       "      <th>DC</th>\n",
       "      <th>ISI</th>\n",
       "      <th>BUI</th>\n",
       "      <th>Classes</th>\n",
       "      <th>Region</th>\n",
       "    </tr>\n",
       "  </thead>\n",
       "  <tbody>\n",
       "    <tr>\n",
       "      <th>0</th>\n",
       "      <td>29</td>\n",
       "      <td>57</td>\n",
       "      <td>18</td>\n",
       "      <td>0.0</td>\n",
       "      <td>65.7</td>\n",
       "      <td>3.4</td>\n",
       "      <td>7.6</td>\n",
       "      <td>1.3</td>\n",
       "      <td>3.4</td>\n",
       "      <td>0</td>\n",
       "      <td>0</td>\n",
       "    </tr>\n",
       "    <tr>\n",
       "      <th>1</th>\n",
       "      <td>29</td>\n",
       "      <td>61</td>\n",
       "      <td>13</td>\n",
       "      <td>1.3</td>\n",
       "      <td>64.4</td>\n",
       "      <td>4.1</td>\n",
       "      <td>7.6</td>\n",
       "      <td>1.0</td>\n",
       "      <td>3.9</td>\n",
       "      <td>0</td>\n",
       "      <td>0</td>\n",
       "    </tr>\n",
       "    <tr>\n",
       "      <th>2</th>\n",
       "      <td>26</td>\n",
       "      <td>82</td>\n",
       "      <td>22</td>\n",
       "      <td>13.1</td>\n",
       "      <td>47.1</td>\n",
       "      <td>2.5</td>\n",
       "      <td>7.1</td>\n",
       "      <td>0.3</td>\n",
       "      <td>2.7</td>\n",
       "      <td>0</td>\n",
       "      <td>0</td>\n",
       "    </tr>\n",
       "    <tr>\n",
       "      <th>3</th>\n",
       "      <td>25</td>\n",
       "      <td>89</td>\n",
       "      <td>13</td>\n",
       "      <td>2.5</td>\n",
       "      <td>28.6</td>\n",
       "      <td>1.3</td>\n",
       "      <td>6.9</td>\n",
       "      <td>0.0</td>\n",
       "      <td>1.7</td>\n",
       "      <td>0</td>\n",
       "      <td>0</td>\n",
       "    </tr>\n",
       "    <tr>\n",
       "      <th>4</th>\n",
       "      <td>27</td>\n",
       "      <td>77</td>\n",
       "      <td>16</td>\n",
       "      <td>0.0</td>\n",
       "      <td>64.8</td>\n",
       "      <td>3.0</td>\n",
       "      <td>14.2</td>\n",
       "      <td>1.2</td>\n",
       "      <td>3.9</td>\n",
       "      <td>0</td>\n",
       "      <td>0</td>\n",
       "    </tr>\n",
       "  </tbody>\n",
       "</table>\n",
       "</div>"
      ],
      "text/plain": [
       "   Temperature  RH  Ws  Rain  FFMC  DMC    DC  ISI  BUI  Classes  Region\n",
       "0           29  57  18   0.0  65.7  3.4   7.6  1.3  3.4        0       0\n",
       "1           29  61  13   1.3  64.4  4.1   7.6  1.0  3.9        0       0\n",
       "2           26  82  22  13.1  47.1  2.5   7.1  0.3  2.7        0       0\n",
       "3           25  89  13   2.5  28.6  1.3   6.9  0.0  1.7        0       0\n",
       "4           27  77  16   0.0  64.8  3.0  14.2  1.2  3.9        0       0"
      ]
     },
     "execution_count": 8,
     "metadata": {},
     "output_type": "execute_result"
    }
   ],
   "source": [
    "X.head()"
   ]
  },
  {
   "cell_type": "code",
   "execution_count": 9,
   "metadata": {},
   "outputs": [
    {
     "data": {
      "text/plain": [
       "0    29\n",
       "1    29\n",
       "2    26\n",
       "3    25\n",
       "4    27\n",
       "Name: Temperature, dtype: int64"
      ]
     },
     "execution_count": 9,
     "metadata": {},
     "output_type": "execute_result"
    }
   ],
   "source": [
    "Y.head()"
   ]
  },
  {
   "cell_type": "markdown",
   "metadata": {},
   "source": [
    "## **Train Test Split**"
   ]
  },
  {
   "cell_type": "code",
   "execution_count": 9,
   "metadata": {},
   "outputs": [],
   "source": [
    "\n",
    "from sklearn.model_selection import train_test_split\n",
    "x_train,x_test,y_train,y_test=train_test_split(X,Y,test_size=0.25,random_state=42)"
   ]
  },
  {
   "cell_type": "markdown",
   "metadata": {},
   "source": [
    "## **Feature Selection Based on Correlation**"
   ]
  },
  {
   "cell_type": "code",
   "execution_count": 10,
   "metadata": {},
   "outputs": [
    {
     "data": {
      "text/html": [
       "<div>\n",
       "<style scoped>\n",
       "    .dataframe tbody tr th:only-of-type {\n",
       "        vertical-align: middle;\n",
       "    }\n",
       "\n",
       "    .dataframe tbody tr th {\n",
       "        vertical-align: top;\n",
       "    }\n",
       "\n",
       "    .dataframe thead th {\n",
       "        text-align: right;\n",
       "    }\n",
       "</style>\n",
       "<table border=\"1\" class=\"dataframe\">\n",
       "  <thead>\n",
       "    <tr style=\"text-align: right;\">\n",
       "      <th></th>\n",
       "      <th>Temperature</th>\n",
       "      <th>RH</th>\n",
       "      <th>Ws</th>\n",
       "      <th>Rain</th>\n",
       "      <th>FFMC</th>\n",
       "      <th>DMC</th>\n",
       "      <th>DC</th>\n",
       "      <th>ISI</th>\n",
       "      <th>BUI</th>\n",
       "      <th>Classes</th>\n",
       "      <th>Region</th>\n",
       "    </tr>\n",
       "  </thead>\n",
       "  <tbody>\n",
       "    <tr>\n",
       "      <th>Temperature</th>\n",
       "      <td>1.000000</td>\n",
       "      <td>-0.656095</td>\n",
       "      <td>-0.305977</td>\n",
       "      <td>-0.317512</td>\n",
       "      <td>0.694768</td>\n",
       "      <td>0.498173</td>\n",
       "      <td>0.390684</td>\n",
       "      <td>0.629848</td>\n",
       "      <td>0.473609</td>\n",
       "      <td>0.542141</td>\n",
       "      <td>0.254549</td>\n",
       "    </tr>\n",
       "    <tr>\n",
       "      <th>RH</th>\n",
       "      <td>-0.656095</td>\n",
       "      <td>1.000000</td>\n",
       "      <td>0.225736</td>\n",
       "      <td>0.241656</td>\n",
       "      <td>-0.653023</td>\n",
       "      <td>-0.414601</td>\n",
       "      <td>-0.236078</td>\n",
       "      <td>-0.717804</td>\n",
       "      <td>-0.362317</td>\n",
       "      <td>-0.456876</td>\n",
       "      <td>-0.394665</td>\n",
       "    </tr>\n",
       "    <tr>\n",
       "      <th>Ws</th>\n",
       "      <td>-0.305977</td>\n",
       "      <td>0.225736</td>\n",
       "      <td>1.000000</td>\n",
       "      <td>0.251932</td>\n",
       "      <td>-0.190076</td>\n",
       "      <td>0.000379</td>\n",
       "      <td>0.096576</td>\n",
       "      <td>-0.023558</td>\n",
       "      <td>0.035633</td>\n",
       "      <td>-0.082570</td>\n",
       "      <td>-0.199969</td>\n",
       "    </tr>\n",
       "    <tr>\n",
       "      <th>Rain</th>\n",
       "      <td>-0.317512</td>\n",
       "      <td>0.241656</td>\n",
       "      <td>0.251932</td>\n",
       "      <td>1.000000</td>\n",
       "      <td>-0.545491</td>\n",
       "      <td>-0.289754</td>\n",
       "      <td>-0.302341</td>\n",
       "      <td>-0.345707</td>\n",
       "      <td>-0.300964</td>\n",
       "      <td>-0.369357</td>\n",
       "      <td>-0.059022</td>\n",
       "    </tr>\n",
       "    <tr>\n",
       "      <th>FFMC</th>\n",
       "      <td>0.694768</td>\n",
       "      <td>-0.653023</td>\n",
       "      <td>-0.190076</td>\n",
       "      <td>-0.545491</td>\n",
       "      <td>1.000000</td>\n",
       "      <td>0.620807</td>\n",
       "      <td>0.524101</td>\n",
       "      <td>0.750799</td>\n",
       "      <td>0.607210</td>\n",
       "      <td>0.781259</td>\n",
       "      <td>0.249514</td>\n",
       "    </tr>\n",
       "    <tr>\n",
       "      <th>DMC</th>\n",
       "      <td>0.498173</td>\n",
       "      <td>-0.414601</td>\n",
       "      <td>0.000379</td>\n",
       "      <td>-0.289754</td>\n",
       "      <td>0.620807</td>\n",
       "      <td>1.000000</td>\n",
       "      <td>0.868647</td>\n",
       "      <td>0.685656</td>\n",
       "      <td>0.983175</td>\n",
       "      <td>0.617273</td>\n",
       "      <td>0.212582</td>\n",
       "    </tr>\n",
       "    <tr>\n",
       "      <th>DC</th>\n",
       "      <td>0.390684</td>\n",
       "      <td>-0.236078</td>\n",
       "      <td>0.096576</td>\n",
       "      <td>-0.302341</td>\n",
       "      <td>0.524101</td>\n",
       "      <td>0.868647</td>\n",
       "      <td>1.000000</td>\n",
       "      <td>0.513701</td>\n",
       "      <td>0.942414</td>\n",
       "      <td>0.543581</td>\n",
       "      <td>-0.060838</td>\n",
       "    </tr>\n",
       "    <tr>\n",
       "      <th>ISI</th>\n",
       "      <td>0.629848</td>\n",
       "      <td>-0.717804</td>\n",
       "      <td>-0.023558</td>\n",
       "      <td>-0.345707</td>\n",
       "      <td>0.750799</td>\n",
       "      <td>0.685656</td>\n",
       "      <td>0.513701</td>\n",
       "      <td>1.000000</td>\n",
       "      <td>0.643818</td>\n",
       "      <td>0.742977</td>\n",
       "      <td>0.296441</td>\n",
       "    </tr>\n",
       "    <tr>\n",
       "      <th>BUI</th>\n",
       "      <td>0.473609</td>\n",
       "      <td>-0.362317</td>\n",
       "      <td>0.035633</td>\n",
       "      <td>-0.300964</td>\n",
       "      <td>0.607210</td>\n",
       "      <td>0.983175</td>\n",
       "      <td>0.942414</td>\n",
       "      <td>0.643818</td>\n",
       "      <td>1.000000</td>\n",
       "      <td>0.612239</td>\n",
       "      <td>0.114897</td>\n",
       "    </tr>\n",
       "    <tr>\n",
       "      <th>Classes</th>\n",
       "      <td>0.542141</td>\n",
       "      <td>-0.456876</td>\n",
       "      <td>-0.082570</td>\n",
       "      <td>-0.369357</td>\n",
       "      <td>0.781259</td>\n",
       "      <td>0.617273</td>\n",
       "      <td>0.543581</td>\n",
       "      <td>0.742977</td>\n",
       "      <td>0.612239</td>\n",
       "      <td>1.000000</td>\n",
       "      <td>0.188837</td>\n",
       "    </tr>\n",
       "    <tr>\n",
       "      <th>Region</th>\n",
       "      <td>0.254549</td>\n",
       "      <td>-0.394665</td>\n",
       "      <td>-0.199969</td>\n",
       "      <td>-0.059022</td>\n",
       "      <td>0.249514</td>\n",
       "      <td>0.212582</td>\n",
       "      <td>-0.060838</td>\n",
       "      <td>0.296441</td>\n",
       "      <td>0.114897</td>\n",
       "      <td>0.188837</td>\n",
       "      <td>1.000000</td>\n",
       "    </tr>\n",
       "  </tbody>\n",
       "</table>\n",
       "</div>"
      ],
      "text/plain": [
       "             Temperature        RH        Ws      Rain      FFMC       DMC  \\\n",
       "Temperature     1.000000 -0.656095 -0.305977 -0.317512  0.694768  0.498173   \n",
       "RH             -0.656095  1.000000  0.225736  0.241656 -0.653023 -0.414601   \n",
       "Ws             -0.305977  0.225736  1.000000  0.251932 -0.190076  0.000379   \n",
       "Rain           -0.317512  0.241656  0.251932  1.000000 -0.545491 -0.289754   \n",
       "FFMC            0.694768 -0.653023 -0.190076 -0.545491  1.000000  0.620807   \n",
       "DMC             0.498173 -0.414601  0.000379 -0.289754  0.620807  1.000000   \n",
       "DC              0.390684 -0.236078  0.096576 -0.302341  0.524101  0.868647   \n",
       "ISI             0.629848 -0.717804 -0.023558 -0.345707  0.750799  0.685656   \n",
       "BUI             0.473609 -0.362317  0.035633 -0.300964  0.607210  0.983175   \n",
       "Classes         0.542141 -0.456876 -0.082570 -0.369357  0.781259  0.617273   \n",
       "Region          0.254549 -0.394665 -0.199969 -0.059022  0.249514  0.212582   \n",
       "\n",
       "                   DC       ISI       BUI   Classes    Region  \n",
       "Temperature  0.390684  0.629848  0.473609  0.542141  0.254549  \n",
       "RH          -0.236078 -0.717804 -0.362317 -0.456876 -0.394665  \n",
       "Ws           0.096576 -0.023558  0.035633 -0.082570 -0.199969  \n",
       "Rain        -0.302341 -0.345707 -0.300964 -0.369357 -0.059022  \n",
       "FFMC         0.524101  0.750799  0.607210  0.781259  0.249514  \n",
       "DMC          0.868647  0.685656  0.983175  0.617273  0.212582  \n",
       "DC           1.000000  0.513701  0.942414  0.543581 -0.060838  \n",
       "ISI          0.513701  1.000000  0.643818  0.742977  0.296441  \n",
       "BUI          0.942414  0.643818  1.000000  0.612239  0.114897  \n",
       "Classes      0.543581  0.742977  0.612239  1.000000  0.188837  \n",
       "Region      -0.060838  0.296441  0.114897  0.188837  1.000000  "
      ]
     },
     "execution_count": 10,
     "metadata": {},
     "output_type": "execute_result"
    }
   ],
   "source": [
    "x_train.corr()"
   ]
  },
  {
   "cell_type": "code",
   "execution_count": 11,
   "metadata": {},
   "outputs": [
    {
     "data": {
      "text/plain": [
       "<Axes: >"
      ]
     },
     "execution_count": 11,
     "metadata": {},
     "output_type": "execute_result"
    },
    {
     "data": {
      "image/png": "[encoded data removed]",
      "text/plain": [
       "<Figure size 640x480 with 2 Axes>"
      ]
     },
     "metadata": {},
     "output_type": "display_data"
    }
   ],
   "source": [
    "sb.heatmap(x_train.corr())"
   ]
  },
  {
   "cell_type": "markdown",
   "metadata": {},
   "source": [
    "## **To find multicollinearity with a threshold - Ideally, it will be set by Domain Expertise**"
   ]
  },
  {
   "cell_type": "code",
   "execution_count": 14,
   "metadata": {},
   "outputs": [],
   "source": [
    "def correlation_check(dataset, threshold):\n",
    "    col_corr = set()\n",
    "    corr_matrix = dataset.corr()\n",
    "    for i in range(len(corr_matrix.columns)):\n",
    "        for j in range(i):\n",
    "            if abs(corr_matrix.iloc[i,j])>threshold:\n",
    "                col_name=corr_matrix.columns[i]\n",
    "                col_corr.add(col_name)\n",
    "    return col_corr"
   ]
  },
  {
   "cell_type": "code",
   "execution_count": 15,
   "metadata": {},
   "outputs": [],
   "source": [
    "corr_features=correlation_check(dataset=x_train, threshold=0.85)"
   ]
  },
  {
   "cell_type": "code",
   "execution_count": 16,
   "metadata": {},
   "outputs": [
    {
     "data": {
      "text/plain": [
       "{'BUI', 'DC'}"
      ]
     },
     "execution_count": 16,
     "metadata": {},
     "output_type": "execute_result"
    }
   ],
   "source": [
    "corr_features"
   ]
  },
  {
   "cell_type": "markdown",
   "metadata": {},
   "source": [
    "## **Drop features when correlation is more that 0.85**"
   ]
  },
  {
   "cell_type": "code",
   "execution_count": 17,
   "metadata": {},
   "outputs": [],
   "source": [
    "\n",
    "x_train.drop(corr_features,axis=1,inplace=True)\n",
    "x_test.drop(corr_features,axis=1,inplace=True)"
   ]
  },
  {
   "cell_type": "code",
   "execution_count": 18,
   "metadata": {},
   "outputs": [
    {
     "data": {
      "text/plain": [
       "((182, 9), (61, 9))"
      ]
     },
     "execution_count": 18,
     "metadata": {},
     "output_type": "execute_result"
    }
   ],
   "source": [
    "x_train.shape,x_test.shape"
   ]
  },
  {
   "cell_type": "markdown",
   "metadata": {},
   "source": [
    "## **Feature Scaling or Standardization**"
   ]
  },
  {
   "cell_type": "code",
   "execution_count": 20,
   "metadata": {},
   "outputs": [],
   "source": [
    "from sklearn.preprocessing import StandardScaler\n",
    "\n",
    "scaler = StandardScaler()\n",
    "x_train_scaled=scaler.fit_transform(x_train)\n",
    "x_test_scaled=scaler.transform(x_test)"
   ]
  },
  {
   "cell_type": "code",
   "execution_count": 21,
   "metadata": {},
   "outputs": [
    {
     "data": {
      "text/plain": [
       "(182, 9)"
      ]
     },
     "execution_count": 21,
     "metadata": {},
     "output_type": "execute_result"
    }
   ],
   "source": [
    "x_train_scaled.shape"
   ]
  },
  {
   "cell_type": "markdown",
   "metadata": {},
   "source": [
    "## **BOXPLOTS TO UNDERSTAND EFFECT OF STANDARD SCALER**"
   ]
  },
  {
   "cell_type": "code",
   "execution_count": 22,
   "metadata": {},
   "outputs": [
    {
     "data": {
      "text/plain": [
       "Text(0.5, 1.0, 'x_train before standardization')"
      ]
     },
     "execution_count": 22,
     "metadata": {},
     "output_type": "execute_result"
    },
    {
     "data": {
      "image/png": "[encoded data removed]",
      "text/plain": [
       "<Figure size 1500x500 with 1 Axes>"
      ]
     },
     "metadata": {},
     "output_type": "display_data"
    }
   ],
   "source": [
    "plt.subplots(figsize=(15,5))\n",
    "\n",
    "sb.boxplot(data=x_train)\n",
    "plt.title('x_train before standardization')"
   ]
  },
  {
   "cell_type": "code",
   "execution_count": 23,
   "metadata": {},
   "outputs": [
    {
     "data": {
      "text/plain": [
       "Text(0.5, 1.0, 'x_train after standardization')"
      ]
     },
     "execution_count": 23,
     "metadata": {},
     "output_type": "execute_result"
    },
    {
     "data": {
      "image/png": "[encoded data removed]",
      "text/plain": [
       "<Figure size 1500x500 with 1 Axes>"
      ]
     },
     "metadata": {},
     "output_type": "display_data"
    }
   ],
   "source": [
    "plt.subplots(figsize=(15,5))\n",
    "sb.boxplot(data=x_train_scaled)\n",
    "plt.title('x_train after standardization')"
   ]
  },
  {
   "cell_type": "markdown",
   "metadata": {},
   "source": [
    "## **Calculate Performance**"
   ]
  },
  {
   "cell_type": "code",
   "execution_count": 24,
   "metadata": {},
   "outputs": [],
   "source": [
    "def check_performance(metric_name, y_true, y_pred):\n",
    "    from sklearn.metrics import r2_score, mean_absolute_error, mean_squared_error\n",
    "    print()\n",
    "    print(f\"Metric Name : {metric_name}\")\n",
    "    print(\"+++++++++++++++++++++++++++++++++++++++++++++\")\n",
    "    print(f\"Mean Squared Error is {mean_squared_error(y_true, y_pred)}\")\n",
    "    print(f\"Mean Absolute Error is {mean_absolute_error(y_true, y_pred)}\")\n",
    "    print(f\"R2 Score is {r2_score(y_true, y_pred)}\")\n",
    "    print(\"+++++++++++++++++++++++++++++++++++++++++++++\")\n",
    "\n",
    "\n",
    "def get_scatter_plot(metric_name, y_true, y_pred):\n",
    "    from matplotlib import pyplot as plt\n",
    "    print()\n",
    "    print(f\"Metric Name : {metric_name}\")\n",
    "    print(\"+++++++++++++++++++++++++++++++++++++++++++++\")\n",
    "    plt.scatter(y_true,y_pred)"
   ]
  },
  {
   "cell_type": "markdown",
   "metadata": {},
   "source": [
    "## **LINEAR REGRESSION MODEL**"
   ]
  },
  {
   "cell_type": "code",
   "execution_count": 25,
   "metadata": {},
   "outputs": [
    {
     "name": "stdout",
     "output_type": "stream",
     "text": [
      "\n",
      "Metric Name : Linear Regression\n",
      "+++++++++++++++++++++++++++++++++++++++++++++\n",
      "Mean Squared Error is 0.674276687379158\n",
      "Mean Absolute Error is 0.5468236465249978\n",
      "R2 Score is 0.9847657384266951\n",
      "+++++++++++++++++++++++++++++++++++++++++++++\n",
      "\n",
      "Metric Name : Linear Regression\n",
      "+++++++++++++++++++++++++++++++++++++++++++++\n"
     ]
    },
    {
     "data": {
      "image/png": "[encoded data removed]",
      "text/plain": [
       "<Figure size 640x480 with 1 Axes>"
      ]
     },
     "metadata": {},
     "output_type": "display_data"
    }
   ],
   "source": [
    "from sklearn.linear_model import LinearRegression\n",
    "\n",
    "linreg=LinearRegression()\n",
    "linreg.fit(x_train_scaled,y_train)\n",
    "y_pred=linreg.predict(x_test_scaled)\n",
    "\n",
    "check_performance(\"Linear Regression\",y_test,y_pred)\n",
    "get_scatter_plot(\"Linear Regression\",y_test,y_pred)"
   ]
  },
  {
   "cell_type": "markdown",
   "metadata": {},
   "source": [
    "## **LASSO REGRESSION**"
   ]
  },
  {
   "cell_type": "code",
   "execution_count": 26,
   "metadata": {},
   "outputs": [
    {
     "name": "stdout",
     "output_type": "stream",
     "text": [
      "\n",
      "Metric Name : LASSO REGRESSION\n",
      "+++++++++++++++++++++++++++++++++++++++++++++\n",
      "Mean Squared Error is 2.2483458918974772\n",
      "Mean Absolute Error is 1.133175994914409\n",
      "R2 Score is 0.9492020263112388\n",
      "+++++++++++++++++++++++++++++++++++++++++++++\n",
      "\n",
      "Metric Name : LASSO REGRESSION\n",
      "+++++++++++++++++++++++++++++++++++++++++++++\n"
     ]
    },
    {
     "data": {
      "image/png": "[encoded data removed]",
      "text/plain": [
       "<Figure size 640x480 with 1 Axes>"
      ]
     },
     "metadata": {},
     "output_type": "display_data"
    }
   ],
   "source": [
    "from sklearn.linear_model import Lasso\n",
    "\n",
    "lasso=Lasso()\n",
    "lasso.fit(x_train_scaled,y_train)\n",
    "y_pred=lasso.predict(x_test_scaled)\n",
    "\n",
    "check_performance(\"LASSO REGRESSION\", y_test, y_pred)\n",
    "\n",
    "get_scatter_plot(\"LASSO REGRESSION\", y_test, y_pred)"
   ]
  },
  {
   "cell_type": "markdown",
   "metadata": {},
   "source": [
    "## **LASSO CROSS VALIDATION REGRESSION**"
   ]
  },
  {
   "cell_type": "code",
   "execution_count": 27,
   "metadata": {},
   "outputs": [
    {
     "name": "stdout",
     "output_type": "stream",
     "text": [
      "\n",
      "Metric Name : LASSO CROSS VALIDATION REGRESSION\n",
      "+++++++++++++++++++++++++++++++++++++++++++++\n",
      "Mean Squared Error is 0.792499555474362\n",
      "Mean Absolute Error is 0.619970115826343\n",
      "R2 Score is 0.9820946715928275\n",
      "+++++++++++++++++++++++++++++++++++++++++++++\n",
      "\n",
      "Metric Name : LASSO CROSS VALIDATION REGRESSION\n",
      "+++++++++++++++++++++++++++++++++++++++++++++\n"
     ]
    },
    {
     "data": {
      "image/png": "[encoded data removed]",
      "text/plain": [
       "<Figure size 640x480 with 1 Axes>"
      ]
     },
     "metadata": {},
     "output_type": "display_data"
    }
   ],
   "source": [
    "from sklearn.linear_model import LassoCV\n",
    "\n",
    "##\n",
    "# Lasso Linear model with iterative fitting along a regularization path. \n",
    "# \n",
    "# Lasso Cross Validation technique will try changing all parameters and select most suitable parameters\n",
    "# \n",
    "# lassocv has a parameter called alpha. This can be selected for some hyperparameter tuning. \n",
    "# One hyperparameter tuning is called as \"Cross Validation Technique\".\n",
    "#\n",
    "##\n",
    "\n",
    "lassocv=LassoCV(cv=5)\n",
    "lassocv.fit(x_train_scaled,y_train)\n",
    "y_pred=lassocv.predict(x_test_scaled)\n",
    "\n",
    "check_performance(\"LASSO CROSS VALIDATION REGRESSION\", y_test, y_pred)\n",
    "\n",
    "get_scatter_plot(\"LASSO CROSS VALIDATION REGRESSION\", y_test, y_pred)"
   ]
  },
  {
   "cell_type": "code",
   "execution_count": 28,
   "metadata": {},
   "outputs": [
    {
     "name": "stdout",
     "output_type": "stream",
     "text": [
      "Finally selected Alpha value is 0.05725391318234408\n",
      "All considered Alpha values are [7.05853002 6.58280872 6.13914944 5.72539132 5.33951911 4.97965339\n",
      " 4.64404142 4.33104857 4.03915039 3.76692517 3.51304702 3.27627941\n",
      " 3.05546914 2.84954075 2.65749124 2.47838523 2.31135036 2.15557308\n",
      " 2.01029467 1.87480753 1.74845178 1.63061198 1.52071419 1.41822315\n",
      " 1.32263965 1.23349817 1.15036452 1.0728338  1.00052839 0.93309613\n",
      " 0.87020857 0.81155943 0.75686304 0.705853   0.65828087 0.61391494\n",
      " 0.57253913 0.53395191 0.49796534 0.46440414 0.43310486 0.40391504\n",
      " 0.37669252 0.3513047  0.32762794 0.30554691 0.28495408 0.26574912\n",
      " 0.24783852 0.23113504 0.21555731 0.20102947 0.18748075 0.17484518\n",
      " 0.1630612  0.15207142 0.14182231 0.13226397 0.12334982 0.11503645\n",
      " 0.10728338 0.10005284 0.09330961 0.08702086 0.08115594 0.0756863\n",
      " 0.0705853  0.06582809 0.06139149 0.05725391 0.05339519 0.04979653\n",
      " 0.04644041 0.04331049 0.0403915  0.03766925 0.03513047 0.03276279\n",
      " 0.03055469 0.02849541 0.02657491 0.02478385 0.0231135  0.02155573\n",
      " 0.02010295 0.01874808 0.01748452 0.01630612 0.01520714 0.01418223\n",
      " 0.0132264  0.01233498 0.01150365 0.01072834 0.01000528 0.00933096\n",
      " 0.00870209 0.00811559 0.00756863 0.00705853]\n",
      "Cross Validations with 100 Alphas. So, 100 MSE values are [[53.64536329 65.39074075 54.89628985 77.90299066 39.38236846]\n",
      " [46.99139716 59.81506814 49.29840831 75.6645852  35.31758355]\n",
      " [41.14908917 53.9178721  42.49594889 68.35708298 31.76996123]\n",
      " [36.05788169 48.41773965 36.66879347 61.92819453 28.67296816]\n",
      " [31.62067285 42.76466229 31.68391904 56.26841266 24.93183295]\n",
      " [27.75285367 37.81922812 27.42599138 51.28216115 21.56888645]\n",
      " [24.3807738  33.49107651 23.7950306  45.25481907 18.66094162]\n",
      " [21.44052804 29.70161639 20.70460191 39.90418045 16.14837778]\n",
      " [18.876308   26.38208059 18.07969934 35.23429953 13.97821475]\n",
      " [16.63960395 23.47341883 15.85530749 31.15712074 12.10483403]\n",
      " [14.68819307 20.92329068 13.97555108 27.59649208 10.48862803]\n",
      " [12.98525144 18.68636627 12.39173305 24.48611006  9.09521221]\n",
      " [11.49893734 16.72312788 11.06186319 21.7677198   7.89445038]\n",
      " [10.2013182  14.9991189   9.94965275 19.39216316  6.86106557]\n",
      " [ 9.06814642 13.48429046  9.02375611 17.31505177  5.9722389 ]\n",
      " [ 8.0783105  12.15220147  8.25686268 15.49825178  5.20846991]\n",
      " [ 7.21342796 10.98048099  7.62613185 13.90854714  4.5528438 ]\n",
      " [ 6.45749132  9.94890861  7.11117548 12.51700172  3.99069111]\n",
      " [ 5.79649781  9.04007002  6.69464754 11.29840502  3.50929245]\n",
      " [ 5.21843764  8.23876281  6.36161441 10.23043133  3.09746419]\n",
      " [ 4.71266457  7.53171188  6.09923004  9.29470762  2.74599653]\n",
      " [ 4.2699656   6.90732196  5.89645437  8.47412971  2.44641798]\n",
      " [ 3.88231419  6.35546212  5.74343167  7.75415263  2.19155766]\n",
      " [ 3.54271656  5.86727817  5.63280675  7.1220963   1.97520698]\n",
      " [ 3.24507798  5.43490383  5.55722342  6.56690368  1.79199187]\n",
      " [ 2.98408648  5.05183908  5.51072584  6.07893135  1.6372624 ]\n",
      " [ 2.75511169  4.71201421  5.48822878  5.64976711  1.50699679]\n",
      " [ 2.55407274  4.41024533  5.48539678  5.27207134  1.39771812]\n",
      " [ 2.37754224  4.14199391  5.49854058  4.93929274  1.30641528]\n",
      " [ 2.22240106  3.90328437  5.52452745  4.64615961  1.23051895]\n",
      " [ 2.08597116  3.69063268  5.56020979  4.38761378  1.16776797]\n",
      " [ 1.9659162   3.50098406  5.6043589   4.15939166  1.11623041]\n",
      " [ 1.86019735  3.33165877  5.65456906  3.95776947  1.07424081]\n",
      " [ 1.76703503  3.18030479  5.70925192  3.77949324  1.04036447]\n",
      " [ 1.6848755   3.04481488  5.76708269  3.62171864  1.01336643]\n",
      " [ 1.61236193  2.92346604  5.82695915  3.48195856  0.99218458]\n",
      " [ 1.54827557  2.81461081  5.88796931  3.3580375   0.97590638]\n",
      " [ 1.49165092  2.71684484  5.94936347  3.24805179  0.96383716]\n",
      " [ 1.44154595  2.62893196  6.01053016  3.1503334   0.95513053]\n",
      " [ 1.39716889  2.54978296  6.07039933  3.07232371  0.94929556]\n",
      " [ 1.35782745  2.47843742  6.12975718  3.0041222   0.94584218]\n",
      " [ 1.32291594  2.41404782  6.18769529  2.94364011  0.94435089]\n",
      " [ 1.29190414  2.35586563  6.24396657  2.88962691  0.94446421]\n",
      " [ 1.26432775  2.30322922  6.29839177  2.84193587  0.94587808]\n",
      " [ 1.23978001  2.25555322  6.35084178  2.79951289  0.94833447]\n",
      " [ 1.21631899  2.21233117  6.39529714  2.76173546  0.9516149 ]\n",
      " [ 1.18452807  2.16000042  6.42643862  2.72805794  0.95553494]\n",
      " [ 1.15701368  2.11158527  6.45636883  2.69761451  0.95595979]\n",
      " [ 1.13320995  2.06862134  6.48638494  2.67077799  0.93982106]\n",
      " [ 1.11260173  2.03047905  6.51570208  2.6467804   0.9267394 ]\n",
      " [ 1.09481028  1.9965441   6.54418839  2.62528895  0.92156967]\n",
      " [ 1.07943936  1.96633625  6.57175064  2.60556754  0.91819477]\n",
      " [ 1.06616655  1.93941688  6.60120289  2.58826543  0.91600498]\n",
      " [ 1.05471212  1.91540122  6.66074506  2.53939631  0.91492536]\n",
      " [ 1.04483316  1.89395167  6.72040081  2.49354558  0.91475751]\n",
      " [ 1.03631885  1.87477186  6.77985049  2.45183158  0.91533073]\n",
      " [ 1.02898619  1.85760147  6.8386118   2.41402473  0.91650002]\n",
      " [ 1.02267637  1.84221172  6.89546904  2.37952566  0.91817465]\n",
      " [ 1.0172516   1.81986019  6.95182997  2.34943959  0.92100746]\n",
      " [ 1.01259234  1.7874912   7.00657253  2.30905785  0.91090128]\n",
      " [ 0.99291676  1.75813753  7.05952508  2.26689771  0.88812743]\n",
      " [ 0.96711245  1.73133215  7.11055395  2.22965179  0.86893338]\n",
      " [ 0.94404465  1.70754321  7.15957739  2.19646     0.85251259]\n",
      " [ 0.91746069  1.68586828  7.21115863  2.16644165  0.83841802]\n",
      " [ 0.89121876  1.66666838  7.26823916  2.14003416  0.82646203]\n",
      " [ 0.86783937  1.64937312  7.32193772  2.11642121  0.81629395]\n",
      " [ 0.84703112  1.6337788   7.37194387  2.09528441  0.80766048]\n",
      " [ 0.82845196  1.619701    7.42070575  2.07634166  0.80034774]\n",
      " [ 0.81184328  1.6069769   7.46783924  2.05934486  0.79417047]\n",
      " [ 0.79697877  1.59523036  7.51171241  2.04379341  0.78898574]\n",
      " [ 0.78366252  1.58481658  7.5533042   2.03007893  0.78514158]\n",
      " [ 0.77340653  1.57536934  7.59178479  2.01773193  0.78410497]\n",
      " [ 0.76437368  1.56730639  7.62890427  2.00633629  0.78327866]\n",
      " [ 0.75641103  1.56014926  7.66385201  1.99569195  0.78309295]\n",
      " [ 0.74929762  1.55377904  7.69675973  1.98581272  0.78325254]\n",
      " [ 0.7431075   1.54808751  7.72772336  1.97708583  0.78348718]\n",
      " [ 0.73764056  1.5428574   7.75701245  1.9690422   0.78415382]\n",
      " [ 0.73271889  1.5383076   7.78098988  1.96195515  0.78479522]\n",
      " [ 0.72844826  1.53422868  7.80009362  1.95555728  0.78577592]\n",
      " [ 0.72457927  1.53042136  7.81782859  1.94960372  0.78686385]\n",
      " [ 0.72121402  1.5271394   7.83584096  1.94420011  0.78783843]\n",
      " [ 0.71854269  1.52403047  7.8521645   1.93945512  0.78886011]\n",
      " [ 0.71624922  1.52137747  7.86797141  1.93532188  0.79008917]\n",
      " [ 0.71419505  1.51882628  7.8824946   1.93156393  0.7910736 ]\n",
      " [ 0.71283686  1.51649634  7.89597341  1.92813104  0.79328236]\n",
      " [ 0.7117556   1.51454548  7.90862683  1.92492966  0.7959553 ]\n",
      " [ 0.71078691  1.5128162   7.92077339  1.92207644  0.79869912]\n",
      " [ 0.71003406  1.51137977  7.93211766  1.9195065   0.80158876]\n",
      " [ 0.7094272   1.51017923  7.94254787  1.9171673   0.80451499]\n",
      " [ 0.70893209  1.50910355  7.95231005  1.91555613  0.80717091]\n",
      " [ 0.70847636  1.50819995  7.96151575  1.914521    0.8098638 ]\n",
      " [ 0.70814046  1.50740984  7.97034636  1.91358558  0.81227152]\n",
      " [ 0.70789298  1.5065737   7.97838619  1.91277526  0.81468439]\n",
      " [ 0.70770357  1.50591279  7.98587605  1.9120262   0.8170304 ]\n",
      " [ 0.70752166  1.50536216  7.99241057  1.91138883  0.81925406]\n",
      " [ 0.70734296  1.50487616  7.99849196  1.91084915  0.82119901]\n",
      " [ 0.70724307  1.50444309  8.00451482  1.91033293  0.82327046]\n",
      " [ 0.70719344  1.50391791  8.01011355  1.9098903   0.8250587 ]\n",
      " [ 0.70714379  1.50342997  8.01481494  1.90951275  0.826765  ]\n",
      " [ 0.70711086  1.50300182  8.01992921  1.90919915  0.82842365]]\n"
     ]
    }
   ],
   "source": [
    "## LassoCV parameters\n",
    "print(f\"Finally selected Alpha value is {lassocv.alpha_}\")\n",
    "print(f\"All considered Alpha values are {lassocv.alphas_}\")\n",
    "print(f\"Cross Validations with 100 Alphas. So, 100 MSE values are {lassocv.mse_path_}\")"
   ]
  },
  {
   "cell_type": "markdown",
   "metadata": {},
   "source": [
    "## **RIDGE REGRESSION**"
   ]
  },
  {
   "cell_type": "code",
   "execution_count": 29,
   "metadata": {},
   "outputs": [
    {
     "name": "stdout",
     "output_type": "stream",
     "text": [
      "\n",
      "Metric Name : RIDGE REGRESSION\n",
      "+++++++++++++++++++++++++++++++++++++++++++++\n",
      "Mean Squared Error is 0.6949198918152096\n",
      "Mean Absolute Error is 0.5642305340105715\n",
      "R2 Score is 0.9842993364555512\n",
      "+++++++++++++++++++++++++++++++++++++++++++++\n",
      "\n",
      "Metric Name : RIDGE REGRESSION\n",
      "+++++++++++++++++++++++++++++++++++++++++++++\n"
     ]
    },
    {
     "data": {
      "image/png": "[encoded data removed]",
      "text/plain": [
       "<Figure size 640x480 with 1 Axes>"
      ]
     },
     "metadata": {},
     "output_type": "display_data"
    }
   ],
   "source": [
    "from sklearn.linear_model import Ridge\n",
    "\n",
    "ridge=Ridge()\n",
    "ridge.fit(x_train_scaled,y_train)\n",
    "y_pred=ridge.predict(x_test_scaled)\n",
    "\n",
    "check_performance(\"RIDGE REGRESSION\", y_test, y_pred)\n",
    "\n",
    "get_scatter_plot(\"RIDGE REGRESSION\", y_test, y_pred)"
   ]
  },
  {
   "cell_type": "markdown",
   "metadata": {},
   "source": [
    "## **RIDGE CROSS VALIDATION REGRESSION**"
   ]
  },
  {
   "cell_type": "code",
   "execution_count": null,
   "metadata": {},
   "outputs": [
    {
     "name": "stdout",
     "output_type": "stream",
     "text": [
      "\n",
      "Metric Name : RIDGE CROSS VALIDATION REGRESSION\n",
      "+++++++++++++++++++++++++++++++++++++++++++++\n",
      "Mean Squared Error is 0.6949198918152096\n",
      "Mean Absolute Error is 0.5642305340105715\n",
      "R2 Score is 0.9842993364555512\n",
      "+++++++++++++++++++++++++++++++++++++++++++++\n",
      "\n",
      "Metric Name : RIDGE CROSS VALIDATION REGRESSION\n",
      "+++++++++++++++++++++++++++++++++++++++++++++\n"
     ]
    },
    {
     "data": {
      "image/png": "[encoded data removed]",
      "text/plain": [
       "<Figure size 640x480 with 1 Axes>"
      ]
     },
     "metadata": {},
     "output_type": "display_data"
    }
   ],
   "source": [
    "from sklearn.linear_model import RidgeCV\n",
    "\n",
    "\n",
    "##\n",
    "# Ridge regression with built-in cross-validation. \n",
    "# \n",
    "# By default this performs generalized cross-validation, which is a form of efficient Leave-One-Out cross-validation. This means if we don't pass cv value, it uses Leave-One-Out cross-validation.\n",
    "#\n",
    "##\n",
    "\n",
    "ridgecv=RidgeCV(cv=5)\n",
    "ridgecv.fit(x_train_scaled,y_train)\n",
    "y_pred=ridgecv.predict(x_test_scaled)\n",
    "\n",
    "check_performance(\"RIDGE CROSS VALIDATION REGRESSION\", y_test, y_pred)\n",
    "\n",
    "get_scatter_plot(\"RIDGE CROSS VALIDATION REGRESSION\", y_test, y_pred)"
   ]
  },
  {
   "cell_type": "code",
   "execution_count": 31,
   "metadata": {},
   "outputs": [
    {
     "name": "stdout",
     "output_type": "stream",
     "text": [
      "Finally selected Alpha value is (0.1, 1.0, 10.0)\n",
      "(\"Parameters is {'alpha_per_target': False, 'alphas': (0.1, 1.0, 10.0), 'cv': \"\n",
      " \"5, 'fit_intercept': True, 'gcv_mode': None, 'scoring': None, \"\n",
      " \"'store_cv_results': None, 'store_cv_values': 'deprecated'}\")\n"
     ]
    }
   ],
   "source": [
    "## RidgeCV parameters\n",
    "from pprint import pprint\n",
    "print(f\"Finally selected Alpha value is {ridgecv.alphas}\")\n",
    "pprint(f\"Parameters is {ridgecv.get_params()}\")"
   ]
  },
  {
   "cell_type": "markdown",
   "metadata": {},
   "source": [
    "## **ELASTICNET REGRESSION**"
   ]
  },
  {
   "cell_type": "code",
   "execution_count": 32,
   "metadata": {},
   "outputs": [
    {
     "name": "stdout",
     "output_type": "stream",
     "text": [
      "\n",
      "Metric Name : ELASTICNET REGRESSION\n",
      "+++++++++++++++++++++++++++++++++++++++++++++\n",
      "Mean Squared Error is 5.5172511010252245\n",
      "Mean Absolute Error is 1.8822353634896005\n",
      "R2 Score is 0.8753460589519703\n",
      "+++++++++++++++++++++++++++++++++++++++++++++\n",
      "\n",
      "Metric Name : ELASTICNET REGRESSION\n",
      "+++++++++++++++++++++++++++++++++++++++++++++\n"
     ]
    },
    {
     "data": {
      "image/png": "[encoded data removed]",
      "text/plain": [
       "<Figure size 640x480 with 1 Axes>"
      ]
     },
     "metadata": {},
     "output_type": "display_data"
    }
   ],
   "source": [
    "from sklearn.linear_model import ElasticNet\n",
    "\n",
    "elntreg=ElasticNet()\n",
    "elntreg.fit(x_train_scaled,y_train)\n",
    "y_pred=elntreg.predict(x_test_scaled)\n",
    "\n",
    "check_performance(\"ELASTICNET REGRESSION\", y_test, y_pred)\n",
    "\n",
    "get_scatter_plot(\"ELASTICNET REGRESSION\", y_test, y_pred)"
   ]
  },
  {
   "cell_type": "markdown",
   "metadata": {},
   "source": [
    "## **ELASTICNET CROSS VALIDATION REGRESSION**"
   ]
  },
  {
   "cell_type": "code",
   "execution_count": 33,
   "metadata": {},
   "outputs": [
    {
     "name": "stdout",
     "output_type": "stream",
     "text": [
      "\n",
      "Metric Name : ELASTICNET CROSS VALIDATION REGRESSION\n",
      "+++++++++++++++++++++++++++++++++++++++++++++\n",
      "Mean Squared Error is 0.8222830416276258\n",
      "Mean Absolute Error is 0.6575946731430898\n",
      "R2 Score is 0.9814217587854941\n",
      "+++++++++++++++++++++++++++++++++++++++++++++\n",
      "\n",
      "Metric Name : ELASTICNET CROSS VALIDATION REGRESSION\n",
      "+++++++++++++++++++++++++++++++++++++++++++++\n"
     ]
    },
    {
     "data": {
      "image/png": "[encoded data removed]",
      "text/plain": [
       "<Figure size 640x480 with 1 Axes>"
      ]
     },
     "metadata": {},
     "output_type": "display_data"
    }
   ],
   "source": [
    "from sklearn.linear_model import ElasticNetCV\n",
    "\n",
    "##\n",
    "# \n",
    "# L1 - 50% and L2 - 50%\n",
    "# \n",
    "# \n",
    "# ##\n",
    "\n",
    "elntregcv=ElasticNetCV()\n",
    "elntregcv.fit(x_train_scaled,y_train)\n",
    "y_pred=elntregcv.predict(x_test_scaled)\n",
    "\n",
    "check_performance(\"ELASTICNET CROSS VALIDATION REGRESSION\", y_test, y_pred)\n",
    "\n",
    "get_scatter_plot(\"ELASTICNET CROSS VALIDATION REGRESSION\", y_test, y_pred)"
   ]
  },
  {
   "cell_type": "code",
   "execution_count": 34,
   "metadata": {},
   "outputs": [],
   "source": [
    "import pickle\n",
    "pickle.dump(scaler,open(\"scaler.pkl\",\"wb\"))\n",
    "pickle.dump(ridge,open(\"ridge.pkl\",\"wb\"))"
   ]
  },
  {
   "cell_type": "code",
   "execution_count": null,
   "metadata": {},
   "outputs": [],
   "source": []
  }
 ],
 "metadata": {
  "kernelspec": {
   "display_name": "Python 3",
   "language": "python",
   "name": "python3"
  },
  "language_info": {
   "codemirror_mode": {
    "name": "ipython",
    "version": 3
   },
   "file_extension": ".py",
   "mimetype": "text/x-python",
   "name": "python",
   "nbconvert_exporter": "python",
   "pygments_lexer": "ipython3",
   "version": "3.12.8"
  }
 },
 "nbformat": 4,
 "nbformat_minor": 2
}
