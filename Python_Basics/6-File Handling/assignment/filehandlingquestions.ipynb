{
 "cells": [
  {
   "cell_type": "markdown",
   "metadata": {},
   "source": [
    "# Module: File Handling Assignments\n",
    "## Lesson: File Handling and Operations\n",
    "### Assignment 1: Reading a File\n",
    "\n",
    "Write a function that reads the contents of a file named `sample.txt` and prints each line."
   ]
  },
  {
   "cell_type": "code",
   "execution_count": 47,
   "metadata": {},
   "outputs": [
    {
     "name": "stdout",
     "output_type": "stream",
     "text": [
      "This is the first line!!!\n",
      "This is the second line!!!\n",
      "This is the third line!!!\n",
      "This is the last line!!!\n"
     ]
    }
   ],
   "source": [
    "def read_file(file_name):\n",
    "    with open(file_name,'r') as fp:\n",
    "        for line in fp:\n",
    "            print(line.strip())\n",
    "read_file('sample.txt')"
   ]
  },
  {
   "cell_type": "markdown",
   "id": "2eb8448c",
   "metadata": {},
   "source": [
    "### Assignment 2: Writing to a File\n",
    "\n",
    "Write a function that writes a list of strings to a file named `output.txt`, with each string on a new line."
   ]
  },
  {
   "cell_type": "code",
   "execution_count": 48,
   "id": "15560a1a",
   "metadata": {},
   "outputs": [
    {
     "name": "stdout",
     "output_type": "stream",
     "text": [
      "This is the first line!!!\n",
      "This is the second line!!!\n",
      "This is the third line!!!\n",
      "This is the last line!!!\n",
      "This is the first line!!!\n",
      "This is the second line!!!\n",
      "This is the third line!!!\n",
      "This is the last line!!!\n",
      "This is the first line!!!\n",
      "This is the second line!!!\n",
      "This is the third line!!!\n",
      "This is the last line!!!\n"
     ]
    }
   ],
   "source": [
    "list_str = ['This is the first line!!!',\n",
    "            'This is the second line!!!',\n",
    "            'This is the third line!!!',\n",
    "            'This is the last line!!!']\n",
    "\n",
    "def write_file(file_name, file_input):\n",
    "    with open(file_name,'a') as fp:\n",
    "        fp.write(file_input+'\\n')\n",
    "\n",
    "for item in list_str:\n",
    "    write_file('output.txt', item)\n",
    "\n",
    "with open('output.txt','r') as fp:\n",
    "    for line in fp:\n",
    "        print(line.strip())"
   ]
  },
  {
   "cell_type": "markdown",
   "id": "26314e6b",
   "metadata": {},
   "source": [
    "### Assignment 3: Copying a File\n",
    "\n",
    "Write a function that copies the contents of a file named `source.txt` to a new file named `destination.txt`."
   ]
  },
  {
   "cell_type": "code",
   "execution_count": 49,
   "id": "2ea25fb4",
   "metadata": {},
   "outputs": [],
   "source": [
    "def copy_file(source_file, destination_file):\n",
    "    with open('source.txt','r') as src:\n",
    "        with open('destination_nw.txt','w') as dest:\n",
    "            dest.write(src.read())\n",
    "\n",
    "copy_file('source.txt', 'destination_nw.txt')"
   ]
  },
  {
   "cell_type": "markdown",
   "id": "4e1d4ca1",
   "metadata": {},
   "source": [
    "### Assignment 4: Appending to a File\n",
    "\n",
    "Write a function that appends a given string to the end of a file named `log.txt`."
   ]
  },
  {
   "cell_type": "code",
   "execution_count": 50,
   "id": "bc87395e",
   "metadata": {},
   "outputs": [],
   "source": [
    "def log_message(msg,msg_type):\n",
    "    from datetime import datetime\n",
    "    now = datetime.now()\n",
    "    formatted = now.strftime(\"%Y-%m-%dT%H:%M:%S\")\n",
    "    with open('log.txt', 'a') as fp:\n",
    "        fp.write(formatted + \":\" + msg_type + \":\" + msg + \"\\n\")\n",
    "\n",
    "log_message(\"Open database connection...\",\"INFO\")\n",
    "log_message(\"Insert record into DB\",\"DEBUG\")\n",
    "log_message(\"Closing connections\",\"INFO\")"
   ]
  },
  {
   "cell_type": "markdown",
   "id": "44f876b8",
   "metadata": {},
   "source": [
    "### Assignment 5: Counting Words in a File\n",
    "\n",
    "Write a function that reads the contents of a file named `document.txt` and returns the number of words in the file."
   ]
  },
  {
   "cell_type": "code",
   "execution_count": 51,
   "id": "66cc8674",
   "metadata": {},
   "outputs": [
    {
     "data": {
      "text/plain": [
       "20"
      ]
     },
     "execution_count": 51,
     "metadata": {},
     "output_type": "execute_result"
    }
   ],
   "source": [
    "def get_word_count(file_name):\n",
    "    word_count = 0\n",
    "    with open(file_name,'r') as fp:\n",
    "        content = fp.read()\n",
    "        word_count += len(content.split())\n",
    "        \n",
    "    return word_count\n",
    "\n",
    "get_word_count('document.txt')"
   ]
  },
  {
   "cell_type": "markdown",
   "id": "60fa3655",
   "metadata": {},
   "source": [
    "### Assignment 6: Finding and Replacing Text\n",
    "\n",
    "Write a function that finds and replaces all occurrences of a given word in a file named `data.txt` with another word."
   ]
  },
  {
   "cell_type": "code",
   "execution_count": 52,
   "id": "106d4d32",
   "metadata": {},
   "outputs": [],
   "source": [
    "def replace_word(file_name,search_word,replace_word):\n",
    "    with open(file_name,'r') as fp:\n",
    "        content = fp.read()\n",
    "\n",
    "    content = content.replace(search_word, replace_word)\n",
    "    \n",
    "    with open(file_name,'w') as fp:\n",
    "        fp.write(content)\n",
    "replace_word(\"replace.txt\",\"line\",\"lime\")"
   ]
  },
  {
   "cell_type": "markdown",
   "id": "326e153d",
   "metadata": {},
   "source": [
    "### Assignment 7: Reading a File in Reverse\n",
    "\n",
    "Write a function that reads the contents of a file named `reverse.txt` and prints each line in reverse order."
   ]
  },
  {
   "cell_type": "code",
   "execution_count": 53,
   "id": "b213b1d3",
   "metadata": {},
   "outputs": [
    {
     "name": "stdout",
     "output_type": "stream",
     "text": [
      "This is the last lime!!!\n",
      "This is the third lime!!!\n",
      "This is the second lime!!!\n",
      "This is the first lime!!!\n"
     ]
    }
   ],
   "source": [
    "def reverse_read(file_name):\n",
    "    with open(file_name,\"r\") as fp:\n",
    "        content = fp.readlines()\n",
    "    for line in reversed(content):\n",
    "        print(line.strip())\n",
    "\n",
    "# Test\n",
    "reverse_read(\"reverse.txt\")"
   ]
  },
  {
   "cell_type": "markdown",
   "id": "d28b71d0",
   "metadata": {},
   "source": [
    "### Assignment 8: Counting Lines, Words, and Characters\n",
    "\n",
    "Write a function that reads the contents of a file named `stats.txt` and returns the number of lines, words, and characters in the file."
   ]
  },
  {
   "cell_type": "code",
   "execution_count": 80,
   "id": "8a6ad10b",
   "metadata": {},
   "outputs": [
    {
     "name": "stdout",
     "output_type": "stream",
     "text": [
      "Number of lines : 4\n",
      "Number of words : 20\n",
      "Number of characters : 103\n"
     ]
    }
   ],
   "source": [
    "def fetch_counts(file_name):\n",
    "    with open(file_name,'r') as fp:\n",
    "        lines = fp.readlines()\n",
    "        word_count = sum(len(line.split()) for line in lines)\n",
    "        chr_count = sum(len(line) for line in lines)\n",
    "\n",
    "    return len(lines),word_count,chr_count\n",
    "\n",
    "line_count, word_count, chr_count = fetch_counts('stats.txt')\n",
    "print(f'Number of lines : {line_count}')\n",
    "print(f'Number of words : {word_count}')\n",
    "print(f'Number of characters : {chr_count}')"
   ]
  },
  {
   "cell_type": "markdown",
   "id": "eb59425f",
   "metadata": {},
   "source": [
    "### Assignment 9: Merging Multiple Files\n",
    "\n",
    "Write a function that merges the contents of multiple files into a single file named `merged.txt`."
   ]
  },
  {
   "cell_type": "code",
   "execution_count": 83,
   "id": "ce792f9d",
   "metadata": {},
   "outputs": [],
   "source": [
    "def merge_files(*files):\n",
    "    content = \"\"\n",
    "    for file in files:\n",
    "        with open(file,\"r\") as fp:\n",
    "            content += fp.read() + \"\\n\"\n",
    "\n",
    "    with open(\"merged.txt\",\"w\") as fp:\n",
    "        fp.write(content)\n",
    "\n",
    "merge_files(\"file_write.txt\",\"log.txt\")"
   ]
  },
  {
   "cell_type": "markdown",
   "id": "7baed104",
   "metadata": {},
   "source": [
    "### Assignment 10: Splitting a Large File\n",
    "\n",
    "Write a function that splits a large file named `large.txt` into smaller files of 100 lines each."
   ]
  },
  {
   "cell_type": "code",
   "execution_count": 14,
   "id": "90e4c059",
   "metadata": {},
   "outputs": [],
   "source": [
    "def split_file(filename, lines_per_file):\n",
    "    with open(filename, 'r') as file:\n",
    "        lines = file.readlines()\n",
    "    for i in range(0, len(lines), lines_per_file):\n",
    "        with open(f'{filename}_part{i//lines_per_file + 1}.txt', 'w') as part_file:\n",
    "            part_file.writelines(lines[i:i + lines_per_file])\n",
    "\n",
    "# Test\n",
    "split_file('large.txt', 100)"
   ]
  },
  {
   "cell_type": "markdown",
   "id": "e5217b8c",
   "metadata": {},
   "source": [
    "### Assignment 12: Binary File Operations\n",
    "\n",
    "Write a function that reads a binary file named `image.bin` and writes its contents to another binary file named `copy_image.bin`."
   ]
  },
  {
   "cell_type": "code",
   "execution_count": 34,
   "id": "45ccdaeb",
   "metadata": {},
   "outputs": [],
   "source": [
    "def copy_bin_file(src_file, dest_file):\n",
    "    with open(src_file,'rb') as rfp:\n",
    "        with open(dest_file,'wb') as wfp:\n",
    "            wfp.write(rfp.read())\n",
    "\n",
    "copy_bin_file('image.bin','copy_image.bin')"
   ]
  },
  {
   "cell_type": "markdown",
   "id": "6021871b",
   "metadata": {},
   "source": [
    "### Assignment 13: CSV File Operations\n",
    "\n",
    "Write a function that reads a CSV file named `data.csv` and prints its contents as a list of dictionaries."
   ]
  },
  {
   "cell_type": "code",
   "execution_count": 45,
   "id": "874d3aba",
   "metadata": {},
   "outputs": [
    {
     "data": {
      "text/plain": [
       "[{'first_name': 'Boondi', 'last_name': 'Hot', 'age': '36'},\n",
       " {'first_name': 'Jangri', 'last_name': 'Sweet', 'age': '35'},\n",
       " {'first_name': 'Jilebi', 'last_name': 'Sweeter', 'age': '37'}]"
      ]
     },
     "execution_count": 45,
     "metadata": {},
     "output_type": "execute_result"
    }
   ],
   "source": [
    "import csv\n",
    "def fetch_dictionaries(file_name):\n",
    "    with open(file_name,'r') as csvfp:\n",
    "        resp = csv.DictReader(csvfp)\n",
    "        return list(resp)\n",
    "\n",
    "\n",
    "fetch_dictionaries('data.csv')"
   ]
  },
  {
   "cell_type": "markdown",
   "id": "fdcc7e19",
   "metadata": {},
   "source": [
    "### Assignment 14: JSON File Operations\n",
    "\n",
    "Write a function that reads a JSON file named `data.json` and prints its contents as a Python dictionary."
   ]
  },
  {
   "cell_type": "code",
   "execution_count": 48,
   "id": "fa417efc",
   "metadata": {},
   "outputs": [
    {
     "data": {
      "text/plain": [
       "[{'first_name': 'Boondi', 'last_name': 'Hot', 'age': 36},\n",
       " {'first_name': 'Jangri', 'last_name': 'Sweet', 'age': 35},\n",
       " {'first_name': 'Jilebi', 'last_name': 'Sweeter', 'age': 37}]"
      ]
     },
     "execution_count": 48,
     "metadata": {},
     "output_type": "execute_result"
    }
   ],
   "source": [
    "import json\n",
    "def read_json(input_file):\n",
    "    with open(input_file,'r') as fp:\n",
    "        data = json.load(fp)\n",
    "        return data\n",
    "\n",
    "read_json('data.json')"
   ]
  },
  {
   "cell_type": "markdown",
   "id": "ec14e9bf",
   "metadata": {},
   "source": [
    "### Assignment 15: File Permission Handling\n",
    "\n",
    "Write a function that attempts to read a file named `protected.txt` and handles any permission errors gracefully by printing an error message."
   ]
  },
  {
   "cell_type": "code",
   "execution_count": 50,
   "id": "59d1b6e3",
   "metadata": {},
   "outputs": [
    {
     "ename": "FileNotFoundError",
     "evalue": "[Errno 2] No such file or directory: 'protected.txt'",
     "output_type": "error",
     "traceback": [
      "\u001b[1;31m---------------------------------------------------------------------------\u001b[0m",
      "\u001b[1;31mFileNotFoundError\u001b[0m                         Traceback (most recent call last)",
      "Cell \u001b[1;32mIn[50], line 8\u001b[0m\n\u001b[0;32m      5\u001b[0m     \u001b[38;5;28;01mexcept\u001b[39;00m \u001b[38;5;167;01mPermissionError\u001b[39;00m \u001b[38;5;28;01mas\u001b[39;00m fee:\n\u001b[0;32m      6\u001b[0m         \u001b[38;5;28mprint\u001b[39m(fee\u001b[38;5;241m.\u001b[39mmsg)\n\u001b[1;32m----> 8\u001b[0m \u001b[43mread_file2\u001b[49m\u001b[43m(\u001b[49m\u001b[38;5;124;43m'\u001b[39;49m\u001b[38;5;124;43mprotected.txt\u001b[39;49m\u001b[38;5;124;43m'\u001b[39;49m\u001b[43m)\u001b[49m\n",
      "Cell \u001b[1;32mIn[50], line 3\u001b[0m, in \u001b[0;36mread_file2\u001b[1;34m(file_name)\u001b[0m\n\u001b[0;32m      1\u001b[0m \u001b[38;5;28;01mdef\u001b[39;00m \u001b[38;5;21mread_file2\u001b[39m(file_name):\n\u001b[0;32m      2\u001b[0m     \u001b[38;5;28;01mtry\u001b[39;00m:\n\u001b[1;32m----> 3\u001b[0m         \u001b[38;5;28;01mwith\u001b[39;00m \u001b[38;5;28;43mopen\u001b[39;49m\u001b[43m(\u001b[49m\u001b[43mfile_name\u001b[49m\u001b[43m,\u001b[49m\u001b[38;5;124;43m'\u001b[39;49m\u001b[38;5;124;43mr\u001b[39;49m\u001b[38;5;124;43m'\u001b[39;49m\u001b[43m)\u001b[49m \u001b[38;5;28;01mas\u001b[39;00m fp:\n\u001b[0;32m      4\u001b[0m             \u001b[38;5;28mprint\u001b[39m(fp\u001b[38;5;241m.\u001b[39mread())\n\u001b[0;32m      5\u001b[0m     \u001b[38;5;28;01mexcept\u001b[39;00m \u001b[38;5;167;01mPermissionError\u001b[39;00m \u001b[38;5;28;01mas\u001b[39;00m fee:\n",
      "File \u001b[1;32mc:\\Users\\saakh\\Learning\\AI_ML\\Data_Analyst_Bootcamp\\PythonBasic\\venv\\Lib\\site-packages\\IPython\\core\\interactiveshell.py:324\u001b[0m, in \u001b[0;36m_modified_open\u001b[1;34m(file, *args, **kwargs)\u001b[0m\n\u001b[0;32m    317\u001b[0m \u001b[38;5;28;01mif\u001b[39;00m file \u001b[38;5;129;01min\u001b[39;00m {\u001b[38;5;241m0\u001b[39m, \u001b[38;5;241m1\u001b[39m, \u001b[38;5;241m2\u001b[39m}:\n\u001b[0;32m    318\u001b[0m     \u001b[38;5;28;01mraise\u001b[39;00m \u001b[38;5;167;01mValueError\u001b[39;00m(\n\u001b[0;32m    319\u001b[0m         \u001b[38;5;124mf\u001b[39m\u001b[38;5;124m\"\u001b[39m\u001b[38;5;124mIPython won\u001b[39m\u001b[38;5;124m'\u001b[39m\u001b[38;5;124mt let you open fd=\u001b[39m\u001b[38;5;132;01m{\u001b[39;00mfile\u001b[38;5;132;01m}\u001b[39;00m\u001b[38;5;124m by default \u001b[39m\u001b[38;5;124m\"\u001b[39m\n\u001b[0;32m    320\u001b[0m         \u001b[38;5;124m\"\u001b[39m\u001b[38;5;124mas it is likely to crash IPython. If you know what you are doing, \u001b[39m\u001b[38;5;124m\"\u001b[39m\n\u001b[0;32m    321\u001b[0m         \u001b[38;5;124m\"\u001b[39m\u001b[38;5;124myou can use builtins\u001b[39m\u001b[38;5;124m'\u001b[39m\u001b[38;5;124m open.\u001b[39m\u001b[38;5;124m\"\u001b[39m\n\u001b[0;32m    322\u001b[0m     )\n\u001b[1;32m--> 324\u001b[0m \u001b[38;5;28;01mreturn\u001b[39;00m \u001b[43mio_open\u001b[49m\u001b[43m(\u001b[49m\u001b[43mfile\u001b[49m\u001b[43m,\u001b[49m\u001b[43m \u001b[49m\u001b[38;5;241;43m*\u001b[39;49m\u001b[43margs\u001b[49m\u001b[43m,\u001b[49m\u001b[43m \u001b[49m\u001b[38;5;241;43m*\u001b[39;49m\u001b[38;5;241;43m*\u001b[39;49m\u001b[43mkwargs\u001b[49m\u001b[43m)\u001b[49m\n",
      "\u001b[1;31mFileNotFoundError\u001b[0m: [Errno 2] No such file or directory: 'protected.txt'"
     ]
    }
   ],
   "source": [
    "def read_file2(file_name):\n",
    "    try:\n",
    "        with open(file_name,'r') as fp:\n",
    "            print(fp.read())\n",
    "    except PermissionError as fee:\n",
    "        print(fee.msg)\n",
    "\n",
    "read_file2('protected.txt')"
   ]
  }
 ],
 "metadata": {
  "kernelspec": {
   "display_name": "Python 3",
   "language": "python",
   "name": "python3"
  },
  "language_info": {
   "codemirror_mode": {
    "name": "ipython",
    "version": 3
   },
   "file_extension": ".py",
   "mimetype": "text/x-python",
   "name": "python",
   "nbconvert_exporter": "python",
   "pygments_lexer": "ipython3",
   "version": "3.12.0"
  }
 },
 "nbformat": 4,
 "nbformat_minor": 5
}
