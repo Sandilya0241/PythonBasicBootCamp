{
 "cells": [
  {
   "cell_type": "markdown",
   "metadata": {},
   "source": [
    "# Module 5: Modules and Packages Assignments\n",
    "## Lesson 5.1: Importing Modules\n",
    "### Assignment 1: Importing and Using Modules\n",
    "\n",
    "Import the `math` module and use it to calculate the square root of 25 and the sine of 90 degrees."
   ]
  },
  {
   "cell_type": "code",
   "execution_count": 2,
   "metadata": {},
   "outputs": [
    {
     "name": "stdout",
     "output_type": "stream",
     "text": [
      "5.0\n",
      "1.0\n"
     ]
    }
   ],
   "source": [
    "from math import sqrt,sin,radians\n",
    "print(sqrt(25))\n",
    "print(sin(radians(90)))"
   ]
  },
  {
   "cell_type": "markdown",
   "id": "ef6105ed",
   "metadata": {},
   "source": [
    "### Assignment 2: Aliasing Modules\n",
    "\n",
    "Import the `datetime` module with an alias and use it to print the current date and time."
   ]
  },
  {
   "cell_type": "code",
   "execution_count": 3,
   "id": "8185d355",
   "metadata": {},
   "outputs": [
    {
     "name": "stdout",
     "output_type": "stream",
     "text": [
      "2024-12-10 18:23:14.790724\n"
     ]
    }
   ],
   "source": [
    "from datetime import datetime\n",
    "print(datetime.now())"
   ]
  },
  {
   "cell_type": "markdown",
   "id": "bcd2f5a4",
   "metadata": {},
   "source": [
    "### Assignment 3: Importing Specific Functions\n",
    "\n",
    "Import the `randint` function from the `random` module and use it to generate a random integer between 1 and 100."
   ]
  },
  {
   "cell_type": "code",
   "execution_count": 5,
   "id": "0bb501d1",
   "metadata": {},
   "outputs": [
    {
     "name": "stdout",
     "output_type": "stream",
     "text": [
      "81\n"
     ]
    }
   ],
   "source": [
    "from random import randint\n",
    "print(randint(1,100))"
   ]
  },
  {
   "cell_type": "markdown",
   "id": "fdc26cc2",
   "metadata": {},
   "source": [
    "### Assignment 4: Importing Multiple Functions\n",
    "\n",
    "Import the `sqrt` and `pow` functions from the `math` module and use them to calculate the square root of 16 and 2 raised to the power of 3."
   ]
  },
  {
   "cell_type": "code",
   "execution_count": 6,
   "id": "532fd4c8",
   "metadata": {},
   "outputs": [
    {
     "name": "stdout",
     "output_type": "stream",
     "text": [
      "4.0\n",
      "8.0\n"
     ]
    }
   ],
   "source": [
    "from math import sqrt,pow\n",
    "print(sqrt(16))\n",
    "print(pow(2,3))"
   ]
  },
  {
   "cell_type": "markdown",
   "id": "0c399423",
   "metadata": {},
   "source": [
    "### Assignment 5: Handling Import Errors\n",
    "\n",
    "Write code that attempts to import a non-existent module and gracefully handles the import error by printing an error message."
   ]
  },
  {
   "cell_type": "code",
   "execution_count": 10,
   "id": "bbac541d",
   "metadata": {},
   "outputs": [
    {
     "name": "stdout",
     "output_type": "stream",
     "text": [
      "Error importing : No module named 'non_existent_module'\n"
     ]
    }
   ],
   "source": [
    "try:\n",
    "    import non_existent_module\n",
    "except ImportError as ie:\n",
    "    print(f'Error importing : {ie}')"
   ]
  },
  {
   "cell_type": "markdown",
   "id": "3f274600",
   "metadata": {},
   "source": [
    "## Lesson 5.2: Standard Library Overview\n",
    "### Assignment 6: Working with the `os` Module\n",
    "\n",
    "Use the `os` module to create a new directory, list the contents of the current directory, and remove the newly created directory."
   ]
  },
  {
   "cell_type": "code",
   "execution_count": 11,
   "id": "cc97f2a3",
   "metadata": {},
   "outputs": [
    {
     "name": "stdout",
     "output_type": "stream",
     "text": [
      "5.1-import.ipynb\n",
      "5.2-Standardlibraries.ipynb\n",
      "custom_package\n",
      "destination.txt\n",
      "example.csv\n",
      "NewDir\n",
      "packagesquestion.ipynb\n",
      "source.txt\n",
      "test.py\n",
      "Testdir\n"
     ]
    }
   ],
   "source": [
    "import os\n",
    "import time\n",
    "os.mkdir(\"NewDir\")\n",
    "\n",
    "for files in os.listdir('.'):\n",
    "    print(files)\n",
    "\n",
    "time.sleep(10)\n",
    "os.rmdir(\"NewDir\")"
   ]
  },
  {
   "cell_type": "markdown",
   "id": "a60b3f8b",
   "metadata": {},
   "source": [
    "### Assignment 7: Working with the `sys` Module\n",
    "\n",
    "Use the `sys` module to print the Python version currently in use and the command-line arguments passed to the script."
   ]
  },
  {
   "cell_type": "code",
   "execution_count": 12,
   "id": "55551718",
   "metadata": {},
   "outputs": [
    {
     "name": "stdout",
     "output_type": "stream",
     "text": [
      "3.12.0 | packaged by Anaconda, Inc. | (main, Oct  2 2023, 17:20:38) [MSC v.1916 64 bit (AMD64)]\n",
      "c:\\Users\\saakh\\Learning\\AI_ML\\Data_Analyst_Bootcamp\\PythonBasic\\venv\\Lib\\site-packages\\ipykernel_launcher.py\n",
      "--f=c:\\Users\\saakh\\AppData\\Roaming\\jupyter\\runtime\\kernel-v3a90a4ebc062d582723653bc4a66d824a990f9770.json\n"
     ]
    }
   ],
   "source": [
    "import sys\n",
    "print(sys.version)\n",
    "for arg in sys.argv:\n",
    "    print(arg)"
   ]
  },
  {
   "cell_type": "markdown",
   "id": "7be60b65",
   "metadata": {},
   "source": [
    "### Assignment 8: Working with the `math` Module\n",
    "\n",
    "Use the `math` module to calculate the greatest common divisor (GCD) of two numbers and the factorial of a number."
   ]
  },
  {
   "cell_type": "code",
   "execution_count": 14,
   "id": "7c1bb659",
   "metadata": {},
   "outputs": [
    {
     "name": "stdout",
     "output_type": "stream",
     "text": [
      "Factorial of 6 is : 720\n",
      "GCD of 40,32 is : 8\n"
     ]
    }
   ],
   "source": [
    "from math import factorial,gcd\n",
    "print(f'Factorial of 6 is : {factorial(6)}')\n",
    "print(f'GCD of 40,32 is : {gcd(40,32)}')"
   ]
  },
  {
   "cell_type": "markdown",
   "id": "c8e4f92c",
   "metadata": {},
   "source": [
    "### Assignment 9: Working with the `datetime` Module\n",
    "\n",
    "Use the `datetime` module to print the current date, calculate the date 100 days from today, and determine the day of the week for a given date."
   ]
  },
  {
   "cell_type": "code",
   "execution_count": 21,
   "id": "88555743",
   "metadata": {},
   "outputs": [
    {
     "name": "stdout",
     "output_type": "stream",
     "text": [
      "Current date : 2024-12-10\n",
      "Day of the week : 10\n",
      "100 days past current date : 2025-03-20\n",
      "Day of the givendate is Saturday\n"
     ]
    }
   ],
   "source": [
    "import datetime\n",
    "current_date = datetime.date.today()\n",
    "print(f'Current date : {current_date}')\n",
    "print(f'Day of the week : {current_date.day}')\n",
    "days100_past_curr_date = current_date+datetime.timedelta(days=100)\n",
    "print(f'100 days past current date : {days100_past_curr_date}')\n",
    "\n",
    "# Day of the week for a given date\n",
    "given_date = datetime.date(2022, 1, 1)\n",
    "print(f'Day of the givendate is {given_date.strftime('%A')}')"
   ]
  },
  {
   "cell_type": "markdown",
   "id": "0d46b347",
   "metadata": {},
   "source": [
    "### Assignment 10: Working with the `random` Module\n",
    "\n",
    "Use the `random` module to generate a list of 5 random numbers between 1 and 50 and shuffle the elements of a list."
   ]
  },
  {
   "cell_type": "code",
   "execution_count": 22,
   "id": "fcd2e8ed",
   "metadata": {},
   "outputs": [
    {
     "name": "stdout",
     "output_type": "stream",
     "text": [
      "[34, 24, 19, 4, 22]\n",
      "[2, 5, 1, 4, 3]\n"
     ]
    }
   ],
   "source": [
    "from random import randint,shuffle\n",
    "\n",
    "lst_random_nums = [randint(1,50) for _ in range(5)]\n",
    "print(lst_random_nums)\n",
    "\n",
    "lst = [1,2,3,4,5]\n",
    "shuffle(lst)\n",
    "\n",
    "print(lst)"
   ]
  },
  {
   "cell_type": "markdown",
   "id": "2feb0db1",
   "metadata": {},
   "source": [
    "## Lesson 5.3: Creating and Using Packages\n",
    "### Assignment 11: Creating a Simple Package\n",
    "\n",
    "Create a package named `mypackage` with two modules: `module1` and `module2`. `module1` should contain a function that adds two numbers, and `module2` should contain a function that multiplies two numbers. Write code to use these functions."
   ]
  },
  {
   "cell_type": "code",
   "execution_count": 26,
   "id": "ea1b6d1e",
   "metadata": {},
   "outputs": [],
   "source": [
    "## assignment folder/example1"
   ]
  },
  {
   "cell_type": "markdown",
   "id": "d664e72d",
   "metadata": {},
   "source": [
    "### Assignment 12: Using `__init__.py`\n",
    "\n",
    "Modify the `mypackage` package to include an `__init__.py` file that imports the functions from `module1` and `module2`. Write code to use these functions."
   ]
  },
  {
   "cell_type": "code",
   "execution_count": 25,
   "id": "91691334",
   "metadata": {},
   "outputs": [],
   "source": [
    "## assignment folder/example2"
   ]
  },
  {
   "cell_type": "markdown",
   "id": "c5b05263",
   "metadata": {},
   "source": [
    "### Assignment 13: Importing from a Package\n",
    "\n",
    "Write code to import and use the functions from `mypackage` without explicitly importing `module1` and `module2`."
   ]
  },
  {
   "cell_type": "code",
   "execution_count": 27,
   "id": "accbf22f",
   "metadata": {},
   "outputs": [],
   "source": [
    "## assignment folder/example2"
   ]
  },
  {
   "cell_type": "markdown",
   "id": "2ee3166e",
   "metadata": {},
   "source": [
    "### Assignment 14: Relative Imports\n",
    "\n",
    "Create a subpackage named `subpackage` within `mypackage` and move `module2` into `subpackage`. Modify the import statements in `__init__.py` to use relative imports. Write code to use the functions from both modules."
   ]
  },
  {
   "cell_type": "code",
   "execution_count": null,
   "id": "19d237e4",
   "metadata": {},
   "outputs": [],
   "source": [
    "## assignment folder/example3"
   ]
  },
  {
   "cell_type": "markdown",
   "id": "aed31a96",
   "metadata": {},
   "source": [
    "### Assignment 15: Handling Package Import Errors\n",
    "\n",
    "Write code that attempts to import a non-existent function from `mypackage` and gracefully handles the import error by printing an error message."
   ]
  },
  {
   "cell_type": "code",
   "execution_count": 30,
   "id": "7d902d6b",
   "metadata": {},
   "outputs": [
    {
     "name": "stdout",
     "output_type": "stream",
     "text": [
      "Error occurred : cannot import name 'non_existent' from 'assignment_folder.example1.mypackage.module2' (c:\\Users\\saakh\\Learning\\AI_ML\\Data_Analyst_Bootcamp\\PythonBasic\\5-Modules\\assignment_folder\\example1\\mypackage\\module2.py)\n"
     ]
    }
   ],
   "source": [
    "try:\n",
    "    from assignment_folder.example1.mypackage.module2 import non_existent\n",
    "except ImportError as ie:\n",
    "    print(f'Error occurred : {ie}')"
   ]
  },
  {
   "cell_type": "code",
   "execution_count": null,
   "id": "81bbe38c",
   "metadata": {},
   "outputs": [],
   "source": []
  }
 ],
 "metadata": {
  "kernelspec": {
   "display_name": "Python 3",
   "language": "python",
   "name": "python3"
  },
  "language_info": {
   "codemirror_mode": {
    "name": "ipython",
    "version": 3
   },
   "file_extension": ".py",
   "mimetype": "text/x-python",
   "name": "python",
   "nbconvert_exporter": "python",
   "pygments_lexer": "ipython3",
   "version": "3.12.0"
  }
 },
 "nbformat": 4,
 "nbformat_minor": 5
}
