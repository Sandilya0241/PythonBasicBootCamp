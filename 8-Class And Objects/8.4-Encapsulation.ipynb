{
 "cells": [
  {
   "cell_type": "markdown",
   "metadata": {},
   "source": [
    "### Encapsulation and Abstraction\n",
    "* Encapsulation and Abstraction are two fundamental principles of Object-Oriented Programming (OOP) that helps designing robust, maintainable, and reusable code.\n",
    "* Encapsulation involves bundling data and methods that operate on the data within a single unit, while Abstraction involves hiding complex implementation details and exposing only necessary features. "
   ]
  },
  {
   "cell_type": "markdown",
   "metadata": {},
   "source": [
    "### Encapsulation:\n",
    "* Encapsulation is the concept of wrapping data(variables) and methods(functions) together as a single unit.\n",
    "* It restricts direct access to some of the object's components, which is a means of preventing accidental interference and misuse of data."
   ]
  },
  {
   "cell_type": "code",
   "execution_count": 1,
   "metadata": {},
   "outputs": [
    {
     "name": "stdout",
     "output_type": "stream",
     "text": [
      "Sandy\n"
     ]
    }
   ],
   "source": [
    "## Encapsulation\n",
    "## Public, Protected and Private Variables\n",
    "\n",
    "class Person:\n",
    "    def __init__(self, name, age):\n",
    "        ## Public variables are that can be accessed outside the class implementation\n",
    "        self.name = name    # Public Variable\n",
    "        self.age = age      # Public Variable\n",
    "\n",
    "\n",
    "def get_name(person):\n",
    "    ## name is available outside class implementation\n",
    "    return person.name\n",
    "\n",
    "person = Person('Sandy', 36)\n",
    "print(get_name(person))\n",
    "\n",
    "\n",
    "\n",
    "    "
   ]
  },
  {
   "cell_type": "code",
   "execution_count": 2,
   "metadata": {},
   "outputs": [
    {
     "data": {
      "text/plain": [
       "['__class__',\n",
       " '__delattr__',\n",
       " '__dict__',\n",
       " '__dir__',\n",
       " '__doc__',\n",
       " '__eq__',\n",
       " '__format__',\n",
       " '__ge__',\n",
       " '__getattribute__',\n",
       " '__getstate__',\n",
       " '__gt__',\n",
       " '__hash__',\n",
       " '__init__',\n",
       " '__init_subclass__',\n",
       " '__le__',\n",
       " '__lt__',\n",
       " '__module__',\n",
       " '__ne__',\n",
       " '__new__',\n",
       " '__reduce__',\n",
       " '__reduce_ex__',\n",
       " '__repr__',\n",
       " '__setattr__',\n",
       " '__sizeof__',\n",
       " '__str__',\n",
       " '__subclasshook__',\n",
       " '__weakref__',\n",
       " 'age',\n",
       " 'name']"
      ]
     },
     "execution_count": 2,
     "metadata": {},
     "output_type": "execute_result"
    }
   ],
   "source": [
    "## Lets check dir\n",
    "dir(person)\n",
    "##\n",
    "# \n",
    "# ['__class__',\n",
    "#  '__delattr__',\n",
    "#  '__dict__',\n",
    "#  '__dir__',\n",
    "#  '__doc__',\n",
    "#  '__eq__',\n",
    "#  '__format__',\n",
    "#  '__ge__',\n",
    "#  '__getattribute__',\n",
    "#  '__getstate__',\n",
    "#  '__gt__',\n",
    "#  '__hash__',\n",
    "#  '__init__',\n",
    "#  '__init_subclass__',\n",
    "#  '__le__',\n",
    "#  '__lt__',\n",
    "#  '__module__',\n",
    "#  '__ne__',\n",
    "#  '__new__',\n",
    "#  '__reduce__',\n",
    "#  '__reduce_ex__',\n",
    "#  '__repr__',\n",
    "#  '__setattr__',\n",
    "#  '__sizeof__',\n",
    "#  '__str__',\n",
    "#  '__subclasshook__',\n",
    "#  '__weakref__',\n",
    "#  'age',\n",
    "#  'name']\n",
    "# \n",
    "# \n",
    "# \n",
    "# #\n"
   ]
  },
  {
   "cell_type": "code",
   "execution_count": 3,
   "metadata": {},
   "outputs": [
    {
     "ename": "AttributeError",
     "evalue": "'Person' object has no attribute '__name'",
     "output_type": "error",
     "traceback": [
      "\u001b[1;31m---------------------------------------------------------------------------\u001b[0m",
      "\u001b[1;31mAttributeError\u001b[0m                            Traceback (most recent call last)",
      "Cell \u001b[1;32mIn[3], line 16\u001b[0m\n\u001b[0;32m     13\u001b[0m     \u001b[38;5;28;01mreturn\u001b[39;00m person\u001b[38;5;241m.\u001b[39m__name\n\u001b[0;32m     15\u001b[0m person \u001b[38;5;241m=\u001b[39m Person(\u001b[38;5;124m'\u001b[39m\u001b[38;5;124mSandy\u001b[39m\u001b[38;5;124m'\u001b[39m, \u001b[38;5;241m36\u001b[39m, \u001b[38;5;124m'\u001b[39m\u001b[38;5;124mMale\u001b[39m\u001b[38;5;124m'\u001b[39m)\n\u001b[1;32m---> 16\u001b[0m \u001b[43mget_name\u001b[49m\u001b[43m(\u001b[49m\u001b[43mperson\u001b[49m\u001b[43m)\u001b[49m\n",
      "Cell \u001b[1;32mIn[3], line 13\u001b[0m, in \u001b[0;36mget_name\u001b[1;34m(person)\u001b[0m\n\u001b[0;32m     11\u001b[0m \u001b[38;5;28;01mdef\u001b[39;00m \u001b[38;5;21mget_name\u001b[39m(person):\n\u001b[0;32m     12\u001b[0m     \u001b[38;5;66;03m## name is available outside class implementation\u001b[39;00m\n\u001b[1;32m---> 13\u001b[0m     \u001b[38;5;28;01mreturn\u001b[39;00m \u001b[43mperson\u001b[49m\u001b[38;5;241;43m.\u001b[39;49m\u001b[43m__name\u001b[49m\n",
      "\u001b[1;31mAttributeError\u001b[0m: 'Person' object has no attribute '__name'"
     ]
    }
   ],
   "source": [
    "## Let us explore Private Variables\n",
    "\n",
    "class Person:\n",
    "    def __init__(self, name, age, gender):\n",
    "        ## Private variables are that can not be accessed outside the class implementation and not even from derived classes\n",
    "        self.__name = name    # Private Variable\n",
    "        self.__age = age      # Private Variable\n",
    "        self.gender = gender  # Public Variable\n",
    "\n",
    "\n",
    "def get_name(person):\n",
    "    ## name is available outside class implementation\n",
    "    return person.__name\n",
    "\n",
    "person = Person('Sandy', 36, 'Male')\n",
    "get_name(person)"
   ]
  },
  {
   "cell_type": "code",
   "execution_count": 4,
   "metadata": {},
   "outputs": [
    {
     "data": {
      "text/plain": [
       "['_Person__age',\n",
       " '_Person__name',\n",
       " '__class__',\n",
       " '__delattr__',\n",
       " '__dict__',\n",
       " '__dir__',\n",
       " '__doc__',\n",
       " '__eq__',\n",
       " '__format__',\n",
       " '__ge__',\n",
       " '__getattribute__',\n",
       " '__getstate__',\n",
       " '__gt__',\n",
       " '__hash__',\n",
       " '__init__',\n",
       " '__init_subclass__',\n",
       " '__le__',\n",
       " '__lt__',\n",
       " '__module__',\n",
       " '__ne__',\n",
       " '__new__',\n",
       " '__reduce__',\n",
       " '__reduce_ex__',\n",
       " '__repr__',\n",
       " '__setattr__',\n",
       " '__sizeof__',\n",
       " '__str__',\n",
       " '__subclasshook__',\n",
       " '__weakref__',\n",
       " 'gender']"
      ]
     },
     "execution_count": 4,
     "metadata": {},
     "output_type": "execute_result"
    }
   ],
   "source": [
    "dir(person)\n",
    "###\n",
    "# ['_Person__age',\n",
    "#  '_Person__name',\n",
    "#  '__class__',\n",
    "#  '__delattr__',\n",
    "#  '__dict__',\n",
    "#  '__dir__',\n",
    "#  '__doc__',\n",
    "#  '__eq__',\n",
    "#  '__format__',\n",
    "#  '__ge__',\n",
    "#  '__getattribute__',\n",
    "#  '__getstate__',\n",
    "#  '__gt__',\n",
    "#  '__hash__',\n",
    "#  '__init__',\n",
    "#  '__init_subclass__',\n",
    "#  '__le__',\n",
    "#  '__lt__',\n",
    "#  '__module__',\n",
    "#  '__ne__',\n",
    "#  '__new__',\n",
    "#  '__reduce__',\n",
    "#  '__reduce_ex__',\n",
    "#  '__repr__',\n",
    "#  '__setattr__',\n",
    "#  '__sizeof__',\n",
    "#  '__str__',\n",
    "#  '__subclasshook__',\n",
    "#  '__weakref__',\n",
    "#  'gender']\n",
    " \n",
    "# #"
   ]
  },
  {
   "cell_type": "code",
   "execution_count": 9,
   "metadata": {},
   "outputs": [
    {
     "name": "stdout",
     "output_type": "stream",
     "text": [
      "Sandy\n",
      "Sandy\n"
     ]
    }
   ],
   "source": [
    "## Let us explore Protected Variables\n",
    "\n",
    "class Person:\n",
    "    def __init__(self, name, age, gender):\n",
    "        ## Protected variables are that can not be accessed outside the class implementation and can be accessed from derived classes\n",
    "        self._name = name    # Protected Variable\n",
    "        self._age = age      # Protected Variable\n",
    "        self.gender = gender  # Public Variable\n",
    "\n",
    "\n",
    "class Employee(Person):\n",
    "    def __init__(self,name,age,gender):\n",
    "        super().__init__(name, age, gender)\n",
    "\n",
    "\n",
    "person = Employee('Sandy', 36, 'Male')\n",
    "print(person._name)\n",
    "\n",
    "person1 = Person('Sandy', 36, 'Male')\n",
    "print(person1._name)"
   ]
  },
  {
   "cell_type": "code",
   "execution_count": 13,
   "metadata": {},
   "outputs": [
    {
     "name": "stdout",
     "output_type": "stream",
     "text": [
      "Sandy is 36 year(s) of age!!!\n",
      "Sandilya is 36 year(s) of age!!!\n"
     ]
    }
   ],
   "source": [
    "## Encapsulating with Getter and Setter methods\n",
    "class Person:\n",
    "    def __init__(self, name, age):\n",
    "        self.__name = name\n",
    "        self.__age = age\n",
    "\n",
    "\n",
    "    def get_name(self):\n",
    "        return self.__name\n",
    "    \n",
    "\n",
    "    def get_age(self):\n",
    "        return self.__age\n",
    "    \n",
    "\n",
    "    def set_name(self, name):\n",
    "        self.__name = name\n",
    "\n",
    "    \n",
    "    def set_age(self, age):\n",
    "        self.__age = age\n",
    "\n",
    "    \n",
    "    def __str__(self):\n",
    "        return f'{self.__name} is {self.__age} year(s) of age!!!'\n",
    "    \n",
    "\n",
    "person = Person('Sandy', 36)\n",
    "\n",
    "print(person)\n",
    "\n",
    "person.set_name('Sandilya')\n",
    "\n",
    "print(person)"
   ]
  },
  {
   "cell_type": "code",
   "execution_count": 14,
   "metadata": {},
   "outputs": [
    {
     "name": "stdout",
     "output_type": "stream",
     "text": [
      "Sandy is 36 year(s) of age!!!\n",
      "36\n",
      "Sandilya is 36 year(s) of age!!!\n",
      "Sandilya\n"
     ]
    }
   ],
   "source": [
    "## Encapsulating with Getter and Setter methods - II\n",
    "class Person:\n",
    "    def __init__(self, name, age):\n",
    "        self.__name = name\n",
    "        self.__age = age\n",
    "\n",
    "    @property\n",
    "    def name(self):\n",
    "        return self.__name\n",
    "    \n",
    "    @property\n",
    "    def age(self):\n",
    "        return self.__age\n",
    "    \n",
    "    @name.setter\n",
    "    def name(self, name):\n",
    "        self.__name = name\n",
    "\n",
    "    @age.setter\n",
    "    def set_age(self, age):\n",
    "        self.__age = age\n",
    "\n",
    "    \n",
    "    def __str__(self):\n",
    "        return f'{self.__name} is {self.__age} year(s) of age!!!'\n",
    "    \n",
    "\n",
    "person = Person('Sandy', 36)\n",
    "\n",
    "print(person)\n",
    "print(person.age)\n",
    "\n",
    "person.name = 'Sandilya'\n",
    "\n",
    "print(person)\n",
    "print(person.name)"
   ]
  },
  {
   "cell_type": "code",
   "execution_count": null,
   "metadata": {},
   "outputs": [],
   "source": []
  }
 ],
 "metadata": {
  "kernelspec": {
   "display_name": "Python 3",
   "language": "python",
   "name": "python3"
  },
  "language_info": {
   "codemirror_mode": {
    "name": "ipython",
    "version": 3
   },
   "file_extension": ".py",
   "mimetype": "text/x-python",
   "name": "python",
   "nbconvert_exporter": "python",
   "pygments_lexer": "ipython3",
   "version": "3.12.0"
  }
 },
 "nbformat": 4,
 "nbformat_minor": 2
}
