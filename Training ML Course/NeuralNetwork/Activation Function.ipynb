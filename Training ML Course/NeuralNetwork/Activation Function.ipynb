{
 "cells": [
  {
   "cell_type": "code",
   "execution_count": 1,
   "id": "f3d05745-5d5f-45bd-aa90-14f12fb5765d",
   "metadata": {},
   "outputs": [
    {
     "data": {
      "application/vnd.jupyter.widget-view+json": {
       "model_id": "6961ba295c044d539b3a907ec762a855",
       "version_major": 2,
       "version_minor": 0
      },
      "text/plain": [
       "interactive(children=(FloatSlider(value=0.0, description='Bias', max=10.0, min=-10.0), Output()), _dom_classes…"
      ]
     },
     "metadata": {},
     "output_type": "display_data"
    }
   ],
   "source": [
    "import numpy as np\n",
    "import matplotlib.pyplot as plt\n",
    "from ipywidgets import interact, FloatSlider\n",
    "\n",
    "def relu_with_bias(x, bias):\n",
    "    return np.maximum(0, x + bias)\n",
    "\n",
    "def plot_relu_with_bias(bias):\n",
    "    x = np.linspace(-10, 10, 400)\n",
    "    y = relu_with_bias(x, bias)\n",
    "    plt.figure(figsize=(8, 4))\n",
    "    plt.plot(x, y, label=f'ReLU(x + {bias:.2f})')\n",
    "    plt.axvline(x=0, color='teal', linestyle='--', label=f'Zero Crossing: x = {-bias:.2f}')\n",
    "    plt.axvline(x=-bias, color='red', linestyle='--', label=f'Zero Crossing: x = {-bias:.2f}')\n",
    "    plt.title('ReLU Activation with Bias')\n",
    "    plt.xlabel('Input (x)')\n",
    "    plt.ylabel('Output') \n",
    "    plt.grid(True)\n",
    "    plt.legend()\n",
    "    plt.ylim(-1, 6)\n",
    "    plt.show()\n",
    "\n",
    "# Widget for bias: range from -3 to +3 for clear effect\n",
    "interact(plot_relu_with_bias, bias=FloatSlider(value=0, min=-10, max=10, step=0.1, description='Bias'));\n"
   ]
  },
  {
   "cell_type": "code",
   "execution_count": 7,
   "id": "e362eb04-3cde-465d-829c-d4fac07ecedd",
   "metadata": {},
   "outputs": [
    {
     "data": {
      "application/vnd.jupyter.widget-view+json": {
       "model_id": "a28405d05f7e4e3f9a3457c7a836c98d",
       "version_major": 2,
       "version_minor": 0
      },
      "text/plain": [
       "interactive(children=(FloatSlider(value=0.0, description='Bias', max=10.0, min=-10.0), Output()), _dom_classes…"
      ]
     },
     "metadata": {},
     "output_type": "display_data"
    }
   ],
   "source": [
    "import numpy as np\n",
    "import matplotlib.pyplot as plt\n",
    "from ipywidgets import interact, FloatSlider\n",
    "\n",
    "def sig_with_bias(x, bias):\n",
    "    return 1/(1+np.exp(-(x+bias)))\n",
    "\n",
    "def plot_sig_with_bias(bias):\n",
    "    x = np.linspace(-10, 10, 400)\n",
    "    y = sig_with_bias(x, bias)\n",
    "    plt.figure(figsize=(8, 4))\n",
    "    plt.plot(x, y, label=f'Sigmoid(x + {bias:.2f})')\n",
    "    plt.axvline(x=0, color='teal', linestyle='--', label=f'Zero Crossing: x = {-bias:.2f}')\n",
    "    plt.axvline(x=-bias, color='red', linestyle='--', label=f'Zero Crossing: x = {-bias:.2f}')\n",
    "    plt.title('Sigmoid Activation with Bias')\n",
    "    plt.xlabel('Input (x)')\n",
    "    plt.ylabel('Output')\n",
    "    plt.grid(True)\n",
    "    plt.legend()\n",
    "    plt.ylim(-0.5, 1.5)\n",
    "    plt.show()\n",
    "\n",
    "# Widget for bias: range from -3 to +3 for clear effect\n",
    "interact(plot_sig_with_bias, bias=FloatSlider(value=0, min=-10, max=10, step=0.1, description='Bias'));\n"
   ]
  },
  {
   "cell_type": "code",
   "execution_count": null,
   "id": "4e72cbec-60cd-4294-80e0-5f1875eb55e1",
   "metadata": {},
   "outputs": [],
   "source": []
  }
 ],
 "metadata": {
  "kernelspec": {
   "display_name": "Python 3 (ipykernel)",
   "language": "python",
   "name": "python3"
  },
  "language_info": {
   "codemirror_mode": {
    "name": "ipython",
    "version": 3
   },
   "file_extension": ".py",
   "mimetype": "text/x-python",
   "name": "python",
   "nbconvert_exporter": "python",
   "pygments_lexer": "ipython3",
   "version": "3.10.16"
  }
 },
 "nbformat": 4,
 "nbformat_minor": 5
}
