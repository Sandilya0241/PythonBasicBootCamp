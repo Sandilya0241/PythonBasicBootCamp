{
 "cells": [
  {
   "cell_type": "markdown",
   "metadata": {},
   "source": [
    "### Understanding Exceptions\n",
    "* Exception Handling in Python allows us to handle error gracefully and take corrective actions without stopping the execution of the program.\n",
    "* This session will cover the basics of exceptions, including how to use try, except, else and finally blocks.\n",
    "\n",
    "#### What are Exceptions?\n",
    "* Exceptions are events that disrupt the normal flow of a program.\n",
    "* They occur when an error is encountered during program execution.\n",
    "* Common exceptions include:\n",
    "    - ZeroDivisionError - Dividing by Zero.\n",
    "    - FileNotFoundError - File not found.\n",
    "    - ValueError - Invalid value.\n",
    "    - TypeError - Invalid type."
   ]
  },
  {
   "cell_type": "code",
   "execution_count": 1,
   "metadata": {},
   "outputs": [
    {
     "name": "stdout",
     "output_type": "stream",
     "text": [
      "The variable has not been assigned\n"
     ]
    }
   ],
   "source": [
    "## Try Except block usage\n",
    "try:\n",
    "    a=b\n",
    "except:\n",
    "    print(\"The variable has not been assigned\")"
   ]
  },
  {
   "cell_type": "code",
   "execution_count": 3,
   "metadata": {},
   "outputs": [
    {
     "name": "stdout",
     "output_type": "stream",
     "text": [
      "name 'b' is not defined\n"
     ]
    }
   ],
   "source": [
    "## Try Except block usage\n",
    "try:\n",
    "    a=b\n",
    "except NameError as ne:\n",
    "    print(ne)"
   ]
  },
  {
   "cell_type": "code",
   "execution_count": 6,
   "metadata": {},
   "outputs": [
    {
     "name": "stdout",
     "output_type": "stream",
     "text": [
      "division by zero\n",
      "Please enter denominator greater than 0\n"
     ]
    }
   ],
   "source": [
    "try:\n",
    "    result = 1/0\n",
    "except ZeroDivisionError as ze:\n",
    "    print(ze)\n",
    "    print(\"Please enter denominator greater than 0\")"
   ]
  },
  {
   "cell_type": "code",
   "execution_count": 7,
   "metadata": {},
   "outputs": [
    {
     "ename": "NameError",
     "evalue": "name 'b' is not defined",
     "output_type": "error",
     "traceback": [
      "\u001b[1;31m---------------------------------------------------------------------------\u001b[0m",
      "\u001b[1;31mNameError\u001b[0m                                 Traceback (most recent call last)",
      "Cell \u001b[1;32mIn[7], line 3\u001b[0m\n\u001b[0;32m      1\u001b[0m \u001b[38;5;28;01mtry\u001b[39;00m:\n\u001b[0;32m      2\u001b[0m     result \u001b[38;5;241m=\u001b[39m \u001b[38;5;241m1\u001b[39m\u001b[38;5;241m/\u001b[39m\u001b[38;5;241m2\u001b[39m\n\u001b[1;32m----> 3\u001b[0m     a \u001b[38;5;241m=\u001b[39m \u001b[43mb\u001b[49m\n\u001b[0;32m      4\u001b[0m \u001b[38;5;28;01mexcept\u001b[39;00m \u001b[38;5;167;01mZeroDivisionError\u001b[39;00m \u001b[38;5;28;01mas\u001b[39;00m ze:\n\u001b[0;32m      5\u001b[0m     \u001b[38;5;28mprint\u001b[39m(ze)\n",
      "\u001b[1;31mNameError\u001b[0m: name 'b' is not defined"
     ]
    }
   ],
   "source": [
    "try:\n",
    "    result = 1/2\n",
    "    a = b\n",
    "except ZeroDivisionError as ze:\n",
    "    print(ze)\n",
    "    print(\"Please enter denominator greater than 0\")"
   ]
  },
  {
   "cell_type": "code",
   "execution_count": 9,
   "metadata": {},
   "outputs": [
    {
     "name": "stdout",
     "output_type": "stream",
     "text": [
      "name 'b' is not defined\n",
      "Main exception occurred\n"
     ]
    }
   ],
   "source": [
    "try:\n",
    "    result = 1/2\n",
    "    a = b\n",
    "except ZeroDivisionError as ze:\n",
    "    print(ze)\n",
    "    print(\"Please enter denominator greater than 0\")\n",
    "except Exception as ex:\n",
    "    print(ex)\n",
    "    print('Main exception occurred')"
   ]
  },
  {
   "cell_type": "code",
   "execution_count": 14,
   "metadata": {},
   "outputs": [],
   "source": [
    "try:\n",
    "    num = int(input('Please provide input value:'))\n",
    "    result = 10 / num\n",
    "\n",
    "except ValueError as ve:\n",
    "    print(\"Invalid number entered\")\n",
    "except ZeroDivisionError as ze:\n",
    "    print(ze)\n",
    "except Exception as ex:\n",
    "    print(ex)"
   ]
  },
  {
   "cell_type": "code",
   "execution_count": 18,
   "metadata": {},
   "outputs": [
    {
     "name": "stdout",
     "output_type": "stream",
     "text": [
      "Invalid number entered\n"
     ]
    }
   ],
   "source": [
    "## Try Except and Else block\n",
    "\n",
    "try:\n",
    "    num = int(input('Enter a number:'))\n",
    "    result = 10 / num    \n",
    "except ValueError as ve:\n",
    "    print(\"Invalid number entered\")\n",
    "except ZeroDivisionError as ze:\n",
    "    print(ze)\n",
    "except Exception as ex:\n",
    "    print(ex)\n",
    "else:\n",
    "    print(result)"
   ]
  },
  {
   "cell_type": "code",
   "execution_count": 21,
   "metadata": {},
   "outputs": [
    {
     "name": "stdout",
     "output_type": "stream",
     "text": [
      "division by zero\n",
      "Execution completed!!!\n"
     ]
    }
   ],
   "source": [
    "### try, except, else and finally\n",
    "\n",
    "try:\n",
    "    num = int(input('Enter a number:'))\n",
    "    result = 10 / num    \n",
    "except ValueError as ve:\n",
    "    print(\"Invalid number entered\")\n",
    "except ZeroDivisionError as ze:\n",
    "    print(ze)\n",
    "except Exception as ex:\n",
    "    print(ex)\n",
    "else:\n",
    "    print(result)\n",
    "finally:\n",
    "    print('Execution completed!!!')"
   ]
  },
  {
   "cell_type": "code",
   "execution_count": 1,
   "metadata": {},
   "outputs": [
    {
     "name": "stdout",
     "output_type": "stream",
     "text": [
      "File not found!!\n"
     ]
    }
   ],
   "source": [
    "### File Handling and Exception Handling\n",
    "try:\n",
    "    file = open('example1.txt', 'r')\n",
    "    content = file.read()\n",
    "    # a = b\n",
    "    print(content)\n",
    "except FileNotFoundError as fnfe:\n",
    "    print(\"File not found!!\")\n",
    "except Exception as ex:\n",
    "    print(ex)\n",
    "else:\n",
    "    if 'file' in locals() or not file.closed():\n",
    "        file.close()\n",
    "        print(\"file closed\")\n",
    "        "
   ]
  },
  {
   "cell_type": "code",
   "execution_count": null,
   "metadata": {},
   "outputs": [],
   "source": []
  }
 ],
 "metadata": {
  "kernelspec": {
   "display_name": "Python 3",
   "language": "python",
   "name": "python3"
  },
  "language_info": {
   "codemirror_mode": {
    "name": "ipython",
    "version": 3
   },
   "file_extension": ".py",
   "mimetype": "text/x-python",
   "name": "python",
   "nbconvert_exporter": "python",
   "pygments_lexer": "ipython3",
   "version": "3.12.0"
  }
 },
 "nbformat": 4,
 "nbformat_minor": 2
}
