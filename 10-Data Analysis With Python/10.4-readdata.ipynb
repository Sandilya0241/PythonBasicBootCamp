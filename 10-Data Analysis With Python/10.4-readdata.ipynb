{
 "cells": [
  {
   "cell_type": "markdown",
   "metadata": {},
   "source": [
    "## Reading Data From Different Sources"
   ]
  },
  {
   "cell_type": "code",
   "execution_count": 5,
   "metadata": {},
   "outputs": [
    {
     "name": "stdout",
     "output_type": "stream",
     "text": [
      "  employee_name            email  \\\n",
      "0         James  james@gmail.com   \n",
      "\n",
      "                                         job_profile  \n",
      "0  {'title1': 'Team Lead', 'title2': 'Sr. Develop...  \n",
      "\n",
      "{\"employee_name\":{\"0\":\"James\"},\"email\":{\"0\":\"james@gmail.com\"},\"job_profile\":{\"0\":{\"title1\":\"Team Lead\",\"title2\":\"Sr. Developer\"}}}\n"
     ]
    }
   ],
   "source": [
    "import pandas as pd\n",
    "from io import StringIO as sio\n",
    "\n",
    "Data = '{\"employee_name\":\"James\",\"email\":\"james@gmail.com\",\"job_profile\":[{\"title1\":\"Team Lead\",\"title2\":\"Sr. Developer\"}]}'\n",
    "dfrm=pd.read_json(sio(Data))\n",
    "print(dfrm)\n",
    "print()\n",
    "print(dfrm.to_json())"
   ]
  },
  {
   "cell_type": "code",
   "execution_count": 7,
   "metadata": {},
   "outputs": [
    {
     "name": "stdout",
     "output_type": "stream",
     "text": [
      "[{\"employee_name\":\"James\",\"email\":\"james@gmail.com\",\"job_profile\":{\"title1\":\"Team Lead\",\"title2\":\"Sr. Developer\"}}]\n"
     ]
    }
   ],
   "source": [
    "## Key Value pairs are based on index when we converted it to Json\n",
    "# print(dfrm.to_json(orient='index'))\n",
    "print(dfrm.to_json(orient='records'))"
   ]
  },
  {
   "cell_type": "code",
   "execution_count": 10,
   "metadata": {},
   "outputs": [
    {
     "name": "stdout",
     "output_type": "stream",
     "text": [
      "   0      1     2     3     4    5     6     7     8     9     10    11    12  \\\n",
      "0   1  14.23  1.71  2.43  15.6  127  2.80  3.06  0.28  2.29  5.64  1.04  3.92   \n",
      "1   1  13.20  1.78  2.14  11.2  100  2.65  2.76  0.26  1.28  4.38  1.05  3.40   \n",
      "2   1  13.16  2.36  2.67  18.6  101  2.80  3.24  0.30  2.81  5.68  1.03  3.17   \n",
      "3   1  14.37  1.95  2.50  16.8  113  3.85  3.49  0.24  2.18  7.80  0.86  3.45   \n",
      "4   1  13.24  2.59  2.87  21.0  118  2.80  2.69  0.39  1.82  4.32  1.04  2.93   \n",
      "\n",
      "     13  \n",
      "0  1065  \n",
      "1  1050  \n",
      "2  1185  \n",
      "3  1480  \n",
      "4   735  \n"
     ]
    }
   ],
   "source": [
    "\n",
    "\n",
    "import pandas as pd\n",
    "dfrm2=pd.read_csv(\"https://archive.ics.uci.edu/ml/machine-learning-databases/wine/wine.data\",header=None)\n",
    "print(dfrm2.head(5))"
   ]
  },
  {
   "cell_type": "code",
   "execution_count": 12,
   "metadata": {},
   "outputs": [],
   "source": [
    "dfrm2.to_csv('wine.csv')"
   ]
  },
  {
   "cell_type": "code",
   "execution_count": 17,
   "metadata": {},
   "outputs": [
    {
     "name": "stdout",
     "output_type": "stream",
     "text": [
      "[                               Bank Name               City          State  \\\n",
      "0     The First National Bank of Lindsay            Lindsay       Oklahoma   \n",
      "1  Republic First Bank dba Republic Bank       Philadelphia   Pennsylvania   \n",
      "2                          Citizens Bank           Sac City           Iowa   \n",
      "3               Heartland Tri-State Bank            Elkhart         Kansas   \n",
      "4                    First Republic Bank      San Francisco     California   \n",
      "5                         Signature Bank           New York       New York   \n",
      "6                    Silicon Valley Bank        Santa Clara     California   \n",
      "7                      Almena State Bank             Almena         Kansas   \n",
      "8             First City Bank of Florida  Fort Walton Beach        Florida   \n",
      "9                   The First State Bank      Barboursville  West Virginia   \n",
      "\n",
      "    Cert                 Aquiring Institution      Closing Date  \\\n",
      "0   4134   First Bank & Trust Co., Duncan, OK  October 18, 2024   \n",
      "1  27332    Fulton Bank, National Association    April 26, 2024   \n",
      "2   8758            Iowa Trust & Savings Bank  November 3, 2023   \n",
      "3  25851               Dream First Bank, N.A.     July 28, 2023   \n",
      "4  59017            JPMorgan Chase Bank, N.A.       May 1, 2023   \n",
      "5  57053                  Flagstar Bank, N.A.    March 12, 2023   \n",
      "6  24735  First Citizens Bank & Trust Company    March 10, 2023   \n",
      "7  15426                          Equity Bank  October 23, 2020   \n",
      "8  16748            United Fidelity Bank, fsb  October 16, 2020   \n",
      "9  14361                       MVB Bank, Inc.     April 3, 2020   \n",
      "\n",
      "   Fund  Sort ascending  \n",
      "0                 10547  \n",
      "1                 10546  \n",
      "2                 10545  \n",
      "3                 10544  \n",
      "4                 10543  \n",
      "5                 10540  \n",
      "6                 10539  \n",
      "7                 10538  \n",
      "8                 10537  \n",
      "9                 10536  ]\n"
     ]
    }
   ],
   "source": [
    "## Example 3\n",
    "url = \"https://www.fdic.gov/resources/resolutions/bank-failures/failed-bank-list/\"\n",
    "dfrm3 = pd.read_html(url)\n",
    "print(dfrm3)"
   ]
  },
  {
   "cell_type": "code",
   "execution_count": 19,
   "metadata": {},
   "outputs": [
    {
     "name": "stdout",
     "output_type": "stream",
     "text": [
      "[   MCC  MNC Brand      Operator       Status Bands (MHz)  \\\n",
      "0    1    1  TEST  Test network  Operational         any   \n",
      "1    1    1  TEST  Test network  Operational         any   \n",
      "2  999   99   NaN  Internal use  Operational         any   \n",
      "3  999  999   NaN  Internal use  Operational         any   \n",
      "\n",
      "                              References and notes  \n",
      "0                                              NaN  \n",
      "1                                              NaN  \n",
      "2  Internal use in private networks, no roaming[6]  \n",
      "3  Internal use in private networks, no roaming[6]  ,      Mobile country code                                    Country ISO 3166  \\\n",
      "0                    289                                 A Abkhazia    GE-AB   \n",
      "1                    412                                Afghanistan       AF   \n",
      "2                    276                                    Albania       AL   \n",
      "3                    603                                    Algeria       DZ   \n",
      "4                    544  American Samoa (United States of America)       AS   \n",
      "..                   ...                                        ...      ...   \n",
      "247                  452                                    Vietnam       VN   \n",
      "248                  543                        W Wallis and Futuna       WF   \n",
      "249                  421                                    Y Yemen       YE   \n",
      "250                  645                                   Z Zambia       ZM   \n",
      "251                  648                                   Zimbabwe       ZW   \n",
      "\n",
      "                                  Mobile network codes National MNC authority  \\\n",
      "0             List of mobile network codes in Abkhazia                    NaN   \n",
      "1          List of mobile network codes in Afghanistan                    NaN   \n",
      "2              List of mobile network codes in Albania                    NaN   \n",
      "3              List of mobile network codes in Algeria                    NaN   \n",
      "4       List of mobile network codes in American Samoa                    NaN   \n",
      "..                                                 ...                    ...   \n",
      "247        List of mobile network codes in the Vietnam                    NaN   \n",
      "248  List of mobile network codes in Wallis and Futuna                    NaN   \n",
      "249          List of mobile network codes in the Yemen                    NaN   \n",
      "250             List of mobile network codes in Zambia                    NaN   \n",
      "251           List of mobile network codes in Zimbabwe                    NaN   \n",
      "\n",
      "                      Remarks  \n",
      "0    MCC is not listed by ITU  \n",
      "1                         NaN  \n",
      "2                         NaN  \n",
      "3                         NaN  \n",
      "4                         NaN  \n",
      "..                        ...  \n",
      "247                       NaN  \n",
      "248                       NaN  \n",
      "249                       NaN  \n",
      "250                       NaN  \n",
      "251                       NaN  \n",
      "\n",
      "[252 rows x 6 columns],      MCC  MNC     Brand                  Operator           Status  \\\n",
      "0    901    1       NaN                   Webbing          Unknown   \n",
      "1    901    2       NaN            GlobalmatiX AG          Unknown   \n",
      "2    901    3   Iridium                       NaN      Operational   \n",
      "3    901    4       NaN  BBIX Singapore Pte. Ltd.          Unknown   \n",
      "4    901    5       NaN      Thuraya RMSS Network      Operational   \n",
      "..   ...  ...       ...                       ...              ...   \n",
      "99   902    1       NaN        MulteFire Alliance      Operational   \n",
      "100  991    1       NaN    World's Global Telecom  Not operational   \n",
      "101  991    2  5G Croco               Orange S.A.  Not operational   \n",
      "102  991    3       NaN                 Halys SAS  Not operational   \n",
      "103  991    4       NaN              E-Space Inc.          Unknown   \n",
      "\n",
      "    Bands (MHz)                               References and notes  \n",
      "0          MVNO            Former ICO Satellite Management[51][52]  \n",
      "1       Unknown  Former Sense Communications International; veh...  \n",
      "2     Satellite                                                NaN  \n",
      "3       Unknown                              Former Globalstar[54]  \n",
      "4     Satellite                                                NaN  \n",
      "..          ...                                                ...  \n",
      "99          LTE                                           [6][123]  \n",
      "100     Unknown  temporarily assigned until 15 January 2021[102...  \n",
      "101          5G  temporarily assigned until 6 August 2022[125][...  \n",
      "102     Unknown  temporary assignment for trial until 5 April 2...  \n",
      "103   Satellite  temporary assignment for trial until 17 Oct 20...  \n",
      "\n",
      "[104 rows x 7 columns],    MCC  MNC     Brand                 Operator       Status Bands (MHz)  \\\n",
      "0  995    1  FonePlus  Sure (Diego Garcia) Ltd  Operational     GSM 900   \n",
      "\n",
      "                                References and notes  \n",
      "0  There appears to be no officially assigned MCC...  ,                                vteTelecommunications  \\\n",
      "0                                            History   \n",
      "1                                           Pioneers   \n",
      "2                                 Transmission media   \n",
      "3                     Network topology and switching   \n",
      "4                                       Multiplexing   \n",
      "5                                           Concepts   \n",
      "6                                   Types of network   \n",
      "7                                   Notable networks   \n",
      "8                                          Locations   \n",
      "9  Telecommunication portal  Category  Outline  C...   \n",
      "\n",
      "                             vteTelecommunications.1  \n",
      "0  Beacon Broadcasting Cable protection system Ca...  \n",
      "1  Nasir Ahmed Edwin Howard Armstrong Mohamed M. ...  \n",
      "2  Coaxial cable Fiber-optic communication optica...  \n",
      "3  Bandwidth Links Nodes terminal Network switchi...  \n",
      "4  Space-division Frequency-division Time-divisio...  \n",
      "5  Communication protocol Computer network Data t...  \n",
      "6  Cellular network Ethernet ISDN LAN Mobile NGN ...  \n",
      "7  ARPANET BITNET CYCLADES FidoNet Internet Inter...  \n",
      "8  Africa Americas North South Antarctica Asia Eu...  \n",
      "9  Telecommunication portal  Category  Outline  C...  ]\n"
     ]
    }
   ],
   "source": [
    "url = \"https://en.wikipedia.org/wiki/Mobile_country_code\"\n",
    "dfrm4 = pd.read_html(url)\n",
    "print(dfrm4)"
   ]
  },
  {
   "cell_type": "code",
   "execution_count": 21,
   "metadata": {},
   "outputs": [
    {
     "name": "stdout",
     "output_type": "stream",
     "text": [
      "    name  age\n",
      "0  Sandy   36\n",
      "1   Jack   37\n",
      "2   John   40\n"
     ]
    }
   ],
   "source": [
    "dfrm6 = pd.read_excel('data2.xlsx')\n",
    "print(dfrm6)"
   ]
  },
  {
   "cell_type": "code",
   "execution_count": 22,
   "metadata": {},
   "outputs": [
    {
     "name": "stdout",
     "output_type": "stream",
     "text": [
      "    name  age\n",
      "0  Sandy   36\n",
      "1   Jack   37\n",
      "2   John   40\n"
     ]
    }
   ],
   "source": [
    "## Converting a pickle file\n",
    "dfrm6.to_pickle('df_pickle')\n",
    "dfrm7=pd.read_pickle(\"df_pickle\")\n",
    "print(dfrm7)"
   ]
  },
  {
   "cell_type": "code",
   "execution_count": null,
   "metadata": {},
   "outputs": [],
   "source": []
  }
 ],
 "metadata": {
  "kernelspec": {
   "display_name": "Python 3",
   "language": "python",
   "name": "python3"
  },
  "language_info": {
   "codemirror_mode": {
    "name": "ipython",
    "version": 3
   },
   "file_extension": ".py",
   "mimetype": "text/x-python",
   "name": "python",
   "nbconvert_exporter": "python",
   "pygments_lexer": "ipython3",
   "version": "3.13.1"
  }
 },
 "nbformat": 4,
 "nbformat_minor": 2
}
