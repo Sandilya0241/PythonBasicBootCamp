{
 "cells": [
  {
   "cell_type": "markdown",
   "metadata": {},
   "source": [
    "### Polymorphism In Python\n",
    "* Polymorphism is a core concept in Object-Oriented Programming (OOP) that allows objects of different class to be treated as objects of a common superclass.\n",
    "* It provides a way to perform a single action in different forms.\n",
    "* Polymorphism is typically achieved through method overriding and interfaces."
   ]
  },
  {
   "cell_type": "markdown",
   "metadata": {},
   "source": [
    "#### Method Overriding (Example 1)\n",
    "Method overriding allows a child class to provide a specific implementation of a method that is already defined in its Parent class."
   ]
  },
  {
   "cell_type": "code",
   "execution_count": 5,
   "metadata": {},
   "outputs": [
    {
     "name": "stdout",
     "output_type": "stream",
     "text": [
      "Called from DOG object\n",
      "Woof!! Woof!!\n",
      "\n",
      "Called from CAT object\n",
      "Meow!! Meow!!\n",
      "\n",
      "CAT object sent as input to test method\n",
      "Meow!! Meow!!\n"
     ]
    }
   ],
   "source": [
    "# Base Class\n",
    "class Animal:\n",
    "    def speak(self):\n",
    "        return \"Sound of an animal\"\n",
    "\n",
    "# Derived Class 1\n",
    "class Dog(Animal):\n",
    "    def speak(self):\n",
    "        return \"Woof!! Woof!!\"\n",
    "\n",
    "# Derived Class 2\n",
    "class Cat(Animal):\n",
    "    def speak(self):\n",
    "        return \"Meow!! Meow!!\"\n",
    "\n",
    "# Test Polymorphism class\n",
    "def animal_speak(animal):\n",
    "    print(animal.speak())\n",
    "\n",
    "animal = Dog()\n",
    "print(\"Called from DOG object\")\n",
    "print(animal.speak())\n",
    "print()\n",
    "\n",
    "animal = Cat()\n",
    "print(\"Called from CAT object\")\n",
    "print(animal.speak())\n",
    "\n",
    "print()\n",
    "print(\"CAT object sent as input to test method\")\n",
    "animal_speak(animal)"
   ]
  },
  {
   "cell_type": "markdown",
   "metadata": {},
   "source": [
    "#### Method Overriding (Example 2)"
   ]
  },
  {
   "cell_type": "code",
   "execution_count": 6,
   "metadata": {},
   "outputs": [
    {
     "name": "stdout",
     "output_type": "stream",
     "text": [
      "The area of shape is 20\n",
      "The area of shape is 28.274333882308138\n"
     ]
    }
   ],
   "source": [
    "from math import pi\n",
    "\n",
    "# Base Class\n",
    "class Shape:\n",
    "    def area(self):\n",
    "        return \"Area of a shape\"\n",
    "\n",
    "\n",
    "# Derived Class 1\n",
    "class Rectangle(Shape):\n",
    "    def __init__(self, length, breadth):\n",
    "        self.length = length\n",
    "        self.breadth = breadth\n",
    "\n",
    "    def area(self):\n",
    "        return self.length * self.breadth\n",
    "\n",
    "\n",
    "# Derived Class 2\n",
    "class Circle(Shape):\n",
    "    def __init__(self, radius):\n",
    "        self.radius = radius\n",
    "\n",
    "    def area(self):\n",
    "        return pi * self.radius ** 2\n",
    "\n",
    "## Function to demonstrate Polymorphism\n",
    "def print_area(shape):\n",
    "    print(f'The area of shape is {shape.area()}')\n",
    "\n",
    "## Client\n",
    "shape = Rectangle(4,5)\n",
    "print_area(shape)\n",
    "\n",
    "shape = Circle(3)\n",
    "print_area(shape)"
   ]
  },
  {
   "cell_type": "markdown",
   "metadata": {},
   "source": [
    "### Polymorphism with Abstract Base class\n",
    "* Abstract Base Classes (ABCs) are used to define common methods for a group of related objects.\n",
    "* They can enforce that derived classes implement particular methods, promoting consistency across different implementations."
   ]
  },
  {
   "cell_type": "code",
   "execution_count": 8,
   "metadata": {},
   "outputs": [
    {
     "name": "stdout",
     "output_type": "stream",
     "text": [
      "Car engine ignited!!!\n",
      "Bike engine ignited!!!\n"
     ]
    }
   ],
   "source": [
    "from abc import ABC, abstractmethod\n",
    "\n",
    "#Base Class\n",
    "class Vehicle(ABC):\n",
    "    @abstractmethod\n",
    "    def start_vehicle(self):\n",
    "        pass\n",
    "\n",
    "#Derived Class 1\n",
    "class Car(Vehicle):\n",
    "    def start_vehicle(self):\n",
    "        return f'Car engine ignited!!!'\n",
    "    \n",
    "#Derived Class 2\n",
    "class Bike(Vehicle):\n",
    "    def start_vehicle(self):\n",
    "        return f'Bike engine ignited!!!'\n",
    "\n",
    "## Method to demostrate Polymorphism\n",
    "def call_start(vehicle):\n",
    "    print(vehicle.start_vehicle())\n",
    "\n",
    "\n",
    "## Client\n",
    "\n",
    "vehicle = Car()\n",
    "call_start(vehicle)\n",
    "\n",
    "vehicle = Bike()\n",
    "call_start(vehicle)"
   ]
  },
  {
   "cell_type": "markdown",
   "metadata": {},
   "source": [
    "### Conclusion\n",
    "* Polymorphism is a powerful feature of OOP that allows for flexibility and integration in code design.\n",
    "* It enables a single function to handle objects of different classes, each with its own implementation of a method.\n",
    "* By understanding and applying Polymorphism, you can create more extensible and maintainable Object-Oriented Programs. "
   ]
  },
  {
   "cell_type": "markdown",
   "metadata": {},
   "source": []
  }
 ],
 "metadata": {
  "kernelspec": {
   "display_name": "Python 3",
   "language": "python",
   "name": "python3"
  },
  "language_info": {
   "codemirror_mode": {
    "name": "ipython",
    "version": 3
   },
   "file_extension": ".py",
   "mimetype": "text/x-python",
   "name": "python",
   "nbconvert_exporter": "python",
   "pygments_lexer": "ipython3",
   "version": "3.12.0"
  }
 },
 "nbformat": 4,
 "nbformat_minor": 2
}
