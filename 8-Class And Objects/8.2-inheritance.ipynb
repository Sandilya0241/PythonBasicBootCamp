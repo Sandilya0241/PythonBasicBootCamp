{
 "cells": [
  {
   "cell_type": "markdown",
   "metadata": {},
   "source": [
    "### Inheritance In Python\n",
    "* Inheritance is a fundamental concept in Object-Oriented Programming (OOP) that allows a class to inherit attributes and methods from another class.\n",
    "* This session is to discuss about Single Inheritance and Multiple Inheritance in Python."
   ]
  },
  {
   "cell_type": "markdown",
   "metadata": {},
   "source": [
    "#### Single Inheritance"
   ]
  },
  {
   "cell_type": "code",
   "execution_count": 2,
   "metadata": {},
   "outputs": [
    {
     "name": "stdout",
     "output_type": "stream",
     "text": [
      "The person will drive the Petrol car!!!\n",
      "Self drive mode enabled\n",
      "Self drive mode disabled\n",
      "The person will drive the Electric car!!!\n"
     ]
    }
   ],
   "source": [
    "## Base Class\n",
    "class Car:\n",
    "    def __init__(self, windows, doors, enginetype):\n",
    "        self.windows = windows\n",
    "        self.doors = doors\n",
    "        self.enginetype = enginetype\n",
    "\n",
    "    def drive(self):\n",
    "        print(f'The person will drive the {self.enginetype} car!!!')\n",
    "\n",
    "## Derived Class\n",
    "class Chevorlet(Car):\n",
    "    def __init__(self, windows, doors, enginetype, is_selfdrive):\n",
    "        super().__init__(windows, doors, enginetype)\n",
    "        self.is_selfdrive = is_selfdrive\n",
    "\n",
    "    def enable_self_drive_mode(self, switch_val):\n",
    "        if switch_val:\n",
    "            print('Self drive mode enabled')\n",
    "        else:\n",
    "            print('Self drive mode disabled')\n",
    "\n",
    "\n",
    "\n",
    "### Client\n",
    "car1 = Car(4, 5, 'Petrol')\n",
    "car1.drive()\n",
    "\n",
    "car2 = Chevorlet(2,2, \"Electric\", True)\n",
    "car2.enable_self_drive_mode(True)\n",
    "car2.enable_self_drive_mode(False)\n",
    "car2.drive()"
   ]
  },
  {
   "cell_type": "markdown",
   "metadata": {},
   "source": [
    "#### Multiple Inheritance (from more than 1 base class)"
   ]
  },
  {
   "cell_type": "code",
   "execution_count": 8,
   "metadata": {},
   "outputs": [
    {
     "name": "stdout",
     "output_type": "stream",
     "text": [
      "Snoopy says Woof!!!\n",
      "Owner Name : Sandy\n"
     ]
    }
   ],
   "source": [
    "## Base Class1\n",
    "class Animal:\n",
    "    def __init__(self, name):\n",
    "        self.name = name\n",
    "    \n",
    "    def speak(self):\n",
    "        print('Subclass must implement this method')\n",
    "\n",
    "## Base Class2\n",
    "class Pet:\n",
    "    def __init__(self, owner):\n",
    "        self.owner = owner\n",
    "\n",
    "## Derived Class\n",
    "class Dog(Animal, Pet):\n",
    "    def __init__(self, name, owner):\n",
    "        Animal.__init__(self, name)\n",
    "        Pet.__init__(self, owner)\n",
    "\n",
    "    def speak(self):\n",
    "        return f'{self.name} says Woof!!!'\n",
    "    \n",
    "\n",
    "### Client\n",
    "dog1 = Dog('Snoopy', 'Sandy')\n",
    "print(dog1.speak())\n",
    "print(f'Owner Name : {dog1.owner}')\n",
    "    \n",
    "\n"
   ]
  },
  {
   "cell_type": "code",
   "execution_count": null,
   "metadata": {},
   "outputs": [],
   "source": []
  }
 ],
 "metadata": {
  "kernelspec": {
   "display_name": "Python 3",
   "language": "python",
   "name": "python3"
  },
  "language_info": {
   "codemirror_mode": {
    "name": "ipython",
    "version": 3
   },
   "file_extension": ".py",
   "mimetype": "text/x-python",
   "name": "python",
   "nbconvert_exporter": "python",
   "pygments_lexer": "ipython3",
   "version": "3.12.0"
  }
 },
 "nbformat": 4,
 "nbformat_minor": 2
}
