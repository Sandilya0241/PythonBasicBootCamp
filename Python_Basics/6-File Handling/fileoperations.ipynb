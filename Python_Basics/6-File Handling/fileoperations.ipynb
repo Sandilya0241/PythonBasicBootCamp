{
 "cells": [
  {
   "cell_type": "markdown",
   "metadata": {},
   "source": [
    "## File Operation - Read and Write Files\n",
    "* File handling is a crucial part of any programming language.\n",
    "* Python provides built-in functions and methods to read from and write to files, both text and binary.\n",
    "* This section includes file handling, incuding reading and writing text files and binary files. "
   ]
  },
  {
   "cell_type": "code",
   "execution_count": 2,
   "metadata": {},
   "outputs": [
    {
     "name": "stdout",
     "output_type": "stream",
     "text": [
      "Hello, how are you?\n",
      "I'm good. Thank you.\n",
      "My name is Sandilya.\n",
      "Welcome to Robo world!!!\n"
     ]
    }
   ],
   "source": [
    "## Read the whole file\n",
    "with open('example.txt',mode='r') as file:\n",
    "    content = file.read()\n",
    "    print(content)"
   ]
  },
  {
   "cell_type": "code",
   "execution_count": 4,
   "metadata": {},
   "outputs": [
    {
     "name": "stdout",
     "output_type": "stream",
     "text": [
      "Hello, how are you?\n",
      "I'm good. Thank you.\n",
      "My name is Sandilya.\n",
      "Welcome to Robo world!!!\n"
     ]
    }
   ],
   "source": [
    "## Read file line by line\n",
    "with open('example.txt',mode='r') as file:\n",
    "    for line in file:\n",
    "        print(line.strip())"
   ]
  },
  {
   "cell_type": "code",
   "execution_count": 7,
   "metadata": {},
   "outputs": [],
   "source": [
    "## Writing a file(Overwriting)\n",
    "with open('file_write.txt',mode='w') as file:\n",
    "    file.write(\"Hello Python program\\n\")\n",
    "    file.write(\"THis is a new line\")"
   ]
  },
  {
   "cell_type": "code",
   "execution_count": 9,
   "metadata": {},
   "outputs": [],
   "source": [
    "## Writing a file(Without Overwriting)\n",
    "with open('file_write.txt',mode='a') as file:\n",
    "    file.write(\"Appeding line 3\\n\")\n",
    "    file.write(\"Appeding line 4\")"
   ]
  },
  {
   "cell_type": "code",
   "execution_count": 10,
   "metadata": {},
   "outputs": [],
   "source": [
    "### Writing list of lines to a file\n",
    "lines = [\"This is the first line\\n\",\"This is the second line\\n\",\"This is the third line\"]\n",
    "with open('example.txt','a') as file:\n",
    "    file.writelines(lines)"
   ]
  },
  {
   "cell_type": "markdown",
   "metadata": {},
   "source": [
    "### Binary Files"
   ]
  },
  {
   "cell_type": "code",
   "execution_count": 12,
   "metadata": {},
   "outputs": [],
   "source": [
    "data = b'\\x00\\x01\\x02\\x03\\x04'\n",
    "with open('example.bin',mode='wb') as file:\n",
    "    file.write(data)"
   ]
  },
  {
   "cell_type": "code",
   "execution_count": 13,
   "metadata": {},
   "outputs": [
    {
     "name": "stdout",
     "output_type": "stream",
     "text": [
      "b'\\x00\\x01\\x02\\x03\\x04'\n"
     ]
    }
   ],
   "source": [
    "\n",
    "with open('example.bin',mode='rb') as file:\n",
    "    print(file.read())"
   ]
  },
  {
   "cell_type": "code",
   "execution_count": 15,
   "metadata": {},
   "outputs": [],
   "source": [
    "## Read content from source.txt and write to destination.txt file.close\n",
    "\n",
    "with open('example.txt','r') as file_read:\n",
    "    content = file_read.read()\n",
    "\n",
    "with open('destination.txt','w') as file_write:\n",
    "    file_write.write(content)"
   ]
  },
  {
   "cell_type": "code",
   "execution_count": 11,
   "metadata": {},
   "outputs": [
    {
     "name": "stdout",
     "output_type": "stream",
     "text": [
      "Line count is 6, Char count is 155, Word count is 30\n"
     ]
    }
   ],
   "source": [
    "## Read a text file and count the number of lines, words, charachers\n",
    "def count_char_count(filepath):\n",
    "    line_count  = word_count= char_count = 0\n",
    "    with open(filepath, mode='r') as fp:\n",
    "        lines = fp.readlines()\n",
    "        word_count = sum(len(line.strip('`!@#$%^&*(_+/.,)\"\\'').split()) for line in lines)\n",
    "        char_count = sum(len(line.strip('`!@#$%^&*(_+/.,)\"\\'')) for line in lines)\n",
    "        line_count = len(lines)\n",
    "    return line_count,word_count, char_count\n",
    "\n",
    "line_count,word_count, char_count = count_char_count('example.txt')\n",
    "print(f'Line count is {line_count}, Char count is {char_count}, Word count is {word_count}')"
   ]
  },
  {
   "cell_type": "markdown",
   "metadata": {},
   "source": [
    "\n",
    "#### w+ mode\n",
    "* The w+ mode in Python is used to open a file for both reading and writing. \n",
    "* If the file doesn't exist, it will be created.\n",
    "* If file exits, its content is truncated (i.e., the file is overwritten)"
   ]
  },
  {
   "cell_type": "code",
   "execution_count": 12,
   "metadata": {},
   "outputs": [
    {
     "name": "stdout",
     "output_type": "stream",
     "text": [
      "Hello world\n",
      "This is the new line\n"
     ]
    }
   ],
   "source": [
    "## Writing and then reading the file\n",
    "with open('example.txt', mode='w+') as fp:\n",
    "    fp.write(\"Hello world\\n\")\n",
    "    fp.write(\"This is the new line\")\n",
    "\n",
    "    ## Move the cursor to the beginning\n",
    "    fp.seek(0)\n",
    "\n",
    "    content = fp.read()\n",
    "    print(content)"
   ]
  }
 ],
 "metadata": {
  "kernelspec": {
   "display_name": "Python 3",
   "language": "python",
   "name": "python3"
  },
  "language_info": {
   "codemirror_mode": {
    "name": "ipython",
    "version": 3
   },
   "file_extension": ".py",
   "mimetype": "text/x-python",
   "name": "python",
   "nbconvert_exporter": "python",
   "pygments_lexer": "ipython3",
   "version": "3.12.0"
  }
 },
 "nbformat": 4,
 "nbformat_minor": 2
}
