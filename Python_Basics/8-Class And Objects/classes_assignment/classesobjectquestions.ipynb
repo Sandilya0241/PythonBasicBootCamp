{
 "cells": [
  {
   "cell_type": "markdown",
   "metadata": {},
   "source": [
    "# Module: Classes and Objects Assignments\n",
    "## Lesson: Creating and Working with Classes and Objects\n",
    "### Assignment 1: Basic Class and Object Creation\n",
    "\n",
    "Create a class named `Car` with attributes `make`, `model`, and `year`. Create an object of the class and print its attributes."
   ]
  },
  {
   "cell_type": "code",
   "execution_count": 2,
   "metadata": {},
   "outputs": [
    {
     "name": "stdout",
     "output_type": "stream",
     "text": [
      "Benz\n",
      "SLR500\n",
      "2025\n"
     ]
    }
   ],
   "source": [
    "class Car:\n",
    "    def __init__(self,make,model,year):\n",
    "        self.make = make\n",
    "        self.model = model\n",
    "        self.year = year\n",
    "\n",
    "\n",
    "benz_car = Car(\"Benz\",\"SLR500\",2025)\n",
    "\n",
    "print(benz_car.make)\n",
    "print(benz_car.model)\n",
    "print(benz_car.year)"
   ]
  },
  {
   "cell_type": "markdown",
   "id": "f8151b0a",
   "metadata": {},
   "source": [
    "### Assignment 2: Methods in Class\n",
    "\n",
    "Add a method named `start_engine` to the `Car` class that prints a message when the engine starts. Create an object of the class and call the method."
   ]
  },
  {
   "cell_type": "code",
   "execution_count": 3,
   "id": "6d501aed",
   "metadata": {},
   "outputs": [
    {
     "name": "stdout",
     "output_type": "stream",
     "text": [
      "Innova car started!!! VROOM VROOM!!!\n"
     ]
    }
   ],
   "source": [
    "class Car:\n",
    "    def __init__(self,make,model,year):\n",
    "        self.make = make\n",
    "        self.model = model\n",
    "        self.year = year\n",
    "\n",
    "    def start_engine(self):\n",
    "        print(f'{self.model} car started!!! VROOM VROOM!!!')\n",
    "\n",
    "\n",
    "\n",
    "toyota = Car(\"Toyota\",\"Innova\", 2024)\n",
    "toyota.start_engine()\n",
    "\n"
   ]
  },
  {
   "cell_type": "markdown",
   "id": "c206a606",
   "metadata": {},
   "source": [
    "### Assignment 3: Class with Constructor\n",
    "\n",
    "Create a class named `Student` with attributes `name` and `age`. Use a constructor to initialize these attributes. Create an object of the class and print its attributes."
   ]
  },
  {
   "cell_type": "code",
   "execution_count": 4,
   "id": "536f0564",
   "metadata": {},
   "outputs": [
    {
     "name": "stdout",
     "output_type": "stream",
     "text": [
      "Student Name : Randy Orton\n",
      "Student Age : 39\n"
     ]
    }
   ],
   "source": [
    "class Student:\n",
    "    def __init__(self, name, age):\n",
    "        self.name = name\n",
    "        self.age = age\n",
    "\n",
    "\n",
    "randy = Student(\"Randy Orton\", 39)\n",
    "\n",
    "print(f'Student Name : {randy.name}')\n",
    "print(f'Student Age : {randy.age}')"
   ]
  },
  {
   "cell_type": "markdown",
   "id": "ece2282c",
   "metadata": {},
   "source": [
    "### Assignment 4: Class with Private Attributes\n",
    "\n",
    "Create a class named `BankAccount` with private attributes `account_number` and `balance`. Add methods to deposit and withdraw money, and to check the balance. Create an object of the class and perform some operations."
   ]
  },
  {
   "cell_type": "code",
   "execution_count": 6,
   "id": "b5c962cb",
   "metadata": {},
   "outputs": [
    {
     "name": "stdout",
     "output_type": "stream",
     "text": [
      "200 was withdrawn from your account #12345678\n",
      "1300\n",
      "Insufficient funds!!!\n"
     ]
    }
   ],
   "source": [
    "class BankAccount():\n",
    "    \n",
    "\n",
    "    def __init__(self, account_number, balance = 0.0):\n",
    "        self.__account_number = account_number\n",
    "        self.__balance = balance\n",
    "\n",
    "    def deposit(self, amt):\n",
    "        self.__balance += amt\n",
    "\n",
    "    def withdraw(self, amt):\n",
    "        if amt > self.__balance:\n",
    "            print(\"Insufficient funds!!!\")\n",
    "        else:\n",
    "            self.__balance -= amt\n",
    "            print(f'{amt} was withdrawn from your account #{self.__account_number}')\n",
    "\n",
    "    def check_balance(self):\n",
    "        return self.__balance\n",
    "    \n",
    "\n",
    "account = BankAccount('12345678', 1000)\n",
    "account.deposit(500)\n",
    "account.withdraw(200)\n",
    "print(account.check_balance())  # 1300\n",
    "account.withdraw(2000)  # Insufficient balance!"
   ]
  },
  {
   "cell_type": "markdown",
   "id": "6799c061",
   "metadata": {},
   "source": [
    "### Assignment 5: Class Inheritance\n",
    "\n",
    "Create a base class named `Person` with attributes `name` and `age`. Create a derived class named `Employee` that inherits from `Person` and adds an attribute `employee_id`. Create an object of the derived class and print its attributes."
   ]
  },
  {
   "cell_type": "code",
   "execution_count": 9,
   "id": "90c5e2d9",
   "metadata": {},
   "outputs": [
    {
     "name": "stdout",
     "output_type": "stream",
     "text": [
      "Alice 30 E123\n"
     ]
    }
   ],
   "source": [
    "class Person:\n",
    "    def __init__(self, name, age):\n",
    "        self.name = name\n",
    "        self.age = age\n",
    "\n",
    "\n",
    "class Employee(Person):\n",
    "    def __init__(self, name, age, employee_id):\n",
    "        super().__init__(name, age)\n",
    "        self.employee_id = employee_id\n",
    "\n",
    "# Test\n",
    "employee = Employee('Alice', 30, 'E123')\n",
    "print(employee.name, employee.age, employee.employee_id)"
   ]
  },
  {
   "cell_type": "markdown",
   "id": "b6b248a4",
   "metadata": {},
   "source": [
    "### Assignment 6: Method Overriding\n",
    "\n",
    "In the `Employee` class, override the `__str__` method to return a string representation of the object. Create an object of the class and print it."
   ]
  },
  {
   "cell_type": "code",
   "execution_count": 10,
   "id": "7124ea37",
   "metadata": {},
   "outputs": [
    {
     "name": "stdout",
     "output_type": "stream",
     "text": [
      "Employee Name : Alice\n",
      "Employee Age : 30\n",
      "Employee Id : E123\n"
     ]
    }
   ],
   "source": [
    "class Person:\n",
    "    def __init__(self, name, age):\n",
    "        self.name = name\n",
    "        self.age = age\n",
    "\n",
    "\n",
    "class Employee(Person):\n",
    "    def __init__(self, name, age, employee_id):\n",
    "        super().__init__(name, age)\n",
    "        self.employee_id = employee_id\n",
    "\n",
    "    def __str__(self):\n",
    "        return f'Employee Name : {self.name}\\nEmployee Age : {self.age}\\nEmployee Id : {self.employee_id}'\n",
    "\n",
    "# Test\n",
    "employee = Employee('Alice', 30, 'E123')\n",
    "print(employee)"
   ]
  },
  {
   "cell_type": "markdown",
   "id": "1585f65c",
   "metadata": {},
   "source": [
    "### Assignment 7: Class Composition\n",
    "\n",
    "Create a class named `Address` with attributes `street`, `city`, and `zipcode`. Create a class named `Person` that has an `Address` object as an attribute. Create an object of the `Person` class and print its address."
   ]
  },
  {
   "cell_type": "code",
   "execution_count": 13,
   "id": "811349ab",
   "metadata": {},
   "outputs": [
    {
     "name": "stdout",
     "output_type": "stream",
     "text": [
      "Person Name : John\n",
      "Person Age : 25\n",
      "Address\n",
      "Street : 123 Main St\n",
      "City : New York\n",
      "Zipcode : 10001\n"
     ]
    }
   ],
   "source": [
    "class Address:\n",
    "    def __init__(self, street, city, zipcode):\n",
    "        self.street = street\n",
    "        self.city = city\n",
    "        self.zipcode = zipcode\n",
    "\n",
    "    def __str__(self):\n",
    "        return f'Street : {self.street}\\nCity : {self.city}\\nZipcode : {self.zipcode}'\n",
    "\n",
    "class Person:\n",
    "    def __init__(self, name, age, address):\n",
    "        self.name = name\n",
    "        self.age = age\n",
    "        self.address = address\n",
    "\n",
    "    def __str__(self):\n",
    "        return f'Person Name : {self.name}\\nPerson Age : {self.age}\\nAddress\\n{self.address}'\n",
    "\n",
    "# Test\n",
    "address = Address('123 Main St', 'New York', '10001')\n",
    "person = Person('John', 25, address)\n",
    "print(person)"
   ]
  },
  {
   "cell_type": "markdown",
   "id": "123c27b8",
   "metadata": {},
   "source": [
    "### Assignment 8: Class with Class Variables\n",
    "\n",
    "Create a class named `Counter` with a class variable `count`. Each time an object is created, increment the count. Add a method to get the current count. Create multiple objects and print the count.\n",
    "\n",
    "**Instance Variables vs Class Variables in Python**\n",
    "\n",
    "**Instance Variables:** Variables that are unique to each object. They are created inside methods (typically __init__()).\n",
    "\n",
    "**Class Variables (Static Variables):** Variables shared among all instances of a class. They are defined within the class, outside any methods."
   ]
  },
  {
   "cell_type": "code",
   "execution_count": 16,
   "id": "230bcf80",
   "metadata": {},
   "outputs": [
    {
     "name": "stdout",
     "output_type": "stream",
     "text": [
      "3\n"
     ]
    }
   ],
   "source": [
    "class Counter:\n",
    "    count = 0       # Class Variable\n",
    "\n",
    "    def __init__(self,instVar):\n",
    "        self.instVar = instVar      # Instance Variable\n",
    "        \n",
    "        # Class variables can be accessed using class\n",
    "        Counter.count += 1\n",
    "\n",
    "    @classmethod\n",
    "    def get_count(cls):\n",
    "        return cls.count\n",
    "\n",
    "# Test\n",
    "c1 = Counter(1)\n",
    "c2 = Counter(2)\n",
    "c3 = Counter(3)\n",
    "print(Counter.get_count())  # 3"
   ]
  },
  {
   "cell_type": "markdown",
   "id": "574fca39",
   "metadata": {},
   "source": [
    "### Assignment 9: Static Methods\n",
    "\n",
    "Create a class named `MathOperations` with a static method to calculate the square root of a number. Call the static method without creating an object."
   ]
  },
  {
   "cell_type": "code",
   "execution_count": 20,
   "id": "e1cda996",
   "metadata": {},
   "outputs": [
    {
     "name": "stdout",
     "output_type": "stream",
     "text": [
      "4.0\n"
     ]
    }
   ],
   "source": [
    "from math import sqrt\n",
    "\n",
    "class MathOperations:\n",
    "    \n",
    "    @staticmethod\n",
    "    def sqrt(num):\n",
    "        return sqrt(num)\n",
    "    \n",
    "# Test\n",
    "print(MathOperations.sqrt(16))  # 4.0"
   ]
  },
  {
   "cell_type": "markdown",
   "id": "41ef7f10",
   "metadata": {},
   "source": [
    "### Assignment 10: Class with Properties\n",
    "\n",
    "Create a class named `Rectangle` with private attributes `length` and `width`. Use properties to get and set these attributes. Create an object of the class and test the properties."
   ]
  },
  {
   "cell_type": "code",
   "execution_count": 23,
   "id": "109faa9b",
   "metadata": {},
   "outputs": [
    {
     "name": "stdout",
     "output_type": "stream",
     "text": [
      "10 5\n",
      "15 7\n"
     ]
    }
   ],
   "source": [
    "class Rectangle:\n",
    "    def __init__(self, length, width):\n",
    "        self.__length = length\n",
    "        self.__width = width\n",
    "\n",
    "    @property\n",
    "    def length(self):\n",
    "        return self.__length\n",
    "    \n",
    "    @property\n",
    "    def width(self):\n",
    "        return self.__width\n",
    "    \n",
    "    @length.setter\n",
    "    def length(self, length):\n",
    "        self.__length = length\n",
    "    \n",
    "    @width.setter\n",
    "    def width(self, width):\n",
    "        self.__width = width\n",
    "\n",
    "# Test\n",
    "rect = Rectangle(10, 5)\n",
    "print(rect.length, rect.width)  # 10 5\n",
    "rect.length = 15\n",
    "rect.width = 7\n",
    "print(rect.length, rect.width)  # 15 7"
   ]
  },
  {
   "cell_type": "markdown",
   "id": "ed9277b3",
   "metadata": {},
   "source": [
    "### Assignment 11: Abstract Base Class\n",
    "\n",
    "Create an abstract base class named `Shape` with an abstract method `area`. Create derived classes `Circle` and `Square` that implement the `area` method. Create objects of the derived classes and call the `area` method."
   ]
  },
  {
   "cell_type": "code",
   "execution_count": 27,
   "id": "83b776d7",
   "metadata": {},
   "outputs": [
    {
     "name": "stdout",
     "output_type": "stream",
     "text": [
      "78.53981633974483\n",
      "16\n"
     ]
    }
   ],
   "source": [
    "from abc import ABC, abstractmethod\n",
    "from math import pi\n",
    "\n",
    "class Shape(ABC):\n",
    "\n",
    "    @abstractmethod\n",
    "    def area(self):\n",
    "        pass\n",
    "\n",
    "\n",
    "class Circle(Shape):\n",
    "    def __init__(self, radius):\n",
    "        self.radius = radius\n",
    "\n",
    "    def area(self):\n",
    "        return pi * self.radius**2\n",
    "    \n",
    "\n",
    "class Square(Shape):\n",
    "    def __init__(self, side):\n",
    "        self.side = side\n",
    "\n",
    "    def area(self):\n",
    "        return self.side**2\n",
    "    \n",
    "\n",
    "# Test\n",
    "circle = Circle(5)\n",
    "square = Square(4)\n",
    "print(circle.area())  # 78.53981633974483\n",
    "print(square.area())  # 16"
   ]
  },
  {
   "cell_type": "markdown",
   "id": "a66fa313",
   "metadata": {},
   "source": [
    "### Assignment 12: Operator Overloading\n",
    "\n",
    "Create a class named `Vector` with attributes `x` and `y`. Overload the `+` operator to add two `Vector` objects. Create objects of the class and test the operator overloading."
   ]
  },
  {
   "cell_type": "code",
   "execution_count": 29,
   "id": "9f904abb",
   "metadata": {},
   "outputs": [
    {
     "name": "stdout",
     "output_type": "stream",
     "text": [
      "Vector(6, 8)\n"
     ]
    }
   ],
   "source": [
    "class Vector:\n",
    "    def __init__(self, x, y):\n",
    "        self.x = x\n",
    "        self.y = y\n",
    "\n",
    "    def __add__(self, other):\n",
    "        return Vector(self.x + other.x, self.y + other.y)\n",
    "    \n",
    "    def __str__(self):\n",
    "        return f'Vector({self.x}, {self.y})'\n",
    "    \n",
    "# Test\n",
    "v1 = Vector(2, 3)\n",
    "v2 = Vector(4, 5)\n",
    "v3 = v1 + v2\n",
    "print(v3)  # Vector(6, 8)"
   ]
  },
  {
   "cell_type": "markdown",
   "id": "96f087d9",
   "metadata": {},
   "source": [
    "### Assignment 13: Class with Custom Exception\n",
    "\n",
    "Create a custom exception named `InsufficientBalanceError`. In the `BankAccount` class, raise this exception when a withdrawal amount is greater than the balance. Handle the exception and print an appropriate message."
   ]
  },
  {
   "cell_type": "code",
   "execution_count": 30,
   "id": "e57485bf",
   "metadata": {},
   "outputs": [
    {
     "name": "stdout",
     "output_type": "stream",
     "text": [
      "Error: Insufficient funds!!!\n"
     ]
    }
   ],
   "source": [
    "class Error(Exception):\n",
    "    pass\n",
    "\n",
    "class InsufficientBalanceError(Error):\n",
    "    pass\n",
    "\n",
    "class BankAccount():\n",
    "    \n",
    "\n",
    "    def __init__(self, account_number, balance = 0.0):\n",
    "        self.__account_number = account_number\n",
    "        self.__balance = balance\n",
    "\n",
    "    def deposit(self, amt):\n",
    "        self.__balance += amt\n",
    "\n",
    "    def withdraw(self, amt):\n",
    "        if amt > self.__balance:\n",
    "            raise InsufficientBalanceError(\"Insufficient funds!!!\")\n",
    "        else:\n",
    "            self.__balance -= amt\n",
    "            print(f'{amt} was withdrawn from your account #{self.__account_number}')\n",
    "\n",
    "    def check_balance(self):\n",
    "        return self.__balance\n",
    "    \n",
    "\n",
    "# Test\n",
    "account = BankAccount('12345678', 1000)\n",
    "account.deposit(500)\n",
    "try:\n",
    "    account.withdraw(2000)\n",
    "except InsufficientBalanceError as e:\n",
    "    print(f\"Error: {e}\")"
   ]
  },
  {
   "cell_type": "markdown",
   "id": "057056b8",
   "metadata": {},
   "source": [
    "### Assignment 14: Class with Context Manager\n",
    "\n",
    "Create a class named `FileManager` that implements the context manager protocol to open and close a file. Use this class to read the contents of a file."
   ]
  },
  {
   "cell_type": "code",
   "execution_count": 31,
   "id": "2d4c3047",
   "metadata": {},
   "outputs": [
    {
     "name": "stdout",
     "output_type": "stream",
     "text": [
      "Lorem Ipsum is simply dummy text of the printing and typesetting industry. Lorem Ipsum has been the industry's standard dummy text ever since the 1500s, when an unknown printer took a galley of type and scrambled it to make a type specimen book. \n"
     ]
    }
   ],
   "source": [
    "\n",
    "class FileManager:\n",
    "    def __init__(self, filename, mode):\n",
    "        self.filename = filename\n",
    "        self.mode = mode\n",
    "\n",
    "    def __enter__(self):\n",
    "        self.file = open(self.filename, self.mode)\n",
    "        return self.file\n",
    "    \n",
    "    def __exit__(self, exc_type, exc_value, traceback):\n",
    "        self.file.close()\n",
    "\n",
    "\n",
    "# Test\n",
    "with FileManager('sample.txt', 'r') as file:\n",
    "    content = file.read()\n",
    "    print(content)"
   ]
  },
  {
   "cell_type": "markdown",
   "id": "161bddac",
   "metadata": {},
   "source": [
    "### Assignment 15: Chaining Methods\n",
    "\n",
    "Create a class named `Calculator` with methods to add, subtract, multiply, and divide. Each method should return the object itself to allow method chaining. Create an object and chain multiple method calls."
   ]
  },
  {
   "cell_type": "code",
   "execution_count": 33,
   "id": "9fdb2750",
   "metadata": {},
   "outputs": [
    {
     "name": "stdout",
     "output_type": "stream",
     "text": [
      "7.0\n"
     ]
    }
   ],
   "source": [
    "## Chaining methods\n",
    "\n",
    "class Calculator:\n",
    "    def __init__(self, value = 0):\n",
    "        self.value = value\n",
    "    \n",
    "    def add(self, amount):\n",
    "        self.value += amount\n",
    "        return self\n",
    "\n",
    "    def subtract(self, amount):\n",
    "        self.value -= amount\n",
    "        return self\n",
    "\n",
    "    def multiply(self, amount):\n",
    "        self.value *= amount\n",
    "        return self\n",
    "\n",
    "    def divide(self, amount):\n",
    "        if amount != 0:\n",
    "            self.value /= amount\n",
    "        else:\n",
    "            print('Invalid input: divide by 0 not possible')\n",
    "        return self\n",
    "    \n",
    "\n",
    "# Test\n",
    "calc = Calculator()\n",
    "calc.add(10).subtract(3).multiply(2).divide(2)\n",
    "print(calc.value)  # 7.0"
   ]
  },
  {
   "cell_type": "code",
   "execution_count": null,
   "id": "2f31dd10",
   "metadata": {},
   "outputs": [],
   "source": []
  }
 ],
 "metadata": {
  "kernelspec": {
   "display_name": "Python 3",
   "language": "python",
   "name": "python3"
  },
  "language_info": {
   "codemirror_mode": {
    "name": "ipython",
    "version": 3
   },
   "file_extension": ".py",
   "mimetype": "text/x-python",
   "name": "python",
   "nbconvert_exporter": "python",
   "pygments_lexer": "ipython3",
   "version": "3.12.0"
  }
 },
 "nbformat": 4,
 "nbformat_minor": 5
}
