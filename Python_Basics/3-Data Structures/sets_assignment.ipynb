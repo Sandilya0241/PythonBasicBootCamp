{
 "cells": [
  {
   "cell_type": "markdown",
   "metadata": {},
   "source": [
    "# Module 3: Data Structures Assignments\n",
    "## Lesson 3.3: Sets\n",
    "\n",
    "### Assignment 1: Creating and Accessing Sets\n",
    "\n",
    "### Create a set with the first 10 positive integers. Print the set."
   ]
  },
  {
   "cell_type": "code",
   "execution_count": 1,
   "metadata": {},
   "outputs": [
    {
     "name": "stdout",
     "output_type": "stream",
     "text": [
      "{1, 2, 3, 4, 5, 6, 7, 8, 9, 10}\n"
     ]
    }
   ],
   "source": [
    "first_10_pos_int = set(range(1,11))\n",
    "print(first_10_pos_int)"
   ]
  },
  {
   "cell_type": "markdown",
   "id": "6c7ed34b",
   "metadata": {},
   "source": [
    "\n",
    "### Assignment 2: Adding and Removing Elements\n",
    "\n",
    "### Add the number 11 to the set created in Assignment 1. Then remove the number 1 from the set. Print the modified set."
   ]
  },
  {
   "cell_type": "code",
   "execution_count": 2,
   "id": "d7990834",
   "metadata": {},
   "outputs": [
    {
     "name": "stdout",
     "output_type": "stream",
     "text": [
      "Set before modification : {1, 2, 3, 4, 5, 6, 7, 8, 9, 10}\n",
      "Set after modification : {2, 3, 4, 5, 6, 7, 8, 9, 10, 11}\n"
     ]
    }
   ],
   "source": [
    "first_10_pos_int = set(range(1,11))\n",
    "print(f'Set before modification : {first_10_pos_int}')\n",
    "\n",
    "first_10_pos_int.add(11)\n",
    "first_10_pos_int.remove(1)\n",
    "print(f'Set after modification : {first_10_pos_int}')"
   ]
  },
  {
   "cell_type": "markdown",
   "id": "21b7c1af",
   "metadata": {},
   "source": [
    "### Assignment 3: Set Operations\n",
    "\n",
    "### Create two sets: one with the first 5 positive integers and another with the first 5 even integers. Perform and print the results of union, intersection, difference, and symmetric difference operations on these sets."
   ]
  },
  {
   "cell_type": "code",
   "execution_count": 13,
   "id": "fc87b370",
   "metadata": {},
   "outputs": [
    {
     "name": "stdout",
     "output_type": "stream",
     "text": [
      "Actual post_set set values :  {1, 2, 3, 4, 5}\n",
      "Actual post_even_set set values :  {2, 4, 6, 8, 10}\n",
      "==========================================================\n",
      "Union :  {1, 2, 3, 4, 5, 6, 8, 10}\n",
      "Intersection :  {2, 4}\n",
      "Difference :  {1, 3, 5}\n",
      "Symmetric Difference :  {1, 3, 5, 6, 8, 10}\n"
     ]
    }
   ],
   "source": [
    "post_set=set(range(1,6))\n",
    "post_even_set=set(range(2,11,2))\n",
    "\n",
    "print(f'Actual post_set set values :  {post_set}')\n",
    "print(f'Actual post_even_set set values :  {post_even_set}')\n",
    "print(\"==========================================================\")\n",
    "## Union\n",
    "union_set = post_set.union(post_even_set)\n",
    "print(f'Union :  {union_set}')\n",
    "\n",
    "## Intersection\n",
    "intrscn_set = post_set.intersection(post_even_set)\n",
    "print(f'Intersection :  {intrscn_set}')\n",
    "\n",
    "## Difference\n",
    "diff_set = post_set.difference(post_even_set)\n",
    "print(f'Difference :  {diff_set}')\n",
    "\n",
    "## Symmetric Difference\n",
    "diff_upd_set = post_set.symmetric_difference(post_even_set)\n",
    "print(f'Symmetric Difference :  {diff_upd_set}')"
   ]
  },
  {
   "cell_type": "markdown",
   "id": "060301f2",
   "metadata": {},
   "source": [
    "### Assignment 4: Set Comprehensions\n",
    "\n",
    "### Create a new set containing the squares of the first 10 positive integers using a set comprehension. Print the new set."
   ]
  },
  {
   "cell_type": "code",
   "execution_count": 16,
   "id": "f2368c0e",
   "metadata": {},
   "outputs": [
    {
     "name": "stdout",
     "output_type": "stream",
     "text": [
      "{64, 1, 4, 36, 100, 9, 16, 49, 81, 25}\n"
     ]
    }
   ],
   "source": [
    "sqr_set = {val**2 for val in range(1,11)}\n",
    "print(sqr_set)"
   ]
  },
  {
   "cell_type": "markdown",
   "id": "39712323",
   "metadata": {},
   "source": [
    "### Assignment 5: Filtering Sets\n",
    "\n",
    "Create a new set containing only the even numbers from the set created in Assignment 1 using a set comprehension. Print the new set."
   ]
  },
  {
   "cell_type": "code",
   "execution_count": 17,
   "id": "e8fba030",
   "metadata": {},
   "outputs": [
    {
     "name": "stdout",
     "output_type": "stream",
     "text": [
      "{2, 4, 6, 8, 10}\n"
     ]
    }
   ],
   "source": [
    "first_10_pos_int = set(range(1,11))\n",
    "evn_set = {val for val in first_10_pos_int if val%2 == 0}\n",
    "print(evn_set)"
   ]
  },
  {
   "cell_type": "markdown",
   "id": "05dbcb9e",
   "metadata": {},
   "source": [
    "### Assignment 6: Set Methods\n",
    "\n",
    "### Create a set with duplicate elements and remove the duplicates using set methods. Print the modified set."
   ]
  },
  {
   "cell_type": "code",
   "execution_count": 18,
   "id": "53546c68",
   "metadata": {},
   "outputs": [
    {
     "name": "stdout",
     "output_type": "stream",
     "text": [
      "{1, 2, 3, 4, 5}\n"
     ]
    }
   ],
   "source": [
    "s = {1, 2, 2, 3, 4, 4, 5}\n",
    "unique_s = set(s)\n",
    "print(unique_s)"
   ]
  },
  {
   "cell_type": "markdown",
   "id": "a60fce5e",
   "metadata": {},
   "source": [
    "### Assignment 7: Subsets and Supersets\n",
    "\n",
    "### Create two sets: one with the first 5 positive integers and another with the first 3 positive integers. Check if the second set is a subset of the first set and if the first set is a superset of the second set. Print the results."
   ]
  },
  {
   "cell_type": "code",
   "execution_count": 19,
   "id": "21c311ac",
   "metadata": {},
   "outputs": [
    {
     "name": "stdout",
     "output_type": "stream",
     "text": [
      "Does the set2 is subset of set1 : True\n",
      "Does the set1 is superset of set2 : True\n"
     ]
    }
   ],
   "source": [
    "set1 = set(range(1,6))\n",
    "set2 = set(range(1,4))\n",
    "print(f'Does the set2 is subset of set1 : {set2.issubset(set1)}')\n",
    "print(f'Does the set1 is superset of set2 : {set1.issuperset(set2)}')"
   ]
  },
  {
   "cell_type": "markdown",
   "id": "6f9a6db0",
   "metadata": {},
   "source": [
    "### Assignment 8: Frozenset\n",
    "\n",
    "### Create a frozenset with the first 5 positive integers. Print the frozenset."
   ]
  },
  {
   "cell_type": "code",
   "execution_count": 21,
   "id": "4b1e6701",
   "metadata": {},
   "outputs": [
    {
     "name": "stdout",
     "output_type": "stream",
     "text": [
      "frozenset({1, 2, 3, 4, 5})\n"
     ]
    }
   ],
   "source": [
    "frzn_set = frozenset(range(1,6))\n",
    "print(frzn_set)"
   ]
  },
  {
   "cell_type": "markdown",
   "id": "38883420",
   "metadata": {},
   "source": [
    "### Assignment 9: Set and List Conversion\n",
    "\n",
    "### Create a set with the first 5 positive integers. Convert it to a list, append the number 6, and convert it back to a set. Print the resulting set."
   ]
  },
  {
   "cell_type": "code",
   "execution_count": 22,
   "id": "19157ac6",
   "metadata": {},
   "outputs": [
    {
     "name": "stdout",
     "output_type": "stream",
     "text": [
      "Set before update : {1, 2, 3, 4, 5}\n",
      "Set after update : {1, 2, 3, 4, 5, 6}\n"
     ]
    }
   ],
   "source": [
    "set1 = set(range(1,6))\n",
    "\n",
    "print(f'Set before update : {set1}')\n",
    "\n",
    "lst1 = list(set1)\n",
    "\n",
    "lst1.append(6)\n",
    "\n",
    "set1 = set(lst1)\n",
    "\n",
    "print(f'Set after update : {set1}')"
   ]
  },
  {
   "cell_type": "markdown",
   "id": "f74cd1c0",
   "metadata": {},
   "source": [
    "### Assignment 10: Set and Dictionary\n",
    "\n",
    "### Create a dictionary with set keys and integer values. Print the dictionary."
   ]
  },
  {
   "cell_type": "code",
   "execution_count": 28,
   "id": "490ddf63",
   "metadata": {},
   "outputs": [
    {
     "name": "stdout",
     "output_type": "stream",
     "text": [
      "{frozenset({1, 2}): 'numbers', frozenset({'b', 'a'}): 'alphabets'}\n"
     ]
    }
   ],
   "source": [
    "sample_dict = {\n",
    "    frozenset({1,2}):'numbers',\n",
    "    frozenset({'a','b'}):'alphabets'\n",
    "}\n",
    "print(sample_dict)"
   ]
  },
  {
   "cell_type": "markdown",
   "id": "45c40574",
   "metadata": {},
   "source": [
    "### Assignment 11: Iterating Over Sets\n",
    "\n",
    "### Create a set and iterate over the elements, printing each element."
   ]
  },
  {
   "cell_type": "code",
   "execution_count": 29,
   "id": "f4762fb0",
   "metadata": {},
   "outputs": [
    {
     "name": "stdout",
     "output_type": "stream",
     "text": [
      "1\n",
      "2\n",
      "3\n",
      "4\n",
      "5\n"
     ]
    }
   ],
   "source": [
    "set1 = set(range(1,6))\n",
    "for val in set1:\n",
    "    print(val)"
   ]
  },
  {
   "cell_type": "markdown",
   "id": "d2f687f1",
   "metadata": {},
   "source": [
    "\n",
    "### Assignment 12: Removing Elements from Sets\n",
    "\n",
    "### Create a set and remove elements from it until it is empty. Print the set after each removal."
   ]
  },
  {
   "cell_type": "code",
   "execution_count": 31,
   "id": "b5e9ef9e",
   "metadata": {},
   "outputs": [
    {
     "name": "stdout",
     "output_type": "stream",
     "text": [
      "1\n",
      "2\n",
      "3\n",
      "4\n",
      "5\n"
     ]
    }
   ],
   "source": [
    "set1 = set(range(1,6))\n",
    "while set1:\n",
    "    val = set1.pop()\n",
    "    print(val)"
   ]
  },
  {
   "cell_type": "markdown",
   "id": "7bc051f6",
   "metadata": {},
   "source": [
    "### Assignment 13: Set Symmetric Difference Update\n",
    "\n",
    "### Create two sets and update the first set with the symmetric difference of the two sets. Print the modified first set."
   ]
  },
  {
   "cell_type": "code",
   "execution_count": 37,
   "id": "a4b28b7a",
   "metadata": {},
   "outputs": [
    {
     "name": "stdout",
     "output_type": "stream",
     "text": [
      "Before  modification : {1, 2, 3}\n",
      "After modification : {1, 2, 4, 5}\n"
     ]
    }
   ],
   "source": [
    "set1 = {1, 2, 3}\n",
    "set2 = {3, 4, 5}\n",
    "print(f'Before  modification : {set1}')\n",
    "\n",
    "set1.symmetric_difference_update(set2)\n",
    "\n",
    "print(f'After modification : {set1}')"
   ]
  },
  {
   "cell_type": "code",
   "execution_count": 38,
   "id": "e9728bf2",
   "metadata": {},
   "outputs": [],
   "source": [
    "### Assignment 14: Set Membership Testing\n",
    "\n",
    "### Create a set and test if certain elements are present in the set. Print the results."
   ]
  },
  {
   "cell_type": "code",
   "execution_count": 39,
   "id": "29e6d5d0",
   "metadata": {},
   "outputs": [
    {
     "name": "stdout",
     "output_type": "stream",
     "text": [
      "Prsent\n"
     ]
    }
   ],
   "source": [
    "set1 = set(range(1,6))\n",
    "if 1 in set1:\n",
    "    print(f\"Prsent\")\n",
    "else:\n",
    "    print(f\"Prsent\")"
   ]
  },
  {
   "cell_type": "code",
   "execution_count": 40,
   "id": "b3ae8433",
   "metadata": {},
   "outputs": [],
   "source": [
    "### Assignment 15: Set of Tuples\n",
    "\n",
    "### Create a set containing tuples, where each tuple contains two elements. Print the set."
   ]
  },
  {
   "cell_type": "code",
   "execution_count": 41,
   "id": "39e6fa83",
   "metadata": {},
   "outputs": [
    {
     "name": "stdout",
     "output_type": "stream",
     "text": [
      "{(True, False), (1, 2), ('a', 'b')}\n"
     ]
    }
   ],
   "source": [
    "set_tuples={\n",
    "    (1,2),\n",
    "    ('a','b'),\n",
    "    (True, False)\n",
    "}\n",
    "print(set_tuples)"
   ]
  },
  {
   "cell_type": "code",
   "execution_count": null,
   "id": "4e65c06d",
   "metadata": {},
   "outputs": [],
   "source": []
  }
 ],
 "metadata": {
  "kernelspec": {
   "display_name": "Python 3",
   "language": "python",
   "name": "python3"
  },
  "language_info": {
   "codemirror_mode": {
    "name": "ipython",
    "version": 3
   },
   "file_extension": ".py",
   "mimetype": "text/x-python",
   "name": "python",
   "nbconvert_exporter": "python",
   "pygments_lexer": "ipython3",
   "version": "3.12.0"
  }
 },
 "nbformat": 4,
 "nbformat_minor": 5
}
