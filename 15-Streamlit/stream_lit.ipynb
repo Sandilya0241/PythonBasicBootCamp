{
 "cells": [
  {
   "cell_type": "markdown",
   "metadata": {},
   "source": [
    "### Introduction To Streamlit\n",
    "* Streamlit is an open-source app framework for Machine Learning and Data Science projects.\n",
    "* It allows us to create beautiful web applications for our `Machine Learning` and `Data Science` projects with simple Python scripts.  "
   ]
  },
  {
   "cell_type": "markdown",
   "metadata": {},
   "source": []
  }
 ],
 "metadata": {
  "language_info": {
   "name": "python"
  }
 },
 "nbformat": 4,
 "nbformat_minor": 2
}
