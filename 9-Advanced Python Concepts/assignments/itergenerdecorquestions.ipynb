{
 "cells": [
  {
   "cell_type": "markdown",
   "metadata": {},
   "source": [
    "# Module: Iterators, Generators, and Decorators Assignments\n",
    "## Lesson: Iterators, Generators, and Decorators\n",
    "### Assignment 1: Custom Iterator\n",
    "\n",
    "Create a custom iterator class named `Countdown` that takes a number and counts down to zero. Implement the `__iter__` and `__next__` methods. Test the iterator by using it in a for loop."
   ]
  },
  {
   "cell_type": "code",
   "execution_count": 5,
   "id": "dfc57905",
   "metadata": {},
   "outputs": [
    {
     "name": "stdout",
     "output_type": "stream",
     "text": [
      "4\n",
      "3\n",
      "2\n",
      "1\n",
      "0\n"
     ]
    }
   ],
   "source": [
    "class Countdown:\n",
    "    def __init__(self, num):\n",
    "        self.num = num\n",
    "\n",
    "\n",
    "    def __iter__(self):\n",
    "        return self\n",
    "\n",
    "\n",
    "    def __next__(self):\n",
    "        if self.num <= 0:\n",
    "            raise StopIteration\n",
    "        else:\n",
    "            self.num -= 1\n",
    "            return self.num\n",
    "        \n",
    "\n",
    "for val in Countdown(5):\n",
    "    print(val)\n",
    "    "
   ]
  },
  {
   "cell_type": "markdown",
   "id": "f3e58d97",
   "metadata": {},
   "source": [
    "### Assignment 2: Custom Iterable Class\n",
    "\n",
    "Create a class named `MyRange` that mimics the behavior of the built-in `range` function. Implement the `__iter__` and `__next__` methods. Test the class by using it in a for loop."
   ]
  },
  {
   "cell_type": "code",
   "execution_count": 9,
   "id": "6a913e6d",
   "metadata": {},
   "outputs": [
    {
     "name": "stdout",
     "output_type": "stream",
     "text": [
      "1\n",
      "2\n",
      "3\n",
      "4\n"
     ]
    }
   ],
   "source": [
    "class MyRange:\n",
    "    def __init__(self, start, end, step=1):\n",
    "        self.start = start\n",
    "        self.end = end\n",
    "        self.step = step\n",
    "\n",
    "    def __iter__(self):\n",
    "        return self\n",
    "    \n",
    "    def __next__(self):\n",
    "        if self.end <= self.start:\n",
    "            raise StopIteration\n",
    "        else:\n",
    "            self.start += self.step\n",
    "            return self.start - 1\n",
    "# Test\n",
    "for number in MyRange(1, 5):\n",
    "    print(number)"
   ]
  },
  {
   "cell_type": "markdown",
   "id": "53777971",
   "metadata": {},
   "source": [
    "### Assignment 3: Generator Function\n",
    "\n",
    "Write a generator function named `fibonacci` that yields the Fibonacci sequence. Test the generator by iterating over it and printing the first 10 Fibonacci numbers."
   ]
  },
  {
   "cell_type": "code",
   "execution_count": 10,
   "id": "5f16b407",
   "metadata": {},
   "outputs": [
    {
     "name": "stdout",
     "output_type": "stream",
     "text": [
      "0\n",
      "1\n",
      "1\n",
      "2\n",
      "3\n",
      "5\n",
      "8\n",
      "13\n",
      "21\n",
      "34\n"
     ]
    }
   ],
   "source": [
    "def fibonacci(count):\n",
    "    num1, num2 = 0, 1\n",
    "    for _ in range(count):\n",
    "        yield num1\n",
    "        num1, num2 = num2, num1 + num2\n",
    "\n",
    "\n",
    "for val in fibonacci(10):\n",
    "    print(val)"
   ]
  },
  {
   "cell_type": "markdown",
   "id": "2af40d7f",
   "metadata": {},
   "source": [
    "### Assignment 4: Generator Expression\n",
    "\n",
    "Create a generator expression that generates the squares of numbers from 1 to 10. Iterate over the generator and print each value."
   ]
  },
  {
   "cell_type": "code",
   "execution_count": 15,
   "id": "2bdc8cd4",
   "metadata": {},
   "outputs": [
    {
     "name": "stdout",
     "output_type": "stream",
     "text": [
      "0\n",
      "1\n",
      "4\n",
      "9\n",
      "16\n",
      "25\n",
      "36\n",
      "49\n",
      "64\n",
      "81\n"
     ]
    }
   ],
   "source": [
    "squares = (val ** 2 for val in range(10))\n",
    "\n",
    "for val in squares:\n",
    "    print(val)\n",
    "    "
   ]
  },
  {
   "cell_type": "markdown",
   "id": "6ca082df",
   "metadata": {},
   "source": [
    "### Assignment 5: Chaining Generators\n",
    "\n",
    "Write two generator functions: `even_numbers` that yields even numbers up to a limit, and `squares` that yields the square of each number from another generator. Chain these generators to produce the squares of even numbers up to 20."
   ]
  },
  {
   "cell_type": "code",
   "execution_count": 16,
   "id": "22bf297a",
   "metadata": {},
   "outputs": [
    {
     "name": "stdout",
     "output_type": "stream",
     "text": [
      "0\n",
      "4\n",
      "16\n",
      "36\n",
      "64\n",
      "100\n",
      "144\n",
      "196\n",
      "256\n",
      "324\n"
     ]
    }
   ],
   "source": [
    "def even_numbers(count):\n",
    "    for val in range(count):\n",
    "        if val % 2 == 0:\n",
    "            yield val\n",
    "\n",
    "def squares(numbers):\n",
    "    for number in numbers:\n",
    "        yield number ** 2\n",
    "\n",
    "\n",
    "\n",
    "# Test\n",
    "even_gen = even_numbers(20)\n",
    "square_gen = squares(even_gen)\n",
    "for square in square_gen:\n",
    "    print(square)"
   ]
  },
  {
   "cell_type": "markdown",
   "id": "514ba5a3",
   "metadata": {},
   "source": [
    "### Assignment 6: Simple Decorator\n",
    "\n",
    "Write a decorator named `time_it` that measures the execution time of a function. Apply this decorator to a function that calculates the factorial of a number."
   ]
  },
  {
   "cell_type": "code",
   "execution_count": 7,
   "id": "2225f3e2",
   "metadata": {},
   "outputs": [
    {
     "name": "stdout",
     "output_type": "stream",
     "text": [
      "Execution time: 0.0 seconds\n",
      "Execution time: 0.0010023117065429688 seconds\n",
      "Execution time: 0.0010023117065429688 seconds\n",
      "Execution time: 0.0010023117065429688 seconds\n",
      "Execution time: 0.0010023117065429688 seconds\n",
      "Execution time: 0.0010023117065429688 seconds\n",
      "Execution time: 0.0010023117065429688 seconds\n",
      "Execution time: 0.0010023117065429688 seconds\n",
      "Execution time: 0.0010023117065429688 seconds\n",
      "Execution time: 0.0010023117065429688 seconds\n",
      "Execution time: 0.0010023117065429688 seconds\n"
     ]
    },
    {
     "data": {
      "text/plain": [
       "3628800"
      ]
     },
     "execution_count": 7,
     "metadata": {},
     "output_type": "execute_result"
    }
   ],
   "source": [
    "from math import factorial\n",
    "import time\n",
    "\n",
    "def time_it(func):\n",
    "    def wrapper(*args, **kwargs):\n",
    "        st_time = time.time()\n",
    "        result = func(*args, **kwargs)\n",
    "        end_time = time.time()\n",
    "        print(f\"Execution time: {end_time - st_time} seconds\")\n",
    "        return result\n",
    "    return wrapper\n",
    "\n",
    "# @time_it\n",
    "# def calc_factorial(number):\n",
    "#     return factorial(number)\n",
    "\n",
    "@time_it\n",
    "def calc_factorial(number):\n",
    "    if number == 0:\n",
    "        return 1\n",
    "    else:\n",
    "        return number * calc_factorial(number - 1)\n",
    "\n",
    "\n",
    "calc_factorial(10)"
   ]
  },
  {
   "cell_type": "markdown",
   "id": "ed8898ef",
   "metadata": {},
   "source": [
    "### Assignment 7: Decorator with Arguments\n",
    "\n",
    "Write a decorator named `repeat` that takes an argument `n` and repeats the execution of the decorated function `n` times. Apply this decorator to a function that prints a message."
   ]
  },
  {
   "cell_type": "code",
   "execution_count": 13,
   "id": "5d01a09e",
   "metadata": {},
   "outputs": [
    {
     "name": "stdout",
     "output_type": "stream",
     "text": [
      "Hello world\n",
      "Hello world\n",
      "Hello world\n"
     ]
    }
   ],
   "source": [
    "def repeat(num):\n",
    "    def decorator(func):\n",
    "        def wrapper(*args, **kwargs):\n",
    "            for _ in range(num):\n",
    "                func(*args, **kwargs)\n",
    "        return wrapper\n",
    "    return decorator\n",
    "\n",
    "@repeat(3)\n",
    "def print_my_message(msg):\n",
    "    print(msg)\n",
    "\n",
    "print_my_message(\"Hello world\")"
   ]
  },
  {
   "cell_type": "markdown",
   "id": "588f4501",
   "metadata": {},
   "source": [
    "### Assignment 8: Nested Decorators\n",
    "\n",
    "Write two decorators: `uppercase` that converts the result of a function to uppercase, and `exclaim` that adds an exclamation mark to the result of a function. Apply both decorators to a function that returns a greeting message."
   ]
  },
  {
   "cell_type": "code",
   "execution_count": 22,
   "id": "9f80c0b4",
   "metadata": {},
   "outputs": [
    {
     "data": {
      "text/plain": [
       "\"HEY, IRON MAN, I'LL SNAP MY FINGERS!\""
      ]
     },
     "execution_count": 22,
     "metadata": {},
     "output_type": "execute_result"
    }
   ],
   "source": [
    "def uppercase(func):\n",
    "    def wrapper(*args, **kwargs):\n",
    "        result = func(*args, **kwargs)\n",
    "        return result.upper()\n",
    "    return wrapper\n",
    "\n",
    "def exclaim(func):\n",
    "    def wrapper(*args, **kwargs):\n",
    "        result = func(*args, **kwargs)\n",
    "        return result + \"!\"\n",
    "    return wrapper\n",
    "\n",
    "@uppercase\n",
    "@exclaim\n",
    "def greet(msg):\n",
    "    return msg\n",
    "\n",
    "greet(\"Hey, Iron man, I'll snap my fingers\")\n",
    " "
   ]
  },
  {
   "cell_type": "markdown",
   "id": "67b4a0f0",
   "metadata": {},
   "source": [
    "### Assignment 9: Class Decorator\n",
    "\n",
    "Create a class decorator named `singleton` that ensures a class has only one instance. Apply this decorator to a class named `DatabaseConnection` and test it."
   ]
  },
  {
   "cell_type": "code",
   "execution_count": 26,
   "id": "765c9530",
   "metadata": {},
   "outputs": [
    {
     "name": "stdout",
     "output_type": "stream",
     "text": [
      "Database connection got created!!!\n",
      "True\n"
     ]
    }
   ],
   "source": [
    "def singleton(cls):\n",
    "    instances = {}\n",
    "    def get_instances(*args, **kwargs):\n",
    "        if cls not in instances:\n",
    "            instances[cls] = cls(*args, **kwargs)\n",
    "        return instances[cls]\n",
    "    return get_instances\n",
    "\n",
    "@singleton\n",
    "class DatabaseConnection:\n",
    "    def __init__(self):\n",
    "        print('Database connection got created!!!')\n",
    "\n",
    "db1 = DatabaseConnection()\n",
    "db2 = DatabaseConnection()\n",
    "print(db1 is db2)"
   ]
  },
  {
   "cell_type": "markdown",
   "id": "da66857f",
   "metadata": {},
   "source": [
    "### Assignment 10: Iterator Protocol with Decorators\n",
    "\n",
    "Create a custom iterator class named `ReverseString` that iterates over a string in reverse. Write a decorator named `uppercase` that converts the string to uppercase before reversing it. Apply the decorator to the `ReverseString` class."
   ]
  },
  {
   "cell_type": "code",
   "execution_count": 4,
   "id": "b340d808",
   "metadata": {},
   "outputs": [
    {
     "name": "stdout",
     "output_type": "stream",
     "text": [
      "O\n",
      "L\n",
      "L\n",
      "E\n",
      "H\n"
     ]
    }
   ],
   "source": [
    "def uppercase(cls):\n",
    "    class Wrapped(cls):\n",
    "        def __init__(self,*args,**kwargs):\n",
    "            super().__init__(*args,**kwargs)\n",
    "            self.data = self.data.upper()\n",
    "    return Wrapped\n",
    "\n",
    "@uppercase\n",
    "class ReverseString:\n",
    "    def __init__(self, data):\n",
    "        self.data = data\n",
    "        self.index = len(data)\n",
    "\n",
    "    def __iter__(self):\n",
    "        return self\n",
    "    \n",
    "    def __next__(self):\n",
    "        if self.index == 0:\n",
    "            raise StopIteration\n",
    "        \n",
    "        self.index -= 1\n",
    "        return self.data[self.index]\n",
    "    \n",
    "\n",
    "# Test\n",
    "for char in ReverseString(\"hello\"):\n",
    "    print(char)\n",
    "\n"
   ]
  },
  {
   "cell_type": "markdown",
   "id": "7bbf4f12",
   "metadata": {},
   "source": [
    "### Assignment 11: Stateful Generators\n",
    "\n",
    "Write a stateful generator function named `counter` that takes a start value and increments it by 1 each time it is called. Test the generator by iterating over it and printing the first 10 values."
   ]
  },
  {
   "cell_type": "code",
   "execution_count": 6,
   "id": "1001840f",
   "metadata": {},
   "outputs": [
    {
     "name": "stdout",
     "output_type": "stream",
     "text": [
      "0\n",
      "1\n",
      "2\n",
      "3\n",
      "4\n",
      "5\n",
      "6\n",
      "7\n",
      "8\n",
      "9\n"
     ]
    }
   ],
   "source": [
    "def counter(val):\n",
    "    current = val\n",
    "    while True:\n",
    "        # The yield statement is used to produce a value (current) and pause the function's execution, allowing it to be resumed later from the same point. This makes the function a generator.\n",
    "        yield current\n",
    "        current += 1\n",
    "\n",
    "\n",
    "\n",
    "# Test\n",
    "count = counter(0)\n",
    "for _ in range(10):\n",
    "    print(next(count))"
   ]
  },
  {
   "cell_type": "markdown",
   "id": "61e865f2",
   "metadata": {},
   "source": [
    "### Assignment 12: Generator with Exception Handling\n",
    "\n",
    "Write a generator function named `safe_divide` that takes a list of numbers and yields the division of each number by a given divisor. Implement exception handling within the generator to handle division by zero."
   ]
  },
  {
   "cell_type": "code",
   "execution_count": 14,
   "id": "be4100ee",
   "metadata": {},
   "outputs": [
    {
     "name": "stdout",
     "output_type": "stream",
     "text": [
      "Error: division by zero\n",
      "Error: division by zero\n",
      "Error: division by zero\n",
      "Error: division by zero\n"
     ]
    }
   ],
   "source": [
    "def safe_divide(lst_numbers, divisor):\n",
    "    for number in lst_numbers:\n",
    "        try:\n",
    "            yield number / divisor\n",
    "        except ZeroDivisionError as ze:\n",
    "            yield \"Error: \" + str(ze)\n",
    "\n",
    "\n",
    "# Test\n",
    "numbers = [10, 20, 30, 40]\n",
    "for result in safe_divide(numbers, 0):\n",
    "    print(result)"
   ]
  },
  {
   "cell_type": "markdown",
   "id": "ded8dd77",
   "metadata": {},
   "source": [
    "### Assignment 13: Context Manager Decorator\n",
    "\n",
    "Write a decorator named `open_file` that manages the opening and closing of a file. Apply this decorator to a function that writes some text to a file."
   ]
  },
  {
   "cell_type": "code",
   "execution_count": 21,
   "id": "06ede953",
   "metadata": {},
   "outputs": [],
   "source": [
    "def open_file(file_name, mode):\n",
    "    def decorator(func):\n",
    "        def wrapper(*args, **kwargs):\n",
    "            with open(file_name, mode) as file:\n",
    "                return func(file, *args, **kwargs)\n",
    "        return wrapper\n",
    "    return decorator\n",
    "\n",
    "@open_file(\"test_file.txt\",\"w\")\n",
    "def write_to_file(file,text):\n",
    "    file.write(text)\n",
    "\n",
    "# Test\n",
    "write_to_file('Hello, World!')\n"
   ]
  },
  {
   "cell_type": "markdown",
   "id": "e62a32eb",
   "metadata": {},
   "source": [
    "### Assignment 14: Infinite Iterator\n",
    "\n",
    "Create an infinite iterator class named `InfiniteCounter` that starts from a given number and increments by 1 indefinitely. Test the iterator by printing the first 10 values generated by it."
   ]
  },
  {
   "cell_type": "code",
   "execution_count": null,
   "id": "9a7b3c37",
   "metadata": {},
   "outputs": [],
   "source": [
    "class InfiniteCounter():\n",
    "    def __init__(self):\n",
    "        super().__init__(self)\n"
   ]
  },
  {
   "cell_type": "markdown",
   "id": "7886cfd6",
   "metadata": {},
   "source": [
    "### Assignment 15: Generator Pipeline\n",
    "\n",
    "Write three generator functions: `integers` that yields integers from 1 to 10, `doubles` that yields each integer doubled, and `negatives` that yields the negative of each doubled value. Chain these generators to create a pipeline that produces the negative doubled values of integers from 1 to 10."
   ]
  },
  {
   "cell_type": "code",
   "execution_count": null,
   "id": "922cd4ae",
   "metadata": {},
   "outputs": [],
   "source": []
  }
 ],
 "metadata": {
  "kernelspec": {
   "display_name": "Python 3",
   "language": "python",
   "name": "python3"
  },
  "language_info": {
   "codemirror_mode": {
    "name": "ipython",
    "version": 3
   },
   "file_extension": ".py",
   "mimetype": "text/x-python",
   "name": "python",
   "nbconvert_exporter": "python",
   "pygments_lexer": "ipython3",
   "version": "3.12.0"
  }
 },
 "nbformat": 4,
 "nbformat_minor": 5
}
