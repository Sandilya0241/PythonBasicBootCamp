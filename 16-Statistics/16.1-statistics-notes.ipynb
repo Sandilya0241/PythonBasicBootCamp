{
 "cells": [
  {
   "cell_type": "markdown",
   "metadata": {},
   "source": [
    "### What is Statistics and it's applications?\n",
    "\n",
    "Statistics is a field that deals with collection, organisation, analysis, interpretation and presentation of the data.\n",
    "\n",
    "By doing all this, we want to understand data and can make `Decision Making`.\n",
    "\n",
    "Example:\n",
    "*   Age for online shopping is {24,27,14,13,28,29,31,32}.\n",
    "*   What kind of promotional offers can be provided?\n",
    "*   Can calculate Mean, Median and Distribution of age.\n",
    "*   Charts and Graphs\n",
    "    -   Histograms\n",
    "    -   PDF\n",
    "    -   CDF\n",
    "\n",
    "\n",
    "Applications:\n",
    "*   Everyone uses it.\n",
    "*   Machine Learning.\n",
    "*   Data Analyst.\n",
    "*   Business Analytics.\n",
    "*   Risk Analyst.\n",
    "*   In every domain and field.\n",
    "\n",
    "\n",
    "**TYPES OF STATISTICS:**\n",
    "1.  **DESCRIPTIVE** : It consists of organizing and of summarizing data.\n",
    "    -   Measure of Central Tendency\n",
    "        1. Mean\n",
    "        2. Median\n",
    "        3. Mode\n",
    "    -   Measure of Dispersion\n",
    "        1. Variance\n",
    "        2. Standard Deviation\n",
    "2.  **INFERENTIAL** : We collect some Sample data, we perform some experiments (`Z tests`, `T tests`) and we bring up some `conclusions or inferences`. These conclusion are actually made for some other data, which is called `Population Data`. \n",
    "\n",
    "    **Population Data Size > Sample Data Size**\n",
    "\n",
    "\n",
    "### Example to understand DESCRIPTIVE and INFERENTIAL Statistics:\n",
    "\n",
    "There is a College A in which there are 1000 students. For Statistics we are collecting heights like {180 cms, 170 cms, 162 cms, 150 cms, 160 cms}.\n",
    "\n",
    "**DESCRIPTIVE STATISTICS**\n",
    "\n",
    "Calculate Mean, Median, and Mode of Height of Students.\n",
    "\n",
    "**INFERENTIAL STATISTTICS**\n",
    "\n",
    "By considering this provided data (sample data), we will infer or conclude height of 1000's (Population data) of students. \n",
    "\n",
    "                                                                 "
   ]
  },
  {
   "cell_type": "markdown",
   "metadata": {},
   "source": []
  }
 ],
 "metadata": {
  "language_info": {
   "name": "python"
  }
 },
 "nbformat": 4,
 "nbformat_minor": 2
}
