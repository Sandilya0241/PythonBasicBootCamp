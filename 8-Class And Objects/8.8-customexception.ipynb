{
 "cells": [
  {
   "cell_type": "code",
   "execution_count": 3,
   "metadata": {},
   "outputs": [
    {
     "name": "stdout",
     "output_type": "stream",
     "text": [
      "Well, you met the eligibility criteria. Proceed to apply for exam.\n"
     ]
    }
   ],
   "source": [
    "class Error(Exception):\n",
    "    pass\n",
    "\n",
    "class DOBException(Error):\n",
    "    pass\n",
    "\n",
    "year = int(input('Enter year of birth : '))\n",
    "age = 2024 - year\n",
    "try:\n",
    "    if age <= 30 and age >= 20:\n",
    "        print('Well, you met the eligibility criteria. Proceed to apply for exam.')\n",
    "    else:\n",
    "        raise DOBException('Sorry, age limit criteria did not meet. You cannot apply for exam.')\n",
    "except DOBException as de:\n",
    "    print(de)"
   ]
  },
  {
   "cell_type": "code",
   "execution_count": null,
   "metadata": {},
   "outputs": [],
   "source": []
  }
 ],
 "metadata": {
  "kernelspec": {
   "display_name": "Python 3",
   "language": "python",
   "name": "python3"
  },
  "language_info": {
   "codemirror_mode": {
    "name": "ipython",
    "version": 3
   },
   "file_extension": ".py",
   "mimetype": "text/x-python",
   "name": "python",
   "nbconvert_exporter": "python",
   "pygments_lexer": "ipython3",
   "version": "3.12.0"
  }
 },
 "nbformat": 4,
 "nbformat_minor": 2
}
