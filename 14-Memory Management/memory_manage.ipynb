{
 "cells": [
  {
   "cell_type": "markdown",
   "metadata": {},
   "source": [
    "### Python Memory Management\n",
    "- Memory management in Python involves a combination of automatic garbage collection, reference counting, and various internal optimizations to efficiently manage memory allocation and deallocation.\n",
    "- Understanding these mechanisms can help developers write more efficient and robust applications.\n",
    "\n",
    "    1. Key Concepts in Python Memory Management.\n",
    "    2. Memory Allocation and Deallocation.\n",
    "    3. Reference counting.\n",
    "    4. Garbage Collection.\n",
    "    5. The GC Module.\n",
    "    6. Memory Management Best Practices."
   ]
  },
  {
   "cell_type": "markdown",
   "metadata": {},
   "source": [
    "#### Reference Counting\n",
    "\n",
    "Reference counting is the primary method Python uses to manage memory. Each object in Python maintains a count of references pointing to it. When the reference count drops to zero, the memory occupied by the object is deallocated. \n"
   ]
  },
  {
   "cell_type": "code",
   "execution_count": 4,
   "metadata": {},
   "outputs": [
    {
     "name": "stdout",
     "output_type": "stream",
     "text": [
      "2\n",
      "3\n",
      "2\n"
     ]
    }
   ],
   "source": [
    "from sys import getrefcount\n",
    "\n",
    "a = []\n",
    "\n",
    "## 2 References\n",
    "#   - first one is from 'a'\n",
    "#   - second one from getrefcount()\n",
    "# ##\n",
    "print(getrefcount(a))\n",
    "\n",
    "b = a\n",
    "## 3 References\n",
    "#   - first one is from 'a'\n",
    "#   - second one from getrefcount()\n",
    "#   - third one from 'b'\n",
    "# ##\n",
    "print(getrefcount(b))\n",
    "\n",
    "del b\n",
    "# print(getrefcount(b))\n",
    "print(getrefcount(a))"
   ]
  },
  {
   "cell_type": "markdown",
   "metadata": {},
   "source": [
    "### Garbage Collection\n",
    "Python includes a cyclic garbage collector to handle reference cycles. Reference cycles occur when objects reference each other, preventing their reference counts from reaching zero."
   ]
  },
  {
   "cell_type": "code",
   "execution_count": 1,
   "metadata": {},
   "outputs": [
    {
     "data": {
      "text/plain": [
       "33"
      ]
     },
     "execution_count": 1,
     "metadata": {},
     "output_type": "execute_result"
    }
   ],
   "source": [
    "import gc\n",
    "## Enable garbage collector\n",
    "gc.enable()\n",
    "## Disable garbage collector\n",
    "gc.disable()\n",
    "## To trigger garbage collector manually\n",
    "gc.collect()"
   ]
  },
  {
   "cell_type": "code",
   "execution_count": 6,
   "metadata": {},
   "outputs": [
    {
     "name": "stdout",
     "output_type": "stream",
     "text": [
      "[{'collected': 1715, 'collections': 65, 'uncollectable': 0},\n",
      " {'collected': 88, 'collections': 5, 'uncollectable': 0},\n",
      " {'collected': 33, 'collections': 1, 'uncollectable': 0}]\n",
      "[]\n"
     ]
    }
   ],
   "source": [
    "import gc\n",
    "from pprint import pprint\n",
    "## Get garbage collection stats\n",
    "pprint(gc.get_stats())\n",
    "## Get unreachable objects\n",
    "pprint(gc.garbage)"
   ]
  },
  {
   "cell_type": "markdown",
   "metadata": {},
   "source": [
    "### Memory Management Best Practices\n",
    "* Use local variables:\n",
    "    -   Local variables have a shorter lifespan and are freed sooner than Global variables.\n",
    "* Avoid Circular References:\n",
    "    -   Circular references can lead to memory leaks if not properly managed.\n",
    "* Use Generators:\n",
    "    -   Generators produce items one at a time and only keep one item in memory at a time, making them memory efficient.\n",
    "* Explicitly Delete Objects:\n",
    "    -   Use the `del` statement to delete variables and objects explicitly.\n",
    "* Profile Memory Usage:\n",
    "    -   Use memory profiling tools like `tracemalloc` and `memory_profiler` to identify memory leaks and optimize memory usage."
   ]
  },
  {
   "cell_type": "code",
   "execution_count": 8,
   "metadata": {},
   "outputs": [
    {
     "name": "stdout",
     "output_type": "stream",
     "text": [
      "Object object1 created.\n",
      "Object object2 created.\n",
      "Object object1 is deleted.\n",
      "Object object2 is deleted.\n",
      "Object object1 is deleted.\n",
      "Object object2 is deleted.\n"
     ]
    },
    {
     "data": {
      "text/plain": [
       "4514"
      ]
     },
     "execution_count": 8,
     "metadata": {},
     "output_type": "execute_result"
    }
   ],
   "source": [
    "import gc\n",
    "from sys import getrefcount\n",
    "\n",
    "class MyClass:\n",
    "    def __init__(self,name):\n",
    "        self.name = name\n",
    "        print(f'Object {self.name} created.')\n",
    "\n",
    "    def __del__(self):\n",
    "        print(f'Object {self.name} is deleted.')\n",
    "\n",
    "## Create circular reference\n",
    "object1 = MyClass(\"object1\")\n",
    "object2 = MyClass(\"object2\")\n",
    "\n",
    "object1.ref = object2\n",
    "object2.ref = object1\n",
    "\n",
    "del object1\n",
    "del object2\n",
    "\n",
    "## Manually trigger gc\n",
    "gc.collect()"
   ]
  },
  {
   "cell_type": "code",
   "execution_count": 9,
   "metadata": {},
   "outputs": [
    {
     "name": "stdout",
     "output_type": "stream",
     "text": [
      "Number is 0\n",
      "Number is 1\n",
      "Number is 2\n",
      "Number is 3\n",
      "Number is 4\n",
      "Number is 5\n",
      "Number is 6\n",
      "Number is 7\n",
      "Number is 8\n",
      "Number is 9\n",
      "Number is 10\n",
      "Number is 11\n"
     ]
    }
   ],
   "source": [
    "### Generators For Memory Efficiency\n",
    "# \n",
    "# Generators produce items one at a time and only keep one item in memory at a time, making them memory efficient.\n",
    "\n",
    "def generate_number(n):\n",
    "    for i in range(n):\n",
    "        yield i\n",
    "\n",
    "\n",
    "for num in generate_number(100000):\n",
    "    print(f'Number is {num}')\n",
    "    if num == 11:\n",
    "        break"
   ]
  },
  {
   "cell_type": "code",
   "execution_count": 12,
   "metadata": {},
   "outputs": [
    {
     "name": "stdout",
     "output_type": "stream",
     "text": [
      "'[ Top 10 ]'\n",
      "<Statistic traceback=<Traceback (<Frame filename='C:\\\\Users\\\\vamsy\\\\AppData\\\\Roaming\\\\Python\\\\Python313\\\\site-packages\\\\IPython\\\\core\\\\compilerop.py' lineno=174>,)> size=23634 count=220>\n",
      "<Statistic traceback=<Traceback (<Frame filename='C:\\\\Users\\\\vamsy\\\\AppData\\\\Roaming\\\\Python\\\\Python313\\\\site-packages\\\\IPython\\\\core\\\\compilerop.py' lineno=86>,)> size=16210 count=170>\n",
      "<Statistic traceback=<Traceback (<Frame filename='c:\\\\Program Files\\\\Python313\\\\Lib\\\\json\\\\decoder.py' lineno=361>,)> size=9279 count=135>\n",
      "<Statistic traceback=<Traceback (<Frame filename='C:\\\\Users\\\\vamsy\\\\AppData\\\\Roaming\\\\Python\\\\Python313\\\\site-packages\\\\IPython\\\\core\\\\builtin_trap.py' lineno=70>,)> size=6512 count=1>\n",
      "<Statistic traceback=<Traceback (<Frame filename='C:\\\\Users\\\\vamsy\\\\AppData\\\\Roaming\\\\Python\\\\Python313\\\\site-packages\\\\zmq\\\\sugar\\\\attrsettr.py' lineno=45>,)> size=4794 count=102>\n",
      "<Statistic traceback=<Traceback (<Frame filename='C:\\\\Users\\\\vamsy\\\\AppData\\\\Roaming\\\\Python\\\\Python313\\\\site-packages\\\\jupyter_client\\\\jsonutil.py' lineno=111>,)> size=3700 count=74>\n",
      "<Statistic traceback=<Traceback (<Frame filename='C:\\\\Users\\\\vamsy\\\\AppData\\\\Roaming\\\\Python\\\\Python313\\\\site-packages\\\\traitlets\\\\traitlets.py' lineno=731>,)> size=3159 count=49>\n",
      "<Statistic traceback=<Traceback (<Frame filename='c:\\\\Program Files\\\\Python313\\\\Lib\\\\codeop.py' lineno=118>,)> size=3088 count=39>\n",
      "<Statistic traceback=<Traceback (<Frame filename='C:\\\\Users\\\\vamsy\\\\AppData\\\\Roaming\\\\Python\\\\Python313\\\\site-packages\\\\traitlets\\\\traitlets.py' lineno=1543>,)> size=3005 count=48>\n",
      "<Statistic traceback=<Traceback (<Frame filename='C:\\\\Users\\\\vamsy\\\\AppData\\\\Roaming\\\\Python\\\\Python313\\\\site-packages\\\\jupyter_client\\\\jsonutil.py' lineno=75>,)> size=2288 count=11>\n"
     ]
    }
   ],
   "source": [
    "## Profile Memory Usage:\n",
    "# \n",
    "# Use memory profiling tools like `tracemalloc` and `memory_profiler` to identify memory leaks and optimize memory usage.\n",
    "\n",
    "import tracemalloc\n",
    "from pprint import pprint\n",
    "\n",
    "def create_list():\n",
    "    return [i for i in range(10000)]\n",
    "\n",
    "def main():\n",
    "    tracemalloc.start()\n",
    "\n",
    "    create_list()\n",
    "    snapshot = tracemalloc.take_snapshot()\n",
    "    top_stats = snapshot.statistics('lineno')\n",
    "\n",
    "    pprint('[ Top 10 ]')\n",
    "    for stat in top_stats[:10]:\n",
    "        pprint(stat)\n",
    "\n",
    "main()"
   ]
  },
  {
   "cell_type": "code",
   "execution_count": null,
   "metadata": {},
   "outputs": [],
   "source": []
  }
 ],
 "metadata": {
  "kernelspec": {
   "display_name": "Python 3",
   "language": "python",
   "name": "python3"
  },
  "language_info": {
   "codemirror_mode": {
    "name": "ipython",
    "version": 3
   },
   "file_extension": ".py",
   "mimetype": "text/x-python",
   "name": "python",
   "nbconvert_exporter": "python",
   "pygments_lexer": "ipython3",
   "version": "3.13.1"
  }
 },
 "nbformat": 4,
 "nbformat_minor": 2
}
