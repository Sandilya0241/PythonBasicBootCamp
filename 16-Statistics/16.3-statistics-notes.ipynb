{
 "cells": [
  {
   "attachments": {
    "image-2.png": {
     "image/png": "[encoded data removed]"
    },
    "image-3.png": {
     "image/png": "[encoded data removed]"
    },
    "image-4.png": {
     "image/png": "[encoded data removed]"
    },
    "image.png": {
     "image/png": "[encoded data removed]"
    }
   },
   "cell_type": "markdown",
   "metadata": {},
   "source": [
    "### Measure Of Dispersion\n",
    "\n",
    "To explain Variance, let us consider below example:\n",
    "    \n",
    "**For distribution of Ages1 = {2,2,4,4}**\n",
    "    \n",
    "Mu = (2+2+4+4)/4 = 3 {Spread 3 & 4 is less}\n",
    "\n",
    "**For distribution of Ages2 = {1,1,5,5}**\n",
    "    \n",
    "Mu = (1+1+5+5)/4 = 3 {Spread 3 & 5 is more}\n",
    "\n",
    "What factor we can use to differentiate these two distributions? That is possible by\n",
    "\n",
    "1. **Variance** : Tell us about `SPREAD/ DISPERSION`\n",
    "    -   **Variance for Population Data**\n",
    "\n",
    "    ![image.png](attachment:image.png)\n",
    "            **N**=Population Size | **xi**=Values from Population Data | **Mu**=Mean of Population Data\n",
    "\n",
    "    -   *Ex: Variance for Ages1 = {2,2,4,4}*\n",
    "        -   Variance = ((2-3(mean))^2 + (2-3)^2 + (4-3)^2 + (4-3)^2)/4 = (1+1+1+1)/4 = 1\n",
    "\n",
    "    \n",
    "    -   *Ex: Variance for Ages2 = {1,1,5,5}*\n",
    "        -   Variance = ((1-3(mean))^2 + (1-3)^2 + (5-3)^2 + (5-3)^2)/4 = (4+4+4+4)/4 = 16/4 = 4\n",
    "\n",
    "    -   **Variance for Sample Data** \n",
    "    \n",
    "    ![image-2.png](attachment:image-2.png)\n",
    "            **n**=Sample Size | **xi**=Values from Population Data | **xbar**=Mean of Sample Data\n",
    "\n",
    "    **Q: Why is the summation value divided by `n-1` instead of `n`?**\n",
    "\n",
    "    If the sample collected are distributed across the population data, `Mean (Population) ~= Mean (Sample)` and `Variance (Population) ~= Variance (Sample)`.\n",
    "    \n",
    "    But if the sample collected is not spread, then the `Mean (Population) >> Mean (Sample)` and `Variance (Population) >> Variance (Sample)`. So, to correct that we need to divide the summation we divide with `n-1`. \n",
    "    \n",
    "    This is known as `Basel Correction`. There is some other term for this value `n-1` called `Degree Of Freedom`.\n",
    "\n",
    "<br>\n",
    "\n",
    "2. **Standard Deviation**: Tell us about `HOW FAR WE ARE FROM MEAN`\n",
    "\n",
    "    -   **Standard Deviation for Population Data**\n",
    "\n",
    "        ![image-3.png](attachment:image-3.png)\n",
    "            **N**=Population Size | **xi**=Values from Population Data | **Mu**=Mean of Population Data\n",
    "\n",
    "        -   *Ex: Variance for Ages1 = {2,2,4,4}*\n",
    "            -   Variance = ((2-3(mean))^2 + (2-3)^2 + (4-3)^2 + (4-3)^2)/4 = (1+1+1+1)/4 = 1\n",
    "\n",
    "    \n",
    "        -   *Ex: Variance for Ages2 = {1,1,5,5}*\n",
    "            -   Variance = ((1-3(mean))^2 + (1-3)^2 + (5-3)^2 + (5-3)^2)/4 = (4+4+4+4)/4 = 16/4 = 4\n",
    "\n",
    "    -   **Standard Deviation for Sample Data** \n",
    "    \n",
    "        ![image-4.png](attachment:image-4.png)\n",
    "            **n**=Sample Size | **xi**=Values from Population Data | **xbar**=Mean of Sample Data\n",
    "\n",
    "        "
   ]
  },
  {
   "cell_type": "markdown",
   "metadata": {},
   "source": []
  }
 ],
 "metadata": {
  "language_info": {
   "name": "python"
  }
 },
 "nbformat": 4,
 "nbformat_minor": 2
}
