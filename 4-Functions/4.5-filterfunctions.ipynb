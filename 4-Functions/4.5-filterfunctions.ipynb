{
 "cells": [
  {
   "cell_type": "markdown",
   "metadata": {},
   "source": [
    "## Filter Functions\n",
    "* The `filter()` function constructs an iterator from elements of an iterable for which a function returns true. It is used to filter out items from a list (on any other iterables) based on a condition."
   ]
  },
  {
   "cell_type": "code",
   "execution_count": 1,
   "metadata": {},
   "outputs": [
    {
     "name": "stdout",
     "output_type": "stream",
     "text": [
      "[2, 4, 6, 8, 10, 12]\n"
     ]
    }
   ],
   "source": [
    "def even(number):\n",
    "    if number % 2 == 0:\n",
    "        return True\n",
    "\n",
    "num_lst = [1,2,3,4,5,6,7,8,9,10,11,12]\n",
    "even_lst = list(filter(even,num_lst))\n",
    "print(even_lst)"
   ]
  },
  {
   "cell_type": "code",
   "execution_count": 3,
   "metadata": {},
   "outputs": [
    {
     "name": "stdout",
     "output_type": "stream",
     "text": [
      "[6, 7, 8, 9]\n"
     ]
    }
   ],
   "source": [
    "## Filter with Lambda Function\n",
    "numbers = [1,2,3,4,5,6,7,8,9]\n",
    "greater_than_five = list(filter(lambda number:number>5, numbers))\n",
    "print(greater_than_five)"
   ]
  },
  {
   "cell_type": "code",
   "execution_count": 5,
   "metadata": {},
   "outputs": [
    {
     "name": "stdout",
     "output_type": "stream",
     "text": [
      "[6, 8]\n"
     ]
    }
   ],
   "source": [
    "## Filter with a lambda function and multiple conditions\n",
    "\n",
    "numbers=[1,2,3,4,5,6,7,8,9]\n",
    "# even_greater_than_five=list(filter(lambda number:((number % 2 == 0) and (number > 5)),numbers))\n",
    "even_greater_than_five=list(filter(lambda number:number % 2 == 0 and number > 5,numbers))\n",
    "print(even_greater_than_five)"
   ]
  },
  {
   "cell_type": "code",
   "execution_count": 7,
   "metadata": {},
   "outputs": [
    {
     "name": "stdout",
     "output_type": "stream",
     "text": [
      "[{'name': 'Sandy', 'age': 36}, {'name': 'Jill', 'age': 33}]\n"
     ]
    }
   ],
   "source": [
    "## Filter to check if age is greater than 25 in dictionaries\n",
    "people = [\n",
    "    {'name':'Sandy','age':36},\n",
    "    {'name':'Jill','age':33},\n",
    "    {'name':'John','age':25}\n",
    "]\n",
    "\n",
    "def age_check(person):\n",
    "    if person.get('age') > 25:\n",
    "        return True\n",
    "    \n",
    "dict_age_more_than_25 = list(filter(age_check,people))\n",
    "print(dict_age_more_than_25)"
   ]
  },
  {
   "cell_type": "markdown",
   "metadata": {},
   "source": [
    "## Conclusion\n",
    "* The `filter()` function is a powerful tool for creating iterators that fliter items out of an iterable based on a function. It is commonly used for data cleaning, filtering objects, and removing unwanted elements from lists. By mastering `filter()`, we can write more concise and efficient code for processing and manipulating collections in Python."
   ]
  },
  {
   "cell_type": "markdown",
   "metadata": {},
   "source": []
  }
 ],
 "metadata": {
  "kernelspec": {
   "display_name": "Python 3",
   "language": "python",
   "name": "python3"
  },
  "language_info": {
   "codemirror_mode": {
    "name": "ipython",
    "version": 3
   },
   "file_extension": ".py",
   "mimetype": "text/x-python",
   "name": "python",
   "nbconvert_exporter": "python",
   "pygments_lexer": "ipython3",
   "version": "3.12.0"
  }
 },
 "nbformat": 4,
 "nbformat_minor": 2
}
