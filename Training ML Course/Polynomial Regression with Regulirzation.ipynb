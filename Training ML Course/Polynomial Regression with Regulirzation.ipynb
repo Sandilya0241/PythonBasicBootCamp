{
 "cells": [
  {
   "cell_type": "markdown",
   "id": "d8c22556-cec3-4714-bcd2-5c175806f493",
   "metadata": {
    "id": "d8c22556-cec3-4714-bcd2-5c175806f493"
   },
   "source": [
    "# Multiple Linear Regression: House Price Prediction\n",
    "\n",
    "This notebook demonstrates how to implement **multiple linear regression** on a house dataset. We'll handle categorical features using **dummy variables**, fit the model, and evaluate it using R² and RMSE on both train and test data.\n",
    "\n",
    "---\n",
    "\n",
    "## Step 1: Import Libraries\n"
   ]
  },
  {
   "cell_type": "code",
   "execution_count": 1,
   "id": "41c5f93b-d06c-4188-a6ea-fd23cdf12575",
   "metadata": {
    "colab": {
     "base_uri": "https://localhost:8080/"
    },
    "id": "bW5KGxMdiK_K",
    "outputId": "475ff9ef-bc68-4f26-eab4-a224d7fbc02e"
   },
   "outputs": [
    {
     "data": {
      "text/html": [
       "<div>\n",
       "<style scoped>\n",
       "    .dataframe tbody tr th:only-of-type {\n",
       "        vertical-align: middle;\n",
       "    }\n",
       "\n",
       "    .dataframe tbody tr th {\n",
       "        vertical-align: top;\n",
       "    }\n",
       "\n",
       "    .dataframe thead th {\n",
       "        text-align: right;\n",
       "    }\n",
       "</style>\n",
       "<table border=\"1\" class=\"dataframe\">\n",
       "  <thead>\n",
       "    <tr style=\"text-align: right;\">\n",
       "      <th></th>\n",
       "      <th>Area</th>\n",
       "      <th>Bedrooms</th>\n",
       "      <th>Bathrooms</th>\n",
       "      <th>Material</th>\n",
       "      <th>Locality</th>\n",
       "      <th>Price</th>\n",
       "    </tr>\n",
       "  </thead>\n",
       "  <tbody>\n",
       "    <tr>\n",
       "      <th>0</th>\n",
       "      <td>1790</td>\n",
       "      <td>2</td>\n",
       "      <td>2</td>\n",
       "      <td>Concrete</td>\n",
       "      <td>Riverside</td>\n",
       "      <td>114300</td>\n",
       "    </tr>\n",
       "    <tr>\n",
       "      <th>1</th>\n",
       "      <td>2030</td>\n",
       "      <td>4</td>\n",
       "      <td>2</td>\n",
       "      <td>Concrete</td>\n",
       "      <td>Riverside</td>\n",
       "      <td>114200</td>\n",
       "    </tr>\n",
       "    <tr>\n",
       "      <th>2</th>\n",
       "      <td>1740</td>\n",
       "      <td>3</td>\n",
       "      <td>2</td>\n",
       "      <td>Concrete</td>\n",
       "      <td>Riverside</td>\n",
       "      <td>114800</td>\n",
       "    </tr>\n",
       "    <tr>\n",
       "      <th>3</th>\n",
       "      <td>1980</td>\n",
       "      <td>3</td>\n",
       "      <td>2</td>\n",
       "      <td>Concrete</td>\n",
       "      <td>Riverside</td>\n",
       "      <td>94700</td>\n",
       "    </tr>\n",
       "    <tr>\n",
       "      <th>4</th>\n",
       "      <td>2130</td>\n",
       "      <td>3</td>\n",
       "      <td>3</td>\n",
       "      <td>Concrete</td>\n",
       "      <td>Riverside</td>\n",
       "      <td>119800</td>\n",
       "    </tr>\n",
       "  </tbody>\n",
       "</table>\n",
       "</div>"
      ],
      "text/plain": [
       "   Area  Bedrooms  Bathrooms  Material   Locality   Price\n",
       "0  1790         2          2  Concrete  Riverside  114300\n",
       "1  2030         4          2  Concrete  Riverside  114200\n",
       "2  1740         3          2  Concrete  Riverside  114800\n",
       "3  1980         3          2  Concrete  Riverside   94700\n",
       "4  2130         3          3  Concrete  Riverside  119800"
      ]
     },
     "execution_count": 1,
     "metadata": {},
     "output_type": "execute_result"
    }
   ],
   "source": [
    "# Load required libraries\n",
    "import pandas as pd\n",
    "import numpy as np\n",
    "from sklearn.model_selection import train_test_split\n",
    "from sklearn.preprocessing import PolynomialFeatures\n",
    "from sklearn.linear_model import LinearRegression\n",
    "from sklearn.metrics import mean_squared_error, r2_score\n",
    "import matplotlib.pyplot as plt\n",
    "\n",
    "\n",
    "df = pd.read_csv(\"house.csv\")\n",
    "df.head()"
   ]
  },
  {
   "cell_type": "code",
   "execution_count": 2,
   "id": "97107a55-6c9e-4740-9095-2344c96295db",
   "metadata": {
    "colab": {
     "base_uri": "https://localhost:8080/"
    },
    "id": "bW5KGxMdiK_K",
    "outputId": "475ff9ef-bc68-4f26-eab4-a224d7fbc02e"
   },
   "outputs": [],
   "source": [
    "# Enocde categorical columns \n",
    "df = pd.get_dummies(df,columns=[\"Material\", \"Locality\"],drop_first=True,dtype=int)\n",
    "\n",
    "# Split into features and target\n",
    "X = df.drop(columns=[\"Price\"])\n",
    "y = df[\"Price\"]"
   ]
  },
  {
   "cell_type": "code",
   "execution_count": 4,
   "id": "35f2b231-1c69-41d6-a313-59cc6cc58e64",
   "metadata": {
    "colab": {
     "base_uri": "https://localhost:8080/"
    },
    "id": "bW5KGxMdiK_K",
    "outputId": "475ff9ef-bc68-4f26-eab4-a224d7fbc02e"
   },
   "outputs": [],
   "source": [
    "# Split data into train and test sets\n",
    "X_train, X_test, y_train, y_test = train_test_split(X, y, test_size=0.2, random_state=42)"
   ]
  },
  {
   "cell_type": "code",
   "execution_count": 12,
   "id": "c697c7d5-7a96-44e6-af83-9e2094f1e2bc",
   "metadata": {
    "colab": {
     "base_uri": "https://localhost:8080/"
    },
    "id": "bW5KGxMdiK_K",
    "outputId": "475ff9ef-bc68-4f26-eab4-a224d7fbc02e"
   },
   "outputs": [
    {
     "name": "stdout",
     "output_type": "stream",
     "text": [
      "Before: (102, 6)\n",
      "After: (102, 27)\n"
     ]
    }
   ],
   "source": [
    "# Create polynomial features\n",
    "poly = PolynomialFeatures(degree=2, include_bias=False)\n",
    "X_train_poly = poly.fit_transform(X_train)\n",
    "X_test_poly = poly.transform(X_test)\n",
    "print(\"Before:\",X_train.shape)\n",
    "print(\"After:\",X_train_poly.shape)"
   ]
  },
  {
   "cell_type": "code",
   "execution_count": 7,
   "id": "d5de2444-4a1d-4f1d-8140-5ac49361fc02",
   "metadata": {
    "colab": {
     "base_uri": "https://localhost:8080/"
    },
    "id": "bW5KGxMdiK_K",
    "outputId": "475ff9ef-bc68-4f26-eab4-a224d7fbc02e"
   },
   "outputs": [
    {
     "data": {
      "text/html": [
       "<div>\n",
       "<style scoped>\n",
       "    .dataframe tbody tr th:only-of-type {\n",
       "        vertical-align: middle;\n",
       "    }\n",
       "\n",
       "    .dataframe tbody tr th {\n",
       "        vertical-align: top;\n",
       "    }\n",
       "\n",
       "    .dataframe thead th {\n",
       "        text-align: right;\n",
       "    }\n",
       "</style>\n",
       "<table border=\"1\" class=\"dataframe\">\n",
       "  <thead>\n",
       "    <tr style=\"text-align: right;\">\n",
       "      <th></th>\n",
       "      <th>Train RMSE</th>\n",
       "      <th>Test RMSE</th>\n",
       "      <th>Train R2</th>\n",
       "      <th>Test R2</th>\n",
       "    </tr>\n",
       "  </thead>\n",
       "  <tbody>\n",
       "    <tr>\n",
       "      <th>0</th>\n",
       "      <td>10875.497899</td>\n",
       "      <td>13298.988211</td>\n",
       "      <td>0.841904</td>\n",
       "      <td>0.699926</td>\n",
       "    </tr>\n",
       "  </tbody>\n",
       "</table>\n",
       "</div>"
      ],
      "text/plain": [
       "     Train RMSE     Test RMSE  Train R2   Test R2\n",
       "0  10875.497899  13298.988211  0.841904  0.699926"
      ]
     },
     "execution_count": 7,
     "metadata": {},
     "output_type": "execute_result"
    }
   ],
   "source": [
    "# Train the model\n",
    "model = LinearRegression()\n",
    "model.fit(X_train_poly, y_train)\n",
    "\n",
    "# Predict on train and test\n",
    "y_train_pred = model.predict(X_train_poly)\n",
    "y_test_pred = model.predict(X_test_poly)\n",
    "\n",
    "# Evaluate model\n",
    "train_rmse = np.sqrt(mean_squared_error(y_train, y_train_pred))\n",
    "test_rmse = np.sqrt(mean_squared_error(y_test, y_test_pred))\n",
    "train_r2 = r2_score(y_train, y_train_pred)\n",
    "test_r2 = r2_score(y_test, y_test_pred)\n",
    "\n",
    "# Prepare results\n",
    "results = {\n",
    "    \"Train RMSE\": [train_rmse],\n",
    "    \"Test RMSE\": [test_rmse],\n",
    "    \"Train R2\": [train_r2],\n",
    "    \"Test R2\": [test_r2]\n",
    "}\n",
    "\n",
    "pd.DataFrame(results)"
   ]
  },
  {
   "cell_type": "markdown",
   "id": "ef512125-5e69-4fdf-8787-f918d86f663b",
   "metadata": {},
   "source": [
    "# Regularization"
   ]
  },
  {
   "cell_type": "code",
   "execution_count": 9,
   "id": "f79505f8-8ffc-49e4-92c1-9b2ef6a4f961",
   "metadata": {},
   "outputs": [
    {
     "name": "stdout",
     "output_type": "stream",
     "text": [
      "Train R2:  0.8384039521312241\n",
      "Test R2:  0.723391322402235\n",
      "Model Coeficients (m1,m2-----m27)\n",
      "_____________________________________\n",
      "['23.041729514723833' '-2928.4073753305893' '-28355.893685006227'\n",
      " '11305.544124091395' '5229.605103626944' '9764.58531457125'\n",
      " '-0.017252491680094236' '5.326369253743194' '27.721225646938734'\n",
      " '9.107979488826857' '-7.425561164397852' '-10.02786509002988'\n",
      " '-48.22942466166066' '-3120.3958411719477' '2027.241524123205'\n",
      " '2600.3970437805056' '8624.260508744846' '-2152.4260792476457'\n",
      " '-15597.709104540174' '1924.6303330178569' '1723.2643989183773'\n",
      " '11305.544124090065' '7198.827590296689' '22068.633983445154'\n",
      " '5229.60510361901' '0.0' '9764.585314562282']\n"
     ]
    }
   ],
   "source": [
    "from sklearn.linear_model import Ridge\n",
    "rModel = Ridge(alpha=0.1)\n",
    "rModel.fit(X_train_poly,y_train)\n",
    "print(\"Train R2: \",rModel.score(X_train_poly,y_train))\n",
    "print(\"Test R2: \",rModel.score(X_test_poly,y_test))\n",
    "print(\"Model Coeficients (m1,m2-----m27)\")\n",
    "print(\"_____________________________________\")\n",
    "print(np.array(rModel.coef_).astype(str))"
   ]
  },
  {
   "cell_type": "code",
   "execution_count": 38,
   "id": "0f397bbc-364a-48ee-ad19-90a2bed38e21",
   "metadata": {},
   "outputs": [
    {
     "name": "stdout",
     "output_type": "stream",
     "text": [
      "Train R2:  0.8415288425938345\n",
      "Test R2:  0.7099529393822066\n",
      "Model Coeficients (m1,m2-----m27)\n",
      "_____________________________________\n",
      "['-32.881599697929744' '-0.9233098394748758' '-0.5927776098678653'\n",
      " '1.2630036431654053' '-0.38181267953119474' '-0.190391203670357'\n",
      " '0.05426333426029218' '-1.5773624204805088' '-45.19915413148296'\n",
      " '11.150133458326632' '8.960283793039979' '20.840826229959163'\n",
      " '5.909697982735006' '-1.051673491545251' '2.830687919240228'\n",
      " '1.0789131727413788' '4.477223945170011' '-2.950072179341604'\n",
      " '2.9523014633212976' '-2.8761595863241904' '2.6081471090100625'\n",
      " '1.2630036431656055' '-0.6446000192830295' '0.32412897491634096'\n",
      " '-0.38181267953070824' '0.0' '-0.19039120367098641'\n",
      " '-2.4052124405316116e-05' '0.005760097069418087' '0.020819693423606987'\n",
      " '0.0009478011883888018' '-0.01229939962458515' '-0.021003421128412088'\n",
      " '-0.4922993492337068' '-2.7670860536611808' '1.1030162708437548'\n",
      " '1.7555490363509794' '4.267835695935616' '2.932169791851664'\n",
      " '-9.73658970886481' '2.2938284312290347' '1.2490636547440064'\n",
      " '11.15013345562132' '4.976462557018428' '12.283716888718182'\n",
      " '8.9602837954202' '0.0' '20.84082623162907' '-37.596482181406934'\n",
      " '0.533168730130279' '-45.843087883142196' '3.347687968404601'\n",
      " '-11.055495844417647' '0.35057092919057425' '-0.12354192865622046'\n",
      " '25.660738901310854' '-31.651201477006634' '2.8306879192411216'\n",
      " '-12.0816595733947' '28.050093364340803' '1.0789131727406462' '0.0'\n",
      " '4.477223945164254' '-11.138431757494796' '7.197301327633561'\n",
      " '-12.089921854536433' '14.196898637144308' '2.952301463322058'\n",
      " '-32.40238358604925' '23.326581747109188' '-2.87615958632608' '0.0'\n",
      " '2.6081471090128514' '1.2630036431642162' '-0.644600019283041'\n",
      " '0.3241289749157624' '-0.6446000192830409' '0.0' '0.3241289749157623'\n",
      " '-0.38181267953013753' '0.0' '0.0' '-0.19039120367199988']\n"
     ]
    },
    {
     "name": "stderr",
     "output_type": "stream",
     "text": [
      "/usr/local/lib/python3.10/site-packages/sklearn/linear_model/_ridge.py:200: LinAlgWarning: Ill-conditioned matrix (rcond=8.99804e-19): result may not be accurate.\n",
      "  return linalg.solve(A, Xy, assume_a=\"pos\", overwrite_a=True).T\n"
     ]
    }
   ],
   "source": [
    "from sklearn.linear_model import Ridge\n",
    "rModel = Ridge(alpha=600)\n",
    "rModel.fit(X_train_poly,y_train)\n",
    "print(\"Train R2: \",rModel.score(X_train_poly,y_train))\n",
    "print(\"Test R2: \",rModel.score(X_test_poly,y_test))\n",
    "print(\"Model Coeficients (m1,m2-----m27)\")\n",
    "print(\"_____________________________________\")\n",
    "print(np.array(rModel.coef_).astype(str))"
   ]
  },
  {
   "cell_type": "code",
   "execution_count": 18,
   "id": "e9e15ba4-4603-4b72-99c0-e5bf39d0a04d",
   "metadata": {},
   "outputs": [
    {
     "name": "stdout",
     "output_type": "stream",
     "text": [
      "Train R2:  0.8139258610206626\n",
      "Test R2:  0.7473237961253145\n",
      "Model Coeficients (m1,m2-----m27)\n",
      "_____________________________________\n",
      "['34.35615753797049' '0.0' '-0.0' '-0.0' '0.0' '0.0'\n",
      " '-0.0037631467154465316' '0.817884705025381' '3.114380349384627'\n",
      " '8.570146312786065' '3.7176449064899324' '17.730175125841917' '0.0'\n",
      " '-0.0' '0.0' '-0.0' '0.0' '-0.0' '-0.0' '-0.0' '0.0' '-0.0' '-0.0' '0.0'\n",
      " '0.0' '0.0' '0.0']\n"
     ]
    }
   ],
   "source": [
    "from sklearn.linear_model import Lasso\n",
    "lModel = Lasso(alpha=600,max_iter=1000000)\n",
    "lModel.fit(X_train_poly,y_train)\n",
    "print(\"Train R2: \",lModel.score(X_train_poly,y_train))\n",
    "print(\"Test R2: \",lModel.score(X_test_poly,y_test))\n",
    "print(\"Model Coeficients (m1,m2-----m27)\")\n",
    "print(\"_____________________________________\")\n",
    "print(np.array(lModel.coef_).astype(str))"
   ]
  },
  {
   "cell_type": "code",
   "execution_count": 24,
   "id": "88c3152e-b67b-4139-b7b5-baa0209e2369",
   "metadata": {},
   "outputs": [
    {
     "name": "stdout",
     "output_type": "stream",
     "text": [
      "Train R2:  0.8140299735514237\n",
      "Test R2:  0.7475074764018105\n",
      "Model Coeficients (m1,m2-----m27)\n",
      "_____________________________________\n",
      "['34.554632397606085' '0.1377251736962484' '-2.2440978053864393' '-0.0'\n",
      " '0.0' '1.0808958250754668' '-0.0037622551044693953' '0.7270621268976554'\n",
      " '3.1457168406010894' '8.582117820839597' '3.7327819829592976'\n",
      " '17.692078128867262' '30.658983621652876' '-3.5897193468829034'\n",
      " '3.655037599211439' '-2.4557480727124514' '17.11838249236251'\n",
      " '-8.91438687693756' '-15.731617566868259' '-8.070536857737451'\n",
      " '3.2103459506298573' '-0.0' '-10.553030760903024' '25.61899308981631'\n",
      " '0.0' '0.0' '1.0808962445010597']\n"
     ]
    }
   ],
   "source": [
    "from sklearn.linear_model import ElasticNet\n",
    "eModel = ElasticNet(alpha=30,max_iter=1000000)\n",
    "eModel.fit(X_train_poly,y_train)\n",
    "print(\"Train R2: \",eModel.score(X_train_poly,y_train))\n",
    "print(\"Test R2: \",eModel.score(X_test_poly,y_test))\n",
    "print(\"Model Coeficients (m1,m2-----m27)\")\n",
    "print(\"_____________________________________\")\n",
    "print(np.array(eModel.coef_).astype(str))"
   ]
  },
  {
   "cell_type": "code",
   "execution_count": 39,
   "id": "49f81413-dfc3-4b20-b26e-348f558c2e63",
   "metadata": {},
   "outputs": [
    {
     "name": "stdout",
     "output_type": "stream",
     "text": [
      "Train R2:  0.8419044007462411\n",
      "Test R2:  0.6999263312482396\n",
      "##################################################\n",
      "Before: (102, 6)\n",
      "After: (102, 27)\n",
      "Train R2:  0.8148990702353289\n",
      "Test R2:  0.7489008116976695\n"
     ]
    }
   ],
   "source": [
    "# Create polynomial features\n",
    "poly = PolynomialFeatures(degree=2, include_bias=False)\n",
    "X_train_poly = poly.fit_transform(X_train)\n",
    "X_test_poly = poly.transform(X_test)\n",
    "Model = LinearRegression()\n",
    "Model.fit(X_train_poly,y_train)\n",
    "print(\"Train R2: \",Model.score(X_train_poly,y_train))\n",
    "print(\"Test R2: \",Model.score(X_test_poly,y_test))\n",
    "print(\"##################################################\")\n",
    "\n",
    "print(\"Before:\",X_train.shape)\n",
    "print(\"After:\",X_train_poly.shape)\n",
    "eModel = ElasticNet(alpha=3,max_iter=1000000)\n",
    "eModel.fit(X_train_poly,y_train)\n",
    "print(\"Train R2: \",eModel.score(X_train_poly,y_train))\n",
    "print(\"Test R2: \",eModel.score(X_test_poly,y_test))"
   ]
  },
  {
   "cell_type": "code",
   "execution_count": 44,
   "id": "bf0a29aa-dfc8-4acd-a5cc-d67739bfc090",
   "metadata": {},
   "outputs": [
    {
     "name": "stdout",
     "output_type": "stream",
     "text": [
      "Fitting 10 folds for each of 3 candidates, totalling 30 fits\n"
     ]
    },
    {
     "data": {
      "text/html": [
       "<style>#sk-container-id-11 {color: black;}#sk-container-id-11 pre{padding: 0;}#sk-container-id-11 div.sk-toggleable {background-color: white;}#sk-container-id-11 label.sk-toggleable__label {cursor: pointer;display: block;width: 100%;margin-bottom: 0;padding: 0.3em;box-sizing: border-box;text-align: center;}#sk-container-id-11 label.sk-toggleable__label-arrow:before {content: \"▸\";float: left;margin-right: 0.25em;color: #696969;}#sk-container-id-11 label.sk-toggleable__label-arrow:hover:before {color: black;}#sk-container-id-11 div.sk-estimator:hover label.sk-toggleable__label-arrow:before {color: black;}#sk-container-id-11 div.sk-toggleable__content {max-height: 0;max-width: 0;overflow: hidden;text-align: left;background-color: #f0f8ff;}#sk-container-id-11 div.sk-toggleable__content pre {margin: 0.2em;color: black;border-radius: 0.25em;background-color: #f0f8ff;}#sk-container-id-11 input.sk-toggleable__control:checked~div.sk-toggleable__content {max-height: 200px;max-width: 100%;overflow: auto;}#sk-container-id-11 input.sk-toggleable__control:checked~label.sk-toggleable__label-arrow:before {content: \"▾\";}#sk-container-id-11 div.sk-estimator input.sk-toggleable__control:checked~label.sk-toggleable__label {background-color: #d4ebff;}#sk-container-id-11 div.sk-label input.sk-toggleable__control:checked~label.sk-toggleable__label {background-color: #d4ebff;}#sk-container-id-11 input.sk-hidden--visually {border: 0;clip: rect(1px 1px 1px 1px);clip: rect(1px, 1px, 1px, 1px);height: 1px;margin: -1px;overflow: hidden;padding: 0;position: absolute;width: 1px;}#sk-container-id-11 div.sk-estimator {font-family: monospace;background-color: #f0f8ff;border: 1px dotted black;border-radius: 0.25em;box-sizing: border-box;margin-bottom: 0.5em;}#sk-container-id-11 div.sk-estimator:hover {background-color: #d4ebff;}#sk-container-id-11 div.sk-parallel-item::after {content: \"\";width: 100%;border-bottom: 1px solid gray;flex-grow: 1;}#sk-container-id-11 div.sk-label:hover label.sk-toggleable__label {background-color: #d4ebff;}#sk-container-id-11 div.sk-serial::before {content: \"\";position: absolute;border-left: 1px solid gray;box-sizing: border-box;top: 0;bottom: 0;left: 50%;z-index: 0;}#sk-container-id-11 div.sk-serial {display: flex;flex-direction: column;align-items: center;background-color: white;padding-right: 0.2em;padding-left: 0.2em;position: relative;}#sk-container-id-11 div.sk-item {position: relative;z-index: 1;}#sk-container-id-11 div.sk-parallel {display: flex;align-items: stretch;justify-content: center;background-color: white;position: relative;}#sk-container-id-11 div.sk-item::before, #sk-container-id-11 div.sk-parallel-item::before {content: \"\";position: absolute;border-left: 1px solid gray;box-sizing: border-box;top: 0;bottom: 0;left: 50%;z-index: -1;}#sk-container-id-11 div.sk-parallel-item {display: flex;flex-direction: column;z-index: 1;position: relative;background-color: white;}#sk-container-id-11 div.sk-parallel-item:first-child::after {align-self: flex-end;width: 50%;}#sk-container-id-11 div.sk-parallel-item:last-child::after {align-self: flex-start;width: 50%;}#sk-container-id-11 div.sk-parallel-item:only-child::after {width: 0;}#sk-container-id-11 div.sk-dashed-wrapped {border: 1px dashed gray;margin: 0 0.4em 0.5em 0.4em;box-sizing: border-box;padding-bottom: 0.4em;background-color: white;}#sk-container-id-11 div.sk-label label {font-family: monospace;font-weight: bold;display: inline-block;line-height: 1.2em;}#sk-container-id-11 div.sk-label-container {text-align: center;}#sk-container-id-11 div.sk-container {/* jupyter's `normalize.less` sets `[hidden] { display: none; }` but bootstrap.min.css set `[hidden] { display: none !important; }` so we also need the `!important` here to be able to override the default hidden behavior on the sphinx rendered scikit-learn.org. See: https://github.com/scikit-learn/scikit-learn/issues/21755 */display: inline-block !important;position: relative;}#sk-container-id-11 div.sk-text-repr-fallback {display: none;}</style><div id=\"sk-container-id-11\" class=\"sk-top-container\"><div class=\"sk-text-repr-fallback\"><pre>Ridge(alpha=10, max_iter=100000)</pre><b>In a Jupyter environment, please rerun this cell to show the HTML representation or trust the notebook. <br />On GitHub, the HTML representation is unable to render, please try loading this page with nbviewer.org.</b></div><div class=\"sk-container\" hidden><div class=\"sk-item\"><div class=\"sk-estimator sk-toggleable\"><input class=\"sk-toggleable__control sk-hidden--visually\" id=\"sk-estimator-id-25\" type=\"checkbox\" checked><label for=\"sk-estimator-id-25\" class=\"sk-toggleable__label sk-toggleable__label-arrow\">Ridge</label><div class=\"sk-toggleable__content\"><pre>Ridge(alpha=10, max_iter=100000)</pre></div></div></div></div></div>"
      ],
      "text/plain": [
       "Ridge(alpha=10, max_iter=100000)"
      ]
     },
     "execution_count": 44,
     "metadata": {},
     "output_type": "execute_result"
    }
   ],
   "source": [
    "alpha_values = [1, 3 ,10]\n",
    "from sklearn.model_selection import GridSearchCV\n",
    "gridModel = GridSearchCV(Ridge(max_iter=100000),param_grid={'alpha':alpha_values},n_jobs=-1,verbose=True,cv=10)\n",
    "gridModel.fit(X_train_poly,y_train)\n",
    "\n",
    "gridModel.best_estimator_"
   ]
  }
 ],
 "metadata": {
  "colab": {
   "provenance": []
  },
  "kernelspec": {
   "display_name": "Python 3 [3.10]",
   "language": "python",
   "name": "python3"
  },
  "language_info": {
   "codemirror_mode": {
    "name": "ipython",
    "version": 3
   },
   "file_extension": ".py",
   "mimetype": "text/x-python",
   "name": "python",
   "nbconvert_exporter": "python",
   "pygments_lexer": "ipython3",
   "version": "3.10.2"
  }
 },
 "nbformat": 4,
 "nbformat_minor": 5
}
