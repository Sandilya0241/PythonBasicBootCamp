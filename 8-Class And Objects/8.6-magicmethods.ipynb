{
 "cells": [
  {
   "cell_type": "markdown",
   "metadata": {},
   "source": [
    "### Magic methods:\n",
    "\n",
    "* Magic methods in Python, also known as dunder methods (double underscore methods), are special methods that start and end with double underscores.\n",
    "* These methods enable you to define the behavior of objects for the built-in operations, such as Arithmetic Operations, Comparision Operators, and more.\n",
    "\n",
    "#### Magic methods\n",
    "Magic methods are predefined methods in Python that you can override to change the behavior of your objects. Some common magic methods include:\n",
    "* __ __init__ __ : Initializes a new instance of a class.\n",
    "* __ __str__ __  : Returns a string representation of an object.\n",
    "* __ __repr__ __ : Returns an official string representation of an object.\n",
    "* __ __len__ __ : Returns the length of an object.\n",
    "* __ __getitem__ __ :  Gets an item from a container\n",
    "* __ __setitem__ __ :  Sets an item in a container\n"
   ]
  },
  {
   "cell_type": "code",
   "execution_count": 3,
   "metadata": {},
   "outputs": [
    {
     "data": {
      "text/plain": [
       "['__class__',\n",
       " '__delattr__',\n",
       " '__dict__',\n",
       " '__dir__',\n",
       " '__doc__',\n",
       " '__eq__',\n",
       " '__format__',\n",
       " '__ge__',\n",
       " '__getattribute__',\n",
       " '__getstate__',\n",
       " '__gt__',\n",
       " '__hash__',\n",
       " '__init__',\n",
       " '__init_subclass__',\n",
       " '__le__',\n",
       " '__lt__',\n",
       " '__module__',\n",
       " '__ne__',\n",
       " '__new__',\n",
       " '__reduce__',\n",
       " '__reduce_ex__',\n",
       " '__repr__',\n",
       " '__setattr__',\n",
       " '__sizeof__',\n",
       " '__str__',\n",
       " '__subclasshook__',\n",
       " '__weakref__']"
      ]
     },
     "execution_count": 3,
     "metadata": {},
     "output_type": "execute_result"
    }
   ],
   "source": [
    "class Person:\n",
    "    pass\n",
    "\n",
    "person = Person()\n",
    "\n",
    "\n",
    "dir(person)"
   ]
  },
  {
   "cell_type": "code",
   "execution_count": 8,
   "metadata": {},
   "outputs": [
    {
     "name": "stdout",
     "output_type": "stream",
     "text": [
      "Person\n",
      "-----------------\n",
      "sandy\n",
      "36\n",
      "Person(name = sandy, age = 36)\n"
     ]
    }
   ],
   "source": [
    "class Person:\n",
    "    def __init__(self, name, age):\n",
    "        self.name = name\n",
    "        self.age = age\n",
    "\n",
    "    def __str__(self):\n",
    "        return f'Person\\n-----------------\\n{self.name}\\n{self.age}'\n",
    "    \n",
    "    def __repr__(self):\n",
    "        return f'Person(name = {self.name}, age = {self.age})'\n",
    "    \n",
    "\n",
    "person = Person(\"sandy\", 36)\n",
    "\n",
    "print(person)\n",
    "\n",
    "print(repr(person))\n"
   ]
  },
  {
   "cell_type": "code",
   "execution_count": null,
   "metadata": {},
   "outputs": [],
   "source": []
  }
 ],
 "metadata": {
  "kernelspec": {
   "display_name": "Python 3",
   "language": "python",
   "name": "python3"
  },
  "language_info": {
   "codemirror_mode": {
    "name": "ipython",
    "version": 3
   },
   "file_extension": ".py",
   "mimetype": "text/x-python",
   "name": "python",
   "nbconvert_exporter": "python",
   "pygments_lexer": "ipython3",
   "version": "3.12.0"
  }
 },
 "nbformat": 4,
 "nbformat_minor": 2
}
