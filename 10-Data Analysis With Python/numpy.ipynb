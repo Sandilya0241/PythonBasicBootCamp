{
 "cells": [
  {
   "cell_type": "markdown",
   "metadata": {},
   "source": [
    "### NumPy\n",
    "* NumPy is a fundamental library for scientific computing in Python.\n",
    "* It provides support for arrays and matrices, along with a collection of mathematical functions to operate on these data structures."
   ]
  },
  {
   "cell_type": "code",
   "execution_count": 2,
   "metadata": {},
   "outputs": [
    {
     "name": "stdout",
     "output_type": "stream",
     "text": [
      "[1 2 3 4 5]\n",
      "<class 'numpy.ndarray'>\n",
      "(5,)\n"
     ]
    }
   ],
   "source": [
    "import numpy as np\n",
    "arr1 = np.array([1,2,3,4,5])\n",
    "print(arr1)\n",
    "print(type(arr1))\n",
    "print(arr1.shape)"
   ]
  },
  {
   "cell_type": "code",
   "execution_count": 3,
   "metadata": {},
   "outputs": [
    {
     "data": {
      "text/plain": [
       "array([[1, 2, 3, 5, 7]])"
      ]
     },
     "execution_count": 3,
     "metadata": {},
     "output_type": "execute_result"
    }
   ],
   "source": [
    "# 1D Array\n",
    "arr2 = np.array([1,2,3,5,7])\n",
    "arr2.reshape((1,5))"
   ]
  },
  {
   "cell_type": "code",
   "execution_count": 4,
   "metadata": {},
   "outputs": [
    {
     "ename": "ValueError",
     "evalue": "cannot reshape array of size 5 into shape (1,4)",
     "output_type": "error",
     "traceback": [
      "\u001b[1;31m---------------------------------------------------------------------------\u001b[0m",
      "\u001b[1;31mValueError\u001b[0m                                Traceback (most recent call last)",
      "Cell \u001b[1;32mIn[4], line 1\u001b[0m\n\u001b[1;32m----> 1\u001b[0m \u001b[43marr2\u001b[49m\u001b[38;5;241;43m.\u001b[39;49m\u001b[43mreshape\u001b[49m\u001b[43m(\u001b[49m\u001b[43m(\u001b[49m\u001b[38;5;241;43m1\u001b[39;49m\u001b[43m,\u001b[49m\u001b[38;5;241;43m4\u001b[39;49m\u001b[43m)\u001b[49m\u001b[43m)\u001b[49m\n",
      "\u001b[1;31mValueError\u001b[0m: cannot reshape array of size 5 into shape (1,4)"
     ]
    }
   ],
   "source": [
    "arr2.reshape((1,4))"
   ]
  },
  {
   "cell_type": "code",
   "execution_count": 5,
   "metadata": {},
   "outputs": [
    {
     "name": "stdout",
     "output_type": "stream",
     "text": [
      "[[1 2 3 5 7]]\n",
      "<class 'numpy.ndarray'>\n",
      "(1, 5)\n"
     ]
    }
   ],
   "source": [
    "## 2D Array\n",
    "arr3 = np.array([[1, 2, 3, 5, 7]])\n",
    "print(arr3)\n",
    "print(arr3.shape)"
   ]
  },
  {
   "cell_type": "code",
   "execution_count": 8,
   "metadata": {},
   "outputs": [
    {
     "name": "stdout",
     "output_type": "stream",
     "text": [
      "[[1 2 3 4 5]\n",
      " [2 3 4 5 6]]\n",
      "(2, 5)\n"
     ]
    }
   ],
   "source": [
    "## Another 2D Array\n",
    "arr4 = np.array([[1, 2, 3, 4, 5],[2, 3, 4, 5, 6]])\n",
    "print(arr4)\n",
    "print(arr4.shape)"
   ]
  },
  {
   "cell_type": "code",
   "execution_count": 11,
   "metadata": {},
   "outputs": [
    {
     "name": "stdout",
     "output_type": "stream",
     "text": [
      "[[0]\n",
      " [2]\n",
      " [4]\n",
      " [6]\n",
      " [8]]\n"
     ]
    }
   ],
   "source": [
    "arr6 = np.arange(0, 10, 2).reshape((5,1))\n",
    "print(arr6)"
   ]
  },
  {
   "cell_type": "code",
   "execution_count": 13,
   "metadata": {},
   "outputs": [
    {
     "data": {
      "text/plain": [
       "array([[1., 1., 1., 1.],\n",
       "       [1., 1., 1., 1.],\n",
       "       [1., 1., 1., 1.]])"
      ]
     },
     "execution_count": 13,
     "metadata": {},
     "output_type": "execute_result"
    }
   ],
   "source": [
    "np.ones((3,4))"
   ]
  },
  {
   "cell_type": "code",
   "execution_count": 14,
   "metadata": {},
   "outputs": [
    {
     "data": {
      "text/plain": [
       "array([[1., 0., 0.],\n",
       "       [0., 1., 0.],\n",
       "       [0., 0., 1.]])"
      ]
     },
     "execution_count": 14,
     "metadata": {},
     "output_type": "execute_result"
    }
   ],
   "source": [
    "np.eye(3)"
   ]
  },
  {
   "cell_type": "code",
   "execution_count": 21,
   "metadata": {},
   "outputs": [
    {
     "name": "stdout",
     "output_type": "stream",
     "text": [
      "Array: \n",
      " [[1 2 3]\n",
      " [4 5 6]]\n",
      "Shape: \n",
      " (2, 3)\n",
      "Number of Dimensions: \n",
      " 2\n",
      "Size(Number of elements): \n",
      " 6\n",
      "Data Type: \n",
      " int64\n",
      "Item size(in bytes): \n",
      " 8\n"
     ]
    }
   ],
   "source": [
    "## Attributes of NumPy Array\n",
    "\n",
    "arr7 = np.array([[1,2,3],[4,5,6]])\n",
    "print('Array: \\n', arr7)\n",
    "print('Shape: \\n', arr7.shape)\n",
    "print('Number of Dimensions: \\n', arr7.ndim)\n",
    "print('Size(Number of elements): \\n', arr7.size)\n",
    "print('Data Type: \\n', arr7.dtype)\n",
    "print('Item size(in bytes): \\n', arr7.itemsize)"
   ]
  },
  {
   "cell_type": "code",
   "execution_count": 23,
   "metadata": {},
   "outputs": [
    {
     "name": "stdout",
     "output_type": "stream",
     "text": [
      "Addition : [11 22 33 44 55]\n",
      "Subtraction : [ -9 -18 -27 -36 -45]\n",
      "Multiplication : [ 10  40  90 160 250]\n",
      "Division : [0.1 0.1 0.1 0.1 0.1]\n"
     ]
    }
   ],
   "source": [
    "## NumPy Vectorized Operations\n",
    "arr1 = np.array([1,2,3,4,5])\n",
    "arr2 = np.array([10,20,30,40,50])\n",
    "\n",
    "## Element-Wise Addition\n",
    "print(f'Addition : {arr1 + arr2}')\n",
    "\n",
    "## Element-Wise Subtraction\n",
    "print(f'Subtraction : {arr1 - arr2}') \n",
    "\n",
    "## Element-Wise Multiplication\n",
    "print(f'Multiplication : {arr1 * arr2}') \n",
    "\n",
    "## Element-Wise Division\n",
    "print(f'Division : {arr1 / arr2}') "
   ]
  },
  {
   "cell_type": "code",
   "execution_count": 26,
   "metadata": {},
   "outputs": [
    {
     "name": "stdout",
     "output_type": "stream",
     "text": [
      "[1.41421356 1.73205081 2.         2.23606798 2.44948974]\n",
      "[  7.3890561   20.08553692  54.59815003 148.4131591  403.42879349]\n",
      "[ 0.90929743  0.14112001 -0.7568025  -0.95892427 -0.2794155 ]\n",
      "[0.69314718 1.09861229 1.38629436 1.60943791 1.79175947]\n"
     ]
    }
   ],
   "source": [
    "## Universal Functions\n",
    "arr3 = np.array([2,3,4,5,6])\n",
    "\n",
    "## square root\n",
    "print(np.sqrt(arr3))\n",
    "\n",
    "## square root\n",
    "print(np.exp(arr3))\n",
    "\n",
    "## square root\n",
    "print(np.sin(arr3))\n",
    "\n",
    "## square root\n",
    "print(np.log(arr3))"
   ]
  },
  {
   "cell_type": "code",
   "execution_count": 17,
   "metadata": {},
   "outputs": [
    {
     "name": "stdout",
     "output_type": "stream",
     "text": [
      "Array \n",
      " [[ 1  2  3  4]\n",
      " [ 5  6  7  8]\n",
      " [ 9 10 11 12]]\n",
      "[1 2 3 4]\n",
      "1\n",
      "[[ 7  8]\n",
      " [11 12]]\n",
      "[[3 4]\n",
      " [7 8]]\n",
      "[[ 5  6]\n",
      " [ 9 10]]\n",
      "[[ 6  7]\n",
      " [10 11]]\n"
     ]
    }
   ],
   "source": [
    "## Array Slicing and Indexing\n",
    "import numpy as np\n",
    "arr4 = np.array([[1,2,3,4],[5,6,7,8],[9,10,11,12]])\n",
    "print(f\"Array \\n {arr4}\")\n",
    "print(arr4[0])\n",
    "print(arr4[0][0])\n",
    "print(arr4[1:,2:])\n",
    "print(arr4[:2,2:]) #[[3 4] [7 8]]\n",
    "print(arr4[1:,:2]) #[[5 6] [9 10]]\n",
    "print(arr4[1:,1:3]) #[[6 7] [10 11]]"
   ]
  },
  {
   "cell_type": "code",
   "execution_count": 18,
   "metadata": {},
   "outputs": [
    {
     "name": "stdout",
     "output_type": "stream",
     "text": [
      "[[100   2   3   4]\n",
      " [  5   6   7   8]\n",
      " [  9  10  11  12]]\n"
     ]
    }
   ],
   "source": [
    "## Modify the array elements\n",
    "arr4[0][0] = 100\n",
    "print(arr4)"
   ]
  },
  {
   "cell_type": "code",
   "execution_count": 19,
   "metadata": {},
   "outputs": [
    {
     "name": "stdout",
     "output_type": "stream",
     "text": [
      "[[100   2   3   4]\n",
      " [100 100 100 100]\n",
      " [100 100 100 100]]\n"
     ]
    }
   ],
   "source": [
    "arr4[1:] = 100\n",
    "print(arr4)"
   ]
  },
  {
   "cell_type": "code",
   "execution_count": 20,
   "metadata": {},
   "outputs": [
    {
     "name": "stdout",
     "output_type": "stream",
     "text": [
      "Normalized data : [-1.41421356 -0.70710678  0.          0.70710678  1.41421356]\n"
     ]
    }
   ],
   "source": [
    "## Statistical Concept - Normalization\n",
    "## To have a mean of 0 and Standard Deviation of 1\n",
    "data = np.array([1,2,3,4,5])\n",
    "\n",
    "## Calculate the mean and standard deviation\n",
    "mean = np.mean(data)\n",
    "std_dev = np.std(data)\n",
    "\n",
    "## Normalize the Data\n",
    "normalized_data = (data - mean)/std_dev\n",
    "print(f'Normalized data : {normalized_data}')"
   ]
  },
  {
   "cell_type": "code",
   "execution_count": 22,
   "metadata": {},
   "outputs": [
    {
     "name": "stdout",
     "output_type": "stream",
     "text": [
      "mean -> 5.5\n",
      "Median -> 5.5\n",
      "Standard Deviation -> 2.8722813232690143\n",
      "Variance -> 8.25\n"
     ]
    }
   ],
   "source": [
    "## Another Statistical Example\n",
    "data = np.array([1,2,3,4,5,6,7,8,9,10])\n",
    "\n",
    "## Mean\n",
    "mean = np.mean(data)\n",
    "print(f'mean -> {mean}')\n",
    "\n",
    "## Medain\n",
    "median = np.median(data)\n",
    "print(f'Median -> {median}')\n",
    "\n",
    "## Standard Deviation\n",
    "std_dev = np.std(data)\n",
    "print(f'Standard Deviation -> {std_dev}')\n",
    "\n",
    "## Variance\n",
    "variance = np.var(data)\n",
    "print(f'Variance -> {variance}')"
   ]
  },
  {
   "cell_type": "code",
   "execution_count": 27,
   "metadata": {},
   "outputs": [
    {
     "data": {
      "text/plain": [
       "array([5, 6, 7, 8])"
      ]
     },
     "execution_count": 27,
     "metadata": {},
     "output_type": "execute_result"
    }
   ],
   "source": [
    "## Logical Operations\n",
    "data = np.array([1,2,3,4,5,6,7,8,9,10])\n",
    "data[((data>=5) & (data<=8))]"
   ]
  },
  {
   "cell_type": "code",
   "execution_count": null,
   "metadata": {},
   "outputs": [],
   "source": []
  }
 ],
 "metadata": {
  "kernelspec": {
   "display_name": "Python 3",
   "language": "python",
   "name": "python3"
  },
  "language_info": {
   "codemirror_mode": {
    "name": "ipython",
    "version": 3
   },
   "file_extension": ".py",
   "mimetype": "text/x-python",
   "name": "python",
   "nbconvert_exporter": "python",
   "pygments_lexer": "ipython3",
   "version": "3.13.1"
  }
 },
 "nbformat": 4,
 "nbformat_minor": 2
}
