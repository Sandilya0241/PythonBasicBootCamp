{
 "cells": [
  {
   "cell_type": "markdown",
   "metadata": {},
   "source": [
    "## Lambda Functions in Python\n",
    "* Lambda functions are small anonymous functions defined using the `lambda` keyword. \n",
    "* They can have any number of arguments but only one expression.\n",
    "* They are commonly used for short operations or as arguments to higher-order functions.\n",
    "\n",
    "* Syntax\n",
    "\n",
    "    `lambda arguments : expression`"
   ]
  },
  {
   "cell_type": "code",
   "execution_count": 2,
   "metadata": {},
   "outputs": [
    {
     "name": "stdout",
     "output_type": "stream",
     "text": [
      "9\n",
      "<class 'function'>\n",
      "9\n"
     ]
    }
   ],
   "source": [
    "## Normal function\n",
    "def add(a,b):\n",
    "    return a+b\n",
    "\n",
    "print(add(4,5))\n",
    "\n",
    "## Lambda function\n",
    "addition = lambda a,b:a+b\n",
    "print(type(addition))\n",
    "print(addition(4,5))"
   ]
  },
  {
   "cell_type": "code",
   "execution_count": 5,
   "metadata": {},
   "outputs": [
    {
     "name": "stdout",
     "output_type": "stream",
     "text": [
      "None\n",
      "False\n"
     ]
    }
   ],
   "source": [
    "## Normal function\n",
    "def even(num):\n",
    "    if num % 2 == 0:\n",
    "        return True\n",
    "\n",
    "print(even(5))\n",
    "\n",
    "## Lambda function\n",
    "even_lambda = lambda num:num%2==0\n",
    "print(even_lambda(5))"
   ]
  },
  {
   "cell_type": "code",
   "execution_count": 6,
   "metadata": {},
   "outputs": [
    {
     "name": "stdout",
     "output_type": "stream",
     "text": [
      "21\n",
      "21\n"
     ]
    }
   ],
   "source": [
    "## Normal function multiple parameters\n",
    "def add_nor_mp(a,b,c):\n",
    "    return a+b+c\n",
    "\n",
    "print(add_nor_mp(4,5,12))\n",
    "\n",
    "## Lambda function\n",
    "add_mp_lambda = lambda a,b,c:a+b+c\n",
    "print(add_mp_lambda(4,5,12))"
   ]
  },
  {
   "cell_type": "code",
   "execution_count": 8,
   "metadata": {},
   "outputs": [
    {
     "data": {
      "text/plain": [
       "[1, 4, 9, 16, 25, 36]"
      ]
     },
     "execution_count": 8,
     "metadata": {},
     "output_type": "execute_result"
    }
   ],
   "source": [
    "## Map()\n",
    "\n",
    "numbers = [1,2,3,4,5,6]\n",
    "def square(number):\n",
    "    return number ** 2\n",
    "\n",
    "## To run above function for all the values with in the list we need to loop through the list. Instead, we can use Map\n",
    "## It applies a function to all items in collection\n",
    "## map follows lazy loading technique.\n",
    "## map(lambda x : x ** 2, numbers) => gives a map object\n",
    "\n",
    "list(map(lambda x : x ** 2, numbers))"
   ]
  },
  {
   "cell_type": "code",
   "execution_count": null,
   "metadata": {},
   "outputs": [],
   "source": []
  }
 ],
 "metadata": {
  "kernelspec": {
   "display_name": "Python 3",
   "language": "python",
   "name": "python3"
  },
  "language_info": {
   "codemirror_mode": {
    "name": "ipython",
    "version": 3
   },
   "file_extension": ".py",
   "mimetype": "text/x-python",
   "name": "python",
   "nbconvert_exporter": "python",
   "pygments_lexer": "ipython3",
   "version": "3.12.0"
  }
 },
 "nbformat": 4,
 "nbformat_minor": 2
}
