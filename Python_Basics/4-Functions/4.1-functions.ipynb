{
 "cells": [
  {
   "cell_type": "markdown",
   "metadata": {},
   "source": [
    "## Introduction to Functions\n",
    "### Definition:\n",
    "- A function is a block of code that performs a specific task. \n",
    "- Functions help in organizing code, reusing code and improving readability.\n",
    "\n",
    "### Syntax:\n",
    "**def function_name(parameters):<br>**\n",
    "&emsp;**\"\"\"Doc String to understand what function is doing\"\"\"<br>**\n",
    "&emsp;**\"Function Body\"<br>**\n",
    "&emsp;**return expression<br>**"
   ]
  },
  {
   "cell_type": "code",
   "execution_count": 1,
   "metadata": {},
   "outputs": [
    {
     "name": "stdout",
     "output_type": "stream",
     "text": [
      "Thi is an even number\n"
     ]
    }
   ],
   "source": [
    "## without functon\n",
    "num = 24\n",
    "if num % 2 == 0:\n",
    "    print(\"Thi is an even number\")\n",
    "else:\n",
    "    print(\"Thi is an add number\")\n"
   ]
  },
  {
   "cell_type": "code",
   "execution_count": 3,
   "metadata": {},
   "outputs": [
    {
     "name": "stdout",
     "output_type": "stream",
     "text": [
      "Is 25 an even number : False\n"
     ]
    }
   ],
   "source": [
    "def is_even(num):\n",
    "    '''\n",
    "    This function is to find whether the number passed as parameter is an even or odd \n",
    "    '''\n",
    "    if num % 2 == 0:\n",
    "        return True\n",
    "    else:\n",
    "        return False\n",
    "\n",
    "print(f'Is 25 an even number : {is_even(25)}')"
   ]
  },
  {
   "cell_type": "markdown",
   "metadata": {},
   "source": [
    "### Function with multiple parameters"
   ]
  },
  {
   "cell_type": "code",
   "execution_count": 5,
   "metadata": {},
   "outputs": [
    {
     "name": "stdout",
     "output_type": "stream",
     "text": [
      "9\n"
     ]
    }
   ],
   "source": [
    "def add(a,b):\n",
    "    '''\n",
    "    This function is to add input parameters and return the sum\n",
    "    '''\n",
    "    return a+b\n",
    "\n",
    "result = add(4,5)\n",
    "print(result)\n",
    "\n"
   ]
  },
  {
   "cell_type": "markdown",
   "metadata": {},
   "source": [
    "### Default Parameters"
   ]
  },
  {
   "cell_type": "code",
   "execution_count": null,
   "metadata": {},
   "outputs": [
    {
     "name": "stdout",
     "output_type": "stream",
     "text": [
      "Hello Sandy\n"
     ]
    }
   ],
   "source": [
    "def greet(name):\n",
    "    print(f'Hello {name}, welcome to Novotel!')\n",
    "\n",
    "greet(\"Sandy\")"
   ]
  },
  {
   "cell_type": "code",
   "execution_count": 9,
   "metadata": {},
   "outputs": [
    {
     "ename": "TypeError",
     "evalue": "greet() missing 1 required positional argument: 'name'",
     "output_type": "error",
     "traceback": [
      "\u001b[1;31m---------------------------------------------------------------------------\u001b[0m",
      "\u001b[1;31mTypeError\u001b[0m                                 Traceback (most recent call last)",
      "Cell \u001b[1;32mIn[9], line 4\u001b[0m\n\u001b[0;32m      1\u001b[0m \u001b[38;5;28;01mdef\u001b[39;00m \u001b[38;5;21mgreet\u001b[39m(name):\n\u001b[0;32m      2\u001b[0m     \u001b[38;5;28mprint\u001b[39m(\u001b[38;5;124mf\u001b[39m\u001b[38;5;124m'\u001b[39m\u001b[38;5;124mHello \u001b[39m\u001b[38;5;132;01m{\u001b[39;00mname\u001b[38;5;132;01m}\u001b[39;00m\u001b[38;5;124m, welcome to Novotel!\u001b[39m\u001b[38;5;124m'\u001b[39m)\n\u001b[1;32m----> 4\u001b[0m \u001b[43mgreet\u001b[49m\u001b[43m(\u001b[49m\u001b[43m)\u001b[49m\n",
      "\u001b[1;31mTypeError\u001b[0m: greet() missing 1 required positional argument: 'name'"
     ]
    }
   ],
   "source": [
    "def greet(name):\n",
    "    print(f'Hello {name}, welcome to Novotel!')\n",
    "\n",
    "greet()"
   ]
  },
  {
   "cell_type": "code",
   "execution_count": 12,
   "metadata": {},
   "outputs": [
    {
     "name": "stdout",
     "output_type": "stream",
     "text": [
      "Hello Sandy, welcome to Novotel!\n",
      "Hello Guest, welcome to Novotel!\n"
     ]
    }
   ],
   "source": [
    "def greet(name=\"Guest\"):\n",
    "    print(f'Hello {name}, welcome to Novotel!')\n",
    "\n",
    "greet(\"Sandy\")\n",
    "greet()"
   ]
  },
  {
   "cell_type": "markdown",
   "metadata": {},
   "source": [
    "### Variable Length Arguments\n",
    "* Positional Arguments"
   ]
  },
  {
   "cell_type": "code",
   "execution_count": 14,
   "metadata": {},
   "outputs": [
    {
     "name": "stdout",
     "output_type": "stream",
     "text": [
      "1\n",
      "2\n",
      "3\n",
      "4\n",
      "5\n",
      "6\n",
      "7\n",
      "8\n",
      "Sandy\n"
     ]
    }
   ],
   "source": [
    "def print_numbers(*args):\n",
    "    for arg in args:\n",
    "        print(arg)\n",
    "\n",
    "## Below passed arguments are called Positional Arguments\n",
    "print_numbers(1,2,3,4,5,6,7,8,\"Sandy\")\n",
    "\n"
   ]
  },
  {
   "cell_type": "markdown",
   "metadata": {},
   "source": [
    "* Keyword Arguments : Are stored, referred as Key-Value pairs"
   ]
  },
  {
   "cell_type": "code",
   "execution_count": 15,
   "metadata": {},
   "outputs": [
    {
     "name": "stdout",
     "output_type": "stream",
     "text": [
      "first_name=Sandilya\n",
      "last_name=Sripathi\n",
      "age=36\n"
     ]
    }
   ],
   "source": [
    "def print_details(**kwargs):\n",
    "    for key, val in kwargs.items():\n",
    "        print(f'{key}={val}')\n",
    "\n",
    "print_details(first_name=\"Sandilya\", last_name=\"Sripathi\",age=36)\n",
    "\n",
    "\n"
   ]
  },
  {
   "cell_type": "markdown",
   "metadata": {},
   "source": [
    "## Keyword Arguments and Positional Arguments"
   ]
  },
  {
   "cell_type": "code",
   "execution_count": 17,
   "metadata": {},
   "outputs": [
    {
     "name": "stdout",
     "output_type": "stream",
     "text": [
      "Positional Argument : 1\n",
      "Positional Argument : 2\n",
      "Positional Argument : 3\n",
      "Positional Argument : 4\n",
      "Positional Argument : 5\n",
      "Positional Argument : 6\n",
      "Positional Argument : 7\n",
      "Positional Argument : 8\n",
      "Positional Argument : Sandy\n",
      "first_name=Sandilya\n",
      "last_name=Sripathi\n",
      "age=36\n"
     ]
    }
   ],
   "source": [
    "\n",
    "def print_arguments(*args, **kwargs):\n",
    "\n",
    "    for arg in args:\n",
    "        print(f'Positional Argument : {arg}')\n",
    "\n",
    "    for key, val in kwargs.items():\n",
    "        print(f'{key}={val}')\n",
    "\n",
    "## Positional argument cannot appear after keyword argumentsPylance\n",
    "## Always we should specify Positional Arguments first and then Keyword Arguments\n",
    "\n",
    "# print_details(1,2,3,4,5,first_name=\"Sandilya\", last_name=\"Sripathi\",age=36,6,7,8,\"Sandy\") ===> Error\n",
    "\n",
    "print_arguments(1,2,3,4,5,6,7,8,\"Sandy\",first_name=\"Sandilya\", last_name=\"Sripathi\",age=36)"
   ]
  },
  {
   "cell_type": "markdown",
   "metadata": {},
   "source": [
    "## Return multiple parameters"
   ]
  },
  {
   "cell_type": "code",
   "execution_count": 18,
   "metadata": {},
   "outputs": [
    {
     "name": "stdout",
     "output_type": "stream",
     "text": [
      "(6, 2)\n"
     ]
    }
   ],
   "source": [
    "def multiply(a, b):\n",
    "    return a*b, a\n",
    "\n",
    "print(multiply(2,3))"
   ]
  },
  {
   "cell_type": "code",
   "execution_count": null,
   "metadata": {},
   "outputs": [],
   "source": [
    "\n"
   ]
  }
 ],
 "metadata": {
  "kernelspec": {
   "display_name": "Python 3",
   "language": "python",
   "name": "python3"
  },
  "language_info": {
   "codemirror_mode": {
    "name": "ipython",
    "version": 3
   },
   "file_extension": ".py",
   "mimetype": "text/x-python",
   "name": "python",
   "nbconvert_exporter": "python",
   "pygments_lexer": "ipython3",
   "version": "3.12.0"
  }
 },
 "nbformat": 4,
 "nbformat_minor": 2
}
