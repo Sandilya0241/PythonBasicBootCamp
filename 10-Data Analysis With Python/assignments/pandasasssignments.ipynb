{
 "cells": [
  {
   "cell_type": "markdown",
   "metadata": {},
   "source": [
    "# Module: Pandas Assignments\n",
    "## Lesson: Pandas\n",
    "### Assignment 1: DataFrame Creation and Indexing\n",
    "\n",
    "* 1.1 Create a Pandas DataFrame with 4 columns and 6 rows filled with random integers. Set the index to be the first column."
   ]
  },
  {
   "cell_type": "code",
   "execution_count": 4,
   "metadata": {},
   "outputs": [
    {
     "name": "stdout",
     "output_type": "stream",
     "text": [
      "Original DataFrame:\n",
      "    A   B   C   D\n",
      "0  96  98  68  46\n",
      "1  26  28  97  21\n",
      "2  64  21  88  35\n",
      "3  43  69  62  62\n",
      "4  50  26  16  25\n",
      "5  75  56  41  34\n",
      "DataFrame with new index:\n",
      "     B   C   D\n",
      "A             \n",
      "96  98  68  46\n",
      "26  28  97  21\n",
      "64  21  88  35\n",
      "43  69  62  62\n",
      "50  26  16  25\n",
      "75  56  41  34\n"
     ]
    }
   ],
   "source": [
    "import pandas as pd\n",
    "import numpy as np\n",
    "\n",
    "## Create data frame\n",
    "\n",
    "df = pd.DataFrame(np.random.randint(1,100, size=(6,4)),columns=['A','B','C','D'])\n",
    "print(\"Original DataFrame:\")\n",
    "print(df)\n",
    "\n",
    "# Changing the index\n",
    "df.set_index(\"A\", inplace=True)\n",
    "\n",
    "# DataFrame with new index:\n",
    "print(\"DataFrame with new index:\")\n",
    "print(df)"
   ]
  },
  {
   "cell_type": "markdown",
   "id": "c5dda757",
   "metadata": {},
   "source": [
    "* 1.2. Create a Pandas DataFrame with columns 'A', 'B', 'C' and index 'X', 'Y', 'Z'. Fill the DataFrame with random integers and access the element at row 'Y' and column 'B'."
   ]
  },
  {
   "cell_type": "code",
   "execution_count": 7,
   "id": "e821ec50",
   "metadata": {},
   "outputs": [
    {
     "name": "stdout",
     "output_type": "stream",
     "text": [
      "Original DataFrame:\n",
      "    A   B   C\n",
      "X  46  92  14\n",
      "Y  46  37  94\n",
      "Z  64  42  15\n",
      "\n",
      "Data element at Row 'Y' and Column 'B' : 37\n"
     ]
    }
   ],
   "source": [
    "import pandas as pd\n",
    "import numpy as np\n",
    "\n",
    "## Create data frame\n",
    "\n",
    "df = pd.DataFrame(np.random.randint(1,100, size=(3,3)),columns=['A','B','C'], index=['X','Y','Z'])\n",
    "print(\"Original DataFrame:\")\n",
    "print(df)\n",
    "print()\n",
    "val = df.at['Y','B']\n",
    "print(f\"Data element at Row 'Y' and Column 'B' : {val}\")"
   ]
  },
  {
   "cell_type": "markdown",
   "id": "d25278c0",
   "metadata": {},
   "source": [
    "### Assignment 2: DataFrame Operations\n",
    "\n",
    "* 2.1. Create a Pandas DataFrame with 3 columns and 5 rows filled with random integers. Add a new column that is the product of the first two columns."
   ]
  },
  {
   "cell_type": "code",
   "execution_count": 9,
   "id": "2dda019a",
   "metadata": {},
   "outputs": [
    {
     "name": "stdout",
     "output_type": "stream",
     "text": [
      "Original DataFrame:\n",
      "    A   B   C\n",
      "0  27  57  55\n",
      "1  36  15  49\n",
      "2  95  79  14\n",
      "3  70  74  17\n",
      "4  91  64  40\n",
      "\n",
      "Original DataFrame After Adding A Column:\n",
      "    A   B   C     D\n",
      "0  27  57  55  1539\n",
      "1  36  15  49   540\n",
      "2  95  79  14  7505\n",
      "3  70  74  17  5180\n",
      "4  91  64  40  5824\n"
     ]
    }
   ],
   "source": [
    "import pandas as pd\n",
    "import numpy as np\n",
    "\n",
    "## Create data frame\n",
    "\n",
    "df = pd.DataFrame(np.random.randint(1,100, size=(5,3)),columns=['A','B','C'])\n",
    "print(\"Original DataFrame:\")\n",
    "print(df)\n",
    "print()\n",
    "print(\"Original DataFrame After Adding A Column:\")\n",
    "df['D'] = df['A'] * df['B']\n",
    "print(df)\n"
   ]
  },
  {
   "cell_type": "markdown",
   "id": "65771891",
   "metadata": {},
   "source": [
    "* 2.2. Create a Pandas DataFrame with 3 columns and 4 rows filled with random integers. Compute the row-wise and column-wise sum."
   ]
  },
  {
   "cell_type": "code",
   "execution_count": 13,
   "id": "693e5ff6",
   "metadata": {},
   "outputs": [
    {
     "name": "stdout",
     "output_type": "stream",
     "text": [
      "Original DataFrame:\n",
      "    0   1   2\n",
      "0  15  43  17\n",
      "1  45  61   3\n",
      "2  96  95  69\n",
      "3  13  59  69\n",
      "\n",
      "Sum of rows\n",
      "0     75\n",
      "1    109\n",
      "2    260\n",
      "3    141\n",
      "dtype: int64\n",
      "\n",
      "Sum of columns\n",
      "0    169\n",
      "1    258\n",
      "2    158\n",
      "dtype: int64\n"
     ]
    }
   ],
   "source": [
    "import pandas as pd\n",
    "import numpy as np\n",
    "\n",
    "## Create data frame\n",
    "\n",
    "df = pd.DataFrame(np.random.randint(1,100, size=(4,3)))\n",
    "print(\"Original DataFrame:\")\n",
    "print(df)\n",
    "print()\n",
    "\n",
    "rowsum = df.sum(axis=1)\n",
    "colsum = df.sum()\n",
    "print(\"Sum of rows\")\n",
    "print(rowsum)\n",
    "print()\n",
    "print(\"Sum of columns\")\n",
    "print(colsum)\n"
   ]
  },
  {
   "cell_type": "markdown",
   "id": "e4326791",
   "metadata": {},
   "source": [
    "### Assignment 3: Data Cleaning\n",
    "\n",
    "* 3.1. Create a Pandas DataFrame with 3 columns and 5 rows filled with random integers. Introduce some NaN values. Fill the NaN values with the mean of the respective columns."
   ]
  },
  {
   "cell_type": "code",
   "execution_count": 16,
   "id": "84c8817c",
   "metadata": {},
   "outputs": [
    {
     "name": "stdout",
     "output_type": "stream",
     "text": [
      "Original DataFrame:\n",
      "    0   1   2\n",
      "0  72  79  16\n",
      "1  24  32  38\n",
      "2  37  34  51\n",
      "3  28  33  88\n",
      "4  15  40  59\n",
      "\n",
      "Original DataFrame After Introducing NAN:\n",
      "      0   1     2\n",
      "0   NaN  79  16.0\n",
      "1  24.0  32   NaN\n",
      "2  37.0  34  51.0\n",
      "3   NaN  33  88.0\n",
      "4  15.0  40   NaN\n",
      "\n",
      "Original DataFrame After Filling Mean:\n",
      "           0   1          2\n",
      "0  25.333333  79  16.000000\n",
      "1  24.000000  32  51.666667\n",
      "2  37.000000  34  51.000000\n",
      "3  25.333333  33  88.000000\n",
      "4  15.000000  40  51.666667\n"
     ]
    }
   ],
   "source": [
    "import pandas as pd\n",
    "import numpy as np\n",
    "\n",
    "## Create data frame\n",
    "\n",
    "df = pd.DataFrame(np.random.randint(1,100, size=(5,3)))\n",
    "print(\"Original DataFrame:\")\n",
    "print(df)\n",
    "print()\n",
    "\n",
    "df.iloc[0,0] = np.nan\n",
    "df.iloc[1,2] = np.nan\n",
    "df.iloc[3,0] = np.nan\n",
    "df.iloc[4,2] = np.nan\n",
    "\n",
    "print(\"Original DataFrame After Introducing NAN:\")\n",
    "print(df)\n",
    "print()\n",
    "\n",
    "df.fillna(df.mean(), inplace=True)\n",
    "print(\"Original DataFrame After Filling Mean:\")\n",
    "print(df)"
   ]
  },
  {
   "cell_type": "markdown",
   "id": "2bbe08da",
   "metadata": {},
   "source": [
    "* 3.2. Create a Pandas DataFrame with 4 columns and 6 rows filled with random integers. Introduce some NaN values. Drop the rows with any NaN values."
   ]
  },
  {
   "cell_type": "code",
   "execution_count": 27,
   "id": "341c7673",
   "metadata": {},
   "outputs": [
    {
     "name": "stdout",
     "output_type": "stream",
     "text": [
      "Original DataFrame:\n",
      "    0   1   2   3\n",
      "0  44  99  65  44\n",
      "1  11  87  45  34\n",
      "2  91  22  85  68\n",
      "3  93  65  32  97\n",
      "4  29  16  90  12\n",
      "5  32   4  76  57\n",
      "\n",
      "Original DataFrame After Introducing NAN:\n",
      "      0   1     2   3\n",
      "0   NaN  99  65.0  44\n",
      "1  11.0  87   NaN  34\n",
      "2  91.0  22  85.0  68\n",
      "3   NaN  65  32.0  97\n",
      "4  29.0  16   NaN  12\n",
      "5  32.0   4  76.0  57\n",
      "\n",
      "      0   1     2   3\n",
      "2  91.0  22  85.0  68\n",
      "5  32.0   4  76.0  57\n",
      "\n"
     ]
    }
   ],
   "source": [
    "import pandas as pd\n",
    "import numpy as np\n",
    "\n",
    "## Create data frame\n",
    "\n",
    "df = pd.DataFrame(np.random.randint(1,100, size=(6,4)))\n",
    "print(\"Original DataFrame:\")\n",
    "print(df)\n",
    "print()\n",
    "\n",
    "df.iloc[0,0] = np.nan\n",
    "df.iloc[1,2] = np.nan\n",
    "df.iloc[3,0] = np.nan\n",
    "df.iloc[4,2] = np.nan\n",
    "\n",
    "print(\"Original DataFrame After Introducing NAN:\")\n",
    "print(df)\n",
    "print()\n",
    "\n",
    "df = df.dropna()\n",
    "print(df)\n",
    "print()"
   ]
  },
  {
   "cell_type": "markdown",
   "id": "ce6a5a7c",
   "metadata": {},
   "source": [
    "### Assignment 4: Data Aggregation\n",
    "\n",
    "* 4.1. Create a Pandas DataFrame with 2 columns: 'Category' and 'Value'. Fill the 'Category' column with random categories ('A', 'B', 'C') and the 'Value' column with random integers. Group the DataFrame by 'Category' and compute the sum and mean of 'Value' for each category."
   ]
  },
  {
   "cell_type": "code",
   "execution_count": null,
   "id": "6ee68663",
   "metadata": {},
   "outputs": [],
   "source": []
  },
  {
   "cell_type": "markdown",
   "id": "1533b05a",
   "metadata": {},
   "source": [
    "* 4.2. Create a Pandas DataFrame with 3 columns: 'Product', 'Category', and 'Sales'. Fill the DataFrame with random data. Group the DataFrame by 'Category' and compute the total sales for each category."
   ]
  },
  {
   "cell_type": "code",
   "execution_count": null,
   "id": "d75c8228",
   "metadata": {},
   "outputs": [],
   "source": []
  },
  {
   "cell_type": "markdown",
   "id": "b0b388ca",
   "metadata": {},
   "source": [
    "### Assignment 5: Merging DataFrames\n",
    "\n",
    "* 5.1. Create two Pandas DataFrames with a common column. Merge the DataFrames using the common column."
   ]
  },
  {
   "cell_type": "code",
   "execution_count": null,
   "id": "2b9e27bc",
   "metadata": {},
   "outputs": [],
   "source": []
  },
  {
   "cell_type": "markdown",
   "id": "89fd1505",
   "metadata": {},
   "source": [
    "* 5.2. Create two Pandas DataFrames with different columns. Concatenate the DataFrames along the rows and along the columns."
   ]
  },
  {
   "cell_type": "code",
   "execution_count": null,
   "id": "35116422",
   "metadata": {},
   "outputs": [],
   "source": []
  },
  {
   "cell_type": "markdown",
   "id": "a1d5457d",
   "metadata": {},
   "source": [
    "### Assignment 6: Time Series Analysis\n",
    "\n",
    "* 6.1. Create a Pandas DataFrame with a datetime index and one column filled with random integers. Resample the DataFrame to compute the monthly mean of the values."
   ]
  },
  {
   "cell_type": "code",
   "execution_count": null,
   "id": "94018cd5",
   "metadata": {},
   "outputs": [],
   "source": []
  },
  {
   "cell_type": "markdown",
   "id": "80424a90",
   "metadata": {},
   "source": [
    "* 6.2. Create a Pandas DataFrame with a datetime index ranging from '2021-01-01' to '2021-12-31' and one column filled with random integers. Compute the rolling mean with a window of 7 days."
   ]
  },
  {
   "cell_type": "code",
   "execution_count": null,
   "id": "2af36dfc",
   "metadata": {},
   "outputs": [],
   "source": []
  },
  {
   "cell_type": "markdown",
   "id": "2ba46343",
   "metadata": {},
   "source": [
    "### Assignment 7: MultiIndex DataFrame\n",
    "\n",
    "* 7.1. Create a Pandas DataFrame with a MultiIndex (hierarchical index). Perform some basic indexing and slicing operations on the MultiIndex DataFrame."
   ]
  },
  {
   "cell_type": "code",
   "execution_count": null,
   "id": "8db58469",
   "metadata": {},
   "outputs": [],
   "source": []
  },
  {
   "cell_type": "markdown",
   "id": "a044c370",
   "metadata": {},
   "source": [
    "* 7.2. Create a Pandas DataFrame with MultiIndex consisting of 'Category' and 'SubCategory'. Fill the DataFrame with random data and compute the sum of values for each 'Category' and 'SubCategory'."
   ]
  },
  {
   "cell_type": "code",
   "execution_count": null,
   "id": "8dc155be",
   "metadata": {},
   "outputs": [],
   "source": []
  },
  {
   "cell_type": "markdown",
   "id": "6a201e66",
   "metadata": {},
   "source": [
    "### Assignment 8: Pivot Tables\n",
    "\n",
    "* 8.1. Create a Pandas DataFrame with columns 'Date', 'Category', and 'Value'. Create a pivot table to compute the sum of 'Value' for each 'Category' by 'Date'."
   ]
  },
  {
   "cell_type": "code",
   "execution_count": null,
   "id": "114548b7",
   "metadata": {},
   "outputs": [],
   "source": []
  },
  {
   "cell_type": "markdown",
   "id": "5751b572",
   "metadata": {},
   "source": [
    "* 8.2. Create a Pandas DataFrame with columns 'Year', 'Quarter', and 'Revenue'. Create a pivot table to compute the mean 'Revenue' for each 'Quarter' by 'Year'."
   ]
  },
  {
   "cell_type": "code",
   "execution_count": null,
   "id": "9d53c423",
   "metadata": {},
   "outputs": [],
   "source": []
  },
  {
   "cell_type": "markdown",
   "id": "94cf64f5",
   "metadata": {},
   "source": [
    "### Assignment 9: Applying Functions\n",
    "\n",
    "* 9.1. Create a Pandas DataFrame with 3 columns and 5 rows filled with random integers. Apply a function that doubles the values of the DataFrame."
   ]
  },
  {
   "cell_type": "code",
   "execution_count": null,
   "id": "045632e7",
   "metadata": {},
   "outputs": [],
   "source": []
  },
  {
   "cell_type": "markdown",
   "id": "949760d5",
   "metadata": {},
   "source": [
    "* 9.2. Create a Pandas DataFrame with 3 columns and 6 rows filled with random integers. Apply a lambda function to create a new column that is the sum of the existing columns."
   ]
  },
  {
   "cell_type": "code",
   "execution_count": null,
   "id": "7c6c7027",
   "metadata": {},
   "outputs": [],
   "source": []
  },
  {
   "cell_type": "markdown",
   "id": "348df4a4",
   "metadata": {},
   "source": [
    "### Assignment 10: Working with Text Data\n",
    "\n",
    "* 10.1. Create a Pandas Series with 5 random text strings. Convert all the strings to uppercase."
   ]
  },
  {
   "cell_type": "code",
   "execution_count": null,
   "id": "d86f30a2",
   "metadata": {},
   "outputs": [],
   "source": []
  },
  {
   "cell_type": "markdown",
   "id": "bd8007ee",
   "metadata": {},
   "source": [
    "* 10.2. Create a Pandas Series with 5 random text strings. Extract the first three characters of each string."
   ]
  },
  {
   "cell_type": "code",
   "execution_count": null,
   "id": "5a34869f",
   "metadata": {},
   "outputs": [],
   "source": []
  }
 ],
 "metadata": {
  "kernelspec": {
   "display_name": "Python 3",
   "language": "python",
   "name": "python3"
  },
  "language_info": {
   "codemirror_mode": {
    "name": "ipython",
    "version": 3
   },
   "file_extension": ".py",
   "mimetype": "text/x-python",
   "name": "python",
   "nbconvert_exporter": "python",
   "pygments_lexer": "ipython3",
   "version": "3.12.8"
  }
 },
 "nbformat": 4,
 "nbformat_minor": 5
}
