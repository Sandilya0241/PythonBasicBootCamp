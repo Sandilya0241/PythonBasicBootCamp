{
 "cells": [
  {
   "cell_type": "markdown",
   "id": "61f40421",
   "metadata": {},
   "source": [
    "# Module: Exception Handling Assignments\n",
    "## Lesson: Exception Handling with try, except, and finally\n",
    "### Assignment 1: Handling Division by Zero\n",
    "\n",
    "Write a function that takes two integers as input and returns their division. Use try, except, and finally blocks to handle division by zero and print an appropriate message."
   ]
  },
  {
   "cell_type": "code",
   "execution_count": 5,
   "id": "c1277197",
   "metadata": {},
   "outputs": [
    {
     "name": "stdout",
     "output_type": "stream",
     "text": [
      "division by zero\n",
      "Execution completed!\n"
     ]
    }
   ],
   "source": [
    "def divide_num(num1,num2):\n",
    "    try:\n",
    "        result = num1/num2\n",
    "        return result\n",
    "    except ZeroDivisionError as ze:\n",
    "        print(ze)\n",
    "        result = None\n",
    "    finally:\n",
    "        print('Execution completed!')\n",
    "    \n",
    "    return result\n",
    "    \n",
    "divide_num(10,0)"
   ]
  },
  {
   "cell_type": "markdown",
   "id": "7b3af99e",
   "metadata": {},
   "source": [
    "### Assignment 2: File Reading with Exception Handling\n",
    "\n",
    "Write a function that reads the contents of a file named `data.txt`. Use try, except, and finally blocks to handle file not found errors and ensure the file is properly closed."
   ]
  },
  {
   "cell_type": "code",
   "execution_count": 6,
   "id": "232a5c67",
   "metadata": {},
   "outputs": [
    {
     "name": "stdout",
     "output_type": "stream",
     "text": [
      "Error : [Errno 2] No such file or directory: 'data.txt'\n"
     ]
    }
   ],
   "source": [
    "def read_file(file_name):\n",
    "    try:\n",
    "        fp = open(file_name,'r')\n",
    "        content = fp.read()\n",
    "        return content\n",
    "    except FileNotFoundError as fnfe:\n",
    "        print(f'Error : {fnfe}')\n",
    "    finally:\n",
    "        try:\n",
    "            fp.close()\n",
    "        except NameError as ne:\n",
    "            pass\n",
    "\n",
    "read_file('data.txt')"
   ]
  },
  {
   "cell_type": "markdown",
   "id": "6ae37628",
   "metadata": {},
   "source": [
    "### Assignment 3: Handling Multiple Exceptions\n",
    "\n",
    "Write a function that takes a list of integers and returns their sum. Use try, except, and finally blocks to handle TypeError if a non-integer value is encountered and print an appropriate message."
   ]
  },
  {
   "cell_type": "code",
   "execution_count": 16,
   "id": "b2b7b66b",
   "metadata": {},
   "outputs": [
    {
     "name": "stdout",
     "output_type": "stream",
     "text": [
      "Execution completed\n",
      "3\n"
     ]
    }
   ],
   "source": [
    "def find_sum(lst_int):\n",
    "    try:\n",
    "        total = sum(lst_int)\n",
    "    except TypeError as te:\n",
    "        print(f'Error: Invalid type')\n",
    "        total = None\n",
    "    finally:\n",
    "        print('Execution completed')\n",
    "    return total\n",
    "    \n",
    "# print(find_sum([1,\"sandy\"]))\n",
    "print(find_sum([1,2]))"
   ]
  },
  {
   "cell_type": "markdown",
   "id": "9ab33dc7",
   "metadata": {},
   "source": [
    "### Assignment 4: Exception Handling in User Input\n",
    "\n",
    "Write a function that prompts the user to enter an integer. Use try, except, and finally blocks to handle ValueError if the user enters a non-integer value and print an appropriate message."
   ]
  },
  {
   "cell_type": "code",
   "execution_count": 19,
   "id": "790adf15",
   "metadata": {},
   "outputs": [
    {
     "name": "stdout",
     "output_type": "stream",
     "text": [
      "Execution completed\n",
      "10\n"
     ]
    }
   ],
   "source": [
    "def collect_user_input():\n",
    "    try:\n",
    "        val = int(input(\"Please provide an integer value as input: \"))\n",
    "    except ValueError as ve:\n",
    "        print(f'Error : Invalid input provided')\n",
    "        val = None\n",
    "    finally:\n",
    "        print('Execution completed')\n",
    "    return val\n",
    "\n",
    "print(collect_user_input())"
   ]
  },
  {
   "cell_type": "markdown",
   "id": "028b53fe",
   "metadata": {},
   "source": [
    "### Assignment 5: Exception Handling in Dictionary Access\n",
    "\n",
    "Write a function that takes a dictionary and a key as input and returns the value associated with the key. Use try, except, and finally blocks to handle KeyError if the key is not found in the dictionary and print an appropriate message."
   ]
  },
  {
   "cell_type": "code",
   "execution_count": 23,
   "id": "26488d8b",
   "metadata": {},
   "outputs": [
    {
     "name": "stdout",
     "output_type": "stream",
     "text": [
      "Error : invalid 'sample'\n",
      "Execution completed!\n",
      "None\n"
     ]
    }
   ],
   "source": [
    "my_dict = {'name':'Sandy','age':36}\n",
    "\n",
    "\n",
    "def search_dictionary(input_dict, key):\n",
    "    try:\n",
    "        val = input_dict[key]\n",
    "    except KeyError as ke:\n",
    "        print(f'Error : invalid {ke}')\n",
    "        val = None\n",
    "    finally:\n",
    "        print('Execution completed!')\n",
    "    return val\n",
    "\n",
    "# print(search_dictionary(my_dict,'age'))\n",
    "print(search_dictionary(my_dict,'sample'))"
   ]
  },
  {
   "cell_type": "markdown",
   "id": "bb3e0f1e",
   "metadata": {},
   "source": [
    "### Assignment 6: Nested Exception Handling\n",
    "\n",
    "Write a function that performs nested exception handling. It should first attempt to convert a string to an integer, and then attempt to divide by that integer. Use nested try, except, and finally blocks to handle ValueError and ZeroDivisionError and print appropriate messages."
   ]
  },
  {
   "cell_type": "code",
   "execution_count": 27,
   "id": "9cc5af9a",
   "metadata": {},
   "outputs": [
    {
     "name": "stdout",
     "output_type": "stream",
     "text": [
      "Error : Cannot be divided by 0\n",
      "Execution sucessful\n",
      "None\n",
      "Error : Invalid inputs\n",
      "Execution sucessful\n",
      "None\n",
      "Execution sucessful\n",
      "5.0\n"
     ]
    }
   ],
   "source": [
    "def divide(str_val1, str_val2):\n",
    "    try:\n",
    "        num = int(str_val1)\n",
    "        denom = int(str_val2)\n",
    "        try:\n",
    "            result = num / denom\n",
    "        except ZeroDivisionError as ze:\n",
    "            print (f'Error : Cannot be divided by 0')\n",
    "            result = None\n",
    "    except ValueError as ve:\n",
    "        print(f'Error : Invalid inputs')\n",
    "        result = None\n",
    "    finally:\n",
    "        print('Execution sucessful')\n",
    "    return result\n",
    "\n",
    "# print(divide('1','2'))\n",
    "\n",
    "print(divide('10','0'))  # None\n",
    "print(divide('10','a'))  # None\n",
    "print(divide('10','2'))  # 5.0"
   ]
  },
  {
   "cell_type": "markdown",
   "id": "9ae6d4dd",
   "metadata": {},
   "source": [
    "### Assignment 7: Exception Handling in List Operations\n",
    "\n",
    "Write a function that takes a list and an index as input and returns the element at the given index. Use try, except, and finally blocks to handle IndexError if the index is out of range and print an appropriate message."
   ]
  },
  {
   "cell_type": "code",
   "execution_count": 28,
   "id": "15600e9d",
   "metadata": {},
   "outputs": [
    {
     "name": "stdout",
     "output_type": "stream",
     "text": [
      "Execution completed\n",
      "1\n",
      "Error in fetching item from list\n",
      "Execution completed\n",
      "None\n",
      "Error in fetching item from list\n",
      "Execution completed\n",
      "None\n",
      "Execution completed\n",
      "5\n"
     ]
    }
   ],
   "source": [
    "def get_element(lst_in, idx):\n",
    "    try:\n",
    "        result = lst_in[idx]\n",
    "    except IndexError as ie:\n",
    "        print('Error in fetching item from list')\n",
    "        result = None\n",
    "    finally:\n",
    "        print('Execution completed')\n",
    "    return result\n",
    "\n",
    "\n",
    "print(get_element([1,2,3,4,5], 0))\n",
    "print(get_element([1,2,3,4,5], 10))\n",
    "print(get_element([1,2,3,4,5], -9))\n",
    "print(get_element([1,2,3,4,5], 4))"
   ]
  },
  {
   "cell_type": "markdown",
   "id": "3cc878a8",
   "metadata": {},
   "source": [
    "### Assignment 8: Exception Handling in Network Operations\n",
    "\n",
    "Write a function that attempts to open a URL and read its contents. Use try, except, and finally blocks to handle network-related errors and print an appropriate message."
   ]
  },
  {
   "cell_type": "code",
   "execution_count": 33,
   "id": "dbcf30aa",
   "metadata": {},
   "outputs": [
    {
     "ename": "ModuleNotFoundError",
     "evalue": "No module named 'requests'",
     "output_type": "error",
     "traceback": [
      "\u001b[1;31m---------------------------------------------------------------------------\u001b[0m",
      "\u001b[1;31mModuleNotFoundError\u001b[0m                       Traceback (most recent call last)",
      "Cell \u001b[1;32mIn[33], line 1\u001b[0m\n\u001b[1;32m----> 1\u001b[0m \u001b[38;5;28;01mfrom\u001b[39;00m \u001b[38;5;21;01mrequests\u001b[39;00m \u001b[38;5;28;01mimport\u001b[39;00m request\n\u001b[0;32m      2\u001b[0m request\u001b[38;5;241m.\u001b[39mget(\u001b[38;5;124m'\u001b[39m\u001b[38;5;124mhttps://www.google.com\u001b[39m\u001b[38;5;124m'\u001b[39m)\n",
      "\u001b[1;31mModuleNotFoundError\u001b[0m: No module named 'requests'"
     ]
    }
   ],
   "source": [
    "import requests\n",
    "\n",
    "def read_link(url):\n",
    "    try:\n",
    "        response = requests.open(url)\n",
    "        response.raise_for_status()\n",
    "        return response.text\n",
    "    except requests.RequestException as re:\n",
    "        response = None\n",
    "        print('Error while accessing link')\n",
    "    finally:\n",
    "        print(\"Request success!!!\")\n",
    "    return response\n",
    "\n",
    "read_link('https://www.google.com')"
   ]
  },
  {
   "cell_type": "markdown",
   "id": "d071be1a",
   "metadata": {},
   "source": [
    "### Assignment 9: Exception Handling in JSON Parsing\n",
    "\n",
    "Write a function that attempts to parse a JSON string. Use try, except, and finally blocks to handle JSONDecodeError if the string is not a valid JSON and print an appropriate message."
   ]
  },
  {
   "cell_type": "code",
   "execution_count": 38,
   "id": "b2c1ee60",
   "metadata": {},
   "outputs": [
    {
     "name": "stdout",
     "output_type": "stream",
     "text": [
      "Execution complete\n",
      "{'name': 'John', 'age': 30}\n",
      "Error occurred\n",
      "Execution complete\n",
      "None\n"
     ]
    }
   ],
   "source": [
    "import json\n",
    "def json_parse(input):\n",
    "    try:\n",
    "        data = json.loads(input)\n",
    "    except json.JSONDecodeError as jde:\n",
    "        data = None\n",
    "        print(\"Error occurred\")\n",
    "    finally:\n",
    "        print(\"Execution complete\")\n",
    "    return data\n",
    "\n",
    "# json_parse('{name\":\"Sandy\",\"age\":\"37\"}')\n",
    "print(json_parse('{\"name\": \"John\", \"age\": 30}'))  # {'name': 'John', 'age': 30}\n",
    "print(json_parse('Invalid JSON'))  # None\n"
   ]
  },
  {
   "cell_type": "markdown",
   "id": "5501b0bc",
   "metadata": {},
   "source": [
    "### Assignment 10: Custom Exception Handling\n",
    "\n",
    "Define a custom exception named `NegativeNumberError`. Write a function that raises this exception if a negative number is encountered in a list. Use try, except, and finally blocks to handle the custom exception and print an appropriate message."
   ]
  },
  {
   "cell_type": "code",
   "execution_count": 40,
   "id": "58226cf8",
   "metadata": {},
   "outputs": [
    {
     "name": "stdout",
     "output_type": "stream",
     "text": [
      "Execution complete!!!\n"
     ]
    }
   ],
   "source": [
    "class NegativeNumberError(Exception):\n",
    "    pass\n",
    "\n",
    "def test_func(lst):\n",
    "    for item in lst:\n",
    "        if item < 0:\n",
    "            raise NegativeNumberError(f'Error occurred with {item}')\n",
    "\n",
    "try:\n",
    "    # test_func([1, -2, 3, 4])  # Error: Negative number found: -2\n",
    "    test_func([1, 2, 3, 4])  # Execution complete.\n",
    "except NegativeNumberError as nne:\n",
    "    print(nne)\n",
    "finally:\n",
    "    print('Execution complete!!!')\n",
    "\n"
   ]
  },
  {
   "cell_type": "markdown",
   "id": "80a9cfa6",
   "metadata": {},
   "source": [
    "### Assignment 11: Exception Handling in Function Calls\n",
    "\n",
    "Write a function that calls another function which may raise an exception. Use try, except, and finally blocks to handle the exception and print an appropriate message."
   ]
  },
  {
   "cell_type": "code",
   "execution_count": 41,
   "id": "61af5240",
   "metadata": {},
   "outputs": [
    {
     "name": "stdout",
     "output_type": "stream",
     "text": [
      "Error while executing called_function\n",
      "Execution complete!!!\n"
     ]
    }
   ],
   "source": [
    "def called_function():\n",
    "    return b\n",
    "\n",
    "def caller_function():\n",
    "    try:\n",
    "        called_function()\n",
    "    except NameError as ne:\n",
    "        print(\"Error while executing called_function\")\n",
    "    finally:\n",
    "        print(\"Execution complete!!!\")\n",
    "\n",
    "caller_function()"
   ]
  },
  {
   "cell_type": "markdown",
   "id": "7b059591",
   "metadata": {},
   "source": [
    "### Assignment 12: Exception Handling in Class Methods\n",
    "\n",
    "Define a class with a method that performs a division operation. Use try, except, and finally blocks within the method to handle division by zero and print an appropriate message."
   ]
  },
  {
   "cell_type": "code",
   "execution_count": 43,
   "id": "35e8231f",
   "metadata": {},
   "outputs": [
    {
     "name": "stdout",
     "output_type": "stream",
     "text": [
      "Method execution completed!!\n",
      "2.0\n",
      "Cannot divide a value with zero\n",
      "Method execution completed!!\n",
      "None\n"
     ]
    }
   ],
   "source": [
    "class MathOperations:\n",
    "    def divide(self, a, b):\n",
    "        try:\n",
    "            res = a / b\n",
    "        except ZeroDivisionError as ze:\n",
    "            print('Cannot divide a value with zero')\n",
    "            res = None\n",
    "        finally:\n",
    "            print(\"Method execution completed!!\")\n",
    "        return res\n",
    "    \n",
    "\n",
    "mo = MathOperations()\n",
    "print(mo.divide(4,2))\n",
    "print(mo.divide(4,0))"
   ]
  },
  {
   "cell_type": "markdown",
   "id": "e014d67a",
   "metadata": {},
   "source": [
    "### Assignment 13: Exception Handling in Data Conversion\n",
    "\n",
    "Write a function that takes a list of strings and converts them to integers. Use try, except, and finally blocks to handle ValueError if a string cannot be converted and print an appropriate message."
   ]
  },
  {
   "cell_type": "code",
   "execution_count": 46,
   "id": "933b5e1c",
   "metadata": {},
   "outputs": [
    {
     "name": "stdout",
     "output_type": "stream",
     "text": [
      "Error while conversion\n",
      "Execution complete!!\n",
      "[]\n",
      "Execution complete!!\n",
      "[1, 2, 3, 4]\n"
     ]
    }
   ],
   "source": [
    "def mass_convert(str_list):\n",
    "    try:\n",
    "        int_lst = []\n",
    "        for item in str_list:\n",
    "            int_lst.append(int(item))\n",
    "    except ValueError as ve:\n",
    "        print('Error while conversion')\n",
    "        int_lst = []\n",
    "    finally:\n",
    "        print('Execution complete!!') \n",
    "    return int_lst\n",
    "\n",
    "print(mass_convert(['1', '2', 'three', '4']))\n",
    "print(mass_convert(['1', '2', '3', '4']))"
   ]
  },
  {
   "cell_type": "markdown",
   "id": "e1b9c41b",
   "metadata": {},
   "source": [
    "### Assignment 14: Exception Handling in List Comprehensions\n",
    "\n",
    "Write a function that uses a list comprehension to convert a list of strings to integers. Use try, except, and finally blocks within the list comprehension to handle ValueError and print an appropriate message."
   ]
  },
  {
   "cell_type": "code",
   "execution_count": 45,
   "id": "e819221f",
   "metadata": {},
   "outputs": [
    {
     "name": "stdout",
     "output_type": "stream",
     "text": [
      "Error while conversion\n",
      "Execution complete!!\n",
      "[]\n",
      "Execution complete!!\n",
      "[1, 2, 3, 4]\n"
     ]
    }
   ],
   "source": [
    "def mass_convert(str_list):\n",
    "    try:\n",
    "        int_lst = [int(item) for item in str_list]\n",
    "    except ValueError as ve:\n",
    "        print('Error while conversion')\n",
    "        int_lst = []\n",
    "    finally:\n",
    "        print('Execution complete!!') \n",
    "    return int_lst\n",
    "\n",
    "print(mass_convert(['1', '2', 'three', '4']))\n",
    "print(mass_convert(['1', '2', '3', '4']))"
   ]
  },
  {
   "cell_type": "markdown",
   "metadata": {},
   "source": [
    "\n",
    "\n",
    "\n",
    "\n",
    "\n",
    "\n",
    "### Assignment 15: Exception Handling in File Writing\n",
    "\n",
    "Write a function that attempts to write a list of strings to a file. Use try, except, and finally blocks to handle IOError and ensure the file is properly closed."
   ]
  },
  {
   "cell_type": "code",
   "execution_count": 48,
   "id": "cba4605a",
   "metadata": {},
   "outputs": [
    {
     "name": "stdout",
     "output_type": "stream",
     "text": [
      "Execution complete!!\n"
     ]
    }
   ],
   "source": [
    "def write_data(str_lst, file_name):\n",
    "    try:\n",
    "        file = open(file_name, 'w')\n",
    "        for item in str_lst:\n",
    "            file.write(item + '\\n')\n",
    "    except IOError as ie:\n",
    "        print(f'Error while handling files')\n",
    "    finally:\n",
    "        print('Execution complete!!')\n",
    "        try:\n",
    "            file.close()\n",
    "        except NameError:\n",
    "            pass\n",
    "\n",
    "write_data(['Hello', 'World'], 'output.txt')"
   ]
  },
  {
   "cell_type": "code",
   "execution_count": null,
   "id": "926c5629",
   "metadata": {},
   "outputs": [],
   "source": []
  }
 ],
 "metadata": {
  "kernelspec": {
   "display_name": "Python 3",
   "language": "python",
   "name": "python3"
  },
  "language_info": {
   "codemirror_mode": {
    "name": "ipython",
    "version": 3
   },
   "file_extension": ".py",
   "mimetype": "text/x-python",
   "name": "python",
   "nbconvert_exporter": "python",
   "pygments_lexer": "ipython3",
   "version": "3.12.0"
  }
 },
 "nbformat": 4,
 "nbformat_minor": 5
}
